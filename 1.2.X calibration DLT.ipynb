{
 "cells": [
  {
   "cell_type": "markdown",
   "metadata": {},
   "source": [
    "# 1. Camera Calibration\n",
    "\n",
    "**In this script, we intend to obtain an ideal calibration( meaning 0 error) with DLT.**\\\n",
    " In order to achieve that it is important to know the calibration matrix in advance. Otherwise, if we generate world points and image points at random with the purpose of finding the projection matrix, the points generate might not have real use correspondence.\n",
    "\n",
    "\n",
    "When dealing with an uncalibrated camera, 11 parameters are unknown, meaning we need at least **6 points** and assume the model of the camera is **affine**.\n",
    ">**Problem specification:**\n",
    "- Estimate the 11 elements of P given:\n",
    "    - 3D coordinates $X_{i}$ of I $\\geq$ 6 object points\n",
    "\n",
    "\n",
    "<img src=\"/home/alegria/calibration/images/camera_orientation.png\" width=400 height=400 />\\\n"
   ]
  },
  {
   "cell_type": "markdown",
   "metadata": {},
   "source": [
    "**Import libraries**"
   ]
  },
  {
   "cell_type": "code",
   "execution_count": 354,
   "metadata": {},
   "outputs": [],
   "source": [
    "import matplotlib.pyplot as plt\n",
    "import numpy as np\n",
    "\n",
    "from typing import Sequence\n",
    "from camera_models import *  # our package\n",
    "\n",
    "DECIMALS = 2  # how many decimal places to use in print\n",
    "\n",
    "\n",
    "from utils import *"
   ]
  },
  {
   "cell_type": "markdown",
   "metadata": {},
   "source": [
    "### Set of Functions"
   ]
  },
  {
   "cell_type": "code",
   "execution_count": 355,
   "metadata": {},
   "outputs": [],
   "source": [
    "def to_inhomogeneus(X: np.ndarray) -> np.ndarray:\n",
    "    if X.ndim > 1:\n",
    "        raise ValueError(\"x must be one-dimensional.\")\n",
    "\n",
    "    return (X / X[-1])[:-1]\n",
    "\n",
    "\n",
    "def to_homogeneus(X: np.ndarray) -> np.ndarray:\n",
    "    if X.ndim > 1:\n",
    "        raise ValueError(\"X must be one-dimensional.\")\n",
    "\n",
    "    return np.hstack([X, 1])\n",
    "\n",
    "\n",
    "def _get_roll_matrix(theta_x: float = 0.0) -> np.ndarray:\n",
    "    Rx = np.array(\n",
    "        [\n",
    "            [1.0, 0.0, 0.0],\n",
    "            [0.0, np.cos(theta_x), -np.sin(theta_x)],\n",
    "            [0.0, np.sin(theta_x), np.cos(theta_x)],\n",
    "        ]\n",
    "    )\n",
    "    return Rx\n",
    "\n",
    "\n",
    "def _get_pitch_matrix(theta_y: float = 0.0) -> np.ndarray:\n",
    "    Ry = np.array(\n",
    "        [\n",
    "            [np.cos(theta_y), 0.0, np.sin(theta_y)],\n",
    "            [0.0, 1.0, 0.0],\n",
    "            [-np.sin(theta_y), 0.0, np.cos(theta_y)],\n",
    "        ]\n",
    "    )\n",
    "    return Ry\n",
    "\n",
    "\n",
    "def _get_yaw_matrix(theta_z: float = 0.0) -> np.ndarray:\n",
    "    Rz = np.array(\n",
    "        [\n",
    "            [np.cos(theta_z), -np.sin(theta_z), 0.0],\n",
    "            [np.sin(theta_z), np.cos(theta_z), 0.0],\n",
    "            [0.0, 0.0, 1.0],\n",
    "        ]\n",
    "    )\n",
    "    return Rz\n",
    "\n",
    "\n",
    "#my and mx correspond to the pixel density in the x and y direction\n",
    "def get_calibration_matrix(\n",
    "    f: float,\n",
    "    px: float = 0.0,\n",
    "    py: float = 0.0,\n",
    "    mx: float = 1.0,\n",
    "    my: float = 1.0,\n",
    ") -> np.ndarray:\n",
    "    K = np.diag([mx, my, 1]) @ np.array([[f, 0.0, px], [0.0, f, py], [0.0, 0.0, 1.0]])\n",
    "    return K\n",
    "\n",
    "def get_rotation_matrix(\n",
    "    theta_x: float = 0.0, theta_y: float = 0.0, theta_z: float = 0.0\n",
    ") -> np.ndarray:\n",
    "    # Roll\n",
    "    Rx = _get_roll_matrix(theta_x)\n",
    "    # Pitch\n",
    "    Ry = _get_pitch_matrix(theta_y)\n",
    "    # Yaw\n",
    "    Rz = _get_yaw_matrix(theta_z)\n",
    "    return Rz @ Ry @ Rx\n",
    "\n",
    "def get_translation_matrix(Tx: float,Ty: float,Tz: float):\n",
    "    return np.array([[Tx],[Ty],[Tz]])\n",
    "\n",
    "def get_extrinsic_matrix(rot: np.array((3,3)), trans:np.array((3,1))):\n",
    "    E = np.concatenate((rot,trans), axis = 1)\n",
    "    return E\n",
    "\n",
    "def get_projection_matrix(\n",
    "    f: float,\n",
    "    px: float = 0.0,\n",
    "    py: float = 0.0,\n",
    "    tx : float = 0.0,\n",
    "    ty : float = 0.0,\n",
    "    tz : float = 0.0,\n",
    "    theta_x: float = 0.0,\n",
    "    theta_y: float = 0.0,\n",
    "    theta_z: float = 0.0,\n",
    "    mx: float = 1.0,\n",
    "    my: float = 1.0,\n",
    ") -> np.ndarray:\n",
    "    K = get_calibration_matrix(f=f, px=px, py=py, mx=mx, my=my)\n",
    "    #print(\"Calibration matrix: \\n\",K)\n",
    "    R = get_rotation_matrix(theta_x=theta_x, theta_y=theta_y, theta_z=theta_z)\n",
    "    #print(\"Rotation matrix: \\n\",R)\n",
    "    T = get_translation_matrix(tx,ty,tz)\n",
    "    #print(\"Translation matrix: \\n\",T)\n",
    "    E = get_extrinsic_matrix(rot = R,trans = T)\n",
    "    P = K @ E\n",
    "    \n",
    "    return P\n",
    "\n",
    "def get_plucker_matrix(A: np.ndarray, B: np.ndarray) -> np.ndarray:\n",
    "    A = to_homogeneus(A)\n",
    "    B = to_homogeneus(B)\n",
    "    L = A.reshape(-1, 1) * B.reshape(1, -1) - B.reshape(-1, 1) * A.reshape(1, -1)\n",
    "    return L\n"
   ]
  },
  {
   "cell_type": "code",
   "execution_count": 356,
   "metadata": {},
   "outputs": [],
   "source": [
    "F = 3                                       # focal length( in mm )\n",
    "sensor_size = np.array([11,7])              # sensor size(mm)\n",
    "PX= sensor_size[0]/2.0                      # principal point x-coordinate\n",
    "PY= sensor_size[1]/2.0                      # principal point y-coordinate\n",
    "IMAGE_HEIGTH = sensor_size[1]\n",
    "IMAGE_WIDTH = sensor_size[0]\n",
    "THETA_X = np.pi / 2                         # roll angle\n",
    "THETA_Z = np.pi                             # yaw angle\n",
    "\n",
    "C = np.array([6, -5, 2])                    # camera centre\n"
   ]
  },
  {
   "cell_type": "markdown",
   "metadata": {},
   "source": [
    "### Camera Calibration Matrix \n",
    "We now introduce a new matrix $\\rm K$, called the **camera calibration matrix**, that contains what are called the **internal** camera parameters, or **internal orientation** of the camera.\n",
    "\n",
    "$$\n",
    "\\rm K = \\begin{bmatrix}\n",
    "f & 0        & p_x \\\\\n",
    " 0       & f & p_y \\\\\n",
    " 0       & 0        & 1 \\\\\n",
    "\\end{bmatrix}\\,.\n",
    "$$\n",
    "\n",
    "If we assume that the camera centre coincides with the origin of the world coordinate frame and that there is no rotation, the **image point** $\\boldsymbol{\\rm x}$ is given by $\\boldsymbol{\\rm x} = \\rm K [I | 0] X$, we call $\\rm P =  K [I | 0]$ the **camera projection matrix**."
   ]
  },
  {
   "cell_type": "code",
   "execution_count": 357,
   "metadata": {},
   "outputs": [],
   "source": [
    "def generate_random_points(n_points, xlim, ylim, zlim):\n",
    "    '''\n",
    "    Generate random points in the given limits\n",
    "    '''\n",
    "    x = np.random.randint(xlim[0], xlim[1], size=n_points)\n",
    "    y = np.random.randint(ylim[0], ylim[1], size=n_points)\n",
    "    z = np.random.randint(zlim[0], zlim[1], size=n_points)\n",
    "    \n",
    "    return np.vstack((x, y, z))"
   ]
  },
  {
   "cell_type": "markdown",
   "metadata": {},
   "source": [
    "### Generate random world points"
   ]
  },
  {
   "cell_type": "code",
   "execution_count": 358,
   "metadata": {},
   "outputs": [
    {
     "data": {
      "text/plain": [
       "(3, 1000)"
      ]
     },
     "execution_count": 358,
     "metadata": {},
     "output_type": "execute_result"
    }
   ],
   "source": [
    "n_points = 1000\n",
    "rand_points = generate_random_points(n_points, (-10, 0), (-10, 10), (F, 10))\n",
    "\n",
    "rand_points.shape"
   ]
  },
  {
   "cell_type": "code",
   "execution_count": 359,
   "metadata": {},
   "outputs": [
    {
     "name": "stdout",
     "output_type": "stream",
     "text": [
      "\n",
      "Calibration matrix (K):\n",
      " [[3.  0.  5.5]\n",
      " [0.  3.  3.5]\n",
      " [0.  0.  1. ]]\n",
      "\n",
      "Projection matrix (P):\n",
      " [[3.  0.  5.5 0. ]\n",
      " [0.  3.  3.5 0. ]\n",
      " [0.  0.  1.  0. ]]\n",
      "\n",
      "X:\n",
      " [6 2 5]\n",
      "\n",
      "Xh:\n",
      " [6 2 5 1]\n",
      "\n",
      "x:\n",
      " [9.1 4.7]\n"
     ]
    }
   ],
   "source": [
    "\n",
    "K = get_calibration_matrix(F, px=PX, py=PY)     # calibration matrix\n",
    "P = get_projection_matrix(F, px=PX, py=PY,tx = 0,ty = 0, tz = 0)      # projection matrix\n",
    "print(\"\\nCalibration matrix (K):\\n\", K)\n",
    "print(\"\\nProjection matrix (P):\\n\", P)\n",
    "\n",
    "X = np.array([6, 2, 5])                        # Create a random point\n",
    "Xh = to_homogeneus(X)\n",
    "\n",
    "xh = P @ Xh                                     # projection matrix * point in space(homo)\n",
    "x = to_inhomogeneus(xh)\n",
    "print(\"\\nX:\\n\", X)\n",
    "print(\"\\nXh:\\n\",Xh)\n",
    "print(\"\\nx:\\n\", x)"
   ]
  },
  {
   "cell_type": "code",
   "execution_count": 361,
   "metadata": {},
   "outputs": [],
   "source": [
    "x = []\n",
    "\n",
    "for i in range(n_points):\n",
    "    Xh = to_homogeneus(rand_points[:,i])\n",
    "    xh = P @ Xh\n",
    "    Xx = to_inhomogeneus(xh)\n",
    "    x.append(Xx)\n",
    "\n",
    "x_arr = np.array(x)"
   ]
  },
  {
   "cell_type": "code",
   "execution_count": 362,
   "metadata": {},
   "outputs": [],
   "source": [
    "fig = plt.figure()\n",
    "ax = fig.add_subplot()\n",
    "ax.plot(x_arr[:,0],x_arr[:,1], color = 'r',ls = \"None\", marker = \".\")\n",
    "ax.set_title(\"Image points\")\n",
    "ax.set_xlabel(\"X axis\")\n",
    "ax.set_ylabel(\"Y axis\")\n",
    "ax.grid()\n",
    "plt.show()"
   ]
  },
  {
   "cell_type": "code",
   "execution_count": 363,
   "metadata": {},
   "outputs": [],
   "source": [
    "worldm, worldn = rand_points.T.shape\n",
    "imagem, imagen = x_arr.shape"
   ]
  },
  {
   "cell_type": "code",
   "execution_count": 364,
   "metadata": {},
   "outputs": [
    {
     "name": "stdout",
     "output_type": "stream",
     "text": [
      "(2000, 12)\n"
     ]
    }
   ],
   "source": [
    "#3D DLT\n",
    "A = []\n",
    "world_pts = rand_points.T\n",
    "image_pts = x_arr\n",
    "\n",
    "for i in range(worldm):\n",
    "    A.append([-world_pts[i,0],-world_pts[i,1],-world_pts[i,2],-1,0,0,0,0,image_pts[i,0]*world_pts[i,0],image_pts[i,0]*world_pts[i,1],image_pts[i,0]*world_pts[i,2],image_pts[i,0]])\n",
    "    A.append([0,0,0,0,-world_pts[i,0],-world_pts[i,1],-world_pts[i,2],-1,image_pts[i,1]*world_pts[i,0],image_pts[i,1]*world_pts[i,1],image_pts[i,1]*world_pts[i,2],image_pts[i,1]])\n",
    "\n",
    "# pass the list A as an array\n",
    "M = np.asarray(A).reshape(worldm*2,12)\n",
    "print(M.shape)"
   ]
  },
  {
   "cell_type": "code",
   "execution_count": 365,
   "metadata": {},
   "outputs": [
    {
     "name": "stdout",
     "output_type": "stream",
     "text": [
      "Camera Matrix:\n",
      " [[ 3.00000000e+00 -2.39431056e-15  5.50000000e+00  2.56572143e-14]\n",
      " [-3.70029814e-15  3.00000000e+00  3.50000000e+00 -4.07304876e-14]\n",
      " [-9.79490685e-16 -6.66650968e-16  1.00000000e+00 -9.52282610e-16]]\n"
     ]
    }
   ],
   "source": [
    "# SVD \n",
    "U, S, Vh = np.linalg.svd(M)\n",
    "\n",
    "L = Vh[-1,:] / Vh[-1,-2]\n",
    "#Camera projection matrix:\n",
    "PEst = L.reshape(3,3+1)\n",
    "print(\"Camera Matrix:\\n\",PEst)"
   ]
  },
  {
   "cell_type": "code",
   "execution_count": 366,
   "metadata": {},
   "outputs": [
    {
     "data": {
      "text/plain": [
       "array([[ 3.625     ,  0.125     ],\n",
       "       [ 4.21428571,  2.64285714],\n",
       "       [ 0.1       , -2.5       ],\n",
       "       ...,\n",
       "       [ 3.        ,  0.5       ],\n",
       "       [ 3.        ,  7.5       ],\n",
       "       [ 5.07142857,  6.5       ]])"
      ]
     },
     "execution_count": 366,
     "metadata": {},
     "output_type": "execute_result"
    }
   ],
   "source": [
    "xEst = np.zeros((worldm,2))\n",
    "for j in range(worldm):\n",
    "    X_pts = to_homogeneus(world_pts[j])\n",
    "    x_aux  = np.dot(PEst,X_pts)\n",
    "    xEst[j,:] = to_inhomogeneus(x_aux)\n",
    "\n",
    "xEst"
   ]
  },
  {
   "cell_type": "code",
   "execution_count": 367,
   "metadata": {},
   "outputs": [],
   "source": [
    "fig = plt.figure()\n",
    "ax = fig.add_subplot(111)\n",
    "ax.plot(x_arr[:,0],x_arr[:,1], color = 'r',ls = \"None\", marker = \".\", label = 'Original')\n",
    "ax.set_title(\"Point estimation\")\n",
    "ax.set_xlabel(\"X axis\")\n",
    "ax.set_ylabel(\"Y axis\")\n",
    "ax.grid()\n",
    "ax.plot(xEst[:,0],xEst[:,1], color = 'b',ls = \"None\", marker = \".\", label = 'Estimation')\n",
    "ax.legend()\n",
    "plt.show()"
   ]
  },
  {
   "cell_type": "code",
   "execution_count": 368,
   "metadata": {},
   "outputs": [
    {
     "name": "stdout",
     "output_type": "stream",
     "text": [
      "Geometric error: 2.218083948888219e-14\n"
     ]
    }
   ],
   "source": [
    "err = np.sqrt(np.mean(np.sum(np.square(x_arr-xEst), 1)))\n",
    "print(\"Geometric error:\",err)"
   ]
  },
  {
   "cell_type": "code",
   "execution_count": null,
   "metadata": {},
   "outputs": [],
   "source": []
  }
 ],
 "metadata": {
  "interpreter": {
   "hash": "60b5aa1117f644a56cfefa69a0b1d50bf1f82c4bfed82b1b696b6ab3098426bd"
  },
  "kernelspec": {
   "display_name": "Python 3.9.7 ('venv')",
   "language": "python",
   "name": "python3"
  },
  "language_info": {
   "codemirror_mode": {
    "name": "ipython",
    "version": 3
   },
   "file_extension": ".py",
   "mimetype": "text/x-python",
   "name": "python",
   "nbconvert_exporter": "python",
   "pygments_lexer": "ipython3",
   "version": "3.9.7"
  },
  "orig_nbformat": 4
 },
 "nbformat": 4,
 "nbformat_minor": 2
}
