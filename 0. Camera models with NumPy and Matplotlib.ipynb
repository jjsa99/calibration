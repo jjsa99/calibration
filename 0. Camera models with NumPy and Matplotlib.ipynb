{
 "cells": [
  {
   "cell_type": "markdown",
   "metadata": {},
   "source": [
    "## Camera models with NumPy and Matplotlib\n",
    "In this script we will experience different camera models and play with then in terms of rotations and translations.\\\n",
    "This script is a condensation of the work done by [Mario Larcher](https://github.com/mnslarcher/camera-models) with some added features done by me.\n",
    "In order to run the program it's necessary to import the libraries used in the original project.( those can be find in the github)"
   ]
  },
  {
   "cell_type": "markdown",
   "metadata": {},
   "source": [
    "**Import libraries**"
   ]
  },
  {
   "cell_type": "code",
   "execution_count": 1,
   "metadata": {},
   "outputs": [],
   "source": [
    "%matplotlib qt\n",
    "import matplotlib.pyplot as plt\n",
    "import numpy as np\n",
    "\n",
    "from camera_models import *  # our package\n",
    "\n",
    "\n",
    "DECIMALS = 2  # how many decimal places to use in print\n",
    "\n",
    "%load_ext autoreload\n",
    "%autoreload 2"
   ]
  },
  {
   "cell_type": "markdown",
   "metadata": {},
   "source": [
    "### Homogeneous coordinates"
   ]
  },
  {
   "cell_type": "code",
   "execution_count": 2,
   "metadata": {},
   "outputs": [
    {
     "name": "stdout",
     "output_type": "stream",
     "text": [
      "X: [4. 2. 3.]\n",
      "X in homogeneous coordinates: [4. 2. 3. 1.]\n"
     ]
    }
   ],
   "source": [
    "X = np.array([4.0, 2.0, 3.0])\n",
    "print(f\"X: {X}\")\n",
    "Xh = to_homogeneus(X)\n",
    "print(f\"X in homogeneous coordinates: {Xh}\")"
   ]
  },
  {
   "cell_type": "markdown",
   "metadata": {},
   "source": [
    "## Camera translation and rotation\n",
    "Points in space are expressed in term of the **world coordinate frame**. The camera will often be translated and rotated relative to it. The parameters of $\\rm R$, the $3 \\times 3$ **rotation matrix** representing the orientation of the **camera coordinate frame** and $\\boldsymbol{\\rm C}$, the coordinates of the camera centre in the world coordinate frame, are called the **external** parameters or the **exterior orientation**."
   ]
  },
  {
   "cell_type": "markdown",
   "metadata": {},
   "source": [
    "### Camera translation \n",
    "Since we will express the coordinates of the camera with respect to the world coordinate frame (whose origin $\\boldsymbol{\\rm O}$ is equal to $\\boldsymbol{\\rm 0} = \\begin{pmatrix}0.0 & 0.0 & 0.0\\end{pmatrix}$), the translation vector $\\boldsymbol{\\rm t}$ will be equivalent to the camera center, since $\\boldsymbol{\\rm C} = \\boldsymbol{\\rm O} + \\boldsymbol{\\rm t} = \\boldsymbol{\\rm 0} + \\boldsymbol{\\rm t} = \\boldsymbol{\\rm t}$."
   ]
  },
  {
   "cell_type": "code",
   "execution_count": 3,
   "metadata": {},
   "outputs": [],
   "source": [
    "world_origin = np.zeros(3)  # world location(0,0,0)\n",
    "dx, dy, dz = np.eye(3)      # creates a 1's diagonal\n",
    "t = np.array([3,-4,2])      # camera translation \n",
    "\n",
    "#world frame\n",
    "world_frame = ReferenceFrame(\n",
    "    origin=world_origin, \n",
    "    dx=dx, \n",
    "    dy=dy,\n",
    "    dz=dz,\n",
    "    name=\"World\",\n",
    ")\n",
    "\n",
    "#camera frame -> \n",
    "camera_frame = ReferenceFrame(\n",
    "    origin=t,\n",
    "    dx=dx, \n",
    "    dy=dy,\n",
    "    dz=dz,\n",
    "    name=\"Camera\",\n",
    ")\n",
    "\n",
    "# plot\n",
    "fig = plt.figure()\n",
    "ax = fig.add_subplot(projection = '3d')\n",
    "world_frame.draw3d()\n",
    "camera_frame.draw3d()\n",
    "draw3d_arrow(world_origin, t, color=\"tab:red\", name=\"t\")        # draw arrow to connect \n",
    "set_xyzlim3d(-3, 3)\n",
    "ax.set_title(f\"Camera Translation (t = {t})\")\n",
    "plt.tight_layout()\n",
    "plt.show()"
   ]
  },
  {
   "cell_type": "markdown",
   "metadata": {},
   "source": [
    "### Camera Rotation\n",
    "\n",
    "![title](/home/alegria/camera-models-main/figures/638px-Yaw_Axis_Corrected.svg.png)\n"
   ]
  },
  {
   "cell_type": "markdown",
   "metadata": {},
   "source": [
    "$$\n",
    "\\rm R = \\rm R_z \\rm R_y \\rm R_x = \n",
    "\\begin{bmatrix}\n",
    "\\cos \\theta_z & -\\sin \\theta_z & 0 \\\\\n",
    "\\sin \\theta_z &  \\cos \\theta_z & 0 \\\\\n",
    " 0            &   0            & 1 \\\\\n",
    "\\end{bmatrix}\n",
    "\\begin{bmatrix}\n",
    " \\cos \\theta_y & 0 & \\sin \\theta_y \\\\\n",
    "  0            & 1 &  0 \\\\\n",
    "-\\sin \\theta_y & 0 & \\cos \\theta_y \\\\\n",
    "\\end{bmatrix}\n",
    "\\begin{bmatrix}\n",
    "1 &  0            &   0 \\\\\n",
    "0 & \\cos \\theta_x & -\\sin \\theta_x \\\\\n",
    "0 & \\sin \\theta_x &  \\cos \\theta_x \\\\\n",
    "\\end{bmatrix}\n",
    "= \n",
    "\\begin{bmatrix}\n",
    "\\cos\\theta_z\\cos\\theta_y & \\cos\\theta_z\\sin\\theta_y\\sin\\theta_x - \\sin\\theta_z\\cos\\theta_x & \\cos\\theta_z\\sin\\theta_y\\cos\\theta_x + \\sin\\theta_z\\sin\\theta_x \\\\\n",
    "\\sin\\theta_z\\cos\\theta_y & \\sin\\theta_z\\sin\\theta_y\\sin\\theta_x + \\cos\\theta_z\\cos\\theta_x & \\sin\\theta_z\\sin\\theta_y\\cos\\theta_x - \\cos\\theta_z\\sin\\theta_x \\\\\n",
    "-\\sin\\theta_y & \\cos\\theta_y\\sin\\theta_x & \\cos\\theta_y\\cos\\theta_x \\\\\n",
    "\\end{bmatrix}\\,.\n",
    "$$\n",
    "The angles $\\theta_x$, $\\theta_y$ and $\\theta_z$ are often called **Euler angles** or, more correctly **Tait–Bryan angles**, given that in the original Euler formulation the same axis was considered twice (Z-X-Z, Y-X-Y, etc.). These angles are also associated with the concepts of **roll**, **pitch** and **yaw** (see the image above)."
   ]
  },
  {
   "cell_type": "code",
   "execution_count": 4,
   "metadata": {},
   "outputs": [],
   "source": [
    "Rx = get_rotation_matrix(theta_x=np.pi / 2.0)\n",
    "Ry = get_rotation_matrix(theta_y=np.pi / 2.0)\n",
    "Rz = get_rotation_matrix(theta_z=np.pi / 2.0)\n",
    "dx, dy, dz = np.eye(3)\n",
    "world_frame = ReferenceFrame(\n",
    "    origin=np.zeros(3), \n",
    "    dx=dx, \n",
    "    dy=dy,\n",
    "    dz=dz,\n",
    "    name=\"World\",\n",
    ")\n",
    "roll_frame = ReferenceFrame(\n",
    "    origin=np.zeros(3), \n",
    "    dx=Rx @ dx, \n",
    "    dy=Rx @ dy,\n",
    "    dz=Rx @ dz,\n",
    "    name=\"Camera\",\n",
    ")\n",
    "pitch_frame = ReferenceFrame(\n",
    "    origin=np.zeros(3), \n",
    "    dx=Ry @ dx, \n",
    "    dy=Ry @ dy,\n",
    "    dz=Ry @ dz,\n",
    "    name=\"Camera\",\n",
    ")\n",
    "yaw_frame = ReferenceFrame(\n",
    "    origin=np.zeros(3), \n",
    "    dx=Rz @ dx, \n",
    "    dy=Rz @ dy,\n",
    "    dz=Rz @ dz,\n",
    "    name=\"Camera\",\n",
    ")\n",
    "fig = plt.figure()\n",
    "\n",
    "ax = fig.add_subplot(2, 2, 1, projection=\"3d\")\n",
    "world_frame.draw3d()\n",
    "set_xyzlim3d(-1, 1)\n",
    "set_xyzticks([])\n",
    "ax.set_title(f\"No Rotation\")\n",
    "\n",
    "ax = fig.add_subplot(2, 2, 2, projection=\"3d\")\n",
    "roll_frame.draw3d()\n",
    "set_xyzlim3d(-1, 1)\n",
    "ax.set_title(f\"Roll (90°)\")\n",
    "set_xyzticks([])\n",
    "\n",
    "ax = fig.add_subplot(2, 2, 3, projection=\"3d\")\n",
    "pitch_frame.draw3d()\n",
    "set_xyzlim3d(-1, 1)\n",
    "set_xyzticks([])\n",
    "ax.set_title(f\"Pitch (90°)\")\n",
    "\n",
    "ax = fig.add_subplot(2, 2, 4, projection=\"3d\")\n",
    "yaw_frame.draw3d()\n",
    "set_xyzlim3d(-1, 1)\n",
    "set_xyzticks([])\n",
    "ax.set_title(f\"Yaw (90°)\")\n",
    "\n",
    "fig.suptitle(\"Camera Rotation\")\n",
    "plt.tight_layout()\n",
    "plt.show()"
   ]
  },
  {
   "cell_type": "markdown",
   "metadata": {},
   "source": [
    "## Pinhole Camera Geometry\n",
    "\n",
    "![title](/home/alegria/calibration/camera_models/pinhole_camera.png)\n",
    "\n",
    "\n",
    "Let's define some quantities:\n",
    "* **Focal length** ($f$): distance between the camera centre and the image plane.\n",
    "* **Principal axis** or **Principal ray** ($\\rm Z$) of the camera: line from the camera centre perpendicular to the image plane.\n",
    "* **Principal point** ($\\boldsymbol{\\rm p}$): point where the principal axis meets the image plane, its coordinates with respect to the reference system of the image are $(p_x, p_y)^\\top$.\n",
    "\n",
    "We can now visually represent the pinhole camera geometry."
   ]
  },
  {
   "cell_type": "markdown",
   "metadata": {},
   "source": [
    "> **Note** - the sensor size was rounded due to some error when projecting the image plane."
   ]
  },
  {
   "cell_type": "code",
   "execution_count": 5,
   "metadata": {},
   "outputs": [],
   "source": [
    "F = 3                                       # focal length( in mm )\n",
    "sensor_size = np.array([11,7])              # sensor size(mm)\n",
    "PX= sensor_size[0]/2.0                      # principal point x-coordinate\n",
    "PY= sensor_size[1]/2.0                                     # principal point y-coordinate\n",
    "THETA_X = np.pi / 2                         # roll angle\n",
    "THETA_Z = np.pi                             # yaw angle\n",
    "C = np.array([6, -5, 2])                    # camera centre\n",
    "IMAGE_HEIGTH = sensor_size[1]\n",
    "IMAGE_WIDTH = sensor_size[0]"
   ]
  },
  {
   "cell_type": "code",
   "execution_count": 6,
   "metadata": {},
   "outputs": [],
   "source": [
    "R = get_rotation_matrix(theta_x=THETA_X, theta_z=THETA_Z)\n",
    "world_origin = np.zeros(3)\n",
    "dx, dy, dz = np.eye(3)\n",
    "world_frame = ReferenceFrame(\n",
    "    origin=world_origin, \n",
    "    dx=dx, \n",
    "    dy=dy,\n",
    "    dz=dz,\n",
    "    name=\"World\",\n",
    ")\n",
    "camera_frame = ReferenceFrame(\n",
    "    origin=C, \n",
    "    dx=R @ dx, \n",
    "    dy=R @ dy,\n",
    "    dz=R @ dz,\n",
    "    name=\"Camera\",\n",
    ")\n",
    "Z = PrincipalAxis(\n",
    "    camera_center=camera_frame.origin,\n",
    "    camera_dz=camera_frame.dz,\n",
    "    f=F,\n",
    ")\n",
    "image_frame = ReferenceFrame(\n",
    "    origin=Z.p - camera_frame.dx * PX - camera_frame.dy * PY, \n",
    "    dx=R @ dx, \n",
    "    dy=R @ dy,\n",
    "    dz=R @ dz,\n",
    "    name=\"Image\",\n",
    ")\n",
    "image_plane = ImagePlane(\n",
    "    origin=image_frame.origin, \n",
    "    dx=image_frame.dx, \n",
    "    dy=image_frame.dy, \n",
    "    heigth=IMAGE_HEIGTH,\n",
    "    width=IMAGE_WIDTH,\n",
    ")"
   ]
  },
  {
   "cell_type": "code",
   "execution_count": 7,
   "metadata": {},
   "outputs": [],
   "source": [
    "fig = plt.figure(figsize=(6, 6))\n",
    "ax = fig.add_subplot(projection=\"3d\")\n",
    "ax.text(*C, \"C\")\n",
    "world_frame.draw3d()\n",
    "camera_frame.draw3d()\n",
    "image_frame.draw3d()\n",
    "Z.draw3d()\n",
    "image_plane.draw3d()\n",
    "ax.view_init(elev=30.0, azim=30.0)\n",
    "ax.set_title(\"Pinhole Camera Geometry\")\n",
    "ax.set_xlabel(\"X-axis\")\n",
    "ax.set_ylabel(\"Y-axis\")\n",
    "ax.set_zlabel(\"Z-axis\")\n",
    "plt.tight_layout()\n",
    "plt.show()"
   ]
  },
  {
   "cell_type": "markdown",
   "metadata": {},
   "source": [
    "## Representing a generic point in 3D\n",
    "### Intersection Between a Line and a Plane\n",
    "We now add a generic point $\\boldsymbol{\\rm X}$ in space and see how it is represented in the image plane.\n",
    "\n",
    "Let us consider the line joining the camera centre $\\boldsymbol{\\rm C}$ with the point $\\boldsymbol{\\rm X}$, both represented in homogeneous coordinates. We can represent this line with a $4 \\times 4$ skew-symmetric homogeneous matrix, called its **plücker matrix**, that is defined as\n",
    "\n",
    "$$\n",
    "\\rm L = \\boldsymbol{\\rm C}\\boldsymbol{\\rm X}^\\top - \\boldsymbol{\\rm X}\\boldsymbol{\\rm C}^\\top \\,.\n",
    "$$\n",
    "\n",
    "We can also find the representation in homogeneous coordinates of the image plane $\\boldsymbol \\pi$ starting from three points on it. For example we can use the origin of the image frame that we call $\\boldsymbol{\\rm X_1} = \\begin{pmatrix}\\boldsymbol{\\rm \\tilde{X}_1} \\\\ 1\\end{pmatrix}$ and the two points $\\boldsymbol{\\rm X_2} = \\begin{pmatrix}\\boldsymbol{\\rm \\tilde{X}_2} \\\\ 1\\end{pmatrix} = \\boldsymbol{\\rm X_1} + d_x$ and $\\boldsymbol{\\rm X_3} = \\begin{pmatrix}\\boldsymbol{\\rm \\tilde{X}_3} \\\\ 1\\end{pmatrix} = \\boldsymbol{\\rm X_1} + d_y$ and apply the formula\n",
    "\n",
    "$$\n",
    "\\boldsymbol \\pi = \\begin{bmatrix}\n",
    "(\\boldsymbol{\\rm \\tilde{X}_1} - \\boldsymbol{\\rm \\tilde{X}_3}) \\times (\\boldsymbol{\\rm \\tilde{X}_2} - \\boldsymbol{\\rm \\tilde{X}_3}) \\\\\n",
    "-\\boldsymbol{\\rm \\tilde{X}_3}^\\top (\\boldsymbol{\\rm \\tilde{X}_1} - \\boldsymbol{\\rm \\tilde{X}_2})\n",
    "\\end{bmatrix} \\,.\n",
    "$$\n",
    "\n",
    "Now that we have all the ingredients, the intersection between the line $\\rm L$ and the plane $\\boldsymbol \\pi$ is simply\n",
    "\n",
    "$$\n",
    "\\boldsymbol{x} = \\rm L \\boldsymbol \\pi \\,.\n",
    "$$"
   ]
  },
  {
   "cell_type": "code",
   "execution_count": 8,
   "metadata": {},
   "outputs": [
    {
     "name": "stdout",
     "output_type": "stream",
     "text": [
      "X:\n",
      "[6 2 5]\n",
      "\n",
      "L:\n",
      "[[  0  42  18   0]\n",
      " [-42   0 -29  -7]\n",
      " [-18  29   0  -3]\n",
      " [  0   7   3   0]]\n",
      "\n",
      "X1:\n",
      "[11.5 -2.  -1.5]\n",
      "\n",
      "X2:\n",
      "[10.5 -2.  -1.5]\n",
      "\n",
      "X3:\n",
      "[11.5 -2.  -0.5]\n",
      "\n",
      "pi:\n",
      "[0. 1. 0. 2.]\n",
      "\n",
      "x:\n",
      "[ 6.   -2.    3.29]\n"
     ]
    }
   ],
   "source": [
    "X = np.array([6, 2,5])                        # Create a random point\n",
    "G = GenericPoint(X, name=\"X\")                   \n",
    "L = get_plucker_matrix(C, X)\n",
    "X1 = image_frame.origin\n",
    "X2 = X1 + image_frame.dx\n",
    "X3 = X1 + image_frame.dy\n",
    "pi = get_plane_from_three_points(X1, X2, X3)\n",
    "x = to_inhomogeneus(L @ pi)\n",
    "print(f\"X:\\n{X}\")\n",
    "print(f\"\\nL:\\n{L.round(DECIMALS)}\")\n",
    "print(f\"\\nX1:\\n{X1}\")\n",
    "print(f\"\\nX2:\\n{X2}\")\n",
    "print(f\"\\nX3:\\n{X3}\")\n",
    "print(f\"\\npi:\\n{pi.round(DECIMALS)}\")\n",
    "print(f\"\\nx:\\n{x.round(DECIMALS)}\")"
   ]
  },
  {
   "cell_type": "code",
   "execution_count": 9,
   "metadata": {},
   "outputs": [],
   "source": [
    "fig = plt.figure(figsize=(6, 6))\n",
    "ax = fig.add_subplot(projection=\"3d\")\n",
    "ax.text(*C, \"C\")\n",
    "world_frame.draw3d()\n",
    "camera_frame.draw3d()\n",
    "image_frame.draw3d()\n",
    "Z.draw3d()\n",
    "image_plane.draw3d()\n",
    "G.draw3d(pi, C=C)\n",
    "ax.view_init(elev=30.0, azim=30.0)\n",
    "ax.set_title(f\"Representation of a Generic Point in 3D (X = {X})\")\n",
    "ax.set_xlabel(\"X-axis\")\n",
    "ax.set_ylabel(\"Y-axis\")\n",
    "ax.set_zlabel(\"Z-axis\")\n",
    "plt.tight_layout()\n",
    "plt.show()"
   ]
  },
  {
   "cell_type": "markdown",
   "metadata": {},
   "source": [
    "### Camera Calibration Matrix \n",
    "We now introduce a new matrix $\\rm K$, called the **camera calibration matrix**, that contains what are called the **internal** camera parameters, or **internal orientation** of the camera.\n",
    "\n",
    "$$\n",
    "\\rm K = \\begin{bmatrix}\n",
    "f & 0        & p_x \\\\\n",
    " 0       & f & p_y \\\\\n",
    " 0       & 0        & 1 \\\\\n",
    "\\end{bmatrix}\\,.\n",
    "$$\n",
    "\n",
    "If we assume that the camera centre coincides with the origin of the world coordinate frame and that there is no rotation, the **image point** $\\boldsymbol{\\rm x}$ is given by $\\boldsymbol{\\rm x} = \\rm K [I | 0] X$, we call $\\rm P =  K [I | 0]$ the **camera projection matrix**."
   ]
  },
  {
   "cell_type": "code",
   "execution_count": 10,
   "metadata": {},
   "outputs": [],
   "source": [
    "F = 3                                       # focal length( in mm )\n",
    "sensor_size = np.array([11,7])              # sensor size(mm)\n",
    "PX= sensor_size[0]/2.0                      # principal point x-coordinate\n",
    "PY= sensor_size[1]/2.0                                     # principal point y-coordinate\n",
    "IMAGE_HEIGTH = sensor_size[1]\n",
    "IMAGE_WIDTH = sensor_size[0]"
   ]
  },
  {
   "cell_type": "code",
   "execution_count": 11,
   "metadata": {},
   "outputs": [
    {
     "name": "stdout",
     "output_type": "stream",
     "text": [
      "\n",
      "X:\n",
      " [6 2 5]\n",
      "\n",
      "Xh:\n",
      " [6 2 5 1]\n",
      "\n",
      "Calibration matrix (K):\n",
      " [[3.  0.  5.5]\n",
      " [0.  3.  3.5]\n",
      " [0.  0.  1. ]]\n",
      "\n",
      "Projection matrix (P):\n",
      " [[3.  0.  5.5 0. ]\n",
      " [0.  3.  3.5 0. ]\n",
      " [0.  0.  1.  0. ]]\n",
      "\n",
      "x:\n",
      " [9.1 4.7]\n"
     ]
    }
   ],
   "source": [
    "X = np.array([6, 2, 5])                        # Create a random point\n",
    "Xh = to_homogeneus(X)\n",
    "K = get_calibration_matrix(F, px=PX, py=PY)     # calibration matrix\n",
    "P = get_projection_matrix(F, px=PX, py=PY)      # projection matrix\n",
    "xh = P @ Xh                                     # projection matrix * point in space(homo)\n",
    "x = to_inhomogeneus(xh)\n",
    "print(\"\\nX:\\n\", X)\n",
    "print(\"\\nXh:\\n\",Xh)\n",
    "print(\"\\nCalibration matrix (K):\\n\", K)\n",
    "print(\"\\nProjection matrix (P):\\n\", P)\n",
    "print(\"\\nx:\\n\", x)"
   ]
  },
  {
   "cell_type": "code",
   "execution_count": 12,
   "metadata": {},
   "outputs": [],
   "source": [
    "image = Image(heigth=IMAGE_HEIGTH, width=IMAGE_WIDTH)\n",
    "G = GenericPoint(X, name=\"X\")"
   ]
  },
  {
   "cell_type": "code",
   "execution_count": 13,
   "metadata": {},
   "outputs": [],
   "source": [
    "fig = plt.figure(figsize=(IMAGE_WIDTH, IMAGE_HEIGTH))\n",
    "ax = fig.add_subplot()\n",
    "image.draw()\n",
    "G.draw(F, px=PX, py=PY)\n",
    "ax.set_title(\"Image of the Point X\")\n",
    "ax.set_xlabel(\"X-axis\")\n",
    "ax.set_ylabel(\"Y-axis\")\n",
    "plt.tight_layout()\n",
    "plt.show()"
   ]
  }
 ],
 "metadata": {
  "interpreter": {
   "hash": "60b5aa1117f644a56cfefa69a0b1d50bf1f82c4bfed82b1b696b6ab3098426bd"
  },
  "kernelspec": {
   "display_name": "Python 3.9.7 ('venv')",
   "language": "python",
   "name": "python3"
  },
  "language_info": {
   "codemirror_mode": {
    "name": "ipython",
    "version": 3
   },
   "file_extension": ".py",
   "mimetype": "text/x-python",
   "name": "python",
   "nbconvert_exporter": "python",
   "pygments_lexer": "ipython3",
   "version": "3.9.7"
  },
  "orig_nbformat": 4
 },
 "nbformat": 4,
 "nbformat_minor": 2
}
