{
 "cells": [
  {
   "cell_type": "markdown",
   "metadata": {},
   "source": [
    "## 3.2.2 Realistic simulation setup\n",
    "In this script we will change the paradigm. Instead of only using 4 points in the real world to define a circle in the 2D plane, we will use multiple points(~1024)."
   ]
  },
  {
   "cell_type": "markdown",
   "metadata": {},
   "source": [
    "### import  libraries"
   ]
  },
  {
   "cell_type": "code",
   "execution_count": 1,
   "metadata": {},
   "outputs": [],
   "source": [
    "vscode = 1"
   ]
  },
  {
   "cell_type": "code",
   "execution_count": 2,
   "metadata": {},
   "outputs": [],
   "source": [
    "if(vscode == 0):\n",
    "    # for vscode\n",
    "    # for jupyter notebook\n",
    "    from mpl_toolkits.mplot3d import axes3d\n",
    "    import matplotlib.pyplot as plt\n",
    "\n",
    "    %matplotlib notebook\n",
    "elif(vscode == 1):\n",
    "    %matplotlib qt\n",
    "    "
   ]
  },
  {
   "cell_type": "code",
   "execution_count": 3,
   "metadata": {},
   "outputs": [],
   "source": [
    "import matplotlib.pyplot as plt\n",
    "import numpy as np\n",
    "import cv2\n",
    " \n",
    "from typing import Sequence\n",
    "from calib_lib import *\n",
    "from matplotlib.collections import PatchCollection      # pathcoletion for multiple patches\n",
    "import matplotlib.cm as cm                              # for colormaps\n",
    "from matplotlib.patches import Rectangle                # for rectangle representation\n",
    "from matplotlib.patches import Ellipse                  # for ellipse representation   \n",
    "from pixelization_lib import *      \n",
    "\n",
    "DECIMALS = 2            # how many decimal places to use in print\n"
   ]
  },
  {
   "cell_type": "code",
   "execution_count": 4,
   "metadata": {},
   "outputs": [],
   "source": [
    "F = 16                                       # focal length( in mm )\n",
    "gridSize = 1024\n",
    "subpixel_grid = 64\n",
    "image_size = np.array([1936,1216])               # sensor size(in mm)\n",
    "#image_size = np.array([11.345,7.126])\n",
    "pixel_width = 5.86e-3                       # pixel size in mm\n",
    "PX= image_size[0]/2.0                       # principal point x-coordinate\n",
    "PY= image_size[1]/2.0                       # principal point y-coordinate\n",
    "IMAGE_HEIGTH = image_size[1]\n",
    "IMAGE_WIDTH = image_size[0]\n",
    "THETA_X = 0                                 # roll angle\n",
    "THETA_Y = 0                                 # pitch angle\n",
    "THETA_Z = 0                                 # yaw angle\n",
    "\n",
    "# camera Right\n",
    "THETA_X_R = 0                                 # roll angle\n",
    "THETA_Y_R = 0                                 # pitch angle\n",
    "THETA_Z_R= 0                                 # yaw angle\n",
    "# camera Left\n",
    "THETA_X_L = 0                                 # roll angle\n",
    "THETA_Y_L = 0                                 # pitch angle\n",
    "THETA_Z_L= 0                                 # yaw angle\n",
    "\n",
    "C_L = np.array([0,0,0])                     # camera centre\n",
    "C_R = np.array([500,0,0])\n",
    "\n",
    "chess_dimx,chess_dimy = (13,9)\n",
    "chess_sq_size = 44\n",
    "\n",
    "radius = 5"
   ]
  },
  {
   "cell_type": "markdown",
   "metadata": {},
   "source": [
    "## play with the"
   ]
  },
  {
   "cell_type": "code",
   "execution_count": 6,
   "metadata": {},
   "outputs": [
    {
     "name": "stdout",
     "output_type": "stream",
     "text": [
      "(180, 140, 1024, 3)\n",
      "(140, 1024, 4)\n",
      "(180, 140, 1024, 3)\n",
      "World points:  (180, 1, 143360, 3)\n",
      "Image points:  (180, 140, 1024, 2)\n"
     ]
    }
   ],
   "source": [
    "xrange_5 = np.linspace(-400,400,6)\n",
    "yrange_5 = np.linspace(-120,120,6)\n",
    "zrange_5 = ([2000])\n",
    "\n",
    "world_pts_arr,x_zhang_R,x_zhang_L,P_R,P_L = create_1024_point_chess(xrange_5,yrange_5,zrange_5)"
   ]
  },
  {
   "cell_type": "code",
   "execution_count": 13,
   "metadata": {},
   "outputs": [
    {
     "data": {
      "text/plain": [
       "array([-400.,  400.])"
      ]
     },
     "execution_count": 13,
     "metadata": {},
     "output_type": "execute_result"
    }
   ],
   "source": [
    "xrange_5 = np.linspace(-400,400,2)\n",
    "xrange_5"
   ]
  },
  {
   "cell_type": "code",
   "execution_count": 14,
   "metadata": {},
   "outputs": [],
   "source": [
    "# Generate pixel grid\n",
    "pixelGridX  = (np.arange(0,image_size[0])) * pixel_width\n",
    "pixelGridY  = (np.arange(0,image_size[1])) * pixel_width\n",
    "pixelGridXX, pixelGridYY = np.meshgrid(pixelGridX,pixelGridY)\n",
    "\n",
    "fig = plt.figure()\n",
    "ax = fig.add_subplot()\n",
    "ax.plot(pixelGridXX,pixelGridYY,'r')\n",
    "ax.plot(pixelGridXX.T,pixelGridYY.T,'b')\n",
    "\n",
    "for i in range(90):\n",
    "    ax.plot(x_zhang_L[i,:,:,0]*pixel_width,x_zhang_L[i,:,:,1]*pixel_width, color = 'r',ls = \"None\", marker = \"*\")\n",
    "\n",
    "plt.show()"
   ]
  },
  {
   "cell_type": "code",
   "execution_count": 15,
   "metadata": {},
   "outputs": [],
   "source": [
    "def spot_center_coord(cx0,cy0,pixelGridX,pixelGridY):\n",
    "    cx0_max = np.where((cx0 < pixelGridX))\n",
    "    cx0_min = np.where((cx0 > pixelGridX))\n",
    "    #print(cx0_max[0][0])\n",
    "    #print(cx0_min[0][-1])\n",
    "    cy0_max = np.where((cy0 < pixelGridY))\n",
    "    cy0_min = np.where((cy0 > pixelGridY))\n",
    "    #print(cy0_max[0][0])\n",
    "    #print(cy0_min[0][-1])\n",
    "\n",
    "    return cx0_max[0][0],cx0_min[0][-1],cy0_max[0][0],cy0_min[0][-1]"
   ]
  },
  {
   "cell_type": "code",
   "execution_count": 16,
   "metadata": {},
   "outputs": [
    {
     "data": {
      "text/plain": [
       "(180, 140, 1024)"
      ]
     },
     "execution_count": 16,
     "metadata": {},
     "output_type": "execute_result"
    }
   ],
   "source": [
    "x0_L = x_zhang_L[:,:,:,0]*pixel_width\n",
    "y0_L = x_zhang_L[:,:,:,1]*pixel_width\n",
    "x0_L.shape"
   ]
  },
  {
   "cell_type": "code",
   "execution_count": 19,
   "metadata": {},
   "outputs": [],
   "source": [
    "# Generate pixel grid\n",
    "pixelGridX  = (np.arange(0,image_size[0])) * pixel_width\n",
    "pixelGridY  = (np.arange(0,image_size[1])) * pixel_width\n",
    "pixelGridXX, pixelGridYY = np.meshgrid(pixelGridX,pixelGridY)\n",
    "\n",
    "points_max_min_L =np.zeros((x0_L.shape[0],x0_L.shape[1],x0_L.shape[2],2))\n",
    "\n",
    "for i in range(x0_L.shape[0]):\n",
    "    for j in range(x0_L.shape[1]):\n",
    "        for k in range(x0_L.shape[2]):\n",
    "\n",
    "            cx0max,cx0min,cy0max,cy0min = spot_center_coord(x0_L[i,j,k],y0_L[i,j,k],pixelGridX,pixelGridY)\n",
    "\n",
    "            # max and min points in (x,y) coordinates\n",
    "            cx0min_pxl_L = (cx0min*pixel_width)\n",
    "            cx0max_pxl_L = (cx0max*pixel_width)\n",
    "            cy0min_pxl_L = (cy0min*pixel_width)\n",
    "            cy0max_pxl_L = (cy0max*pixel_width)\n",
    "\n",
    "            #array max and min points\n",
    "            points_max_min_L[i,j,k,:] = (([cx0min_pxl_L,cy0min_pxl_L]))\n"
   ]
  },
  {
   "cell_type": "code",
   "execution_count": null,
   "metadata": {},
   "outputs": [],
   "source": [
    "\"\"\" fig = plt.figure()\n",
    "ax = fig.add_subplot()\n",
    "ax.plot(pixelGridXX,pixelGridYY,'r')\n",
    "ax.plot(pixelGridXX.T,pixelGridYY.T,'b') \"\"\"\n",
    "\n",
    "x_L_lst = []\n",
    "y_L_lst = []\n",
    "for chess_b_i in range(x0_L.shape[0]):\n",
    "    x_L_pts = []\n",
    "    y_L_pts = []\n",
    "    for point in range(x0_L.shape[1]):\n",
    "        #ax.plot(x0_L[chess_b_i,point,:],y0_L[chess_b_i,point,:])\n",
    "        max_pt_x = np.max(x_zhang_L[chess_b_i,point,:,0]*pixel_width)\n",
    "        max_pt_y = np.max(x_zhang_L[chess_b_i,point,:,1]*pixel_width)\n",
    "        min_pt_x = np.min(x_zhang_L[chess_b_i,point,:,0]*pixel_width)\n",
    "        min_pt_y = np.min(x_zhang_L[chess_b_i,point,:,1]*pixel_width)\n",
    "        #ax.plot(np.array(points_outter_L[chess_b_i][point])[:,0],np.array(points_outter_L[chess_b_i][point])[:,1], color = 'y',ls = \"None\", marker = \"*\")\n",
    "        #ax.plot(max_pt_x,max_pt_y, color = 'r',ls = \"None\", marker = \"*\")\n",
    "        #ax.plot(max_pt_x,min_pt_y, color = 'r',ls = \"None\", marker = \"*\")\n",
    "        #ax.plot(min_pt_x,min_pt_y, color = 'r',ls = \"None\", marker = \"*\")\n",
    "        #ax.plot(min_pt_x,max_pt_y, color = 'r',ls = \"None\", marker = \"*\")\n",
    "\n",
    "        pts = np.array([[max_pt_x,max_pt_y],[max_pt_x,min_pt_y],[min_pt_x,min_pt_y],[min_pt_x,max_pt_y]])\n",
    "        cmin_pxl_L = np.zeros((pts.shape[0],pts.shape[1]))\n",
    "        for pts_i,pts_d in enumerate(pts):\n",
    "            cx0max,cx0min,cy0max,cy0min  = spot_center_coord(pts_d[0],pts_d[1],pixelGridX,pixelGridY)\n",
    "\n",
    "            # max and min points in (x,y) coordinates\n",
    "            cmin_pxl_L[pts_i,0] = (cx0min*pixel_width)\n",
    "            cmin_pxl_L[pts_i,1] = (cy0min*pixel_width)\n",
    "\n",
    "        x_L_pts.append(np.arange(cmin_pxl_L[3,0],cmin_pxl_L[0,0]+pixel_width,pixel_width))\n",
    "        y_L_pts.append(np.arange(cmin_pxl_L[1,1],cmin_pxl_L[0,1]+pixel_width,pixel_width))\n",
    "\n",
    "    x_L_lst.append(x_L_pts)\n",
    "    y_L_lst.append(y_L_pts)\n",
    "#ax.set_aspect(1)    \n",
    "\n",
    "#plt.show()"
   ]
  },
  {
   "cell_type": "markdown",
   "metadata": {},
   "source": [
    "## Define the outter mesh points\n",
    "In this part, we use the x_L and y_L and composed them into a mesh grid that respects the grid"
   ]
  },
  {
   "cell_type": "code",
   "execution_count": null,
   "metadata": {},
   "outputs": [],
   "source": [
    "from matplotlib.path import Path\n",
    "\n",
    "xgrid = np.linspace(0,1,subpixel_grid)*pixel_width\n",
    "ygrid = np.linspace(0,1,subpixel_grid)*pixel_width\n",
    "\n",
    "chess_pts = []\n",
    "chess_ptchs = []\n",
    "\n",
    "xx = 5\n",
    "\n",
    "centroid_L_arr = np.zeros((x0_L.shape[0],x0_L.shape[1],2))\n",
    "for chess in range(x0_L.shape[0]):\n",
    "\n",
    "    lst_pts = []\n",
    "    ptchs_pts = []\n",
    "\n",
    "    for point in range(x0_L.shape[1]):\n",
    "\n",
    "        lst = []\n",
    "        ptchs = []\n",
    "\n",
    "        [X_crns,Y_crns] = np.meshgrid(x_L_lst[chess][point],y_L_lst[chess][point])\n",
    "\n",
    "        for i in range(X_crns.flatten().shape[0]):\n",
    "            cx0max = X_crns.flatten()[i]\n",
    "            cy0max = Y_crns.flatten()[i]\n",
    "\n",
    "\n",
    "            x_pixel = cx0max+xgrid\n",
    "            y_pixel = cy0max+ygrid\n",
    "            xx_pixel, yy_pixel = np.meshgrid(x_pixel,y_pixel)\n",
    "\n",
    "            x, y = xx_pixel.flatten(), yy_pixel.flatten()\n",
    "            points = np.vstack((x,y)).T \n",
    "\n",
    "            x_L = x_zhang_L[chess,point,:,:]*pixel_width\n",
    "            x_L = tuple(x_L)\n",
    "            p = Path(x_L) # make a polygon\n",
    "            grid = p.contains_points(points)\n",
    "            xxgrid = np.where(grid == True)\n",
    "\n",
    "            lst.append((xxgrid[0].shape[0]/(subpixel_grid**2))*100)\n",
    "\n",
    "\n",
    "            ptchs.append(Rectangle((cx0max,cy0max), pixel_width,pixel_width))\n",
    "\n",
    "        ####### estimated centroid #####\n",
    "        centroid_L_x = np.sum(np.multiply(X_crns.flatten(),lst))/(np.sum(lst)) + pixel_width/2\n",
    "        centroid_L_y = np.sum(np.multiply(Y_crns.flatten(),lst))/(np.sum(lst)) + pixel_width/2\n",
    "\n",
    "        centroid_L_arr[chess,point,:]  = (centroid_L_x,centroid_L_y)\n",
    "\n",
    "        lst_pts.append(lst)\n",
    "        ptchs_pts.append(ptchs)\n",
    "    \n",
    "    chess_pts.append(lst_pts)\n",
    "    chess_ptchs.append(ptchs_pts)\n",
    "\n",
    " \n",
    "\n"
   ]
  },
  {
   "cell_type": "code",
   "execution_count": null,
   "metadata": {},
   "outputs": [],
   "source": [
    "#fig = plt.figure()\n",
    "#ax = fig.add_subplot()\n",
    "#ax.plot(pixelGridXX,pixelGridYY,'r')\n",
    "#ax.plot(pixelGridXX.T,pixelGridYY.T,'b')\n",
    "\n",
    "centroid_L_org = np.zeros((x0_L.shape[0],x0_L.shape[1],2))\n",
    "\n",
    "for chess_b_i in range(x0_L.shape[0]):\n",
    "    for point in range(x0_L.shape[1]):\n",
    "        #ax.plot(x0_L[chess_b_i,point,:],y0_L[chess_b_i,point,:])\n",
    "        max_pt_x = np.max(x_zhang_L[chess_b_i,point,:,0]*pixel_width)\n",
    "        max_pt_y = np.max(x_zhang_L[chess_b_i,point,:,1]*pixel_width)\n",
    "        min_pt_x = np.min(x_zhang_L[chess_b_i,point,:,0]*pixel_width)\n",
    "        min_pt_y = np.min(x_zhang_L[chess_b_i,point,:,1]*pixel_width)\n",
    "        #ax.plot(X_crns,Y_crns, color = 'r',ls = \"None\", marker = \"*\")\n",
    "\n",
    "        ####### original centroid ######\n",
    "        centroid_L_x_orig = np.sum(x_zhang_L[chess_b_i,point,:,0]*pixel_width)/x_zhang_L[chess_b_i,point,:,0].shape[0]\n",
    "        centroid_L_y_orig = np.sum(x_zhang_L[chess_b_i,point,:,1]*pixel_width)/x_zhang_L[chess_b_i,point,:,0].shape[0]\n",
    "\n",
    "        #ax.plot(centroid_L_x_orig,centroid_L_y_orig,'g*')\n",
    "        centroid_L_org[chess_b_i,point,:]  = (centroid_L_x_orig,centroid_L_y_orig)\n",
    "\n",
    "\n",
    "    #p = PatchCollection(chess_ptchs[chess_b_i][point], cmap=cm.jet, alpha=1)\n",
    "    #pixel_covered_percent_arr = (np.array(chess_pts[chess_b_i][point])).flatten()\n",
    "    # define the color\n",
    "    #p.set_array(pixel_covered_percent_arr)\n",
    "    # set color max and min\n",
    "    #p.set_clim([0, 100])\n",
    "    #ax.add_collection(p)\n",
    "\n",
    "#fig.colorbar(p)\n",
    "        \n",
    "\n",
    "#plt.show()"
   ]
  },
  {
   "cell_type": "code",
   "execution_count": null,
   "metadata": {},
   "outputs": [
    {
     "data": {
      "text/plain": [
       "array([[[ 3.43582836,  0.07039655],\n",
       "        [ 3.43583186,  0.44883364],\n",
       "        [ 3.43582848,  0.82744091],\n",
       "        ...,\n",
       "        [ 1.63504903,  4.1460455 ],\n",
       "        [ 1.63504736,  4.47493495],\n",
       "        [ 1.63504873,  4.80388117]],\n",
       "\n",
       "       [[ 3.4358334 ,  2.13498622],\n",
       "        [ 3.43582842,  2.51338339],\n",
       "        [ 3.43583033,  2.89191   ],\n",
       "        ...,\n",
       "        [ 1.63505131,  5.94031476],\n",
       "        [ 1.63504965,  6.26933096],\n",
       "        [ 1.63504916,  6.59838775]],\n",
       "\n",
       "       [[10.317602  ,  0.07039928],\n",
       "        [10.31759712,  0.44883434],\n",
       "        [10.31760267,  0.82744149],\n",
       "        ...,\n",
       "        [ 7.61642932,  4.14604677],\n",
       "        [ 7.61643111,  4.47493761],\n",
       "        [ 7.61642803,  4.80388427]],\n",
       "\n",
       "       [[10.31760108,  2.13498905],\n",
       "        [10.31760038,  2.51337923],\n",
       "        [10.31759845,  2.89191232],\n",
       "        ...,\n",
       "        [ 7.6164297 ,  5.94031823],\n",
       "        [ 7.61643016,  6.26932838],\n",
       "        [ 7.61643083,  6.59838815]]])"
      ]
     },
     "execution_count": 69,
     "metadata": {},
     "output_type": "execute_result"
    }
   ],
   "source": [
    "centroid_L_arr"
   ]
  },
  {
   "cell_type": "code",
   "execution_count": 70,
   "metadata": {},
   "outputs": [
    {
     "data": {
      "text/plain": [
       "array([[[ 3.4359746 ,  0.07040162],\n",
       "        [ 3.4359746 ,  0.44889772],\n",
       "        [ 3.4359746 ,  0.82739383],\n",
       "        ...,\n",
       "        [ 1.63505745,  4.14606285],\n",
       "        [ 1.63505745,  4.47503376],\n",
       "        [ 1.63505745,  4.80400467]],\n",
       "\n",
       "       [[ 3.4359746 ,  2.13492584],\n",
       "        [ 3.4359746 ,  2.51342201],\n",
       "        [ 3.4359746 ,  2.89191818],\n",
       "        ...,\n",
       "        [ 1.63505745,  5.94044971],\n",
       "        [ 1.63505745,  6.26942015],\n",
       "        [ 1.63505745,  6.59839153]],\n",
       "\n",
       "       [[10.31772232,  0.07040162],\n",
       "        [10.31772232,  0.44889772],\n",
       "        [10.31772232,  0.82739383],\n",
       "        ...,\n",
       "        [ 7.61634636,  4.14606285],\n",
       "        [ 7.61634636,  4.47503376],\n",
       "        [ 7.61634636,  4.80400467]],\n",
       "\n",
       "       [[10.31772232,  2.13492584],\n",
       "        [10.31772232,  2.51342201],\n",
       "        [10.31772232,  2.89191818],\n",
       "        ...,\n",
       "        [ 7.61634636,  5.94044971],\n",
       "        [ 7.61634636,  6.26942015],\n",
       "        [ 7.61634636,  6.59839153]]])"
      ]
     },
     "execution_count": 70,
     "metadata": {},
     "output_type": "execute_result"
    }
   ],
   "source": [
    "centroid_L_org"
   ]
  },
  {
   "cell_type": "code",
   "execution_count": 71,
   "metadata": {},
   "outputs": [
    {
     "data": {
      "text/plain": [
       "0.03255505464653871"
      ]
     },
     "execution_count": 71,
     "metadata": {},
     "output_type": "execute_result"
    }
   ],
   "source": [
    "np.sum(centroid_L_org-centroid_L_arr)"
   ]
  },
  {
   "cell_type": "code",
   "execution_count": 62,
   "metadata": {},
   "outputs": [
    {
     "data": {
      "text/plain": [
       "0.0001065479354880744"
      ]
     },
     "execution_count": 62,
     "metadata": {},
     "output_type": "execute_result"
    }
   ],
   "source": [
    "0.0001065479354880744"
   ]
  }
 ],
 "metadata": {
  "interpreter": {
   "hash": "a2351b8e039bbf9c56c302d7c356075afc88dd574b72d7357dd8301589a7e4a3"
  },
  "kernelspec": {
   "display_name": "Python 3.8.5 64-bit",
   "language": "python",
   "name": "python3"
  },
  "language_info": {
   "codemirror_mode": {
    "name": "ipython",
    "version": 3
   },
   "file_extension": ".py",
   "mimetype": "text/x-python",
   "name": "python",
   "nbconvert_exporter": "python",
   "pygments_lexer": "ipython3",
   "version": "3.8.5"
  },
  "orig_nbformat": 4
 },
 "nbformat": 4,
 "nbformat_minor": 2
}
