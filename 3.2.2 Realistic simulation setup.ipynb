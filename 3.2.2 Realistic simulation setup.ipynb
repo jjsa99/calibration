{
 "cells": [
  {
   "cell_type": "markdown",
   "metadata": {},
   "source": [
    "## 3.2.2 Realistic simulation setup\n",
    "In this script we will change the paradigm. Instead of only using 4 points in the real world to define a circle in the 2D plane, we will use multiple points(~1024)."
   ]
  },
  {
   "cell_type": "markdown",
   "metadata": {},
   "source": [
    "### import  libraries"
   ]
  },
  {
   "cell_type": "code",
   "execution_count": 1,
   "metadata": {},
   "outputs": [],
   "source": [
    "vscode = 1"
   ]
  },
  {
   "cell_type": "code",
   "execution_count": 2,
   "metadata": {},
   "outputs": [],
   "source": [
    "if(vscode == 0):\n",
    "    # for vscode\n",
    "    # for jupyter notebook\n",
    "    from mpl_toolkits.mplot3d import axes3d\n",
    "    import matplotlib.pyplot as plt\n",
    "\n",
    "    %matplotlib notebook\n",
    "elif(vscode == 1):\n",
    "    %matplotlib qt\n",
    "    "
   ]
  },
  {
   "cell_type": "code",
   "execution_count": 3,
   "metadata": {},
   "outputs": [],
   "source": [
    "import matplotlib.pyplot as plt\n",
    "import numpy as np\n",
    "import cv2\n",
    " \n",
    "from typing import Sequence\n",
    "from calib_lib import *\n",
    "from matplotlib.collections import PatchCollection      # pathcoletion for multiple patches\n",
    "import matplotlib.cm as cm                              # for colormaps\n",
    "from matplotlib.patches import Rectangle                # for rectangle representation\n",
    "from matplotlib.patches import Ellipse                  # for ellipse representation   \n",
    "from pixelization_lib import *      \n",
    "\n",
    "DECIMALS = 2            # how many decimal places to use in print\n"
   ]
  },
  {
   "cell_type": "code",
   "execution_count": 4,
   "metadata": {},
   "outputs": [],
   "source": [
    "F = 16                                       # focal length( in mm )\n",
    "gridSize = 1024\n",
    "subpixel_grid = 64\n",
    "image_size = np.array([1936,1216])               # sensor size(in mm)\n",
    "#image_size = np.array([11.345,7.126])\n",
    "pixel_width = 5.86e-3                       # pixel size in mm\n",
    "PX= image_size[0]/2.0                       # principal point x-coordinate\n",
    "PY= image_size[1]/2.0                       # principal point y-coordinate\n",
    "IMAGE_HEIGTH = image_size[1]\n",
    "IMAGE_WIDTH = image_size[0]\n",
    "THETA_X = 0                                 # roll angle\n",
    "THETA_Y = 0                                 # pitch angle\n",
    "THETA_Z = 0                                 # yaw angle\n",
    "\n",
    "# camera Right\n",
    "THETA_X_R = 0                                 # roll angle\n",
    "THETA_Y_R = 0                                 # pitch angle\n",
    "THETA_Z_R= 0                                 # yaw angle\n",
    "# camera Left\n",
    "THETA_X_L = 0                                 # roll angle\n",
    "THETA_Y_L = 0                                 # pitch angle\n",
    "THETA_Z_L= 0                                 # yaw angle\n",
    "\n",
    "C_L = np.array([0,0,0])                     # camera centre\n",
    "C_R = np.array([500,0,0])\n",
    "\n",
    "chess_dimx,chess_dimy = (13,9)\n",
    "chess_sq_size = 44\n",
    "\n",
    "radius = 5"
   ]
  },
  {
   "cell_type": "markdown",
   "metadata": {},
   "source": [
    "## play with the"
   ]
  },
  {
   "cell_type": "code",
   "execution_count": 5,
   "metadata": {},
   "outputs": [
    {
     "name": "stdout",
     "output_type": "stream",
     "text": [
      "(1, 140, 1024, 3)\n",
      "(140, 1024, 4)\n",
      "(1, 140, 1024, 3)\n",
      "World points:  (1, 1, 143360, 3)\n",
      "Image points:  (1, 140, 1024, 2)\n"
     ]
    }
   ],
   "source": [
    "xrange_5 = np.linspace(-6000,6000,1)\n",
    "yrange_5 = np.linspace(-4000,4000,1)\n",
    "zrange_5 = ([20000])\n",
    "\n",
    "\n",
    "world_pts_arr,x_zhang_R,x_zhang_L,P_R,P_L = create_1024_point_chess(xrange_5,yrange_5,zrange_5)"
   ]
  },
  {
   "cell_type": "code",
   "execution_count": 6,
   "metadata": {},
   "outputs": [],
   "source": [
    "def spot_center_coord(cx0,cy0,pixelGridX,pixelGridY):\n",
    "    cx0_max = np.where((cx0 < pixelGridX))\n",
    "    cx0_min = np.where((cx0 > pixelGridX))\n",
    "    #print(cx0_max[0][0])\n",
    "    #print(cx0_min[0][-1])\n",
    "    cy0_max = np.where((cy0 < pixelGridY))\n",
    "    cy0_min = np.where((cy0 > pixelGridY))\n",
    "    #print(cy0_max[0][0])\n",
    "    #print(cy0_min[0][-1])\n",
    "\n",
    "    return cx0_max[0][0],cx0_min[0][-1],cy0_max[0][0],cy0_min[0][-1]"
   ]
  },
  {
   "cell_type": "code",
   "execution_count": 7,
   "metadata": {},
   "outputs": [],
   "source": [
    "def pixel_cover_finder(gridSize,cx0max,cy0max,cx0,cy0,r):\n",
    "    # array for percentage storage\n",
    "    pixel_covered_percent = np.zeros((1,))\n",
    "\n",
    "    xgrid = np.linspace(0,1,gridSize)*pixel_width\n",
    "    ygrid = np.linspace(0,1,gridSize)*pixel_width\n",
    "\n",
    "    x_pixel = cx0max+xgrid\n",
    "    y_pixel = cy0max+ygrid\n",
    "\n",
    "    xx_pixel, yy_pixel = np.meshgrid(x_pixel,y_pixel)\n",
    "\n",
    "    circ_total = np.sqrt((xx_pixel-cx0)**2 + (yy_pixel-cy0)**2) <= r\n",
    "    circ = np.where(circ_total == True)\n",
    "\n",
    "    pixel_covered = circ[0].shape\n",
    "    totalpixel_area = gridSize**2\n",
    "    pixel_covered_percent = (pixel_covered[0]/totalpixel_area)*100\n",
    "    #print(\"pixel cover percentage: \" + str(pixel_covered_percent) + \" %\")\n",
    "\n",
    "    return pixel_covered_percent"
   ]
  },
  {
   "cell_type": "code",
   "execution_count": 8,
   "metadata": {},
   "outputs": [],
   "source": [
    "x0_L = x_zhang_L[:,:,:,0]*pixel_width\n",
    "y0_L = x_zhang_L[:,:,:,1]*pixel_width"
   ]
  },
  {
   "cell_type": "code",
   "execution_count": 9,
   "metadata": {},
   "outputs": [],
   "source": [
    "# Generate pixel grid\n",
    "pixelGridX  = (np.arange(0,image_size[0])) * pixel_width\n",
    "pixelGridY  = (np.arange(0,image_size[1])) * pixel_width\n",
    "pixelGridXX, pixelGridYY = np.meshgrid(pixelGridX,pixelGridY)\n",
    "\n",
    "points_max_min_L =np.zeros((x0_L.shape[0],x0_L.shape[1],x0_L.shape[2],2))\n",
    "\n",
    "for i in range(x0_L.shape[0]):\n",
    "    for j in range(x0_L.shape[1]):\n",
    "        for k in range(x0_L.shape[2]):\n",
    "\n",
    "            cx0max,cx0min,cy0max,cy0min = spot_center_coord(x0_L[i,j,k],y0_L[i,j,k],pixelGridX,pixelGridY)\n",
    "\n",
    "            # max and min points in (x,y) coordinates\n",
    "            cx0min_pxl_L = (cx0min*pixel_width)\n",
    "            cx0max_pxl_L = (cx0max*pixel_width)\n",
    "            cy0min_pxl_L = (cy0min*pixel_width)\n",
    "            cy0max_pxl_L = (cy0max*pixel_width)\n",
    "\n",
    "            #array max and min points\n",
    "            points_max_min_L[i,j,k,:] = (([cx0min_pxl_L,cy0min_pxl_L]))\n"
   ]
  },
  {
   "cell_type": "code",
   "execution_count": 10,
   "metadata": {},
   "outputs": [],
   "source": [
    "fig = plt.figure()\n",
    "ax = fig.add_subplot()\n",
    "ax.plot(pixelGridXX,pixelGridYY,'r')\n",
    "ax.plot(pixelGridXX.T,pixelGridYY.T,'b')\n",
    "for chess_b_i in range(1):\n",
    "    for point in range(1):\n",
    "        ax.plot(x0_L[chess_b_i,point,:],y0_L[chess_b_i,point,:])\n",
    "        max_pt_x = np.max(x_zhang_L[chess_b_i,point,:,0]*pixel_width)\n",
    "        max_pt_y = np.max(x_zhang_L[chess_b_i,point,:,1]*pixel_width)\n",
    "        min_pt_x = np.min(x_zhang_L[chess_b_i,point,:,0]*pixel_width)\n",
    "        min_pt_y = np.min(x_zhang_L[chess_b_i,point,:,1]*pixel_width)\n",
    "        #ax.plot(np.array(points_outter_L[chess_b_i][point])[:,0],np.array(points_outter_L[chess_b_i][point])[:,1], color = 'y',ls = \"None\", marker = \"*\")\n",
    "        ax.plot(max_pt_x,max_pt_y, color = 'r',ls = \"None\", marker = \"*\")\n",
    "        ax.plot(max_pt_x,min_pt_y, color = 'r',ls = \"None\", marker = \"*\")\n",
    "        ax.plot(min_pt_x,min_pt_y, color = 'r',ls = \"None\", marker = \"*\")\n",
    "        ax.plot(min_pt_x,max_pt_y, color = 'r',ls = \"None\", marker = \"*\")\n",
    "\n",
    "        pts = np.array([[max_pt_x,max_pt_y],[max_pt_x,min_pt_y],[min_pt_x,min_pt_y],[min_pt_x,max_pt_y]])\n",
    "        cmin_pxl_L = np.zeros((pts.shape[0],pts.shape[1]))\n",
    "        for pts_i,pts_d in enumerate(pts):\n",
    "            cx0max,cx0min,cy0max,cy0min  = spot_center_coord(pts_d[0],pts_d[1],pixelGridX,pixelGridY)\n",
    "\n",
    "            # max and min points in (x,y) coordinates\n",
    "            cmin_pxl_L[pts_i,0] = (cx0min*pixel_width)\n",
    "            cmin_pxl_L[pts_i,1] = (cy0min*pixel_width)\n",
    "\n",
    "        x_L_pts = np.arange(cmin_pxl_L[3,0],cmin_pxl_L[0,0]+pixel_width,pixel_width)\n",
    "        y_L_pts = np.arange(cmin_pxl_L[1,1],cmin_pxl_L[0,1]+pixel_width,pixel_width)  \n",
    "\n",
    "        #ax.set_xlim(x_L_pts[-1],x_L_pts[-1]+pixel_width)\n",
    "        #ax.set_ylim(y_L_pts[-2],y_L_pts[-2]+pixel_width)\n",
    "\n",
    "        \n",
    "        #ax.set_xlim(max(x0_L[0,point,:]),min(x0_L[0,point,:]))\n",
    "        #ax.set_ylim(max(y0_L[0,point,:]),min(y0_L[0,point,:]))\n",
    "        #ax.set_aspect(1)\n",
    "plt.show()"
   ]
  },
  {
   "cell_type": "markdown",
   "metadata": {},
   "source": [
    "## Define the outter mesh points\n",
    "In this part, we use the x_L and y_L and composed them into a mesh grid that respects the grid"
   ]
  },
  {
   "cell_type": "code",
   "execution_count": 11,
   "metadata": {},
   "outputs": [],
   "source": [
    "pts = np.array([[max_pt_x,max_pt_y],[max_pt_x,min_pt_y],[min_pt_x,min_pt_y],[min_pt_x,max_pt_y]])\n",
    "cmin_pxl_L = np.zeros((pts.shape[0],pts.shape[1]))\n",
    "for pts_i,pts_d in enumerate(pts):\n",
    "    cx0max,cx0min,cy0max,cy0min  = spot_center_coord(pts_d[0],pts_d[1],pixelGridX,pixelGridY)\n",
    "\n",
    "    # max and min points in (x,y) coordinates\n",
    "    cmin_pxl_L[pts_i,0] = (cx0min*pixel_width)\n",
    "    cmin_pxl_L[pts_i,1] = (cy0min*pixel_width)\n",
    "\n",
    "x_L_pts = np.arange(cmin_pxl_L[3,0],cmin_pxl_L[0,0]+pixel_width,pixel_width)\n",
    "y_L_pts = np.arange(cmin_pxl_L[1,1],cmin_pxl_L[0,1]+pixel_width,pixel_width)\n",
    "\n",
    "\n",
    "#define the corners of the spot\n",
    "[X_crns,Y_crns] = np.meshgrid(x_L_pts,y_L_pts)"
   ]
  },
  {
   "cell_type": "code",
   "execution_count": 12,
   "metadata": {},
   "outputs": [],
   "source": [
    "fig = plt.figure()\n",
    "ax = fig.add_subplot()\n",
    "ax.plot(pixelGridXX,pixelGridYY,'r')\n",
    "ax.plot(pixelGridXX.T,pixelGridYY.T,'b')\n",
    "for chess_b_i in range(1):\n",
    "    for point in range(1):\n",
    "        ax.plot(x0_L[chess_b_i,point,:],y0_L[chess_b_i,point,:])\n",
    "        max_pt_x = np.max(x_zhang_L[chess_b_i,point,:,0]*pixel_width)\n",
    "        max_pt_y = np.max(x_zhang_L[chess_b_i,point,:,1]*pixel_width)\n",
    "        min_pt_x = np.min(x_zhang_L[chess_b_i,point,:,0]*pixel_width)\n",
    "        min_pt_y = np.min(x_zhang_L[chess_b_i,point,:,1]*pixel_width)\n",
    "        ax.plot(X_crns,Y_crns, color = 'r',ls = \"None\", marker = \"*\")\n",
    "\n",
    "plt.show()"
   ]
  },
  {
   "cell_type": "code",
   "execution_count": 25,
   "metadata": {},
   "outputs": [],
   "source": [
    "[X_crns,Y_crns] = np.meshgrid(x_L_pts,y_L_pts)"
   ]
  },
  {
   "cell_type": "code",
   "execution_count": 26,
   "metadata": {},
   "outputs": [
    {
     "data": {
      "text/plain": [
       "(3, 1)"
      ]
     },
     "execution_count": 26,
     "metadata": {},
     "output_type": "execute_result"
    }
   ],
   "source": [
    "X_crns.shape"
   ]
  },
  {
   "cell_type": "code",
   "execution_count": 28,
   "metadata": {},
   "outputs": [],
   "source": [
    "from matplotlib.path import Path\n",
    "\n",
    "xgrid = np.linspace(0,1,gridSize)*pixel_width\n",
    "ygrid = np.linspace(0,1,gridSize)*pixel_width\n",
    "\n",
    "lst = []\n",
    "ptchs = []\n",
    "for i in range(X_crns.flatten().shape[0]):\n",
    "\n",
    "    cx0max = X_crns.flatten()[i]\n",
    "    cy0max = Y_crns.flatten()[i]\n",
    "\n",
    "\n",
    "    x_pixel = cx0max+xgrid\n",
    "    y_pixel = cy0max+ygrid\n",
    "    xx_pixel, yy_pixel = np.meshgrid(x_pixel,y_pixel)\n",
    "\n",
    "    x, y = xx_pixel.flatten(), yy_pixel.flatten()\n",
    "    points = np.vstack((x,y)).T \n",
    "\n",
    "    x_L = x_zhang_L[0,0,:,:]*pixel_width\n",
    "    x_L = tuple(x_L)\n",
    "    p = Path(x_L) # make a polygon\n",
    "    grid = p.contains_points(points)\n",
    "\n",
    "    xxgrid = np.where(grid == True)\n",
    "\n",
    "    lst.append((xxgrid[0].shape[0]/(gridSize**2))*100)\n",
    "\n",
    "\n",
    "    ptchs.append(Rectangle((cx0max,cy0max), pixel_width,pixel_width))\n",
    "\n"
   ]
  },
  {
   "cell_type": "code",
   "execution_count": 29,
   "metadata": {},
   "outputs": [],
   "source": [
    "fig = plt.figure()\n",
    "ax = fig.add_subplot()\n",
    "ax.plot(pixelGridXX,pixelGridYY,'r')\n",
    "ax.plot(pixelGridXX.T,pixelGridYY.T,'b')\n",
    "for chess_b_i in range(1):\n",
    "    for point in range(1):\n",
    "        ax.plot(x0_L[chess_b_i,point,:],y0_L[chess_b_i,point,:])\n",
    "        max_pt_x = np.max(x_zhang_L[chess_b_i,point,:,0]*pixel_width)\n",
    "        max_pt_y = np.max(x_zhang_L[chess_b_i,point,:,1]*pixel_width)\n",
    "        min_pt_x = np.min(x_zhang_L[chess_b_i,point,:,0]*pixel_width)\n",
    "        min_pt_y = np.min(x_zhang_L[chess_b_i,point,:,1]*pixel_width)\n",
    "        ax.plot(X_crns,Y_crns, color = 'r',ls = \"None\", marker = \"*\")\n",
    "\n",
    "        ####### original centroid ######\n",
    "        centroid_L_x_orig = np.sum(x_zhang_L[chess_b_i,point,:,0]*pixel_width)/x_zhang_L[chess_b_i,point,:,0].shape[0]\n",
    "        centroid_L_y_orig = np.sum(x_zhang_L[chess_b_i,point,:,1]*pixel_width)/x_zhang_L[chess_b_i,point,:,0].shape[0]\n",
    "\n",
    "        ax.plot(centroid_L_x_orig,centroid_L_y_orig,'g*')\n",
    "p = PatchCollection(ptchs, cmap=cm.jet, alpha=1)\n",
    "pixel_covered_percent_arr = (np.array(lst)).flatten()\n",
    "\n",
    "\n",
    "####### estimated centroid #####\n",
    "centroid_L_x = np.sum(np.multiply(X_crns.flatten(),lst))/(np.sum(lst)) + pixel_width/2\n",
    "centroid_L_y = np.sum(np.multiply(Y_crns.flatten(),lst))/(np.sum(lst)) + pixel_width/2\n",
    "ax.plot(centroid_L_x,centroid_L_y,'y.')\n",
    "\n",
    "\n",
    "\n",
    "\n",
    "\n",
    "# define the color\n",
    "p.set_array(pixel_covered_percent_arr)\n",
    "# set color max and min\n",
    "p.set_clim([0, 100])\n",
    "ax.add_collection(p)\n",
    "\n",
    "fig.colorbar(p)\n",
    "        \n",
    "\n",
    "plt.show()"
   ]
  },
  {
   "cell_type": "code",
   "execution_count": null,
   "metadata": {},
   "outputs": [],
   "source": []
  }
 ],
 "metadata": {
  "interpreter": {
   "hash": "a2351b8e039bbf9c56c302d7c356075afc88dd574b72d7357dd8301589a7e4a3"
  },
  "kernelspec": {
   "display_name": "Python 3.8.5 64-bit",
   "language": "python",
   "name": "python3"
  },
  "language_info": {
   "codemirror_mode": {
    "name": "ipython",
    "version": 3
   },
   "file_extension": ".py",
   "mimetype": "text/x-python",
   "name": "python",
   "nbconvert_exporter": "python",
   "pygments_lexer": "ipython3",
   "version": "3.8.5"
  },
  "orig_nbformat": 4
 },
 "nbformat": 4,
 "nbformat_minor": 2
}
