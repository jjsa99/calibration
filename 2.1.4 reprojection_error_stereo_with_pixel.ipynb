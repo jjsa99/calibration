{
 "cells": [
  {
   "cell_type": "markdown",
   "metadata": {},
   "source": [
    "## 2.1.4 Reprojection error for stereo pair with pixel\n",
    "In this script, the triangulation error is calculated along with the reprojection error for pixelation. \\\n",
    "The spots projected in both cameras are obtained from trying to maximize the covered area in each camera image plane at 20 meters. In this case the results are to have a 13,9 chessboard with 900mm between corners. After that the correspondences are done to 2D and the results are then used to obtain the triangulation errors."
   ]
  },
  {
   "cell_type": "markdown",
   "metadata": {},
   "source": [
    "### import  libraries"
   ]
  },
  {
   "cell_type": "code",
   "execution_count": 11,
   "metadata": {},
   "outputs": [],
   "source": [
    "vscode = 1"
   ]
  },
  {
   "cell_type": "code",
   "execution_count": 12,
   "metadata": {},
   "outputs": [],
   "source": [
    "if(vscode == 1):\n",
    "    # for vscode\n",
    "    %matplotlib qt\n",
    "else:\n",
    "    # for jupyter notebook\n",
    "    from mpl_toolkits.mplot3d import axes3d\n",
    "    import matplotlib.pyplot as plt\n",
    "\n",
    "    %matplotlib notebook\n"
   ]
  },
  {
   "cell_type": "code",
   "execution_count": 13,
   "metadata": {},
   "outputs": [],
   "source": [
    "import matplotlib.pyplot as plt\n",
    "import numpy as np\n",
    "import cv2 \n",
    "from typing import Sequence\n",
    "from calib_lib import *\n",
    "DECIMALS = 2  # how many decimal places to use in print\n"
   ]
  },
  {
   "cell_type": "markdown",
   "metadata": {},
   "source": [
    "## Calculation of the 2D points"
   ]
  },
  {
   "cell_type": "code",
   "execution_count": 14,
   "metadata": {},
   "outputs": [],
   "source": [
    "F = 16                                       # focal length( in mm )\n",
    "image_size = np.array([1936,1216])               # sensor size(in mm)\n",
    "pixel_width = 5.86e-3                       # pixel size in mm\n",
    "PX= image_size[0]/2.0                       # principal point x-coordinate\n",
    "PY= image_size[1]/2.0                       # principal point y-coordinate\n",
    "IMAGE_HEIGTH = image_size[1]\n",
    "IMAGE_WIDTH = image_size[0]\n",
    "THETA_X = 0                                 # roll angle\n",
    "THETA_Y = 0                                 # pitch angle\n",
    "THETA_Z = 0                                 # yaw angle\n",
    "\n",
    "\n",
    "# camera Right\n",
    "THETA_X_R = 0                                 # roll angle\n",
    "THETA_Y_R = 0                                 # pitch angle\n",
    "THETA_Z_R= 0                                 # yaw angle\n",
    "# camera Left\n",
    "THETA_X_L = 0                                 # roll angle\n",
    "THETA_Y_L = 0                                 # pitch angle\n",
    "THETA_Z_L= 0                                 # yaw angle\n",
    "\n",
    "C_L = np.array([0,0,0])                     # camera centre\n",
    "\n",
    "C_R = np.array([500,0,0])\n",
    "\n",
    "chess_dimx,chess_dimy = (13,9)\n",
    "chess_sq_size = 900"
   ]
  },
  {
   "cell_type": "code",
   "execution_count": 15,
   "metadata": {},
   "outputs": [],
   "source": [
    "world_pts = create_chessboard(chess_dimx,chess_dimy,chess_sq_size)\n",
    "X = get_chessboard_rot_trans(world_pts,rx = THETA_X,ry = THETA_Y,rz = THETA_Z,tx = 250,ty = 10,tz  = 20000)"
   ]
  },
  {
   "cell_type": "code",
   "execution_count": 16,
   "metadata": {},
   "outputs": [],
   "source": [
    "x_L_list, X_arr_L, E_L, K_L,P_L = get_image_points(X,PX,PY,thetax=THETA_X_L,thetay = THETA_Y_L,thetaz = THETA_Z_L,trans_x= -C_L[0],trans_y= -C_L[1],trans_z= -C_L[2],F = F,mx = (1/pixel_width),my =(1/pixel_width))\n",
    "x_R_list, X_arr_R, E_R, K_R,P_R = get_image_points(X,PX,PY,thetax = THETA_X_R,thetay = THETA_Y_R, thetaz = THETA_Z_R,trans_x= -C_R[0],trans_y= -C_R[1],trans_z= -C_R[2],F = F,mx = (1/pixel_width),my =(1/pixel_width))"
   ]
  },
  {
   "cell_type": "code",
   "execution_count": 17,
   "metadata": {},
   "outputs": [],
   "source": [
    "fig, (ax1,ax2) = plt.subplots(2,1)\n",
    "ax1.plot(x_L_list[:,0],x_L_list[:,1], color = 'r',ls = \"None\", marker = \".\")\n",
    "ax2.plot(x_R_list[:,0],x_R_list[:,1], color = 'r',ls = \"None\", marker = \".\")\n",
    "ax1.set_aspect(1)\n",
    "ax2.set_aspect(1)\n",
    "ax1.grid()\n",
    "ax2.grid()\n",
    "plt.show()"
   ]
  },
  {
   "cell_type": "markdown",
   "metadata": {},
   "source": [
    "## Cameras parameters"
   ]
  },
  {
   "cell_type": "code",
   "execution_count": 18,
   "metadata": {},
   "outputs": [],
   "source": [
    "F = 16                                       # focal length( in mm )\n",
    "image_size = np.array([1936,1216])               # sensor size(in mm)\n",
    "pixel_width = 5.86e-3                       # pixel size in mm\n",
    "PX= image_size[0]/2.0                       # principal point x-coordinate\n",
    "PY= image_size[1]/2.0                       # principal point y-coordinate\n",
    "IMAGE_HEIGTH = image_size[1]\n",
    "IMAGE_WIDTH = image_size[0]\n",
    "THETA_X = 0                                 # roll angle\n",
    "THETA_Y = 0                                 # pitch angle\n",
    "THETA_Z = 0                                 # yaw angle\n",
    "\n",
    "\n",
    "# camera Right\n",
    "THETA_X_R = 0                                 # roll angle\n",
    "THETA_Y_R = 0                                 # pitch angle\n",
    "THETA_Z_R= 0                                 # yaw angle\n",
    "# camera Left\n",
    "THETA_X_L = 0                                 # roll angle\n",
    "THETA_Y_L = 0                                 # pitch angle\n",
    "THETA_Z_L= 0                                 # yaw angle\n",
    "\n",
    "C_L = np.array([0,0,0])                     # camera centre\n",
    "\n",
    "C_R = np.array([500,0,0])\n",
    "\n",
    "chess_dimx,chess_dimy = (13,9)\n",
    "chess_sq_size = 44\n"
   ]
  },
  {
   "cell_type": "markdown",
   "metadata": {},
   "source": [
    "## Load variables \n",
    "Load the variables from the txt files. This files contain the Projection matrix, rotation and translation from the previous scripts calibration "
   ]
  },
  {
   "cell_type": "code",
   "execution_count": 19,
   "metadata": {},
   "outputs": [],
   "source": [
    "P_L_original = [np.array([[2.73037543e+03, 0.00000000e+00, 9.68000000e+02, 0.00000000e+00],\n",
    "                        [0.00000000e+00, 2.73037543e+03, 6.08000000e+02, 0.00000000e+00],\n",
    "                        [0.00000000e+00, 0.00000000e+00, 1.00000000e+00, 0.00000000e+00]]),\n",
    "                np.array([[2.73037543e+03, 0.00000000e+00, 9.68000000e+02, 0.00000000e+00],\n",
    "                        [0.00000000e+00, 2.73037543e+03, 6.08000000e+02, 0.00000000e+00],\n",
    "                        [0.00000000e+00, 0.00000000e+00, 1.00000000e+00, 0.00000000e+00]]),\n",
    "                np.array([[2.73037543e+03, 0.00000000e+00, 9.68000000e+02, 0.00000000e+00],\n",
    "                        [0.00000000e+00, 2.73037543e+03, 6.08000000e+02, 0.00000000e+00],\n",
    "                        [0.00000000e+00, 0.00000000e+00, 1.00000000e+00, 0.00000000e+00]]),\n",
    "                np.array([[2.73037543e+03, 0.00000000e+00, 9.68000000e+02, 0.00000000e+00],\n",
    "                        [0.00000000e+00, 2.73037543e+03, 6.08000000e+02, 0.00000000e+00],\n",
    "                        [0.00000000e+00, 0.00000000e+00, 1.00000000e+00, 0.00000000e+00]]),\n",
    "                np.array([[2.73037543e+03, 0.00000000e+00, 9.68000000e+02, 0.00000000e+00],\n",
    "                        [0.00000000e+00, 2.73037543e+03, 6.08000000e+02, 0.00000000e+00],\n",
    "                        [0.00000000e+00, 0.00000000e+00, 1.00000000e+00, 0.00000000e+00]]),\n",
    "                np.array([[2.73037543e+03, 0.00000000e+00, 9.68000000e+02, 0.00000000e+00],\n",
    "                        [0.00000000e+00, 2.73037543e+03, 6.08000000e+02, 0.00000000e+00],\n",
    "                        [0.00000000e+00, 0.00000000e+00, 1.00000000e+00, 0.00000000e+00]])]"
   ]
  },
  {
   "cell_type": "code",
   "execution_count": 20,
   "metadata": {},
   "outputs": [],
   "source": [
    "P_R_original =  [np.array([[ 2.73037543e+03,  0.00000000e+00,9.68000000e+02,-1.36518771e+06],\n",
    "                        [ 0.00000000e+00,  2.73037543e+03,  6.08000000e+02,0.00000000e+00],\n",
    "                        [ 0.00000000e+00,  0.00000000e+00,  1.00000000e+00,0.00000000e+00]]),\n",
    "                np.array([[ 2.73037543e+03,  0.00000000e+00,  9.68000000e+02,-1.36518771e+06],\n",
    "                        [ 0.00000000e+00,  2.73037543e+03,  6.08000000e+02,0.00000000e+00],\n",
    "                        [ 0.00000000e+00,  0.00000000e+00,  1.00000000e+00,0.00000000e+00]]),\n",
    "                np.array([[ 2.73037543e+03,  0.00000000e+00,  9.68000000e+02,-1.36518771e+06],\n",
    "                        [ 0.00000000e+00,  2.73037543e+03,  6.08000000e+02,0.00000000e+00],\n",
    "                        [ 0.00000000e+00,  0.00000000e+00,  1.00000000e+00,0.00000000e+00]]),\n",
    "                np.array([[ 2.73037543e+03,  0.00000000e+00,  9.68000000e+02,-1.36518771e+06],\n",
    "                        [ 0.00000000e+00,  2.73037543e+03,  6.08000000e+02,0.00000000e+00],\n",
    "                        [ 0.00000000e+00,  0.00000000e+00,  1.00000000e+00,0.00000000e+00]]),\n",
    "                np.array([[ 2.73037543e+03,  0.00000000e+00,  9.68000000e+02,-1.36518771e+06],\n",
    "                        [ 0.00000000e+00,  2.73037543e+03,  6.08000000e+02,0.00000000e+00],\n",
    "                        [ 0.00000000e+00,  0.00000000e+00,  1.00000000e+00,0.00000000e+00]]),\n",
    "                np.array([[ 2.73037543e+03,  0.00000000e+00,  9.68000000e+02,-1.36518771e+06],\n",
    "                        [ 0.00000000e+00,  2.73037543e+03,  6.08000000e+02,0.00000000e+00],\n",
    "                        [ 0.00000000e+00,  0.00000000e+00,  1.00000000e+00,0.00000000e+00]])]"
   ]
  },
  {
   "cell_type": "code",
   "execution_count": 21,
   "metadata": {},
   "outputs": [],
   "source": [
    "ret_S_2 = [[2.885396208361745e-05],\n",
    "        [3.1122677130425804e-05],\n",
    "        [3.0069928774483127e-05],\n",
    "        [3.0315527200817805e-05],\n",
    "        [3.034681633517833e-05],\n",
    "        [3.0365394345440123e-05]]\n",
    "\n",
    "ret_S_4 = [[1.3522134098770801e-05],\n",
    "        [3.795757811079463e-05],\n",
    "        [3.248984789037354e-05],\n",
    "        [3.2103482895988313e-05],\n",
    "        [3.0276338782029712e-05],\n",
    "        [3.1959541350261666e-05]]\n",
    "\n",
    "ret_S_20 = [[0.00020328300023273786],\n",
    "        [0.0006808713896280401],\n",
    "        [0.00044896780785053705],\n",
    "        [0.0007246078157946923],\n",
    "        [0.0006292529140385767],\n",
    "        [0.0013657968901109967]]"
   ]
  },
  {
   "cell_type": "code",
   "execution_count": 22,
   "metadata": {},
   "outputs": [],
   "source": [
    "new_mtxL_list_2 =  [[np.array([[2.73037611e+03, 0.00000000e+00, 9.67999784e+02],\n",
    "                        [0.00000000e+00, 2.73037607e+03, 6.08000191e+02],\n",
    "                        [0.00000000e+00, 0.00000000e+00, 1.00000000e+00]])],\n",
    "                [np.array([[2.73037612e+03, 0.00000000e+00, 9.67999692e+02],\n",
    "                        [0.00000000e+00, 2.73037609e+03, 6.08000207e+02],\n",
    "                        [0.00000000e+00, 0.00000000e+00, 1.00000000e+00]])],\n",
    "                [np.array([[2.73037564e+03, 0.00000000e+00, 9.67999932e+02],\n",
    "                        [0.00000000e+00, 2.73037563e+03, 6.08000089e+02],\n",
    "                        [0.00000000e+00, 0.00000000e+00, 1.00000000e+00]])],\n",
    "                [np.array([[2.73037570e+03, 0.00000000e+00, 9.67999917e+02],\n",
    "                        [0.00000000e+00, 2.73037571e+03, 6.08000102e+02],\n",
    "                        [0.00000000e+00, 0.00000000e+00, 1.00000000e+00]])],\n",
    "                [np.array([[2.73037575e+03, 0.00000000e+00, 9.67999861e+02],\n",
    "                        [0.00000000e+00, 2.73037578e+03, 6.08000009e+02],\n",
    "                        [0.00000000e+00, 0.00000000e+00, 1.00000000e+00]])],\n",
    "                [np.array([[2.73037564e+03, 0.00000000e+00, 9.67999954e+02],\n",
    "                        [0.00000000e+00, 2.73037563e+03, 6.08000078e+02],\n",
    "                        [0.00000000e+00, 0.00000000e+00, 1.00000000e+00]])]]    \n",
    "\n",
    "new_mtxL_list_4  = [[np.array([[2.73037624e+03, 0.00000000e+00, 9.68001027e+02],\n",
    "                        [0.00000000e+00, 2.73037578e+03, 6.07999707e+02],\n",
    "                        [0.00000000e+00, 0.00000000e+00, 1.00000000e+00]])],\n",
    "                [np.array([[2.73037337e+03, 0.00000000e+00, 9.68000608e+02],\n",
    "                        [0.00000000e+00, 2.73037320e+03, 6.08000451e+02],\n",
    "                        [0.00000000e+00, 0.00000000e+00, 1.00000000e+00]])],\n",
    "                [np.array([[2.73037419e+03, 0.00000000e+00, 9.68000157e+02],\n",
    "                        [0.00000000e+00, 2.73037459e+03, 6.08000300e+02],\n",
    "                        [0.00000000e+00, 0.00000000e+00, 1.00000000e+00]])],\n",
    "                [np.array([[2.73037459e+03, 0.00000000e+00, 9.68000904e+02],\n",
    "                        [0.00000000e+00, 2.73037445e+03, 6.07999979e+02],\n",
    "                        [0.00000000e+00, 0.00000000e+00, 1.00000000e+00]])],\n",
    "                [np.array([[2.73037349e+03, 0.00000000e+00, 9.68000136e+02],\n",
    "                        [0.00000000e+00, 2.73037357e+03, 6.07999994e+02],\n",
    "                        [0.00000000e+00, 0.00000000e+00, 1.00000000e+00]])],\n",
    "                [np.array([[2.73037469e+03, 0.00000000e+00, 9.68000703e+02],\n",
    "                        [0.00000000e+00, 2.73037495e+03, 6.08000149e+02],\n",
    "                        [0.00000000e+00, 0.00000000e+00, 1.00000000e+00]])]]\n",
    "\n",
    "new_mtxL_list_20 =  [[np.array([[2.73045408e+03, 0.00000000e+00, 9.67495499e+02],\n",
    "                        [0.00000000e+00, 2.73039899e+03, 6.07498630e+02],\n",
    "                        [0.00000000e+00, 0.00000000e+00, 1.00000000e+00]])],\n",
    "                [np.array([[2.73043619e+03, 0.00000000e+00, 9.67500381e+02],\n",
    "                        [0.00000000e+00, 2.73039531e+03, 6.07500822e+02],\n",
    "                        [0.00000000e+00, 0.00000000e+00, 1.00000000e+00]])],\n",
    "                [np.array([[2.73040905e+03, 0.00000000e+00, 9.67500377e+02],\n",
    "                        [0.00000000e+00, 2.73039652e+03, 6.07500894e+02],\n",
    "                        [0.00000000e+00, 0.00000000e+00, 1.00000000e+00]])],\n",
    "                [np.array([[2.73039273e+03, 0.00000000e+00, 9.67500360e+02],\n",
    "                        [0.00000000e+00, 2.73039194e+03, 6.07500807e+02],\n",
    "                        [0.00000000e+00, 0.00000000e+00, 1.00000000e+00]])],\n",
    "                [np.array([[2.73035666e+03, 0.00000000e+00, 9.67500043e+02],\n",
    "                        [0.00000000e+00, 2.73033928e+03, 6.07500106e+02],\n",
    "                        [0.00000000e+00, 0.00000000e+00, 1.00000000e+00]])],\n",
    "                [np.array([[2.73043180e+03, 0.00000000e+00, 9.67500042e+02],\n",
    "                        [0.00000000e+00, 2.73045958e+03, 6.07500106e+02],\n",
    "                        [0.00000000e+00, 0.00000000e+00, 1.00000000e+00]])]] \n",
    "      "
   ]
  },
  {
   "cell_type": "code",
   "execution_count": 23,
   "metadata": {},
   "outputs": [],
   "source": [
    "ret_L_list_2 =  [[3.4996092633459004e-05],\n",
    "                [3.623369992098451e-05],\n",
    "                [3.552026472582563e-05],\n",
    "                [3.5556364620605494e-05],\n",
    "                [3.6050633553408956e-05],\n",
    "                [3.593355431277171e-05]]\n",
    "\n",
    "ret_L_list_4 =  [[1.508883019861691e-05],\n",
    "                [3.2268807239625266e-05],\n",
    "                [3.156177774916814e-05],\n",
    "                [3.0341850410453394e-05],\n",
    "                [3.066852996295611e-05],\n",
    "                [3.159517775184828e-05]]\n",
    "\n",
    "ret_L_list_20 = [[1.951715758186558e-05],\n",
    "                [5.0506247767732486e-05],\n",
    "                [4.850253058323187e-05],\n",
    "                [4.842235206036866e-05],\n",
    "                [4.906815544649833e-05],\n",
    "                [4.993255460070679e-05]]"
   ]
  },
  {
   "cell_type": "code",
   "execution_count": 24,
   "metadata": {},
   "outputs": [],
   "source": [
    "new_mtxR_list_2 =  [[np.array([[2.73037550e+03, 0.00000000e+00, 9.68000007e+02],\n",
    "                            [0.00000000e+00, 2.73037550e+03, 6.08000187e+02],\n",
    "                            [0.00000000e+00, 0.00000000e+00, 1.00000000e+00]])],\n",
    "                    [np.array([[2.73037575e+03, 0.00000000e+00, 9.68000089e+02],\n",
    "                            [0.00000000e+00, 2.73037570e+03, 6.08000202e+02],\n",
    "                            [0.00000000e+00, 0.00000000e+00, 1.00000000e+00]])],\n",
    "                    [np.array([[2.73037541e+03, 0.00000000e+00, 9.67999967e+02],\n",
    "                            [0.00000000e+00, 2.73037542e+03, 6.08000066e+02],\n",
    "                            [0.00000000e+00, 0.00000000e+00, 1.00000000e+00]])],\n",
    "                    [np.array([[2.73037560e+03, 0.00000000e+00, 9.67999976e+02],\n",
    "                            [0.00000000e+00, 2.73037560e+03, 6.08000122e+02],\n",
    "                            [0.00000000e+00, 0.00000000e+00, 1.00000000e+00]])],\n",
    "                    [np.array([[2.73037547e+03, 0.00000000e+00, 9.68000005e+02],\n",
    "                            [0.00000000e+00, 2.73037546e+03, 6.08000034e+02],\n",
    "                            [0.00000000e+00, 0.00000000e+00, 1.00000000e+00]])],\n",
    "                    [np.array([[2.73037533e+03, 0.00000000e+00, 9.67999955e+02],\n",
    "                            [0.00000000e+00, 2.73037535e+03, 6.08000079e+02],\n",
    "                            [0.00000000e+00, 0.00000000e+00, 1.00000000e+00]])]]\n",
    "\n",
    "new_mtxR_list_4 =   [[np.array([[2.73037588e+03, 0.00000000e+00, 9.68000103e+02],\n",
    "                        [0.00000000e+00, 2.73037558e+03, 6.08000145e+02],\n",
    "                        [0.00000000e+00, 0.00000000e+00, 1.00000000e+00]])],\n",
    "                    [np.array([[2.73037143e+03, 0.00000000e+00, 9.67998656e+02],\n",
    "                        [0.00000000e+00, 2.73037157e+03, 6.08000437e+02],\n",
    "                        [0.00000000e+00, 0.00000000e+00, 1.00000000e+00]])],\n",
    "                    [np.array([[2.73037315e+03, 0.00000000e+00, 9.67999247e+02],\n",
    "                        [0.00000000e+00, 2.73037329e+03, 6.08000302e+02],\n",
    "                        [0.00000000e+00, 0.00000000e+00, 1.00000000e+00]])],\n",
    "                    [np.array([[2.73037484e+03, 0.00000000e+00, 9.67999309e+02],\n",
    "                        [0.00000000e+00, 2.73037490e+03, 6.07999979e+02],\n",
    "                        [0.00000000e+00, 0.00000000e+00, 1.00000000e+00]])],\n",
    "                    [np.array([[2.73037351e+03, 0.00000000e+00, 9.67999620e+02],\n",
    "                        [0.00000000e+00, 2.73037361e+03, 6.07999992e+02],\n",
    "                        [0.00000000e+00, 0.00000000e+00, 1.00000000e+00]])],\n",
    "                    [np.array([[2.73037465e+03, 0.00000000e+00, 9.67999535e+02],\n",
    "                        [0.00000000e+00, 2.73037469e+03, 6.08000147e+02],\n",
    "                        [0.00000000e+00, 0.00000000e+00, 1.00000000e+00]])]]\n",
    "\n",
    "                        \n",
    "new_mtxR_list_20 =  [[np.array([[2.73037846e+03, 0.00000000e+00, 9.67490267e+02],\n",
    "                            [0.00000000e+00, 2.73030330e+03, 6.07494101e+02],\n",
    "                            [0.00000000e+00, 0.00000000e+00, 1.00000000e+00]])],\n",
    "                    [np.array([[2.73035063e+03, 0.00000000e+00, 9.67500980e+02],\n",
    "                            [0.00000000e+00, 2.73030938e+03, 6.07501476e+02],\n",
    "                            [0.00000000e+00, 0.00000000e+00, 1.00000000e+00]])],\n",
    "                    [np.array([[2.73040400e+03, 0.00000000e+00, 9.67500369e+02],\n",
    "                            [0.00000000e+00, 2.73039576e+03, 6.07500898e+02],\n",
    "                            [0.00000000e+00, 0.00000000e+00, 1.00000000e+00]])],\n",
    "                    [np.array([[2.73038418e+03, 0.00000000e+00, 9.67500308e+02],\n",
    "                            [0.00000000e+00, 2.73037306e+03, 6.07500810e+02],\n",
    "                            [0.00000000e+00, 0.00000000e+00, 1.00000000e+00]])],\n",
    "                    [np.array([[2.73035103e+03, 0.00000000e+00, 9.67499998e+02],\n",
    "                            [0.00000000e+00, 2.73032557e+03, 6.07500106e+02],\n",
    "                            [0.00000000e+00, 0.00000000e+00, 1.00000000e+00]])],\n",
    "                    [np.array([[2.73037361e+03, 0.00000000e+00, 9.67500036e+02],\n",
    "                            [0.00000000e+00, 2.73037199e+03, 6.07500107e+02],\n",
    "                            [0.00000000e+00, 0.00000000e+00, 1.00000000e+00]])]]                     "
   ]
  },
  {
   "cell_type": "code",
   "execution_count": 25,
   "metadata": {},
   "outputs": [],
   "source": [
    "ret_R_list_2 =  [[1.8575671933301118e-05],\n",
    "                [2.3470705656091317e-05],\n",
    "                [2.2350191687751807e-05],\n",
    "                [2.2638359332849753e-05],\n",
    "                [2.225392185100938e-05],\n",
    "                [2.20120913701173e-05]]\n",
    "                \n",
    "ret_R_list_4 =  [[7.136701242614659e-06],\n",
    "                [2.9541424638634528e-05],\n",
    "                [2.752197415116668e-05],\n",
    "                [2.6679881444851248e-05],\n",
    "                [2.636152118810909e-05],\n",
    "                [2.7208976609424594e-05]]\n",
    "\n",
    "ret_R_list_20 = [[2.069786902101289e-05],\n",
    "                [4.872879040616821e-05],\n",
    "                [4.8406372289415256e-05],\n",
    "                [4.809540654739138e-05],\n",
    "                [4.856272560437462e-05],\n",
    "                [4.8184971577387985e-05]]"
   ]
  },
  {
   "cell_type": "code",
   "execution_count": 26,
   "metadata": {},
   "outputs": [],
   "source": [
    "Rot_list_2 =  [[np.array([[ 1.00000000e+00, -9.07619189e-09, -5.17027978e-08],\n",
    "                        [ 9.07619111e-09,  1.00000000e+00, -1.55229045e-08],\n",
    "                        [ 5.17027980e-08,  1.55229041e-08,  1.00000000e+00]])],\n",
    "                [np.array([[ 1.00000000e+00, -4.42457236e-09, -8.45700029e-08],\n",
    "                        [ 4.42457249e-09,  1.00000000e+00,  1.59749693e-09],\n",
    "                        [ 8.45700029e-08, -1.59749730e-09,  1.00000000e+00]])],\n",
    "                [np.array([[ 1.00000000e+00, -2.69092868e-09, -5.74146324e-09],\n",
    "                        [ 2.69092868e-09,  1.00000000e+00,  6.31049766e-09],\n",
    "                        [ 5.74146324e-09, -6.31049766e-09,  1.00000000e+00]])],\n",
    "                [np.array([[ 1.00000000e+00, -3.07349971e-09, -4.65532944e-09],\n",
    "                        [ 3.07349971e-09,  1.00000000e+00, -5.30447670e-09],\n",
    "                        [ 4.65532944e-09,  5.30447670e-09,  1.00000000e+00]])],\n",
    "                [np.array([[ 1.00000000e+00, -7.61164135e-10, -2.73686697e-08],\n",
    "                        [ 7.61163934e-10,  1.00000000e+00, -6.58097357e-09],\n",
    "                        [ 2.73686697e-08,  6.58097354e-09,  1.00000000e+00]])],\n",
    "                [np.array([[ 1.00000000e+00, -2.66826786e-09,  7.42286800e-10],\n",
    "                        [ 2.66826786e-09,  1.00000000e+00, -1.30450348e-10],\n",
    "                        [-7.42286800e-10,  1.30450348e-10,  1.00000000e+00]])]]\n",
    "                        \n",
    "Rot_list_4 =   [[np.array([[ 1.00000000e+00, -5.11532324e-08,  1.78495223e-07],\n",
    "                        [ 5.11532498e-08,  1.00000000e+00, -9.76686250e-08],\n",
    "                        [-1.78495218e-07,  9.76686342e-08,  1.00000000e+00]])],\n",
    "                [np.array([[ 1.00000000e+00, -1.94833244e-08,  2.09163292e-07],\n",
    "                        [ 1.94833229e-08,  1.00000000e+00,  7.16748284e-09],\n",
    "                        [-2.09163292e-07, -7.16747877e-09,  1.00000000e+00]])],\n",
    "                [np.array([[ 1.00000000e+00, -7.43322522e-09,  1.26899915e-07],\n",
    "                        [ 7.43322578e-09,  1.00000000e+00, -4.40048789e-09],\n",
    "                        [-1.26899915e-07,  4.40048883e-09,  1.00000000e+00]])],\n",
    "                [np.array([[ 1.00000000e+00, -1.52485543e-08,  3.20232674e-07],\n",
    "                        [ 1.52485527e-08,  1.00000000e+00,  5.17086742e-09],\n",
    "                        [-3.20232674e-07, -5.17086254e-09,  1.00000000e+00]])],\n",
    "                [np.array([[ 1.00000000e+00, -1.80590614e-09,  8.44481313e-08],\n",
    "                        [ 1.80590618e-09,  1.00000000e+00, -5.29135184e-10],\n",
    "                        [-8.44481313e-08,  5.29135336e-10,  1.00000000e+00]])],\n",
    "                [np.array([[ 1.00000000e+00, -8.83760729e-09,  1.93979868e-07],\n",
    "                        [ 8.83760700e-09,  1.00000000e+00,  1.46897154e-09],\n",
    "                        [-1.93979868e-07, -1.46896983e-09,  1.00000000e+00]])]]\n",
    "\n",
    "\n",
    "Rot_list_20 =    [[np.array([[ 1.00000000e+00,  2.87769797e-06, -1.03314845e-06],\n",
    "                        [-2.87769922e-06,  1.00000000e+00, -1.21045109e-06],\n",
    "                        [ 1.03314497e-06,  1.21045407e-06,  1.00000000e+00]])],\n",
    "                [np.array([[ 1.00000000e+00, -1.95866087e-07,  3.90518195e-07],\n",
    "                        [ 1.95865978e-07,  1.00000000e+00,  2.79210324e-07],\n",
    "                        [-3.90518250e-07, -2.79210247e-07,  1.00000000e+00]])],\n",
    "                [np.array([[ 1.00000000e+00, -9.50822799e-08, -3.57058168e-07],\n",
    "                        [ 9.50823413e-08,  1.00000000e+00,  1.71718205e-07],\n",
    "                        [ 3.57058151e-07, -1.71718239e-07,  1.00000000e+00]])],\n",
    "                [np.array([[ 1.00000000e+00, -2.14832060e-07,  1.31639743e-07],\n",
    "                        [ 2.14832024e-07,  1.00000000e+00,  2.77361702e-07],\n",
    "                        [-1.31639802e-07, -2.77361674e-07,  1.00000000e+00]])],\n",
    "                [np.array([[ 1.00000000e+00, -2.08877550e-07,  2.37195725e-07],\n",
    "                        [ 2.08877481e-07,  1.00000000e+00,  2.92422473e-07],\n",
    "                        [-2.37195786e-07, -2.92422424e-07,  1.00000000e+00]])],\n",
    "                [np.array([[ 1.00000000e+00, -2.05831414e-07,  1.63926040e-06],\n",
    "                        [ 2.05831318e-07,  1.00000000e+00,  5.82863793e-08],\n",
    "                        [-1.63926041e-06, -5.82860419e-08,  1.00000000e+00]])]]                "
   ]
  },
  {
   "cell_type": "code",
   "execution_count": 27,
   "metadata": {},
   "outputs": [],
   "source": [
    "Trns_list_2 =   [[np.array([[-5.00000062e+02],\n",
    "                        [ 3.10418332e-05],\n",
    "                        [-4.70683645e-04]])],\n",
    "                [np.array([[-5.00000116e+02],\n",
    "                        [-4.55940178e-07],\n",
    "                        [-3.39060517e-04]])],\n",
    "                [np.array([[-5.00000011e+02],\n",
    "                        [ 3.90475149e-06],\n",
    "                        [-1.74467971e-04]])],\n",
    "                [np.array([[-5.00000036e+02],\n",
    "                        [-5.14733392e-06],\n",
    "                        [-9.44622719e-05]])],\n",
    "                [np.array([[-5.00000052e+02],\n",
    "                        [-4.89931842e-06],\n",
    "                        [-2.52972077e-04]])],\n",
    "                [np.array([[-5.00000001e+02],\n",
    "                        [-1.13641454e-06],\n",
    "                        [-2.21695140e-04]])]]\n",
    "Trns_list_4 = [[np.array([[-4.99999388e+02],\n",
    "                        [-2.42333518e-04],\n",
    "                        [-2.13403577e-04]])],\n",
    "                [np.array([[-4.99997982e+02],\n",
    "                        [-1.32044724e-05],\n",
    "                        [-2.17576224e-03]])],\n",
    "                [np.array([[-4.99999207e+02],\n",
    "                        [ 1.05416911e-05],\n",
    "                        [-1.76016915e-03]])],\n",
    "                [np.array([[-4.99998930e+02],\n",
    "                        [-2.50984043e-05],\n",
    "                        [ 7.43205631e-04]])],\n",
    "                [np.array([[-4.99999575e+02],\n",
    "                        [ 4.04441305e-06],\n",
    "                        [ 3.31081748e-05]])],\n",
    "                [np.array([[-4.99999098e+02],\n",
    "                        [-7.32782146e-06],\n",
    "                        [-2.54161604e-04]])]]\n",
    "\n",
    "Trns_list_20 =  [[np.array([[-4.99892343e+02],\n",
    "                        [ 4.97846893e-02],\n",
    "                        [ 5.79129624e-02]])],\n",
    "                [np.array([[-5.00006514e+02],\n",
    "                        [-1.07589861e-02],\n",
    "                        [-1.35388780e-01]])],\n",
    "                [np.array([[-4.99991800e+02],\n",
    "                        [-3.59526219e-03],\n",
    "                        [ 9.92041142e-03]])],\n",
    "                [np.array([[-5.00001278e+02],\n",
    "                        [-5.68381032e-03],\n",
    "                        [-1.02292016e-01]])],\n",
    "                [np.array([[-5.00001959e+02],\n",
    "                        [-5.95747518e-03],\n",
    "                        [-6.26870936e-02]])],\n",
    "                [np.array([[-5.00033235e+02],\n",
    "                        [-1.18350729e-03],\n",
    "                        [-5.43134722e-01]])]]\n",
    "\n"
   ]
  },
  {
   "cell_type": "code",
   "execution_count": 28,
   "metadata": {},
   "outputs": [
    {
     "data": {
      "text/plain": [
       "6"
      ]
     },
     "execution_count": 28,
     "metadata": {},
     "output_type": "execute_result"
    }
   ],
   "source": [
    "P_L_2_list = []\n",
    "P_R_2_list = []\n",
    "\n",
    "for i in range(len(ret_R_list_2)):\n",
    "    R1,R2,P_L_est,P_R_est,Q,roi_left,roi_right = cv2.stereoRectify(new_mtxL_list_2[i][0], ret_L_list_2[i][0], new_mtxR_list_2[i][0], ret_R_list_2[i][0], (image_size[0],image_size[1]), Rot_list_2[i][0], Trns_list_2[i][0],flags = cv2.CALIB_ZERO_DISPARITY)\n",
    "    P_L_2_list.append(P_L_est)\n",
    "    P_R_2_list.append(P_R_est)\n",
    "len(P_R_2_list)"
   ]
  },
  {
   "cell_type": "code",
   "execution_count": 29,
   "metadata": {},
   "outputs": [],
   "source": [
    "P_L_4_list = []\n",
    "P_R_4_list = []\n",
    "\n",
    "for i in range(len(ret_R_list_4)):\n",
    "    R1,R2,P_L_est,P_R_est,Q,roi_left,roi_right = cv2.stereoRectify(new_mtxL_list_4[i][0], ret_L_list_4[i][0], new_mtxR_list_4[i][0], ret_R_list_4[i][0], (image_size[0],image_size[1]), Rot_list_4[i][0], Trns_list_4[i][0],flags = cv2.CALIB_ZERO_DISPARITY)\n",
    "    P_L_4_list.append(P_L_est)\n",
    "    P_R_4_list.append(P_R_est)"
   ]
  },
  {
   "cell_type": "code",
   "execution_count": 30,
   "metadata": {},
   "outputs": [],
   "source": [
    "P_L_20_list = []\n",
    "P_R_20_list = []\n",
    "\n",
    "for i in range(len(ret_R_list_20)):\n",
    "    R1,R2,P_L_est,P_R_est,Q,roi_left,roi_right = cv2.stereoRectify(new_mtxL_list_20[i][0], ret_L_list_20[i][0], new_mtxR_list_20[i][0], ret_R_list_20[i][0], (image_size[0],image_size[1]), Rot_list_20[i][0], Trns_list_20[i][0],flags = cv2.CALIB_ZERO_DISPARITY)\n",
    "    P_L_20_list.append(P_L_est)\n",
    "    P_R_20_list.append(P_R_est)"
   ]
  },
  {
   "cell_type": "code",
   "execution_count": 31,
   "metadata": {},
   "outputs": [],
   "source": [
    "XestOpenCV = np.zeros((6,140,4,1))\n",
    "Xoriginal = np.zeros((6,140,4,1))\n",
    "\n",
    "X_est_arr = np.zeros((6,140,4,1))\n",
    "X_org_arr = np.zeros((6,140,4,1))\n",
    "\n",
    "estError_2 = np.zeros((6,140,1))\n",
    "triangulation_error_2 =np.zeros((6,1))\n",
    "\n",
    "\n",
    "for i in range(len(ret_R_list_2)):\n",
    "    for j in range(XestOpenCV.shape[1]):\n",
    "        XestOpenCV[i,j,:,:] = cv2.triangulatePoints(P_L_2_list[i],P_R_2_list[i], x_L_list[j], x_R_list[j])\n",
    "        Xoriginal[i,j,:,:] =  cv2.triangulatePoints(P_L_original[i],P_R_original[i],x_L_list[j], x_R_list[j])\n",
    "\n",
    "        X_est_arr[i,j,:,:] = XestOpenCV[i,j,:,:]/XestOpenCV[i,j,-1,:]\n",
    "        X_org_arr[i,j,:,:] = Xoriginal[i,j,:,:]/Xoriginal[i,j,-1,:]\n",
    "\n",
    "\n",
    "        estError_2[i,j,:] = np.sqrt(np.sum(np.square(X_est_arr[i,j,:3,:]-X_org_arr[i,j,:3,:])))\n",
    "\n",
    "    triangulation_error_2[i,:] = np.sum(estError_2[i,:,:])/estError_2[i,:,:].shape[0]"
   ]
  },
  {
   "cell_type": "code",
   "execution_count": 32,
   "metadata": {},
   "outputs": [
    {
     "data": {
      "text/plain": [
       "array([[0.02263292],\n",
       "       [0.01806206],\n",
       "       [0.0083881 ],\n",
       "       [0.0056055 ],\n",
       "       [0.01250369],\n",
       "       [0.01031749]])"
      ]
     },
     "execution_count": 32,
     "metadata": {},
     "output_type": "execute_result"
    }
   ],
   "source": [
    "triangulation_error_2"
   ]
  },
  {
   "cell_type": "code",
   "execution_count": 33,
   "metadata": {},
   "outputs": [],
   "source": [
    "XestOpenCV = np.zeros((6,140,4,1))\n",
    "Xoriginal = np.zeros((6,140,4,1))\n",
    "\n",
    "X_est_arr = np.zeros((6,140,4,1))\n",
    "X_org_arr = np.zeros((6,140,4,1))\n",
    "\n",
    "estError_4 = np.zeros((6,140,1))\n",
    "triangulation_error_4 =np.zeros((6,1))\n",
    "\n",
    "for i in range(len(ret_R_list_4)):\n",
    "    for j in range(XestOpenCV.shape[1]):\n",
    "        XestOpenCV[i,j,:,:] = cv2.triangulatePoints(P_L_4_list[i],P_R_4_list[i], x_L_list[j], x_R_list[j])\n",
    "        Xoriginal[i,j,:,:] =  cv2.triangulatePoints(P_L_original[i],P_R_original[i],x_L_list[j], x_R_list[j])\n",
    "\n",
    "        X_est_arr[i,j,:,:] = XestOpenCV[i,j,:,:]/XestOpenCV[i,j,-1,:]\n",
    "        X_org_arr[i,j,:,:] = Xoriginal[i,j,:,:]/Xoriginal[i,j,-1,:]\n",
    "\n",
    "\n",
    "        estError_4[i,j,:] = np.sqrt(np.sum(np.square(X_est_arr[i,j,:3,:]-X_org_arr[i,j,:3,:])))\n",
    "\n",
    "    triangulation_error_4[i,:] = np.sum(estError_4[i,:,:])/estError_4[i,:,:].shape[0]"
   ]
  },
  {
   "cell_type": "code",
   "execution_count": 34,
   "metadata": {},
   "outputs": [
    {
     "data": {
      "text/plain": [
       "array([[0.02378682],\n",
       "       [0.14411905],\n",
       "       [0.09168249],\n",
       "       [0.06004873],\n",
       "       [0.03064685],\n",
       "       [0.04244142]])"
      ]
     },
     "execution_count": 34,
     "metadata": {},
     "output_type": "execute_result"
    }
   ],
   "source": [
    "triangulation_error_4"
   ]
  },
  {
   "cell_type": "code",
   "execution_count": 35,
   "metadata": {},
   "outputs": [],
   "source": [
    "XestOpenCV = np.zeros((6,140,4,1))\n",
    "Xoriginal = np.zeros((6,140,4,1))\n",
    "\n",
    "X_est_arr = np.zeros((6,140,4,1))\n",
    "X_org_arr = np.zeros((6,140,4,1))\n",
    "\n",
    "estError_20 = np.zeros((6,140,1))\n",
    "triangulation_error_20 =np.zeros((6,1))\n",
    "\n",
    "for i in range(len(ret_R_list_4)):\n",
    "    for j in range(XestOpenCV.shape[1]):\n",
    "        XestOpenCV[i,j,:,:] = cv2.triangulatePoints(P_L_20_list[i],P_R_20_list[i], x_L_list[j], x_R_list[j])\n",
    "        Xoriginal[i,j,:,:] =  cv2.triangulatePoints(P_L_original[i],P_R_original[i],x_L_list[j], x_R_list[j])\n",
    "\n",
    "        X_est_arr[i,j,:,:] = XestOpenCV[i,j,:,:]/XestOpenCV[i,j,-1,:]\n",
    "        X_org_arr[i,j,:,:] = Xoriginal[i,j,:,:]/Xoriginal[i,j,-1,:]\n",
    "\n",
    "\n",
    "        estError_20[i,j,:] = np.sqrt(np.sum(np.square(X_est_arr[i,j,:3,:]-X_org_arr[i,j,:3,:])))\n",
    "    \n",
    "    triangulation_error_20[i,:] = np.sum(estError_20[i,:,:])/estError_20[i,:,:].shape[0]"
   ]
  },
  {
   "cell_type": "code",
   "execution_count": 36,
   "metadata": {},
   "outputs": [
    {
     "data": {
      "text/plain": [
       "array([[ 5.96511116],\n",
       "       [10.41918247],\n",
       "       [ 4.86770958],\n",
       "       [ 9.03982613],\n",
       "       [ 7.45182783],\n",
       "       [28.42068168]])"
      ]
     },
     "execution_count": 36,
     "metadata": {},
     "output_type": "execute_result"
    }
   ],
   "source": [
    "triangulation_error_20"
   ]
  },
  {
   "cell_type": "markdown",
   "metadata": {},
   "source": [
    "# Plot the results"
   ]
  },
  {
   "cell_type": "code",
   "execution_count": 37,
   "metadata": {},
   "outputs": [
    {
     "data": {
      "text/plain": [
       "<function matplotlib.pyplot.show(*, block=None)>"
      ]
     },
     "execution_count": 37,
     "metadata": {},
     "output_type": "execute_result"
    }
   ],
   "source": [
    "nr_chess = [20,80,180,320,500]\n",
    "\n",
    "fig = plt.figure(figsize = (20,20))\n",
    "ax = fig.add_subplot(321)\n",
    "ax.plot(nr_chess,ret_S_2[1:],'k-*',label = \"2 meters\")\n",
    "ax.set_yscale('log')\n",
    "ax.set_ylabel(\"Reprojection error (in mm)\")\n",
    "ax.set_xlabel(\"number of chessboards\")\n",
    "ax.set_title(\"Stereo camera calibration error\")\n",
    "ax.grid('--')\n",
    "ax.legend()\n",
    "\n",
    "ax1 = fig.add_subplot(322)\n",
    "ax1.set_ylabel(\"Triangulation error (in mm)\")\n",
    "ax1.set_xlabel(\"number of chessboards\")\n",
    "ax1.set_title(\"Stereo camera calibration error\")\n",
    "ax1.plot(nr_chess,triangulation_error_2[1:],'k-*',label = \"2 meters\")\n",
    "ax1.grid('--')\n",
    "ax1.legend()\n",
    "\n",
    "ax2 = fig.add_subplot(323)\n",
    "ax2.plot(nr_chess,ret_S_4[1:],'k-*',label = \"4 meters\")\n",
    "ax2.set_yscale('log')\n",
    "ax2.set_ylabel(\"Reprojection error (in mm)\")\n",
    "ax2.set_xlabel(\"number of chessboards\")\n",
    "ax2.set_title(\"Stereo camera calibration error\")\n",
    "ax2.grid('--')\n",
    "ax2.legend()\n",
    "\n",
    "ax3 = fig.add_subplot(324)\n",
    "ax3.set_ylabel(\"Triangulation error (in mm)\")\n",
    "ax3.set_xlabel(\"number of chessboards\")\n",
    "ax3.set_title(\"Stereo camera calibration error\")\n",
    "ax3.plot(nr_chess,triangulation_error_4[1:],'k-*',label = \"4 meters\")\n",
    "ax3.grid('--')\n",
    "ax3.legend()\n",
    "\n",
    "ax4 = fig.add_subplot(325)\n",
    "ax4.plot(nr_chess,ret_S_20[1:],'k-*',label = \"20 meters\")\n",
    "ax4.set_yscale('log')\n",
    "ax4.set_ylabel(\"Reprojection error (in mm)\")\n",
    "ax4.set_xlabel(\"number of chessboards\")\n",
    "ax4.set_title(\"Stereo camera calibration error\")\n",
    "ax4.grid('--')\n",
    "ax4.legend()\n",
    "\n",
    "ax5 = fig.add_subplot(326)\n",
    "ax5.set_ylabel(\"Triangulation error (in mm)\")\n",
    "ax5.set_xlabel(\"number of chessboards\")\n",
    "ax5.set_title(\"Stereo camera calibration error\")\n",
    "ax5.plot(nr_chess,triangulation_error_20[1:],'k-*',label = \"20 meters\")\n",
    "ax5.grid('--')\n",
    "ax5.legend()\n",
    "\n",
    "plt.show\n"
   ]
  },
  {
   "cell_type": "code",
   "execution_count": 38,
   "metadata": {},
   "outputs": [],
   "source": [
    "nr_chess = [20,80,180,320,500]\n",
    "\n",
    "fig = plt.figure(figsize = (10,10))\n",
    "ax = fig.add_subplot(121)\n",
    "ax.plot(nr_chess,ret_S_2[1:],'g-*',label = \"2 meters\")\n",
    "ax.plot(nr_chess,ret_S_4[1:],'b-*',label = \"4 meters\")\n",
    "ax.plot(nr_chess,ret_S_20[1:],'k-*',label = \"20 meters\")\n",
    "ax.set_yscale('log')\n",
    "ax.set_ylabel(\"Reprojection error (in mm)\")\n",
    "ax.set_xlabel(\"number of chessboards\")\n",
    "ax.set_title(\"Stereo camera calibration error\")\n",
    "ax.grid('--')\n",
    "ax.legend()\n",
    "\n",
    "ax2 = fig.add_subplot(122)\n",
    "ax2.plot(nr_chess,triangulation_error_2[1:],'g-*',label = \"2 meters\")\n",
    "ax2.plot(nr_chess,triangulation_error_4[1:],'b-*',label = \"4 meters\")\n",
    "ax2.plot(nr_chess,triangulation_error_20[1:],'k-*',label = \"20 meters\")\n",
    "\n",
    "x_marker = np.ones((5,1))\n",
    "y_marker = np.linspace(10e-10,10e10,estError_2[1:].shape[0])\n",
    "ax2.plot(x_marker*nr_chess[0],y_marker,'r--')\n",
    "ax2.plot(x_marker*nr_chess[1],y_marker,'r--')\n",
    "ax2.plot(x_marker*nr_chess[2],y_marker,'r--')\n",
    "ax2.plot(x_marker*nr_chess[3],y_marker,'r--')\n",
    "ax2.plot(x_marker*nr_chess[4],y_marker,'r--')\n",
    "\n",
    "ax2.set_yscale('log')\n",
    "ax2.set_ylabel(\"Triangulation errror (in mm)\")\n",
    "ax2.set_title(\"Triangulation error\")\n",
    "ax2.set_xlabel(\"number of chessboards\")\n",
    "\n",
    "ax2.set_xlim([0,550])\n",
    "ax2.set_ylim([triangulation_error_2[-1]-5e-4,triangulation_error_20[-1]+2e6])\n",
    "\n",
    "ax2.legend()\n",
    "ax2.legend()\n",
    "ax2.grid('--')"
   ]
  },
  {
   "cell_type": "markdown",
   "metadata": {},
   "source": [
    "## Triangulation error vs. distance\n",
    "Correlate the triangulation error according to the distance of the spot.\n",
    "- Project the spot from 1:10:300 meters\n",
    "- having the ideal projection matrixes of the stereo cameras, retrieve the 2D coordinates\n",
    "- Having the 2D coordinates, triangulate the point using the projection matrixes obtained from calibration at 320 meters\n",
    "- Plot the results"
   ]
  },
  {
   "cell_type": "code",
   "execution_count": 39,
   "metadata": {},
   "outputs": [],
   "source": [
    "# from 1 meter to 300 meters in steps of 10 meters\n",
    "zdistance = np.arange(0,310000,10000)\n",
    "zdistance[0] = 1000\n",
    "xdistance = np.ones((zdistance.shape[0],))*250\n",
    "ydistance = np.ones((zdistance.shape[0],))*10\n",
    "X =np.array([xdistance,ydistance,zdistance]).T\n",
    "\n",
    "x_arr_L, X_arr_L, E_L, K_L,P_L = get_image_points(X,PX,PY,thetax=THETA_X_L,thetay = THETA_Y_L,thetaz = THETA_Z_L,trans_x= -C_L[0],trans_y= -C_L[1],trans_z= -C_L[2],F = F,mx = (1/pixel_width),my =(1/pixel_width))\n",
    "x_arr_R, X_arr_R, E_R, K_R,P_R = get_image_points(X,PX,PY,thetax = THETA_X_R,thetay = THETA_Y_R, thetaz = THETA_Z_R,trans_x= -C_R[0],trans_y= -C_R[1],trans_z= -C_R[2],F = F,mx = (1/pixel_width),my =(1/pixel_width))"
   ]
  },
  {
   "cell_type": "code",
   "execution_count": 40,
   "metadata": {},
   "outputs": [],
   "source": [
    "XestOpenCV2 = np.zeros((x_arr_R.shape[0],4,1))\n",
    "Xoriginal2 = np.zeros((x_arr_R.shape[0],4,1))\n",
    "\n",
    "X_est_arr2 = np.zeros((x_arr_R.shape[0],4,1))\n",
    "X_org_arr2 = np.zeros((x_arr_R.shape[0],4,1))\n",
    "\n",
    "estError_2_distance = np.zeros((x_arr_R.shape[0],1))\n",
    "# use the 320m matrixes\n",
    "i = 4\n",
    "for j in range(len(x_arr_R)):\n",
    "    XestOpenCV2[j,:,:] = cv2.triangulatePoints(P_L_2_list[i],P_R_2_list[i], x_arr_L[j], x_arr_R[j])\n",
    "    Xoriginal2[j,:,:] =  cv2.triangulatePoints(P_L_original[i],P_R_original[i],x_arr_L[j], x_arr_R[j])\n",
    "\n",
    "    X_est_arr2[j,:,:] = XestOpenCV2[j,:,:]/XestOpenCV2[j,-1,:]\n",
    "    X_org_arr2[j,:,:] = Xoriginal2[j,:,:]/Xoriginal2[j,-1,:]\n",
    "\n",
    "    estError_2_distance[j,:] = np.sqrt(np.sum(np.square(X_est_arr2[j,:3,:]-X_org_arr2[j,:3,:])))"
   ]
  },
  {
   "cell_type": "code",
   "execution_count": 41,
   "metadata": {},
   "outputs": [],
   "source": [
    "XestOpenCV4 = np.zeros((x_arr_R.shape[0],4,1))\n",
    "Xoriginal4 = np.zeros((x_arr_R.shape[0],4,1))\n",
    "\n",
    "X_est_arr4 = np.zeros((x_arr_R.shape[0],4,1))\n",
    "X_org_arr4 = np.zeros((x_arr_R.shape[0],4,1))\n",
    "\n",
    "estError_4_distance = np.zeros((x_arr_R.shape[0],1))\n",
    "# use the 320m matrixes\n",
    "i = 4\n",
    "for j in range(len(x_arr_R)):\n",
    "    XestOpenCV4[j,:,:] = cv2.triangulatePoints(P_L_4_list[i],P_R_4_list[i], x_arr_L[j], x_arr_R[j])\n",
    "    Xoriginal4[j,:,:] =  cv2.triangulatePoints(P_L_original[i],P_R_original[i],x_arr_L[j], x_arr_R[j])\n",
    "\n",
    "    X_est_arr4[j,:,:] = XestOpenCV4[j,:,:]/XestOpenCV4[j,-1,:]\n",
    "    X_org_arr4[j,:,:] = Xoriginal4[j,:,:]/Xoriginal4[j,-1,:]\n",
    "\n",
    "    estError_4_distance[j,:] = np.sqrt(np.sum(np.square(X_est_arr4[j,:3,:]-X_org_arr4[j,:3,:])))"
   ]
  },
  {
   "cell_type": "code",
   "execution_count": 42,
   "metadata": {},
   "outputs": [],
   "source": [
    "XestOpenCV20 = np.zeros((x_arr_R.shape[0],4,1))\n",
    "Xoriginal20 = np.zeros((x_arr_R.shape[0],4,1))\n",
    "\n",
    "X_est_arr20 = np.zeros((x_arr_R.shape[0],4,1))\n",
    "X_org_arr20 = np.zeros((x_arr_R.shape[0],4,1))\n",
    "\n",
    "estError_20_distance = np.zeros((x_arr_R.shape[0],1))\n",
    "# use the 320m matrixes\n",
    "i = 4\n",
    "for j in range(len(x_arr_R)):\n",
    "    XestOpenCV20[j,:,:] = cv2.triangulatePoints(P_L_20_list[i],P_R_20_list[i], x_arr_L[j], x_arr_R[j])\n",
    "    Xoriginal20[j,:,:] =  cv2.triangulatePoints(P_L_original[i],P_R_original[i],x_arr_L[j], x_arr_R[j])\n",
    "\n",
    "    X_est_arr20[j,:,:] = XestOpenCV20[j,:,:]/XestOpenCV20[j,-1,:]\n",
    "    X_org_arr20[j,:,:] = Xoriginal20[j,:,:]/Xoriginal20[j,-1,:]\n",
    "\n",
    "    estError_20_distance[j,:] = np.sqrt(np.sum(np.square(X_est_arr20[j,:3,:]-X_org_arr20[j,:3,:])))"
   ]
  },
  {
   "cell_type": "code",
   "execution_count": 43,
   "metadata": {},
   "outputs": [
    {
     "data": {
      "text/plain": [
       "array([[  0.37342185],\n",
       "       [  3.72634682],\n",
       "       [  7.45181927],\n",
       "       [ 11.17729173],\n",
       "       [ 14.9027642 ],\n",
       "       [ 18.62823666],\n",
       "       [ 22.35370913],\n",
       "       [ 26.07918159],\n",
       "       [ 29.80465405],\n",
       "       [ 33.53012652],\n",
       "       [ 37.25559898],\n",
       "       [ 40.98107145],\n",
       "       [ 44.70654391],\n",
       "       [ 48.43201638],\n",
       "       [ 52.15748884],\n",
       "       [ 55.88296131],\n",
       "       [ 59.60843377],\n",
       "       [ 63.33390624],\n",
       "       [ 67.0593787 ],\n",
       "       [ 70.78485117],\n",
       "       [ 74.51032363],\n",
       "       [ 78.2357961 ],\n",
       "       [ 81.96126856],\n",
       "       [ 85.68674103],\n",
       "       [ 89.41221349],\n",
       "       [ 93.13768596],\n",
       "       [ 96.86315842],\n",
       "       [100.58863089],\n",
       "       [104.31410336],\n",
       "       [108.03957582],\n",
       "       [111.76504829]])"
      ]
     },
     "execution_count": 43,
     "metadata": {},
     "output_type": "execute_result"
    }
   ],
   "source": [
    "estError_20_distance"
   ]
  },
  {
   "cell_type": "code",
   "execution_count": 44,
   "metadata": {},
   "outputs": [
    {
     "data": {
      "text/plain": [
       "array([0.37342185])"
      ]
     },
     "execution_count": 44,
     "metadata": {},
     "output_type": "execute_result"
    }
   ],
   "source": [
    "np.linalg.norm(X_est_arr20[0,:3,:]-X_org_arr20[0,:3,:],axis = 0)"
   ]
  },
  {
   "cell_type": "markdown",
   "metadata": {},
   "source": [
    "## Relative error \n",
    "$$E_{relative} = \\frac{err_{abs}}{val_{est}}* 100$$\n",
    ", where $err_{abs} = val_{org}-val_{est}$"
   ]
  },
  {
   "cell_type": "code",
   "execution_count": 45,
   "metadata": {},
   "outputs": [],
   "source": [
    "#estError_20_distance\n",
    "E_err2 = np.zeros((31,))\n",
    "E_err4 = np.zeros((31,))\n",
    "E_err20 = np.zeros((31,))\n",
    "for i in range(len(estError_20_distance)):\n",
    "    # E_err2[i] = np.sqrt(np.sum(np.square(X_est_arr2[i,:3,:]-X_org_arr2[i,:3,:])))/(np.sum(X_est_arr2[i,:3,:]))*100\n",
    "    # E_err4[i] = np.sqrt(np.sum(np.square(X_est_arr4[i,:3,:]-X_org_arr4[i,:3,:])))/(np.sum(X_est_arr4[i,:3,:]))*100\n",
    "    # E_err20[i] = np.sqrt(np.sum(np.square(X_est_arr20[i,:3,:]-X_org_arr20[i,:3,:])))/(np.sum(X_est_arr20[i,:3,:]))*100\n",
    "    E_err2[i] = np.sum(np.abs(X_est_arr2[i,:3,:]-X_org_arr2[i,:3,:]))/(np.sum(X_est_arr2[i,:3,:]))*100\n",
    "    E_err4[i] = np.sum(np.abs(X_est_arr4[i,:3,:]-X_org_arr4[i,:3,:]))/(np.sum(X_est_arr4[i,:3,:]))*100\n",
    "    E_err20[i] = np.sum(np.abs(X_est_arr20[i,:3,:]-X_org_arr20[i,:3,:]))/(np.sum(X_est_arr20[i,:3,:]))*100"
   ]
  },
  {
   "cell_type": "code",
   "execution_count": null,
   "metadata": {},
   "outputs": [],
   "source": [
    "fig = plt.figure(figsize = (10,10))\n",
    "ax = fig.add_subplot()\n",
    "ax.plot(zdistance/1000,E_err2,'b-',label = \"2 meters\")\n",
    "ax.plot(zdistance/1000,E_err4,'r-',label = \"4 meters\")\n",
    "ax.plot(zdistance/1000,E_err20,'g-',label = \"20 meters\")\n",
    "\n",
    "ax.set_yscale('log')\n",
    "\n",
    "ax.set_ylabel(\"Triangulation errror [%]\")\n",
    "ax.set_title(\"Triangulation error\")\n",
    "ax.set_xlabel(\"Distance [m]\")\n",
    "ax.legend()\n",
    "ax.grid()"
   ]
  },
  {
   "cell_type": "code",
   "execution_count": null,
   "metadata": {},
   "outputs": [],
   "source": [
    "fig = plt.figure(figsize = (10,10))\n",
    "ax = fig.add_subplot()\n",
    "ax.plot(zdistance/1000,estError_2_distance/1e3,'b-',label = \"2 meters\")\n",
    "ax.plot(zdistance/1000,estError_4_distance/1e3,'r-',label = \"4 meters\")\n",
    "ax.plot(zdistance/1000,estError_20_distance/1e3,'g-',label = \"20 meters\")\n",
    "\n",
    "#ax.set_yscale('log')\n",
    "ax.set_ylabel(\"Triangulation errror [m]\")\n",
    "ax.set_title(\"Triangulation error\")\n",
    "ax.set_xlabel(\"Distance [m]\")\n",
    "ax.legend()\n",
    "ax.grid()"
   ]
  }
 ],
 "metadata": {
  "kernelspec": {
   "display_name": "TensorFlow & OpenCv",
   "language": "python",
   "name": "thesis"
  },
  "language_info": {
   "codemirror_mode": {
    "name": "ipython",
    "version": 3
   },
   "file_extension": ".py",
   "mimetype": "text/x-python",
   "name": "python",
   "nbconvert_exporter": "python",
   "pygments_lexer": "ipython3",
   "version": "3.8.5"
  },
  "orig_nbformat": 4
 },
 "nbformat": 4,
 "nbformat_minor": 2
}
