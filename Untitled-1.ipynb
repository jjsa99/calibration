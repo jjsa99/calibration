{
 "cells": [
  {
   "cell_type": "markdown",
   "metadata": {},
   "source": [
    "# 1. Camera Calibration\n",
    "In this script will be used DLT. It is expected to find the matrix P for 1 camera knowing the 3D points and the image mapped points.\n",
    "\n",
    "**DLT** maps any object point X to a image point x.\n",
    " - When using DLT, it is not possible to use points in the same plane( same Z).\\\n",
    " - Use at least 6 points\n",
    "\n",
    "The development of this script has the intent of:\n",
    "- create a mesh grid(x,y) to simulate a chessboard\n",
    "\n",
    "The camera used in the laboratory is (https://en.ids-imaging.com/store/ui-3260cp-rev-2.html) and the lens is (https://www.thorlabs.com/thorproduct.cfm?partnumber=MVL16M1):\n",
    "- lens ( focal length : 16mm )\n",
    "- camera (1936 x 1216)\n",
    "- camera (pixel size :5.86 µm)\n",
    "- camera (optical area : 11.345 mm x 7.126 mm)\n"
   ]
  },
  {
   "cell_type": "code",
   "execution_count": 26,
   "metadata": {},
   "outputs": [],
   "source": [
    "%matplotlib qt\n",
    "\n",
    "import matplotlib.pyplot as plt\n",
    "import numpy as np\n",
    "from utils import *\n",
    "from mpl_toolkits.mplot3d import axes3d \n"
   ]
  },
  {
   "cell_type": "code",
   "execution_count": 27,
   "metadata": {},
   "outputs": [],
   "source": [
    "# define extrinsic parameters\n",
    "# -------------------------------\n",
    "\n",
    "# rotate an angle of pi/4 along the standard Y axis\n",
    "angles = [np.pi/4]\n",
    "order = 'y'\n",
    "\n",
    "# translate by the given offset\n",
    "offset = np.array([0, -8, 0])\n",
    "\n",
    "# define intrinsic parameters\n",
    "# -------------------------------\n",
    "\n",
    "sensor_size = np.array([0.0113,0.007126])\n",
    "f = 0.016\n",
    "s = 0\n",
    "a = 1\n",
    "cx = sensor_size[0]/2.0\n",
    "cy = sensor_size[1]/2.0\n",
    "img_size = (10, 10)\n"
   ]
  },
  {
   "cell_type": "markdown",
   "metadata": {},
   "source": [
    "### Create Extrinsic and Intrinsic Matrix\n"
   ]
  },
  {
   "cell_type": "code",
   "execution_count": 28,
   "metadata": {},
   "outputs": [
    {
     "name": "stdout",
     "output_type": "stream",
     "text": [
      "Extrinsic matrix(Rotation + Translation):\n",
      "[[ 0.70710678  0.          0.70710678  0.        ]\n",
      " [ 0.          1.          0.          8.        ]\n",
      " [-0.70710678  0.          0.70710678  0.        ]\n",
      " [ 0.          0.          0.          1.        ]]\n",
      "Intrinsic Matrix:\n",
      "[[0.016    0.       0.00565 ]\n",
      " [0.       0.016    0.003563]\n",
      " [0.       0.       1.      ]]\n"
     ]
    }
   ],
   "source": [
    "# create extrinsic matrix\n",
    "# --------------------------\n",
    "\n",
    "# create rotation transformation matrix\n",
    "R = create_rotation_transformation_matrix(angles, order)\n",
    "R_ = np.identity(4)\n",
    "R_[:3, :3] = R\n",
    "\n",
    "\n",
    "# create translation transformation matrix\n",
    "T_ = create_translation_matrix(offset)\n",
    "\n",
    "# extrinsic matrix\n",
    "E = np.linalg.inv(R_ @ T_)\n",
    "print(\"Extrinsic matrix(Rotation + Translation):\")\n",
    "print(E)\n",
    "E = E[:-1, :]\n",
    "\n",
    "# create intrinsic matrix\n",
    "# ---------------------------\n",
    "K = compute_intrinsic_parameter_matrix(f, s, a, cx, cy)\n",
    "print(\"Intrinsic Matrix:\")\n",
    "print(K)"
   ]
  },
  {
   "cell_type": "code",
   "execution_count": 29,
   "metadata": {},
   "outputs": [],
   "source": [
    "# choose the lower limit of the points such they're always beyond the image plane\n",
    "\n",
    "n_points = 12\n",
    "rand_points = generate_random_points(n_points, (-10, 0), (-10, 10), (f, 10))\n",
    "\n"
   ]
  },
  {
   "cell_type": "code",
   "execution_count": 30,
   "metadata": {},
   "outputs": [
    {
     "name": "stdout",
     "output_type": "stream",
     "text": [
      "[[0.016    0.       0.00565 ]\n",
      " [0.       0.016    0.003563]\n",
      " [0.       0.       1.      ]]\n"
     ]
    }
   ],
   "source": [
    "print(K)\n",
    "intrinsic_matrix = np.array([\n",
    "    [0.05, 0, sensor_size[0] / 2.0],\n",
    "    [0, 0.05, sensor_size[1] / 2.0],\n",
    "    [0, 0, 1]\n",
    "])"
   ]
  },
  {
   "cell_type": "markdown",
   "metadata": {},
   "source": [
    "### Plot camera representation in 3D\n",
    "Plot the camera using the library pytransform3d"
   ]
  },
  {
   "cell_type": "code",
   "execution_count": 31,
   "metadata": {},
   "outputs": [],
   "source": [
    "import matplotlib.pyplot as plt\n",
    "import pytransform3d.camera as pc\n",
    "import pytransform3d.transformations as pt\n",
    "\n",
    "cam2world = pt.transform_from_pq([0, 0, 0, np.sqrt(0.5), -np.sqrt(0.5), 0, 0])\n",
    "\n",
    "virtual_image_distance = 1\n",
    "\n",
    "ax = pt.plot_transform(A2B=cam2world, s=0.2)\n",
    "pc.plot_camera(\n",
    "    ax, cam2world=cam2world, M=K, sensor_size=sensor_size,\n",
    "    virtual_image_distance=virtual_image_distance)\n",
    "plt.show()\n"
   ]
  },
  {
   "cell_type": "markdown",
   "metadata": {},
   "source": [
    "### Plot the setup"
   ]
  },
  {
   "cell_type": "code",
   "execution_count": 32,
   "metadata": {},
   "outputs": [],
   "source": [
    "# create an image grid\n",
    "xx, yy, Z = create_image_grid(f, img_size)\n",
    "# convert the image grid to homogeneous coordinates\n",
    "pt_h = convert_grid_to_homogeneous(xx, yy, Z, img_size)\n",
    "# transform the homogeneous coordinates\n",
    "pt_h_transformed = R_ @ T_ @ pt_h\n",
    "# convert the transformed homogeneous coordinates back to the image grid\n",
    "xxt, yyt, Zt = convert_homogeneous_to_grid(pt_h_transformed, img_size)"
   ]
  },
  {
   "cell_type": "code",
   "execution_count": 33,
   "metadata": {},
   "outputs": [
    {
     "data": {
      "text/plain": [
       "Text(0.5, 0, 'Z-axis')"
      ]
     },
     "execution_count": 33,
     "metadata": {},
     "output_type": "execute_result"
    }
   ],
   "source": [
    "# define axis and figure\n",
    "fig = plt.figure(figsize=(8, 6))\n",
    "ax = fig.add_subplot(111,projection='3d')\n",
    "\n",
    "# set limits\n",
    "ax.set(xlim=(-10, 5), ylim=(-15, 5), zlim=(0, 10))\n",
    "\n",
    "# plot the camera in the world\n",
    "ax = pr.plot_basis(ax, R, offset)\n",
    "ax.plot_surface(xxt, yyt, Zt, alpha=0.75)\n",
    "\n",
    "# plot the generated random points\n",
    "c = 0\n",
    "for i in range(n_points):\n",
    "    point = rand_points[:, c]\n",
    "    ax.scatter(*point, color=\"orange\")\n",
    "    ax.plot(*make_line(offset, point), color=\"purple\", alpha=0.25)\n",
    "    c += 1\n",
    "\n",
    "ax.set_title(\"The Setup\")\n",
    "ax.set_xlabel(\"X-axis\")\n",
    "ax.set_ylabel(\"Y-axis\")\n",
    "ax.set_zlabel(\"Z-axis\")"
   ]
  },
  {
   "cell_type": "code",
   "execution_count": 58,
   "metadata": {},
   "outputs": [
    {
     "data": {
      "text/plain": [
       "array([[-0.00162273,  0.00885   ,  0.01365   ,  0.00565   ,  0.00831667,\n",
       "        -0.01035   ,  0.00565   ,  0.00765   ,  0.00245   , -0.00235   ,\n",
       "         0.00793571,  0.00458333],\n",
       "       [ 0.003563  ,  0.00582574,  0.01299109,  0.09407267,  0.02996165,\n",
       "         0.05164626,  0.04881783,  0.00073457,  0.01261397,  0.05164626,\n",
       "         0.02780666,  0.02015644]])"
      ]
     },
     "execution_count": 58,
     "metadata": {},
     "output_type": "execute_result"
    }
   ],
   "source": [
    "rand_points\n",
    "projections"
   ]
  },
  {
   "cell_type": "code",
   "execution_count": 34,
   "metadata": {},
   "outputs": [
    {
     "name": "stdout",
     "output_type": "stream",
     "text": [
      "[-8 -8  3]\n"
     ]
    }
   ],
   "source": [
    " c = 0\n",
    " point = rand_points[:, c]\n",
    " print(point)"
   ]
  },
  {
   "cell_type": "markdown",
   "metadata": {},
   "source": []
  },
  {
   "cell_type": "code",
   "execution_count": 35,
   "metadata": {},
   "outputs": [
    {
     "data": {
      "text/plain": [
       "Text(0.10229036871992431, 0.013704310845992714, 'Z-axis')"
      ]
     },
     "execution_count": 35,
     "metadata": {},
     "output_type": "execute_result"
    }
   ],
   "source": [
    "\n",
    "cam2world = pt.transform_from_pq([0, -8, 0, np.sqrt(0.5), -np.sqrt(0.5), 0, 0])\n",
    "\n",
    "virtual_image_distance = 1\n",
    "\n",
    "ax = pt.plot_transform(A2B=cam2world, s=0.2)\n",
    "# set limits\n",
    "ax.set(xlim=(-10, 5), ylim=(-15, 5), zlim=(0, 10))\n",
    "ax.plot_surface(xxt, yyt, Zt, alpha=0.75)\n",
    "pc.plot_camera(\n",
    "    ax, cam2world=cam2world, M=K, sensor_size=sensor_size,\n",
    "    virtual_image_distance=virtual_image_distance)\n",
    "\n",
    "\n",
    "c = 0\n",
    "\n",
    "for i in range(n_points):\n",
    "    point = rand_points[:, c]\n",
    "    ax.scatter(*point, color=\"orange\")\n",
    "    ax.plot(*make_line(offset, point), color=\"purple\", alpha=0.25)\n",
    "    c += 1\n",
    "\n",
    "\n",
    "ax.set_title(\"The Setup\")\n",
    "ax.set_xlabel(\"X-axis\")\n",
    "ax.set_ylabel(\"Y-axis\")\n",
    "ax.set_zlabel(\"Z-axis\")\n",
    "\n"
   ]
  },
  {
   "cell_type": "markdown",
   "metadata": {},
   "source": [
    "### Compute Projection of these points and form image"
   ]
  },
  {
   "cell_type": "code",
   "execution_count": 36,
   "metadata": {},
   "outputs": [],
   "source": [
    "rand_points_camera = compute_coordniates_wrt_camera(rand_points, E, is_homogeneous=False)\n",
    "projections = compute_image_projection(rand_points_camera, K)"
   ]
  },
  {
   "cell_type": "code",
   "execution_count": 37,
   "metadata": {},
   "outputs": [
    {
     "data": {
      "text/plain": [
       "Text(0.5, 1.0, 'projection of points in the image')"
      ]
     },
     "execution_count": 37,
     "metadata": {},
     "output_type": "execute_result"
    }
   ],
   "source": [
    "fig = plt.figure(figsize=(8, 6))\n",
    "ax = fig.add_subplot(111)\n",
    "\n",
    "for i in range(n_points):\n",
    "    ax.scatter(*projections.reshape(-1, 2)[i], color=\"orange\")\n",
    "    \n",
    "ax.set_title(\"projection of points in the image\")"
   ]
  },
  {
   "cell_type": "markdown",
   "metadata": {},
   "source": [
    "### Perform Direct Linear Calibration\n",
    "Create the algebraic matrix A and find m"
   ]
  },
  {
   "cell_type": "code",
   "execution_count": 52,
   "metadata": {},
   "outputs": [
    {
     "name": "stdout",
     "output_type": "stream",
     "text": [
      "[[ 1.45492253e-03 -2.23108195e-04  1.26222109e-03  5.84380526e-03]\n",
      " [ 4.23784895e-03  1.01364826e-03 -3.27123299e-03  6.09131292e-02]\n",
      " [-1.50008644e-02 -4.46442084e-02 -2.60658855e-02  1.00000000e+00]]\n"
     ]
    }
   ],
   "source": [
    "# compute the algebraic matrix A\n",
    "A = create_algebraic_matrix(rand_points, projections)\n",
    "\n",
    "# compute At x A\n",
    "A_ = np.matmul(A.T, A)\n",
    "# compute its eigenvectors and eigenvalues\n",
    "eigenvalues, eigenvectors = np.linalg.eig(A_)\n",
    "# find the eigenvector with the minimum eigenvalue\n",
    "# (numpy already returns sorted eigenvectors wrt their eigenvalues)\n",
    "m = eigenvectors[:, 11]\n",
    "# reshape m back to a matrix\n",
    "M = m.reshape(3, 4)\n",
    "print(M/M[-1,-1])\n"
   ]
  },
  {
   "cell_type": "markdown",
   "metadata": {},
   "source": [
    "Compute predictions from the calibrated matrix M"
   ]
  },
  {
   "cell_type": "code",
   "execution_count": 49,
   "metadata": {},
   "outputs": [],
   "source": [
    "predictions = compute_world2img_projection(rand_points, M, is_homogeneous=False)"
   ]
  },
  {
   "cell_type": "markdown",
   "metadata": {},
   "source": [
    "\n",
    "plot predictions and the groundtruth\n"
   ]
  },
  {
   "cell_type": "code",
   "execution_count": 56,
   "metadata": {},
   "outputs": [
    {
     "data": {
      "text/plain": [
       "array([ 1.45009049e-03, -2.22367216e-04,  1.25802904e-03,  5.82439702e-03,\n",
       "        4.22377436e-03,  1.01028176e-03, -3.26036868e-03,  6.07108266e-02,\n",
       "       -1.49510440e-02, -4.44959376e-02, -2.59793164e-02,  9.96678834e-01])"
      ]
     },
     "execution_count": 56,
     "metadata": {},
     "output_type": "execute_result"
    }
   ],
   "source": [
    "fig = plt.figure(figsize=(8, 6))\n",
    "ax = fig.add_subplot(111)\n",
    "\n",
    "for i in range(n_points):\n",
    "    if i == 0:\n",
    "        o_label = \"groundtruth\"\n",
    "        g_label = \"predictions\"\n",
    "    else:\n",
    "        o_label = \"\"\n",
    "        g_label = \"\"\n",
    "        \n",
    "    ax.scatter(*projections.reshape(-1, 2)[i], color=\"orange\", alpha=0.75, label=o_label)\n",
    "    ax.scatter(*predictions.reshape(-1, 2)[i], color=\"green\", alpha=0.75, label=g_label)\n",
    "    \n",
    "ax.set_title(\"groundtruth vs predictions - direct linear calibration\")\n",
    "ax.legend()\n",
    "\n",
    "m"
   ]
  },
  {
   "cell_type": "markdown",
   "metadata": {},
   "source": [
    "\n",
    "Optimizing wrt Geometric Error\n"
   ]
  },
  {
   "cell_type": "code",
   "execution_count": 55,
   "metadata": {},
   "outputs": [
    {
     "name": "stdout",
     "output_type": "stream",
     "text": [
      "[[-0.00162273  0.00885     0.01365     0.00565     0.00831667 -0.01035\n",
      "   0.00565     0.00765     0.00245    -0.00235     0.00793571  0.00458333]\n",
      " [ 0.003563    0.00582574  0.01299109  0.09407267  0.02996165  0.05164626\n",
      "   0.04881783  0.00073457  0.01261397  0.05164626  0.02780666  0.02015644]]\n",
      "[[ 2.50111181e+01 -9.14936432e-04  5.23165737e+01 -2.37565068e-03]\n",
      " [-8.60262386e+00  5.46755058e+01  8.60782631e+00  4.37470459e+02]\n",
      " [-2.41640722e+03 -5.20630025e-02  2.41627036e+03  1.00000000e+00]]\n"
     ]
    }
   ],
   "source": [
    "from scipy.optimize import minimize\n",
    "result = minimize(geometric_error, m, args=(rand_points, projections))\n",
    "M_ = result.x.reshape(3, 4)\n",
    "print(M_/M_[-1,-1])\n",
    "predictions_v2 = compute_world2img_projection(rand_points, M_, is_homogeneous=False)"
   ]
  },
  {
   "cell_type": "code",
   "execution_count": 46,
   "metadata": {},
   "outputs": [
    {
     "data": {
      "text/plain": [
       "<matplotlib.legend.Legend at 0x7f99e13c1610>"
      ]
     },
     "execution_count": 46,
     "metadata": {},
     "output_type": "execute_result"
    }
   ],
   "source": [
    "fig = plt.figure(figsize=(8, 6))\n",
    "ax = fig.add_subplot(111)\n",
    "\n",
    "for i in range(n_points):\n",
    "    if i == 0:\n",
    "        o_label = \"groundtruth\"\n",
    "        g_label = \"predictions\"\n",
    "    else:\n",
    "        o_label = \"\"\n",
    "        g_label = \"\"\n",
    "        \n",
    "    ax.scatter(*projections.reshape(-1, 2)[i], color=\"orange\", alpha=0.5, label=o_label)\n",
    "    ax.scatter(*predictions_v2.reshape(-1, 2)[i], color=\"green\", alpha=0.5, label=g_label)\n",
    "    \n",
    "ax.set_title(\"groundtruth vs predictions - optimization wrt geometric error\")\n",
    "ax.legend()"
   ]
  },
  {
   "cell_type": "code",
   "execution_count": 47,
   "metadata": {},
   "outputs": [],
   "source": [
    "\n",
    "\n",
    "fig, axes = plt.subplots(nrows=2, ncols=1, figsize=(8, 6))\n",
    "\n",
    "for i in range(n_points):\n",
    "        \n",
    "    axes[0].scatter(*projections.reshape(-1, 2)[i], color=\"orange\", label=o_label)\n",
    "    axes[1].scatter(*predictions_v2.reshape(-1, 2)[i], color=\"green\", label=g_label)\n",
    "    \n",
    "axes[0].set_title(\"groundtruth\")\n",
    "axes[1].set_title(\"predictions\")\n",
    "\n",
    "plt.tight_layout()\n",
    "\n"
   ]
  },
  {
   "cell_type": "code",
   "execution_count": null,
   "metadata": {},
   "outputs": [],
   "source": []
  }
 ],
 "metadata": {
  "interpreter": {
   "hash": "60b5aa1117f644a56cfefa69a0b1d50bf1f82c4bfed82b1b696b6ab3098426bd"
  },
  "kernelspec": {
   "display_name": "Python 3.9.7 ('venv')",
   "language": "python",
   "name": "python3"
  },
  "language_info": {
   "codemirror_mode": {
    "name": "ipython",
    "version": 3
   },
   "file_extension": ".py",
   "mimetype": "text/x-python",
   "name": "python",
   "nbconvert_exporter": "python",
   "pygments_lexer": "ipython3",
   "version": "3.9.7"
  },
  "orig_nbformat": 4
 },
 "nbformat": 4,
 "nbformat_minor": 2
}
