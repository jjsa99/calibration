{
 "cells": [
  {
   "cell_type": "markdown",
   "metadata": {},
   "source": [
    "# 1. Camera Calibration\n",
    "In this script will be used DLT. It is expected to find the matrix P for 1 camera knowing the 3D points and the image mapped points.\n",
    "\n",
    "> **DLT** maps any object point X to a image point x.\n",
    " - When using DLT, it is not possible to use points in the same plane( same Z).\n",
    " - Use at least 6 points\n",
    "\n",
    "> The development of this script has the intent of:\n",
    "- create a mesh grid(x,y) to simulate a chessboard\n",
    "\n",
    "> The camera used in the laboratory is (https://en.ids-imaging.com/store/ui-3260cp-rev-2.html) and the lens is (https://www.thorlabs.com/thorproduct.cfm?partnumber=MVL16M1):\n",
    "- lens ( focal length : 16mm )\n",
    "- camera (1936 x 1216)\n",
    "- camera (pixel size :5.86 µm)\n",
    "- camera (optical area : 11.345 mm x 7.126 mm)\n"
   ]
  },
  {
   "cell_type": "markdown",
   "metadata": {},
   "source": [
    "<img src=\"/home/alegria/calibration/images/camera_orientation.png\" width=400 height=400 />"
   ]
  },
  {
   "cell_type": "markdown",
   "metadata": {},
   "source": [
    "### Import libraries"
   ]
  },
  {
   "cell_type": "code",
   "execution_count": null,
   "metadata": {},
   "outputs": [],
   "source": [
    "%matplotlib qt\n",
    "\n",
    "import cv2\n",
    "from matplotlib import pyplot as plt\n",
    "import numpy as np\n",
    "import scipy as sp"
   ]
  },
  {
   "cell_type": "markdown",
   "metadata": {},
   "source": [
    "## Create the coordinates\n",
    "**Create mesh grid**\\\n",
    "Consider the mesh grid with 8x6 30mm squares where the top left coner as the initial (0,0)"
   ]
  },
  {
   "cell_type": "markdown",
   "metadata": {},
   "source": [
    "### World coordinate"
   ]
  },
  {
   "cell_type": "code",
   "execution_count": null,
   "metadata": {},
   "outputs": [],
   "source": [
    "grid_image = np.zeros((8*6,2))\n",
    "\n",
    "x_7 = 100*7\n",
    "y_5 = 100*5\n",
    "\n",
    "x = np.linspace(-450,450,8,dtype = int)\n",
    "y = np.linspace(-450,450,6,dtype = int)\n",
    "\n",
    "im_x, im_y = np.meshgrid(x,y)\n",
    "\n",
    "\n"
   ]
  },
  {
   "cell_type": "code",
   "execution_count": null,
   "metadata": {},
   "outputs": [],
   "source": [
    "worldcoo = []\n",
    "\n",
    "for i in range(len(woo_x)):\n",
    "    for j in range(8):\n",
    "        woo_aux = (woo_x[i][j],woo_y[i][j],0)\n",
    "        worldcoo.append(woo_aux)\n",
    "\n",
    "# list to array \n",
    "worldcoo = np.array(worldcoo)\n",
    "\n"
   ]
  },
  {
   "cell_type": "code",
   "execution_count": null,
   "metadata": {},
   "outputs": [],
   "source": [
    "imagecoo = []\n",
    "\n",
    "grid = np.zeros((8*6,2))\n",
    "\n",
    "x_7 = 30*7\n",
    "y_5 = 30*5\n",
    "\n",
    "x = np.linspace(0,x_7,8,dtype = int)\n",
    "y = np.linspace(0,y_5,6,dtype = int)\n",
    "\n",
    "gridx, gridy = np.meshgrid(x,y)\n",
    "\n",
    "\n",
    "for i in range(len(gridx)):\n",
    "    for j in range(8):\n",
    "        image_aux = (gridx[i][j],gridy[i][j])\n",
    "        imagecoo.append(image_aux)\n",
    "\n",
    "# list to array \n",
    "imagecoo = np.array(imagecoo)\n",
    "\n",
    "\n"
   ]
  },
  {
   "cell_type": "code",
   "execution_count": null,
   "metadata": {},
   "outputs": [],
   "source": [
    "fig = plt.figure()\n",
    "ax = fig.add_subplot(111,projection = \"3d\")\n",
    "#ax.plot(0,0)\n",
    "ax.plot(worldcoo[:,0],worldcoo[:,1],worldcoo[:,2], ls = \"None\", marker = \".\")\n",
    "plt.show()"
   ]
  },
  {
   "cell_type": "code",
   "execution_count": null,
   "metadata": {},
   "outputs": [],
   "source": [
    "# get the shape of the matrix\n",
    "worldm, worldn = worldcoo.shape\n",
    "imagem, imagen = imagecoo.shape\n",
    "\n",
    "homo_world = np.append(worldcoo,np.ones((worldm,1)),axis = 1)\n",
    "homo_image = np.append(imagecoo,np.ones((imagem,1)),axis = 1)\n"
   ]
  },
  {
   "cell_type": "markdown",
   "metadata": {},
   "source": [
    "### Image coordinate"
   ]
  },
  {
   "cell_type": "code",
   "execution_count": null,
   "metadata": {},
   "outputs": [],
   "source": [
    "fig = plt.figure()\n",
    "ax = fig.add_subplot(111)\n",
    "ax.plot(gridx,gridy,ls = \"None\",marker = \".\")\n",
    "plt.show()"
   ]
  },
  {
   "cell_type": "markdown",
   "metadata": {},
   "source": [
    "## DLT(Direct Linear Transform)"
   ]
  },
  {
   "cell_type": "code",
   "execution_count": null,
   "metadata": {},
   "outputs": [],
   "source": [
    "#3D DLT\n",
    "A = []\n",
    "\n",
    "for i in range(worldm):\n",
    "    A = np.append(A,[-homo_world[i,0],-homo_world[i,1],-homo_world[i,2],-homo_world[i,3],0,0,0,0,homo_image[i,0]*homo_world[i,0],homo_image[i,0]*homo_world[i,1],homo_image[i,0]*homo_world[i,2],homo_image[i,0]])\n",
    "    A = np.append(A,[0,0,0,0,-homo_world[i,0],-homo_world[i,1],-homo_world[i,2],-homo_world[i,3],homo_image[i,1]*homo_world[i,0],homo_image[i,1]*homo_world[i,1],homo_image[i,1]*homo_world[i,2],homo_image[i,1]])\n",
    "\n",
    "#A = np.append(Ax,Ay,axis = 0)"
   ]
  },
  {
   "cell_type": "code",
   "execution_count": null,
   "metadata": {},
   "outputs": [],
   "source": [
    "A.shape"
   ]
  },
  {
   "cell_type": "markdown",
   "metadata": {},
   "source": [
    "### SVD(Singular Value Decomposition)\n",
    "Solving a system of linear equations of the form Ax = 0 is equivalent to finding the null space of A. Thus, we can apply the SVD to solve Mp = 0 "
   ]
  },
  {
   "cell_type": "code",
   "execution_count": null,
   "metadata": {},
   "outputs": [],
   "source": [
    "# pass the list A as an array\n",
    "A = np.asarray(A).reshape(21*2,12)\n",
    "#print(A)\n",
    "print(A.shape)"
   ]
  },
  {
   "cell_type": "code",
   "execution_count": null,
   "metadata": {},
   "outputs": [],
   "source": []
  }
 ],
 "metadata": {
  "interpreter": {
   "hash": "60b5aa1117f644a56cfefa69a0b1d50bf1f82c4bfed82b1b696b6ab3098426bd"
  },
  "kernelspec": {
   "display_name": "Python 3.9.7 ('venv')",
   "language": "python",
   "name": "python3"
  },
  "language_info": {
   "codemirror_mode": {
    "name": "ipython",
    "version": 3
   },
   "file_extension": ".py",
   "mimetype": "text/x-python",
   "name": "python",
   "nbconvert_exporter": "python",
   "pygments_lexer": "ipython3",
   "version": "3.9.7"
  },
  "orig_nbformat": 4
 },
 "nbformat": 4,
 "nbformat_minor": 2
}
