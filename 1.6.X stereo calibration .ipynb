{
 "cells": [
  {
   "cell_type": "markdown",
   "metadata": {},
   "source": [
    "## 1.6.X Stereo Calibration "
   ]
  },
  {
   "cell_type": "markdown",
   "metadata": {},
   "source": [
    "### import  libraries"
   ]
  },
  {
   "cell_type": "code",
   "execution_count": 3,
   "metadata": {},
   "outputs": [],
   "source": [
    "# for vscode\n",
    "%matplotlib qt"
   ]
  },
  {
   "cell_type": "code",
   "execution_count": 4,
   "metadata": {},
   "outputs": [],
   "source": [
    "# for jupyter notebook\n",
    "\n",
    "# from mpl_toolkits.mplot3d import axes3d\n",
    "# import matplotlib.pyplot as plt\n",
    "\n",
    "# %matplotlib notebook"
   ]
  },
  {
   "cell_type": "code",
   "execution_count": 5,
   "metadata": {},
   "outputs": [],
   "source": [
    "import matplotlib.pyplot as plt\n",
    "import numpy as np\n",
    "import cv2 \n",
    "from typing import Sequence\n",
    "from calib_lib import *\n",
    "DECIMALS = 2  # how many decimal places to use in print\n"
   ]
  },
  {
   "cell_type": "code",
   "execution_count": 6,
   "metadata": {},
   "outputs": [],
   "source": [
    "F = 16                                       # focal length( in mm )\n",
    "image_size = np.array([11,7])               # sensor size(in pixels)\n",
    "PX= image_size[0]/2.0                       # principal point x-coordinate\n",
    "PY= image_size[1]/2.0                       # principal point y-coordinate\n",
    "IMAGE_HEIGTH = image_size[1]\n",
    "IMAGE_WIDTH = image_size[0]\n",
    "THETA_X = 0                                 # roll angle\n",
    "THETA_Y = 0                                 # pitch angle\n",
    "THETA_Z = 0                         # yaw angle\n",
    "\n",
    "\n",
    "# camera Right\n",
    "THETA_X_R = 0                                 # roll angle\n",
    "THETA_Y_R = 0                                 # pitch angle\n",
    "THETA_Z_R= 0                                 # yaw angle\n",
    "# camera Left\n",
    "THETA_X_L = 0                                 # roll angle\n",
    "THETA_Y_L = 0                                 # pitch angle\n",
    "THETA_Z_L= 0                                 # yaw angle\n",
    "\n",
    "C_L = np.array([0,0,4])                     # camera centre\n",
    "C_R = np.array([500,0,4])\n",
    "\n",
    "chess_dimx,chess_dimy = (8,6)\n",
    "chess_sq_size = 20\n"
   ]
  },
  {
   "cell_type": "code",
   "execution_count": 38,
   "metadata": {},
   "outputs": [],
   "source": [
    "world_pts = create_chessboard(chess_dimx,chess_dimy,chess_sq_size)\n",
    "X = get_chessboard_rot_trans(world_pts,rx = THETA_X,ry = THETA_Y,rz = THETA_Z,tx = 250,ty = 0,tz  = 20000)"
   ]
  },
  {
   "cell_type": "code",
   "execution_count": 39,
   "metadata": {},
   "outputs": [
    {
     "name": "stdout",
     "output_type": "stream",
     "text": [
      "Camera Matrix:\n",
      " [[ 1.78480923e+01 -4.85009327e-12  5.77862365e+00  7.10862030e+03]\n",
      " [-6.06858158e-12  1.78480923e+01  7.39919076e+00 -6.99140286e+04]\n",
      " [-2.20298622e-12 -5.74781392e-13  1.00000000e+00  2.30565331e+03]]\n",
      "Geometric error: 1.8094089036733107e-14\n"
     ]
    }
   ],
   "source": [
    "x_arr_L, X_arr_L, E_L = get_image_points(X,PX,PY,thetax=THETA_X_L,thetay = THETA_Y_L,thetaz = THETA_Z_L,trans_x= -C_L[0],trans_y= -C_L[1],trans_z= -C_L[2],F = F)\n",
    "\n",
    "X_h_L = to_homogeneus_arr(X_arr_L)\n",
    "x_h_L = to_homogeneus_arr(x_arr_L)\n",
    "\n",
    "P_n_L = DLT(x_h_L,X_h_L)\n",
    "\n",
    "print(\"Camera Matrix:\\n\",P_n_L)\n",
    "\n",
    "n_points = X_h_L.shape[0]\n",
    "xEst_L = np.zeros((n_points,2))\n",
    "\n",
    "for j in range(n_points):\n",
    "    X_pts = to_homogeneous(X_arr_L[j])\n",
    "    x_aux  = np.dot(P_n_L,X_pts)\n",
    "    xEst_L[j,:] = to_inhomogeneous(x_aux)\n",
    "    \n",
    "err_list_L = np.sqrt(np.mean(np.sum(np.square(x_arr_L-xEst_L), 1)))\n",
    "\n",
    "print(\"Geometric error:\",err_list_L)"
   ]
  },
  {
   "cell_type": "code",
   "execution_count": 40,
   "metadata": {},
   "outputs": [
    {
     "name": "stdout",
     "output_type": "stream",
     "text": [
      "Camera Matrix:\n",
      " [[ 2.79462636e+01  8.58258725e-12  8.55591044e+00  7.00079542e+03]\n",
      " [-1.85324564e-12  2.79462636e+01  1.57258700e+01 -1.92276950e+05]\n",
      " [ 7.04780770e-13  1.66431319e-12  1.00000000e+00  1.49258429e+04]]\n",
      "Geometric error: 1.725827941968811e-14\n"
     ]
    }
   ],
   "source": [
    "x_arr_R, X_arr_R, E_R = get_image_points(X,PX,PY,thetax = THETA_X_R,thetay = THETA_Y_R, thetaz = THETA_Z_R,trans_x= -C_R[0],trans_y= -C_R[1],trans_z= -C_R[2],F = F)\n",
    "\n",
    "X_h_R = to_homogeneus_arr(X_arr_R)\n",
    "x_h_R = to_homogeneus_arr(x_arr_R)\n",
    "\n",
    "\n",
    "P_n_R = DLT(x_h_R,X_h_R)\n",
    "\n",
    "\n",
    "print(\"Camera Matrix:\\n\",P_n_R)\n",
    "\n",
    "n_points = X_h_R.shape[0]\n",
    "xEst_R = np.zeros((n_points,2))\n",
    "\n",
    "for j in range(n_points):\n",
    "    X_pts = to_homogeneous(X_arr_R[j])\n",
    "    x_aux  = np.dot(P_n_R,X_pts)\n",
    "    xEst_R[j,:] = to_inhomogeneous(x_aux)\n",
    "    \n",
    "err_list_R = np.sqrt(np.mean(np.sum(np.square(x_arr_R-xEst_R), 1)))\n",
    "\n",
    "print(\"Geometric error:\",err_list_R)"
   ]
  },
  {
   "cell_type": "code",
   "execution_count": 41,
   "metadata": {},
   "outputs": [],
   "source": [
    "fig = plt.figure(figsize=(10,10))\n",
    "fig.suptitle('Left and Right image coordinates', fontsize=16)\n",
    "ax_L = fig.add_subplot(121)\n",
    "ax_L.plot(x_arr_L[:,0],x_arr_L[:,1], color = 'r',ls = \"None\", marker = \".\", label = 'Original')\n",
    "ax_L.set_title(\"reprojection error: \" + str(err_list_L))\n",
    "ax_L.set_xlabel(\"X axis\")\n",
    "ax_L.set_ylabel(\"Y axis\")\n",
    "ax_L.grid()\n",
    "ax_L.plot(xEst_L[:,0],xEst_L[:,1], color = 'b',ls = \"None\", marker = \".\", label = 'Estimation')\n",
    "ax_L.legend()\n",
    "ax_L.set_xlim([0,image_size[0]])\n",
    "ax_L.set_ylim([0,image_size[1]])\n",
    "\n",
    "ax_R = fig.add_subplot(122)\n",
    "ax_R.plot(x_arr_R[:,0],x_arr_R[:,1], color = 'r',ls = \"None\", marker = \".\", label = 'Original')\n",
    "ax_R.set_title(\"reprojection error: \" + str(err_list_R))\n",
    "ax_R.set_xlabel(\"X axis\")\n",
    "ax_R.set_ylabel(\"Y axis\")\n",
    "ax_R.grid()\n",
    "ax_R.plot(xEst_R[:,0],xEst_R[:,1], color = 'b',ls = \"None\", marker = \".\", label = 'Estimation')\n",
    "ax_R.legend()\n",
    "ax_R.set_xlim([0,image_size[0]])\n",
    "ax_R.set_ylim([0,image_size[1]])\n",
    "plt.show()"
   ]
  },
  {
   "cell_type": "code",
   "execution_count": 42,
   "metadata": {},
   "outputs": [],
   "source": [
    "world_origin = np.zeros(3)\n",
    "dx, dy, dz = np.eye(3)\n",
    "\n",
    "world_frame = ReferenceFrame(\n",
    "    origin=world_origin, \n",
    "    dx=dx, \n",
    "    dy=dy,\n",
    "    dz=dz,\n",
    "    name=\"World\",\n",
    ")\n",
    "camera_frameL = ReferenceFrame(\n",
    "    origin=C_L, \n",
    "    dx=E_L[:,:3] @ dx, \n",
    "    dy=E_L[:,:3] @ dy,\n",
    "    dz=E_L[:,:3] @ dz,\n",
    "    name=\"Camera 1 \",\n",
    ")\n",
    "camera_frameR = ReferenceFrame(\n",
    "    origin=C_R, \n",
    "    dx=E_R[:,:3] @ dx, \n",
    "    dy=E_R[:,:3] @ dy,\n",
    "    dz=E_R[:,:3] @ dz,\n",
    "    name=\"Camera 2\",\n",
    ")\n",
    "\n",
    "Z_L = PrincipalAxis(\n",
    "    camera_center=camera_frameL.origin,\n",
    "    camera_dz=camera_frameL.dz,\n",
    "    f=F,\n",
    ")\n",
    "Z_R = PrincipalAxis(\n",
    "    camera_center=camera_frameR.origin,\n",
    "    camera_dz=camera_frameR.dz,\n",
    "    f=F,\n",
    ")\n",
    "image_frameL = ReferenceFrame(\n",
    "    origin=Z_L.p - camera_frameL.dx * PX - camera_frameL.dy * PY, \n",
    "    dx=E_L[:,:3] @ dx, \n",
    "    dy=E_L[:,:3] @ dy,\n",
    "    dz=E_L[:,:3] @ dz,\n",
    "    name=\"Image\",\n",
    ")\n",
    "image_frameR = ReferenceFrame(\n",
    "    origin=Z_R.p - camera_frameR.dx * PX - camera_frameR.dy * PY, \n",
    "    dx=E_R[:,:3] @ dx, \n",
    "    dy=E_R[:,:3] @ dy,\n",
    "    dz=E_R[:,:3] @ dz,\n",
    "    name=\"Image\",\n",
    ")\n",
    "image_planeL = ImagePlane(\n",
    "    origin=image_frameL.origin, \n",
    "    dx=image_frameL.dx, \n",
    "    dy=image_frameL.dy, \n",
    "    heigth=IMAGE_HEIGTH,\n",
    "    width=IMAGE_WIDTH,\n",
    ")\n",
    "image_planeR = ImagePlane(\n",
    "    origin=image_frameR.origin, \n",
    "    dx=image_frameR.dx, \n",
    "    dy=image_frameR.dy, \n",
    "    heigth=IMAGE_HEIGTH,\n",
    "    width=IMAGE_WIDTH,\n",
    ")"
   ]
  },
  {
   "cell_type": "code",
   "execution_count": 43,
   "metadata": {},
   "outputs": [],
   "source": [
    "def get_plot_x(X,C,image_frame):\n",
    "    #X = np.array([[6, 2,5],[6,4,5]])                        # Create a random point\n",
    "    x = []\n",
    "    G = []\n",
    "    L = []\n",
    "    pi = []\n",
    "\n",
    "    for i in range(X.shape[0]):\n",
    "        G.append(GenericPoint(X[i], name=\"X\"))                   \n",
    "        L.append(get_plucker_matrix(C, X[i]))\n",
    "        X1 = image_frame.origin\n",
    "        X2 = X1 + image_frame.dx\n",
    "        X3 = X1 + image_frame.dy\n",
    "        pi.append(get_plane_from_three_points(X1, X2, X3))\n",
    "        x.append(to_inhomogeneous(L[i] @ pi[i]))\n",
    "\n",
    "    x_arr = np.array(x)\n",
    "\n",
    "    return x_arr, G, L,pi"
   ]
  },
  {
   "cell_type": "code",
   "execution_count": 44,
   "metadata": {},
   "outputs": [],
   "source": [
    "x_arr_L,G_L,L_L,pi_L = get_plot_x(X,C_L,image_frameL)\n",
    "x_arr_R,G_R,L_R,pi_R = get_plot_x(X,C_R,image_frameR)\n",
    "\n",
    "xL = image_planeL.frame_pts()\n",
    "xR = image_planeR.frame_pts()"
   ]
  },
  {
   "cell_type": "code",
   "execution_count": 45,
   "metadata": {},
   "outputs": [],
   "source": [
    "fig = plt.figure(figsize=(6, 6))\n",
    "ax = fig.add_subplot(projection=\"3d\")\n",
    "ax.text(*C_L, \"C\")\n",
    "world_frame.draw3d()\n",
    "camera_frameL.draw3d()\n",
    "camera_frameR.draw3d()\n",
    "image_frameL.draw3d()\n",
    "image_frameR.draw3d()\n",
    "Z_L.draw3d()\n",
    "Z_R.draw3d()\n",
    "image_planeL.draw3d()\n",
    "image_planeR.draw3d()\n",
    "for i in range(len(G_R)):\n",
    "    G_L[i].draw3d(pi_L[i], C=C_L)\n",
    "    G_R[i].draw3d(pi_R[i], C=C_R)\n",
    "    x_surface, y_surface, z_surface = get_plane(X,chess_dimx,chess_dimy)\n",
    "    ax.plot_surface(x_surface,y_surface,z_surface)\n",
    "\n",
    "ax.view_init(elev=30.0, azim=30.0)\n",
    "ax.set_xlabel(\"X-axis\")\n",
    "ax.set_ylabel(\"Y-axis\")\n",
    "ax.set_zlabel(\"Z-axis\")\n",
    "plt.tight_layout()\n",
    "plt.show()\n"
   ]
  },
  {
   "cell_type": "code",
   "execution_count": 15,
   "metadata": {},
   "outputs": [],
   "source": [
    "fig = plt.figure(figsize=(11,7))\n",
    "axs = fig.add_subplot( projection = '3d')\n",
    "axs.plot(xL[0,:],xL[1,:],xL[2,:])\n",
    "axs.scatter3D(x_arr_L[:,0],x_arr_L[:,1],x_arr_L[:,2])\n",
    "axs.plot(xR[0,:],xR[1,:],xR[2,:])\n",
    "axs.scatter3D(x_arr_R[:,0],x_arr_R[:,1],x_arr_R[:,2])\n",
    "axs.set_xlabel(\"X-axis\")\n",
    "axs.set_ylabel(\"Y-axis\")\n",
    "axs.set_zlabel(\"Z-axis\")\n",
    "plt.show()\n"
   ]
  },
  {
   "cell_type": "code",
   "execution_count": 16,
   "metadata": {},
   "outputs": [],
   "source": [
    "def triangle_area(x1,y1,x2,y2,x3,y3):\n",
    "    Triange_Area = abs((0.5)*(x1*(y2-y3)+x2*(y3-y1)+x3*(y1-y2)))\n",
    "\n",
    "    return Triange_Area\n",
    "\n",
    "def rectangle_area(x1,y1,x2,y2,x3,y3):\n",
    "    xDiff = abs(x1 - x2) # Using absolute value to ignore negatives\n",
    "    yDiff = abs(y2 - y3)\n",
    "\n",
    "    area = xDiff * yDiff\n",
    "\n",
    "    return area"
   ]
  },
  {
   "cell_type": "code",
   "execution_count": 17,
   "metadata": {},
   "outputs": [],
   "source": [
    "def coord_in_imageplane(xL,M):\n",
    "    A = np.array([xL[0,0],xL[1,0]])\n",
    "    B = np.array([xL[0,1],xL[1,1]])\n",
    "    C = np.array([xL[0,2],xL[1,2]])\n",
    "    D = np.array([xL[0,3],xL[1,3]])\n",
    "\n",
    "    M = np.array([M[0], M[1]]) \n",
    "    areaAMD = triangle_area(A[0],A[1],M[0],M[1],D[0],D[1])\n",
    "    areaDPC = triangle_area(D[0],D[1],M[0],M[1],C[0],C[1])\n",
    "    areaCMB = triangle_area(C[0],C[1],M[0],M[1],B[0],B[1])\n",
    "    areaMBA = triangle_area(M[0],M[1],B[0],B[1],A[0],A[1])\n",
    "\n",
    "    triangle_sum = areaAMD + areaDPC + areaCMB + areaMBA\n",
    "\n",
    "    area_rectangle = rectangle_area(A[0],A[1],B[0],B[1],C[0],C[1])\n",
    "    if(round(triangle_sum,2) > area_rectangle):\n",
    "        #print(\"The point\" + str(M) + \" is out of the rectangle.\")\n",
    "        point = 1\n",
    "    else:\n",
    "        point = 0\n",
    "    return point"
   ]
  },
  {
   "cell_type": "code",
   "execution_count": 18,
   "metadata": {},
   "outputs": [],
   "source": [
    "points_lostL = 0\n",
    "points_lostR = 0\n",
    "for i in range(x_arr_L.shape[0]):\n",
    "    if(coord_in_imageplane(xL,x_arr_L[i,:]) == 1):\n",
    "        points_lostL += 1\n",
    "for i in range(x_arr_R.shape[0]):\n",
    "    if(coord_in_imageplane(xR,x_arr_R[i,:]) == 1):\n",
    "        points_lostR += 1"
   ]
  },
  {
   "cell_type": "code",
   "execution_count": 19,
   "metadata": {},
   "outputs": [
    {
     "data": {
      "text/plain": [
       "0"
      ]
     },
     "execution_count": 19,
     "metadata": {},
     "output_type": "execute_result"
    }
   ],
   "source": [
    "points_lostR"
   ]
  },
  {
   "cell_type": "code",
   "execution_count": 20,
   "metadata": {},
   "outputs": [
    {
     "data": {
      "text/plain": [
       "0"
      ]
     },
     "execution_count": 20,
     "metadata": {},
     "output_type": "execute_result"
    }
   ],
   "source": [
    "points_lostL"
   ]
  },
  {
   "cell_type": "code",
   "execution_count": 53,
   "metadata": {},
   "outputs": [
    {
     "data": {
      "text/plain": [
       "-1600"
      ]
     },
     "execution_count": 53,
     "metadata": {},
     "output_type": "execute_result"
    }
   ],
   "source": [
    "yrange[2]"
   ]
  },
  {
   "cell_type": "markdown",
   "metadata": {},
   "source": [
    "## Multiple chessboards"
   ]
  },
  {
   "cell_type": "code",
   "execution_count": 141,
   "metadata": {},
   "outputs": [
    {
     "data": {
      "text/plain": [
       "70"
      ]
     },
     "execution_count": 141,
     "metadata": {},
     "output_type": "execute_result"
    }
   ],
   "source": [
    "translst= []\n",
    "\n",
    "zrange = ([20000])\n",
    "yrange = range(-4000,4500,1300)\n",
    "xrange = range(-6000,6800,1400)\n",
    "for z in zrange:\n",
    "    for x in  xrange:\n",
    "        for y in yrange:\n",
    "            translst.append([x,y,z])\n",
    "            \n",
    "len(translst)"
   ]
  },
  {
   "cell_type": "code",
   "execution_count": 142,
   "metadata": {},
   "outputs": [],
   "source": [
    "# chessboard print\n",
    "chess_pts = []\n",
    "world_pts = create_chessboard(chess_dimx,chess_dimy,chess_sq_size)\n",
    "rotangles = [[0,0,0],[np.pi/3,0,-np.pi/2],[np.pi/3,0,np.pi/2],[0,np.pi/3,np.pi/2],[0,-np.pi/3,np.pi/2]]\n",
    "\n",
    "for i in range(len(translst)):\n",
    "    for j in range(len(rotangles)):    \n",
    "        chess_pts.append(get_chessboard_rot_trans(world_pts,rotangles[j][0],rotangles[j][1],rotangles[j][2],translst[i][0],translst[i][1],translst[i][2]))\n",
    "\n",
    "chess_pts_arr = np.array(chess_pts)"
   ]
  },
  {
   "cell_type": "code",
   "execution_count": 143,
   "metadata": {},
   "outputs": [
    {
     "data": {
      "text/plain": [
       "(350, 63, 3)"
      ]
     },
     "execution_count": 143,
     "metadata": {},
     "output_type": "execute_result"
    }
   ],
   "source": [
    "chess_pts_arr.shape"
   ]
  },
  {
   "cell_type": "code",
   "execution_count": 128,
   "metadata": {},
   "outputs": [],
   "source": [
    "fig = plt.figure(figsize=(10, 11))\n",
    "ax = fig.add_subplot(projection=\"3d\")\n",
    "ax.text(*C_L, \"C\")\n",
    "world_frame.draw3d()\n",
    "camera_frameL.draw3d()\n",
    "camera_frameR.draw3d()\n",
    "image_frameL.draw3d()\n",
    "image_frameR.draw3d()\n",
    "Z_L.draw3d()\n",
    "Z_R.draw3d()\n",
    "image_planeL.draw3d()\n",
    "image_planeR.draw3d()\n",
    "\n",
    "for i in range(chess_pts_arr.shape[0]):\n",
    "    x_surface, y_surface, z_surface = get_plane(chess_pts_arr[i,:,:],chess_dimx,chess_dimy)\n",
    "    #print(x_surface)\n",
    "    ax.plot_surface(x_surface,y_surface,z_surface)\n",
    "\n",
    "ax.view_init(elev=30.0, azim=30.0)\n",
    "\n",
    "ax.set_title(f\"Representation of a calibration planes in 3D\")\n",
    "ax.set_xlabel(\"X-axis\")\n",
    "ax.set_ylabel(\"Y-axis\")\n",
    "ax.set_zlabel(\"Z-axis\")\n",
    "plt.tight_layout()\n",
    "plt.show()"
   ]
  },
  {
   "cell_type": "markdown",
   "metadata": {},
   "source": [
    "### Get the homographies of the different chessboards"
   ]
  },
  {
   "cell_type": "code",
   "execution_count": 144,
   "metadata": {},
   "outputs": [],
   "source": [
    "x_lst_R = []\n",
    "x_lst_L = []\n",
    "for i in range(chess_pts_arr.shape[0]):\n",
    "    x_arr_R, X_arr_R, E_R = get_image_points(chess_pts_arr[i,:,:],PX,PY,thetax= 0.0,thetay = 0.0,thetaz = 0.0,trans_x= -C_R[0],trans_y= -C_R[1],trans_z= -C_R[2],F = F)\n",
    "    x_arr_L, X_arr_L, E_L = get_image_points(chess_pts_arr[i,:,:],PX,PY,thetax= 0.0,thetay = 0.0,thetaz = 0.0,trans_x= -C_L[0],trans_y= -C_L[1],trans_z= -C_L[2],F = F)\n",
    "    \n",
    "    x_lst_R.append(x_arr_R)\n",
    "    x_lst_L.append(x_arr_L)\n",
    "\n",
    "x_zhang_R = np.array(x_lst_R,np.float32)\n",
    "x_zhang_L = np.array(x_lst_L,np.float32)\n",
    "# print(x_zhang_R.shape)\n",
    "# print(x_zhang_L.shape)"
   ]
  },
  {
   "cell_type": "code",
   "execution_count": 145,
   "metadata": {},
   "outputs": [],
   "source": [
    "fig = plt.figure(figsize=(20,11))\n",
    "\n",
    "nr_photo = 0\n",
    "ax_L = fig.add_subplot(121)\n",
    "ax_L.plot(x_zhang_L[:,:,0],x_zhang_L[:,:,1], color = 'r',ls = \"None\", marker = \".\", label = 'Left')\n",
    "ax_L.set_xlabel(\"X axis\")\n",
    "ax_L.set_ylabel(\"Y axis\")\n",
    "ax_L.grid()\n",
    "ax_L.set_xlim([0,image_size[0]])\n",
    "ax_L.set_ylim([0,image_size[1]])\n",
    "\n",
    "ax_R = fig.add_subplot(122)\n",
    "ax_R.plot(x_zhang_R[:,:,0],x_zhang_R[:,:,1], color = 'r',ls = \"None\", marker = \".\", label = 'Right')\n",
    "ax_R.set_xlabel(\"X axis\")\n",
    "ax_R.set_ylabel(\"Y axis\")\n",
    "ax_R.grid()\n",
    "ax_R.set_xlim([0,image_size[0]])\n",
    "ax_R.set_ylim([0,image_size[1]])\n",
    "plt.show()"
   ]
  },
  {
   "cell_type": "code",
   "execution_count": 27,
   "metadata": {},
   "outputs": [],
   "source": [
    "nr_photo = 0\n",
    "x_arr_L,G_L,L_L,pi_L = get_plot_x(chess_pts_arr[nr_photo,:,:],C_L,image_frameL)\n",
    "x_arr_R,G_R,L_R,pi_R = get_plot_x(chess_pts_arr[nr_photo,:,:],C_R,image_frameR)\n",
    "\n",
    "xL = image_planeL.frame_pts()\n",
    "xR = image_planeR.frame_pts()"
   ]
  },
  {
   "cell_type": "code",
   "execution_count": 28,
   "metadata": {},
   "outputs": [],
   "source": [
    "points_lostL = 0\n",
    "points_lostR = 0\n",
    "for i in range(x_arr_L.shape[0]):\n",
    "    if(coord_in_imageplane(xL,x_arr_L[i,:]) == 1):\n",
    "        points_lostL += 1\n",
    "for i in range(x_arr_R.shape[0]):\n",
    "    if(coord_in_imageplane(xR,x_arr_R[i,:]) == 1):\n",
    "        points_lostR += 1"
   ]
  },
  {
   "cell_type": "code",
   "execution_count": 29,
   "metadata": {},
   "outputs": [],
   "source": [
    "pattern_size_x,pattern_size_y = (chess_dimx,chess_dimy)\n",
    "\n",
    "X = np.linspace(0, pattern_size_x,pattern_size_x + 1)\n",
    "Y = np.linspace(0, pattern_size_y,pattern_size_y + 1)\n",
    "\n",
    "zdata = np.zeros((pattern_size_x + 1,pattern_size_y + 1))\n",
    "xdata, ydata = np.meshgrid(X, Y)\n",
    "\n",
    "xdata_ = xdata.flatten()\n",
    "ydata_ = ydata.flatten()\n",
    "zdata_ = zdata.flatten()\n",
    "# homogeneous coordinates\n",
    "world_pts =([xdata_,ydata_,zdata_])\n",
    "world_pts_ = np.array(world_pts).T\n",
    "\n",
    "world_pts_arr = np.zeros((chess_pts_arr.shape[0],(pattern_size_x+1)*(pattern_size_y+1),3),np.float32)\n",
    "for i in range(chess_pts_arr.shape[0]):\n",
    "    world_pts_arr[i,:,:] = world_pts_\n",
    "\n",
    "world_pts_arr = world_pts_arr.reshape(world_pts_arr.shape[0],1,(pattern_size_x+1)*(pattern_size_y+1),3)\n",
    "# world_pts_arr.shape"
   ]
  },
  {
   "cell_type": "code",
   "execution_count": 30,
   "metadata": {},
   "outputs": [],
   "source": [
    "#fig = plt.figure(figsize=(11,7))\n",
    "#ax = fig.add_subplot(121)\n",
    "#ax.scatter(x_zhang_R[0,:,0],x_zhang_R[0,:,1])\n",
    "#ax = fig.add_subplot(122)\n",
    "#ax.scatter(x_zhang_L[0,:,0],x_zhang_L[0,:,1])\n",
    "#plt.show()"
   ]
  },
  {
   "cell_type": "code",
   "execution_count": 31,
   "metadata": {},
   "outputs": [],
   "source": [
    "def repeat_func(xrange,yrange,zrange):\n",
    "\n",
    "    translst= []\n",
    "\n",
    "    for z in zrange:\n",
    "        for x in xrange:\n",
    "            for y in yrange:\n",
    "                translst.append([x,y,z])\n",
    "                \n",
    "    len(translst)\n",
    "    #print(translst)\n",
    "\n",
    "    # chessboard print\n",
    "    chess_pts = []\n",
    "    world_pts = create_chessboard(chess_dimx,chess_dimy,chess_sq_size)\n",
    "    rotangles = [[0,0,0],[np.pi/3,0,-np.pi/2],[np.pi/3,0,np.pi/2],[0,np.pi/3,np.pi/2],[0,-np.pi/3,np.pi/2]]\n",
    "\n",
    "    for i in range(len(translst)):\n",
    "        for j in range(len(rotangles)):    \n",
    "            chess_pts.append(get_chessboard_rot_trans(world_pts,rotangles[j][0],rotangles[j][1],rotangles[j][2],translst[i][0],translst[i][1],translst[i][2]))\n",
    "\n",
    "    chess_pts_arr = np.array(chess_pts)\n",
    "\n",
    "    pattern_size_x,pattern_size_y = (chess_dimx,chess_dimy)\n",
    "\n",
    "    X = np.linspace(0, pattern_size_x,pattern_size_x + 1)\n",
    "    Y = np.linspace(0, pattern_size_y,pattern_size_y + 1)\n",
    "\n",
    "    zdata = np.zeros((pattern_size_x + 1,pattern_size_y + 1))\n",
    "    xdata, ydata = np.meshgrid(X, Y)\n",
    "\n",
    "    xdata_ = xdata.flatten()\n",
    "    ydata_ = ydata.flatten()\n",
    "    zdata_ = zdata.flatten()\n",
    "    \n",
    "    # homogeneous coordinates\n",
    "    world_pts =([xdata_,ydata_,zdata_])\n",
    "    world_pts_ = np.array(world_pts).T\n",
    "\n",
    "    world_pts_arr = np.zeros((chess_pts_arr.shape[0],(pattern_size_x+1)*(pattern_size_y+1),3),np.float32)\n",
    "    for i in range(chess_pts_arr.shape[0]):\n",
    "        world_pts_arr[i,:,:] = world_pts_\n",
    "\n",
    "    world_pts_arr = world_pts_arr.reshape(world_pts_arr.shape[0],1,(pattern_size_x+1)*(pattern_size_y+1),3)\n",
    "    \n",
    "    x_lst_R = []\n",
    "    x_lst_L = []\n",
    "    for i in range(chess_pts_arr.shape[0]):\n",
    "        x_arr_R, X_arr_R, E_R = get_image_points(chess_pts_arr[i,:,:],PX,PY,thetax= 0,thetay = 0,thetaz = 0,trans_x= -C_R[0],trans_y= -C_R[1],trans_z= -C_R[2],F = F)\n",
    "        x_arr_L, X_arr_L, E_L = get_image_points(chess_pts_arr[i,:,:],PX,PY,thetax= 0,thetay = 0,thetaz = 0,trans_x= -C_L[0],trans_y= -C_L[1],trans_z= -C_L[2],F = F)\n",
    "        \n",
    "        x_lst_R.append(x_arr_R)\n",
    "        x_lst_L.append(x_arr_L)\n",
    "\n",
    "    x_zhang_R = np.array(x_lst_R,np.float32)\n",
    "    x_zhang_L = np.array(x_lst_L,np.float32)\n",
    "\n",
    "    print(\"World points: \",world_pts_arr.shape)\n",
    "    print(\"Image points: \",x_zhang_L.shape)\n",
    "\n",
    "\n",
    "    return world_pts_arr,x_zhang_R,x_zhang_L\n"
   ]
  },
  {
   "cell_type": "code",
   "execution_count": 32,
   "metadata": {},
   "outputs": [],
   "source": [
    "fig = plt.figure(figsize=(20,11))\n",
    "\n",
    "nr_photo = 0\n",
    "ax_L = fig.add_subplot(121)\n",
    "ax_L.plot(x_zhang_L[:,:,0],x_zhang_L[:,:,1], color = 'r',ls = \"None\", marker = \".\", label = 'Left')\n",
    "ax_L.set_xlabel(\"X axis\")\n",
    "ax_L.set_ylabel(\"Y axis\")\n",
    "ax_L.grid()\n",
    "ax_L.legend()\n",
    "ax_L.set_xlim([0,image_size[0]])\n",
    "ax_L.set_ylim([0,image_size[1]])\n",
    "\n",
    "ax_R = fig.add_subplot(122)\n",
    "ax_R.plot(x_zhang_R[:,:,0],x_zhang_R[:,:,1], color = 'r',ls = \"None\", marker = \".\", label = 'Right')\n",
    "ax_R.set_xlabel(\"X axis\")\n",
    "ax_R.set_ylabel(\"Y axis\")\n",
    "ax_R.grid()\n",
    "ax_R.legend()\n",
    "ax_R.set_xlim([0,image_size[0]])\n",
    "ax_R.set_ylim([0,image_size[1]])\n",
    "plt.show()"
   ]
  },
  {
   "cell_type": "code",
   "execution_count": 33,
   "metadata": {},
   "outputs": [],
   "source": [
    "def calib(world_pts_arr,x_zhang_R,x_zhang_L):    \n",
    "    ret_R, mtx_R, dist_R, rvecs_R, tvecs_R = cv2.calibrateCamera(world_pts_arr, x_zhang_R, (image_size[0],image_size[1]), None, None)\n",
    "    ret_L, mtx_L, dist_L, rvecs_L, tvecs_L = cv2.calibrateCamera(world_pts_arr, x_zhang_L, (image_size[0],image_size[1]), None, None)\n",
    "\n",
    "    flags = 0\n",
    "    flags |= cv2.CALIB_FIX_INTRINSIC\n",
    "    # Here we fix the intrinsic camara matrixes so that only Rot, Trns, Emat and Fmat are calculated.\n",
    "    # Hence intrinsic parameters are the same \n",
    "\n",
    "    criteria_stereo= (cv2.TERM_CRITERIA_EPS + cv2.TERM_CRITERIA_MAX_ITER, 30, 0.001)\n",
    "\n",
    "\n",
    "    # This step is performed to transformation between the two cameras and calculate Essential and Fundamenatl matrix\n",
    "    retS, new_mtxL, distL, new_mtxR, distR, Rot, Trns, Emat, Fmat = cv2.stereoCalibrate(world_pts_arr, x_zhang_L, x_zhang_R, mtx_L, dist_L, mtx_R, dist_R, (image_size[0],image_size[1]), criteria_stereo, flags)\n",
    "\n",
    "    return ret_R,mtx_R,ret_L,mtx_L,retS,new_mtxL,new_mtxR,Rot,Trns,Emat,Fmat"
   ]
  },
  {
   "cell_type": "code",
   "execution_count": 146,
   "metadata": {},
   "outputs": [
    {
     "name": "stdout",
     "output_type": "stream",
     "text": [
      "World points:  (350, 1, 63, 3)\n",
      "Image points:  (350, 63, 2)\n",
      "[[2.7417613841354535e-06]]\n",
      "[[2.734323189229067e-06]]\n",
      "[[0.00014042424842641892]]\n"
     ]
    }
   ],
   "source": [
    "ret_R_list = []\n",
    "mtx_R_list = []\n",
    "ret_L_list = []\n",
    "mtx_L_list = []\n",
    "retS_list = []\n",
    "new_mtxL_list = []\n",
    "new_mtxR_list = []\n",
    "Rot_list = []\n",
    "Trns_list = []\n",
    "Emat_list = []\n",
    "Fmat_list = []\n",
    "\n",
    "# xrange_0 = np.linspace(-750,1000,2)\n",
    "# yrange_0 = ([0])\n",
    "# zrange_0 = ([4000])\n",
    "\n",
    "# xrange_1 = np.linspace(-750,1000,4)\n",
    "\n",
    "# zrange_2 = ([4000,5000])\n",
    "\n",
    "# yrange_3 = np.linspace(-750,750,4)\n",
    "\n",
    "# yrange_4 = np.linspace(-750,750,8)\n",
    "# xrange_4 = np.linspace(-750,1000,8)\n",
    "# zrange_4 = ([4000,6000,8000])\n",
    "\n",
    "# yrange_4 = np.linspace(-750,750,10)\n",
    "# xrange_4 = np.linspace(-1000,1000,)\n",
    "# zrange_4 = ([4000,6000,8000,10000])\n",
    "\n",
    "\n",
    "# yrange_5 = np.linspace(-1000,1000,8)\n",
    "# xrange_5 = np.linspace(-1000,1000,8)\n",
    "# zrange_5 = ([4000,6000,8000,10000])\n",
    "\n",
    "# x_range = ([xrange_0,xrange_1,xrange_1,xrange_1])\n",
    "# y_range = ([yrange_0,yrange_0,yrange_0,yrange_3])\n",
    "# z_range = ([zrange_0,zrange_0,zrange_2,zrange_2])\n",
    "\n",
    "\n",
    "zrange_4 = ([20000])\n",
    "yrange_4 = range(-4000,4500,1300)\n",
    "xrange_4 = range(-6000,6800,1400)\n",
    "\n",
    "x_range = ([xrange_4])\n",
    "y_range = ([yrange_4])\n",
    "z_range = ([zrange_4])\n",
    "\n",
    "for i in range(len(z_range)):\n",
    "\n",
    "    world_pts_arr = 0\n",
    "    x_zhang_R = 0\n",
    "    x_zhang_L = 0\n",
    "    \n",
    "    world_pts_arr,x_zhang_R,x_zhang_L = repeat_func(x_range[i],y_range[i],z_range[i])\n",
    "\n",
    "    ret_R,mtx_R,ret_L,mtx_L,retS,new_mtxL,new_mtxR,Rot,Trns,Emat,Fmat = calib(world_pts_arr,x_zhang_R,x_zhang_L)\n",
    "\n",
    "    ret_R_list.append([ret_R])\n",
    "    mtx_R_list.append([mtx_R])\n",
    "    ret_L_list.append([ret_L])\n",
    "    mtx_L_list.append([mtx_L])\n",
    "    retS_list.append([retS])\n",
    "    new_mtxL_list.append([new_mtxL])\n",
    "    new_mtxR_list.append([new_mtxR])\n",
    "    Rot_list.append([Rot])\n",
    "    Trns_list.append([Trns])\n",
    "    Emat_list.append([Emat])\n",
    "    Fmat_list.append([Fmat])\n",
    "\n",
    "    print(ret_R_list)\n",
    "    print(ret_L_list)\n",
    "    print(retS_list)"
   ]
  },
  {
   "cell_type": "code",
   "execution_count": null,
   "metadata": {},
   "outputs": [],
   "source": [
    "retS_list"
   ]
  },
  {
   "cell_type": "code",
   "execution_count": null,
   "metadata": {},
   "outputs": [],
   "source": [
    "ret_R, mtx_R, dist_R, rvecs_R, tvecs_R = cv2.calibrateCamera(world_pts_arr, x_zhang_R, (image_size[0],image_size[1]), None, None)"
   ]
  },
  {
   "cell_type": "code",
   "execution_count": null,
   "metadata": {},
   "outputs": [],
   "source": [
    "print(\"Right matrix:\\n\",mtx_R)\n",
    "print(\"reprojetion error:\\n\",ret_R)"
   ]
  },
  {
   "cell_type": "code",
   "execution_count": null,
   "metadata": {},
   "outputs": [],
   "source": [
    "# Returns the new camera intrinsic matrix based on the free scaling parameter\n",
    "new_mtx_R = cv2.getOptimalNewCameraMatrix(mtx_R,dist_R,(image_size[0],image_size[1]),1,(image_size[0],image_size[1]))\n",
    "print(\"Optimal Right matrix:\\n\",new_mtx_R[0])\n"
   ]
  },
  {
   "cell_type": "code",
   "execution_count": null,
   "metadata": {},
   "outputs": [],
   "source": [
    "ret_L, mtx_L, dist_L, rvecs_L, tvecs_L = cv2.calibrateCamera(world_pts_arr, x_zhang_L, (image_size[0],image_size[1]), None, None)"
   ]
  },
  {
   "cell_type": "code",
   "execution_count": null,
   "metadata": {},
   "outputs": [],
   "source": [
    "print(\"Left matrix:\\n\",mtx_L)\n",
    "print(\"reprojetion error:\\n\",ret_L)"
   ]
  },
  {
   "cell_type": "code",
   "execution_count": null,
   "metadata": {},
   "outputs": [],
   "source": [
    "# Returns the new camera intrinsic matrix based on the free scaling parameter\n",
    "new_mtx_L = cv2.getOptimalNewCameraMatrix(mtx_L,dist_L,(image_size[0],image_size[1]),1,(image_size[0],image_size[1]))"
   ]
  },
  {
   "cell_type": "code",
   "execution_count": null,
   "metadata": {},
   "outputs": [],
   "source": [
    "print(\"Optimal Left matrix:\\n\",new_mtx_L[0])"
   ]
  },
  {
   "cell_type": "code",
   "execution_count": null,
   "metadata": {},
   "outputs": [],
   "source": [
    "flags = 0\n",
    "flags |= cv2.CALIB_FIX_INTRINSIC\n",
    "# Here we fix the intrinsic camara matrixes so that only Rot, Trns, Emat and Fmat are calculated.\n",
    "# Hence intrinsic parameters are the same \n",
    "\n",
    "criteria_stereo= (cv2.TERM_CRITERIA_EPS + cv2.TERM_CRITERIA_MAX_ITER, 30, 0.001)\n",
    "\n",
    "\n",
    "# This step is performed to transformation between the two cameras and calculate Essential and Fundamenatl matrix\n",
    "retS, new_mtxL, distL, new_mtxR, distR, Rot, Trns, Emat, Fmat = cv2.stereoCalibrate(world_pts_arr, x_zhang_L, x_zhang_R, mtx_L, dist_L, mtx_R, dist_R, (image_size[0],image_size[1]), criteria_stereo, flags)\n"
   ]
  },
  {
   "cell_type": "code",
   "execution_count": null,
   "metadata": {},
   "outputs": [],
   "source": [
    "retS"
   ]
  },
  {
   "cell_type": "code",
   "execution_count": null,
   "metadata": {},
   "outputs": [],
   "source": [
    "new_mtxL"
   ]
  },
  {
   "cell_type": "code",
   "execution_count": null,
   "metadata": {},
   "outputs": [],
   "source": []
  }
 ],
 "metadata": {
  "interpreter": {
   "hash": "9a1e11f5a9d6a633cc6edcb944e6a353ce0832dacf7c6ded8f94bd883e52ad00"
  },
  "kernelspec": {
   "display_name": "calibration-venv",
   "language": "python",
   "name": "python3"
  },
  "language_info": {
   "codemirror_mode": {
    "name": "ipython",
    "version": 3
   },
   "file_extension": ".py",
   "mimetype": "text/x-python",
   "name": "python",
   "nbconvert_exporter": "python",
   "pygments_lexer": "ipython3",
   "version": "3.10.4"
  }
 },
 "nbformat": 4,
 "nbformat_minor": 2
}
