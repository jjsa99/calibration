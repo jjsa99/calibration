{
 "cells": [
  {
   "cell_type": "markdown",
   "metadata": {},
   "source": [
    "## 3.1.3. Realistic simulation setup\n",
    "Script for the case of having a spot inbetween 4 pixels"
   ]
  },
  {
   "cell_type": "markdown",
   "metadata": {},
   "source": [
    "### Plot spot with pixel diameter\n",
    "- ~~create a mesh with pixel size distance corners~~\n",
    "- ~~create a spot centered in the middle of the plane~~\n",
    "- ~~Pass the spot through the mesh~~ \n",
    "- ~~Each pixel that has the spot goes to a micro mesh~~\n",
    "- ~~Each micropixel that has the spot sum.~~\n",
    "- ~~Consider the case where the spot is inbetween two pixels~~\n",
    "    - ~~Expand the mesh by 1 in each direction~~\n",
    "- Consider the case where the spot is inbetween 4 pixels"
   ]
  },
  {
   "cell_type": "markdown",
   "metadata": {},
   "source": [
    "### import  libraries"
   ]
  },
  {
   "cell_type": "code",
   "execution_count": 1,
   "metadata": {},
   "outputs": [],
   "source": [
    "vscode = 1"
   ]
  },
  {
   "cell_type": "code",
   "execution_count": 2,
   "metadata": {},
   "outputs": [],
   "source": [
    "if(vscode == 0):\n",
    "    # for vscode\n",
    "    # for jupyter notebook\n",
    "    from mpl_toolkits.mplot3d import axes3d\n",
    "    import matplotlib.pyplot as plt\n",
    "\n",
    "    %matplotlib notebook\n",
    "elif(vscode == 1):\n",
    "    %matplotlib qt\n",
    "    "
   ]
  },
  {
   "cell_type": "code",
   "execution_count": 3,
   "metadata": {},
   "outputs": [],
   "source": [
    "import matplotlib.pyplot as plt\n",
    "import numpy as np\n",
    "import cv2 \n",
    "from typing import Sequence\n",
    "from calib_lib import *\n",
    "from matplotlib.collections import PatchCollection      # pathcoletion for multiple patches\n",
    "import matplotlib.cm as cm                              # for colormaps\n",
    "from matplotlib.patches import Rectangle                # for rectangle representation\n",
    "\n",
    "\n",
    "\n",
    "DECIMALS = 2            # how many decimal places to use in print\n"
   ]
  },
  {
   "cell_type": "code",
   "execution_count": 4,
   "metadata": {},
   "outputs": [],
   "source": [
    "F = 16                                       # focal length( in mm )\n",
    "image_size = np.array([1936,1216])               # sensor size(in mm)\n",
    "#image_size = np.array([11.345,7.126])\n",
    "pixel_width = 5.86e-3                       # pixel size in mm\n",
    "PX= image_size[0]/2.0                       # principal point x-coordinate\n",
    "PY= image_size[1]/2.0                       # principal point y-coordinate\n",
    "IMAGE_HEIGTH = image_size[1]\n",
    "IMAGE_WIDTH = image_size[0]\n",
    "THETA_X = 0                                 # roll angle\n",
    "THETA_Y = 0                                 # pitch angle\n",
    "THETA_Z = 0                         # yaw angle\n",
    "\n",
    "\n",
    "# camera Right\n",
    "THETA_X_R = 0                                 # roll angle\n",
    "THETA_Y_R = 0                                 # pitch angle\n",
    "THETA_Z_R= 0                                 # yaw angle\n",
    "# camera Left\n",
    "THETA_X_L = 0                                 # roll angle\n",
    "THETA_Y_L = 0                                 # pitch angle\n",
    "THETA_Z_L= 0                                 # yaw angle\n",
    "\n",
    "C_L = np.array([0,0,0])                     # camera centre\n",
    "C_R = np.array([500,0,0])\n",
    "\n",
    "chess_dimx,chess_dimy = (13,9)\n",
    "chess_sq_size = 44"
   ]
  },
  {
   "cell_type": "markdown",
   "metadata": {},
   "source": [
    "## Spot between 4 pixels without touching the corners\n",
    "- consider the centroid and mark the pixels"
   ]
  },
  {
   "cell_type": "markdown",
   "metadata": {},
   "source": [
    "### Spot "
   ]
  },
  {
   "cell_type": "code",
   "execution_count": 5,
   "metadata": {},
   "outputs": [],
   "source": [
    "# Generate pixel grid\n",
    "pixelGridX  = (np.arange(0,image_size[0])) * pixel_width\n",
    "pixelGridY  = (np.arange(0,image_size[1])) * pixel_width\n",
    "pixelGridXX, pixelGridYY = np.meshgrid(pixelGridX,pixelGridY)"
   ]
  },
  {
   "cell_type": "code",
   "execution_count": 6,
   "metadata": {},
   "outputs": [],
   "source": [
    "def spot_center_coord(cx0,cy0,pixelGridX,pixelGridY):\n",
    "    cx0_max = np.where((cx0 < pixelGridX))\n",
    "    cx0_min = np.where((cx0 > pixelGridX))\n",
    "    #print(cx0_max[0][0])\n",
    "    #print(cx0_min[0][-1])\n",
    "    cy0_max = np.where((cy0 < pixelGridY))\n",
    "    cy0_min = np.where((cy0 > pixelGridY))\n",
    "    #print(cy0_max[0][0])\n",
    "    #print(cy0_min[0][-1])\n",
    "\n",
    "    return cx0_max[0][0],cx0_min[0][-1],cy0_max[0][0],cy0_min[0][-1]"
   ]
  },
  {
   "cell_type": "code",
   "execution_count": 7,
   "metadata": {},
   "outputs": [],
   "source": [
    "#spot centroid coordinates \n",
    "cx0 = 5.67248\n",
    "cy0 = 3.56288"
   ]
  },
  {
   "cell_type": "code",
   "execution_count": 8,
   "metadata": {},
   "outputs": [],
   "source": [
    "gridSize = 1024\n",
    "theta = np.linspace(0, 2*np.pi, gridSize)\n",
    "r = pixel_width/4\n",
    "x0 = r*np.cos(theta)+(cx0)\n",
    "y0 = r*np.sin(theta)+(cy0)\n",
    "\n",
    "circ1 = np.sqrt((pixelGridXX-cx0)**2 + (pixelGridYY-cy0)**2) <= r\n",
    "circ = np.where(circ1 == True)\n",
    "\n",
    "fig, ax = plt.subplots()\n",
    "ax.plot(pixelGridXX,pixelGridYY)\n",
    "ax.plot(pixelGridXX.T,pixelGridYY.T)\n",
    "ax.plot(x0,y0, linewidth=4)\n",
    "ax.plot(pixelGridX[circ[1][:]],pixelGridY[circ[0][:]],'r*')\n",
    "ax.plot(cx0,cy0,'k.')\n",
    "\n",
    "ax.set_xlim([cx0-(2*pixel_width),cx0+(2*pixel_width)])\n",
    "ax.set_ylim([cy0-(2*pixel_width),cy0+(2*pixel_width)])\n",
    "\n",
    "cx0max,cx0min,cy0max,cy0min = spot_center_coord(cx0,cy0,pixelGridX,pixelGridY)\n",
    "\n",
    "# max and min points in (x,y) coordinates\n",
    "cx0min_pxl = cx0min*pixel_width\n",
    "cx0max_pxl = cx0max*pixel_width\n",
    "cy0min_pxl = cy0min*pixel_width\n",
    "cy0max_pxl = cy0max*pixel_width\n",
    "\n",
    "#array max and min points\n",
    "points_max_min = np.array([[cx0min_pxl,cy0min_pxl],\n",
    "                            [cx0min_pxl,cy0max_pxl],\n",
    "                            [cx0max_pxl,cy0min_pxl],\n",
    "                            [cx0max_pxl,cy0max_pxl]])\n",
    "\n",
    "# plot the max and min points\n",
    "ax.plot(cx0min_pxl,cy0min_pxl,'b*')\n",
    "ax.plot(cx0min_pxl,cy0max_pxl,'b*')\n",
    "ax.plot(cx0max_pxl,cy0min_pxl,'b*')\n",
    "ax.plot(cx0max_pxl,cy0max_pxl,'b*')\n",
    "\n",
    "ax.set_aspect(1)\n",
    "plt.show()"
   ]
  },
  {
   "cell_type": "markdown",
   "metadata": {},
   "source": [
    "### Number of pixels inbetween"
   ]
  },
  {
   "cell_type": "code",
   "execution_count": 9,
   "metadata": {},
   "outputs": [
    {
     "name": "stdout",
     "output_type": "stream",
     "text": [
      "number of pixels in the x axis with the spot: 2.0\n",
      "number of pixels in the y axis with the spot: 2.0\n"
     ]
    }
   ],
   "source": [
    "nr_pixel_x = ((cx0max*pixel_width)-(cx0min*pixel_width))/pixel_width\n",
    "print(\"number of pixels in the x axis with the spot:\",np.round(nr_pixel_x))\n",
    "nr_pixel_y = ((cy0max*pixel_width)-(cy0min*pixel_width))/pixel_width\n",
    "print(\"number of pixels in the y axis with the spot:\", np.round(nr_pixel_y))"
   ]
  },
  {
   "cell_type": "markdown",
   "metadata": {},
   "source": [
    "## Plot everything"
   ]
  },
  {
   "cell_type": "code",
   "execution_count": 10,
   "metadata": {},
   "outputs": [],
   "source": [
    "def pixel_cover_finder(gridSize,cx0max,cy0max,cx0,cy0,r):\n",
    "    # in order to 360 arount the point\n",
    "    pixel_orient = np.array([[1,1],[1,-1],[-1,1],[-1,-1]])\n",
    "\n",
    "    # array for percentage storage\n",
    "    pixel_covered_percent = np.zeros((4,))\n",
    "\n",
    "    xgrid = np.linspace(0,1,gridSize)*pixel_width\n",
    "    ygrid = np.linspace(0,1,gridSize)*pixel_width\n",
    "    for i in range(4):\n",
    "        x_pixel = (cx0max)+(xgrid*pixel_orient[i,0])\n",
    "        y_pixel = (cy0max)+(ygrid*pixel_orient[i,1])\n",
    "\n",
    "        xx_pixel, yy_pixel = np.meshgrid(x_pixel,y_pixel)\n",
    "\n",
    "        circ_total = np.sqrt((xx_pixel-cx0)**2 + (yy_pixel-cy0)**2) <= r\n",
    "        circ = np.where(circ_total == True)\n",
    "\n",
    "        pixel_covered = circ[0].shape\n",
    "        totalpixel_area = gridSize**2\n",
    "        pixel_covered_percent[i] = (pixel_covered[0]/totalpixel_area)*100\n",
    "        #print(\"pixel cover percentage: \" + str(pixel_covered_percent[i]) + \" %\")\n",
    "\n",
    "    return pixel_covered_percent\n",
    "\n",
    "    "
   ]
  },
  {
   "cell_type": "code",
   "execution_count": 11,
   "metadata": {},
   "outputs": [],
   "source": [
    "fig,ax = plt.subplots()\n",
    "pixel_orient = np.array([[1,1],[1,-1],[-1,1],[-1,-1]])\n",
    "# center of the pixel\n",
    "ax.plot(cx0,cy0,'k.')\n",
    "#axis\n",
    "ax.plot(pixelGridXX,pixelGridYY,'r')\n",
    "ax.plot(pixelGridXX.T,pixelGridYY.T,'b')\n",
    "#spot\n",
    "ax.plot(x0,y0, linewidth=1)\n",
    "# list for the patches\n",
    "ptchs =[]\n",
    "#pixel cover list\n",
    "pixel_covered_percent = []\n",
    "for j in range(len(points_max_min)):\n",
    "    pixel_covered_percent.append(pixel_cover_finder(gridSize,points_max_min[j,0],points_max_min[j,1],cx0,cy0,r))\n",
    "    for i in range(4):\n",
    "        ptchs.append(Rectangle((points_max_min[j,0],points_max_min[j,1]), pixel_orient[i,0]*pixel_width,pixel_orient[i,1]*pixel_width))\n",
    "\n",
    "p = PatchCollection(ptchs, cmap=cm.jet, alpha=1)\n",
    "pixel_covered_percent_arr = np.array(pixel_covered_percent).flatten()\n",
    "# define the color\n",
    "p.set_array(pixel_covered_percent_arr)\n",
    "# set color max and min\n",
    "p.set_clim([0, 100])\n",
    "ax.add_collection(p)\n",
    "\n",
    "fig.colorbar(p)\n",
    "\n",
    "ax.set_xlim([cx0-(3*pixel_width),cx0+(3*pixel_width)])\n",
    "ax.set_ylim([cy0-(3*pixel_width),cy0+(3*pixel_width)])\n",
    "\n",
    "ax.set_aspect(1)\n",
    "\n",
    "plt.show()"
   ]
  },
  {
   "cell_type": "code",
   "execution_count": null,
   "metadata": {},
   "outputs": [],
   "source": []
  }
 ],
 "metadata": {
  "kernelspec": {
   "display_name": "TensorFlow & OpenCv",
   "language": "python",
   "name": "thesis"
  },
  "language_info": {
   "codemirror_mode": {
    "name": "ipython",
    "version": 3
   },
   "file_extension": ".py",
   "mimetype": "text/x-python",
   "name": "python",
   "nbconvert_exporter": "python",
   "pygments_lexer": "ipython3",
   "version": "3.8.5"
  },
  "orig_nbformat": 4
 },
 "nbformat": 4,
 "nbformat_minor": 2
}
