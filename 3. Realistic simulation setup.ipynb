{
 "cells": [
  {
   "cell_type": "markdown",
   "metadata": {},
   "source": [
    "## 3. Realistic simulation setup\n",
    "- Generate the world points:\n",
    "    - ~~Generate a spot~~\n",
    "    - ~~apply the grid~~\n",
    "    - discretization of the spot\n",
    "    - Multiple spots\n",
    "    - Each spot has 1cm diameter, the distance between corners is 2cm.\n",
    "    - Each spot must have 4 world points."
   ]
  },
  {
   "cell_type": "markdown",
   "metadata": {},
   "source": [
    "### import  libraries"
   ]
  },
  {
   "cell_type": "code",
   "execution_count": 140,
   "metadata": {},
   "outputs": [],
   "source": [
    "vscode = 1"
   ]
  },
  {
   "cell_type": "code",
   "execution_count": 141,
   "metadata": {},
   "outputs": [],
   "source": [
    "if(vscode == 0):\n",
    "    # for vscode\n",
    "    # for jupyter notebook\n",
    "    from mpl_toolkits.mplot3d import axes3d\n",
    "    import matplotlib.pyplot as plt\n",
    "\n",
    "    %matplotlib notebook\n",
    "elif(vscode == 1):\n",
    "    %matplotlib qt\n",
    "    "
   ]
  },
  {
   "cell_type": "code",
   "execution_count": 142,
   "metadata": {},
   "outputs": [],
   "source": [
    "import matplotlib.pyplot as plt\n",
    "import numpy as np\n",
    "import cv2 \n",
    "from typing import Sequence\n",
    "from calib_lib import *\n",
    "DECIMALS = 2            # how many decimal places to use in print\n"
   ]
  },
  {
   "cell_type": "markdown",
   "metadata": {},
   "source": [
    "### Generate World spots"
   ]
  },
  {
   "cell_type": "code",
   "execution_count": 143,
   "metadata": {},
   "outputs": [],
   "source": [
    "F = 16                                       # focal length( in mm )\n",
    "image_size = np.array([1936,1216])               # sensor size(in mm)\n",
    "image_size = np.array([11.345,7.126])\n",
    "pixel_width = 5.86e-3                       # pixel size in mm\n",
    "PX= image_size[0]/2.0                       # principal point x-coordinate\n",
    "PY= image_size[1]/2.0                       # principal point y-coordinate\n",
    "IMAGE_HEIGTH = image_size[1]\n",
    "IMAGE_WIDTH = image_size[0]\n",
    "THETA_X = 0                                 # roll angle\n",
    "THETA_Y = 0                                 # pitch angle\n",
    "THETA_Z = 0                         # yaw angle\n",
    "\n",
    "\n",
    "# camera Right\n",
    "THETA_X_R = 0                                 # roll angle\n",
    "THETA_Y_R = 0                                 # pitch angle\n",
    "THETA_Z_R= 0                                 # yaw angle\n",
    "# camera Left\n",
    "THETA_X_L = 0                                 # roll angle\n",
    "THETA_Y_L = 0                                 # pitch angle\n",
    "THETA_Z_L= 0                                 # yaw angle\n",
    "\n",
    "C_L = np.array([0,0,0])                     # camera centre\n",
    "C_R = np.array([500,0,0])\n",
    "\n",
    "chess_dimx,chess_dimy = (13,9)\n",
    "chess_sq_size = 44"
   ]
  },
  {
   "cell_type": "markdown",
   "metadata": {},
   "source": [
    "## Generate spots\n",
    "Generate spots with 1cm diameter, which equates to 4 spots displaced in a retangular shape."
   ]
  },
  {
   "cell_type": "code",
   "execution_count": 144,
   "metadata": {},
   "outputs": [
    {
     "data": {
      "text/plain": [
       "[<mpl_toolkits.mplot3d.art3d.Line3D at 0x220866ecb80>]"
      ]
     },
     "execution_count": 144,
     "metadata": {},
     "output_type": "execute_result"
    }
   ],
   "source": [
    "zdistance = 10000 # 10 meters\n",
    "spots = np.array([[245,110,zdistance],\n",
    "         [250,115,zdistance],\n",
    "         [255,110,zdistance],\n",
    "         [250,105,zdistance]])\n",
    "fig = plt.figure(figsize = (20,8))\n",
    "ax = fig.add_subplot( projection = '3d')\n",
    "ax.plot(spots[:,0],spots[:,1],spots[:,2], color = 'r',ls = \"None\", marker = \"*\",label = \"World point w/ 1 cm diameter\")\n"
   ]
  },
  {
   "cell_type": "code",
   "execution_count": 145,
   "metadata": {},
   "outputs": [
    {
     "name": "stdout",
     "output_type": "stream",
     "text": [
      "[[6.0645 3.739 ]\n",
      " [6.0725 3.747 ]\n",
      " [6.0805 3.739 ]\n",
      " [6.0725 3.731 ]]\n",
      "[[5.2645 3.739 ]\n",
      " [5.2725 3.747 ]\n",
      " [5.2805 3.739 ]\n",
      " [5.2725 3.731 ]]\n"
     ]
    }
   ],
   "source": [
    "x_arr_L, X_arr_L, E_L,K_L, P_L = get_image_points(spots,PX,PY,thetax=THETA_X_L,thetay = THETA_Y_L,thetaz = THETA_Z_L,trans_x= -C_L[0],trans_y= -C_L[1],trans_z= -C_L[2],F = F)\n",
    "print(x_arr_L)\n",
    "x_arr_R, X_arr_R, E_R, K_R,P_R = get_image_points(spots,PX,PY,thetax = THETA_X_R,thetay = THETA_Y_R, thetaz = THETA_Z_R,trans_x= -C_R[0],trans_y= -C_R[1],trans_z= -C_R[2],F = F)\n",
    "print(x_arr_R)"
   ]
  },
  {
   "cell_type": "markdown",
   "metadata": {},
   "source": [
    "## Find the circle\n",
    "Find the circle based on 3 points\n"
   ]
  },
  {
   "cell_type": "code",
   "execution_count": 146,
   "metadata": {},
   "outputs": [],
   "source": [
    "def findcircle(x_arr):\n",
    "    Ax  = x_arr[0,0]\n",
    "    Ay  = x_arr[0,1]\n",
    "    Bx  = x_arr[1,0]\n",
    "    By  = x_arr[1,1]\n",
    "    Cx  = x_arr[2,0]\n",
    "    Cy  = x_arr[2,1]\n",
    "    Dx  = x_arr[3,0]\n",
    "    Dy  = x_arr[3,1]\n",
    "\n",
    "    radius = (Cx-Ax)/2\n",
    "    circle_x = (Ax+Cx)/2\n",
    "    circle_y = (By+Dy)/2\n",
    "    return circle_x,circle_y,radius\n",
    "\n",
    "def createcircle(x_arr,nrpoints = 100):\n",
    "\n",
    "    circle_x,circle_y,radius = findcircle(x_arr)\n",
    "\n",
    "    theta = np.linspace(0, 2*np.pi, nrpoints)\n",
    "    r  = radius\n",
    "    x = r*np.cos(theta)\n",
    "    y = r*np.sin(theta)\n",
    "\n",
    "    return x+circle_x, y+circle_y,radius"
   ]
  },
  {
   "cell_type": "code",
   "execution_count": 147,
   "metadata": {},
   "outputs": [
    {
     "name": "stdout",
     "output_type": "stream",
     "text": [
      "radius:  0.008000000000000007\n"
     ]
    }
   ],
   "source": [
    "circle_x,circle_y,radius = findcircle(x_arr_R)\n",
    "print(\"radius: \",radius)"
   ]
  },
  {
   "cell_type": "markdown",
   "metadata": {},
   "source": [
    "## Plot of the spot in the image plane"
   ]
  },
  {
   "cell_type": "code",
   "execution_count": 148,
   "metadata": {},
   "outputs": [],
   "source": [
    "image_size_pixel = np.array([1936,1216])               # sensor size(in mm)\n",
    "fig = plt.figure(figsize=(10,10))\n",
    "fig.suptitle('Left and Right image coordinates', fontsize=16)\n",
    "\n",
    "ax_L_orig = fig.add_subplot(121)\n",
    "ax_L_orig.plot(x_arr_L[:,0],x_arr_L[:,1], color = 'r',ls = \"None\", marker = \".\", label = 'Original')\n",
    "ax_L_orig.set_xlabel(\"X axis\")\n",
    "ax_L_orig.set_ylabel(\"Y axis\")\n",
    "ax_L_orig.grid()\n",
    "ax_L_orig.legend()\n",
    "ax_L_orig.set_xlim([0,image_size[0]])\n",
    "ax_L_orig.set_ylim([0,image_size[1]])\n",
    "\n",
    "# circle definition\n",
    "xL,yL,rL = findcircle(x_arr_L)\n",
    "cc_L = plt.Circle(( xL ,yL ), rL)\n",
    "ax_L_orig.add_artist( cc_L ) \n",
    "ax_L_orig.set_aspect( 1 ) \n",
    "\n",
    "ax_R_orig = fig.add_subplot(122)\n",
    "ax_R_orig.plot(x_arr_R[:,0],x_arr_R[:,1], color = 'r',ls = \"None\", marker = \".\", label = 'Original')\n",
    "ax_R_orig.set_xlabel(\"X axis\")\n",
    "ax_R_orig.set_ylabel(\"Y axis\")\n",
    "ax_R_orig.grid()\n",
    "ax_R_orig.legend()\n",
    "ax_R_orig.set_xlim([0,image_size[0]])\n",
    "ax_R_orig.set_ylim([0,image_size[1]])\n",
    "\n",
    "# circle definition\n",
    "xR,yR,rR = findcircle(x_arr_R)\n",
    "cc_R = plt.Circle(( xR ,yR ), rR)\n",
    "ax_R_orig.add_artist( cc_R ) \n",
    "ax_R_orig.set_aspect( 1 ) \n",
    "\n",
    "plt.show()"
   ]
  },
  {
   "cell_type": "markdown",
   "metadata": {},
   "source": [
    "## Location of the plot"
   ]
  },
  {
   "cell_type": "code",
   "execution_count": 149,
   "metadata": {},
   "outputs": [],
   "source": [
    "image_size = np.array([1936,1216])               # sensor size(in mm)\n",
    "pixelGridX  = (np.arange(0,image_size[0])) * pixel_width\n",
    "pixelGridY  = (np.arange(0,image_size[1])) * pixel_width\n",
    "pixelGridXX, pixelGridYY = np.meshgrid(pixelGridX,pixelGridY)\n",
    "pixelGridXX, pixelGridYY = np.meshgrid(pixelGridX,pixelGridY)"
   ]
  },
  {
   "cell_type": "code",
   "execution_count": 150,
   "metadata": {},
   "outputs": [],
   "source": [
    "fig = plt.figure(figsize=(20,20))\n",
    "ax_fig_L = fig.add_subplot(221)\n",
    "ax_fig_L.plot(pixelGridXX,pixelGridYY,'b.-', label = 'Original')\n",
    "ax_fig_L.plot(pixelGridXX.T,pixelGridYY.T, 'r.-', label = 'Original')\n",
    "#circle definition\n",
    "xL,yL,rL = findcircle(x_arr_L)\n",
    "cc_L = plt.Circle(( xL ,yL ), rL)\n",
    "ax_fig_L.add_artist( cc_L ) \n",
    "ax_fig_L.set_aspect( 1 ) \n",
    "#limits\n",
    "x_min = xL-(rL*5)\n",
    "x_max = xL+(rL*5)\n",
    "y_min = yL-(rL*5)\n",
    "y_max = yL+(rL*5)\n",
    "ax_fig_L.set_xlim([x_min,x_max])\n",
    "ax_fig_L.set_ylim([y_min,y_max])\n",
    "\n",
    "ax_fig_mini_L = fig.add_subplot(222)\n",
    "\n",
    "ax_fig_mini_L.plot(pixelGridXX,pixelGridYY,'b.-', label = 'Original')\n",
    "ax_fig_mini_L.plot(pixelGridXX.T,pixelGridYY.T, 'r.-', label = 'Original')\n",
    "#circle definition\n",
    "cc_L = plt.Circle(( xL ,yL ), rL)\n",
    "ax_fig_mini_L.add_artist( cc_L ) \n",
    "ax_fig_mini_L.set_aspect( 1 ) \n",
    "#limits\n",
    "x_min = xL-(rL*2)\n",
    "x_max = xL+(rL*2)\n",
    "y_min = yL-(rL*2)\n",
    "y_max = yL+(rL*2)\n",
    "ax_fig_mini_L.set_xlim([x_min,x_max])\n",
    "ax_fig_mini_L.set_ylim([y_min,y_max])\n",
    "\n",
    "### Right image\n",
    "\n",
    "ax_fig_R = fig.add_subplot(223)\n",
    "ax_fig_R.plot(pixelGridXX,pixelGridYY,'b.-', label = 'Original')\n",
    "ax_fig_R.plot(pixelGridXX.T,pixelGridYY.T, 'r.-', label = 'Original')\n",
    "#circle definition\n",
    "xR,yR,rR = findcircle(x_arr_R)\n",
    "cc_R = plt.Circle(( xR ,yR ), rR)\n",
    "ax_fig_R.add_artist( cc_R ) \n",
    "ax_fig_R.set_aspect( 1 ) \n",
    "#limits\n",
    "x_min = xR-(rR*5)\n",
    "x_max = xR+(rR*5)\n",
    "y_min = yR-(rR*5)\n",
    "y_max = yR+(rR*5)\n",
    "ax_fig_R.set_xlim([x_min,x_max])\n",
    "ax_fig_R.set_ylim([y_min,y_max])\n",
    "\n",
    "ax_fig_mini_R = fig.add_subplot(224)\n",
    "\n",
    "ax_fig_mini_R.plot(pixelGridXX,pixelGridYY,'b.-', label = 'Original')\n",
    "ax_fig_mini_R.plot(pixelGridXX.T,pixelGridYY.T, 'r.-', label = 'Original')\n",
    "cc_R = plt.Circle(( xR ,yR ), rR)\n",
    "ax_fig_mini_R.add_artist( cc_R ) \n",
    "ax_fig_mini_R.set_aspect( 1 ) \n",
    "#limits\n",
    "x_min = xR-(rR*2)\n",
    "x_max = xR+(rR*2)\n",
    "y_min = yR-(rR*2)\n",
    "y_max = yR+(rR*2)\n",
    "ax_fig_mini_R.set_xlim([x_min,x_max])\n",
    "ax_fig_mini_R.set_ylim([y_min,y_max])\n",
    "\n",
    "plt.show()"
   ]
  },
  {
   "cell_type": "markdown",
   "metadata": {},
   "source": [
    "## Plot spot with pixel diameter\n",
    "- ~~create a mesh with pixel size distance corners~~\n",
    "- ~~create a spot centered in the middle of the plane~~\n",
    "- ~~Pass the spot through the mesh~~\n",
    "- ~~Expand the mesh by 1 in each direction~~\n",
    "- Each pixel that has the spot goes to a micro mesh\n",
    "- Each micropixel that has the spot sum."
   ]
  },
  {
   "cell_type": "code",
   "execution_count": 167,
   "metadata": {},
   "outputs": [],
   "source": [
    "# Generate pixel grid\n",
    "pixelGridX  = (np.arange(0,image_size[0])) * pixel_width\n",
    "pixelGridY  = (np.arange(0,image_size[1])) * pixel_width\n",
    "pixelGridXX, pixelGridYY = np.meshgrid(pixelGridX,pixelGridY)"
   ]
  },
  {
   "cell_type": "code",
   "execution_count": 168,
   "metadata": {},
   "outputs": [],
   "source": [
    "gridSize = 1024\n",
    "theta = np.linspace(0, 2*np.pi, gridSize)\n",
    "#center of the spot\n",
    "cx0 = (image_size[0]/2* pixel_width)\n",
    "cy0 = (image_size[1]/2* pixel_width)\n",
    "#radius\n",
    "r  = pixel_width\n",
    "x0 = r*np.cos(theta)+(cx0)\n",
    "y0 = r*np.sin(theta)+(cy0)\n",
    "\n",
    "fig, ax = plt.subplots()\n",
    "ax.plot(x0,y0)\n",
    "\n",
    "ax.set_aspect(1)\n",
    "\n",
    "plt.show()"
   ]
  },
  {
   "cell_type": "code",
   "execution_count": 169,
   "metadata": {},
   "outputs": [],
   "source": [
    "fig, ax = plt.subplots()\n",
    "ax.plot(pixelGridXX,pixelGridYY)\n",
    "ax.plot(pixelGridXX.T,pixelGridYY.T)\n",
    "ax.plot(x0,y0, linewidth=4)\n",
    "\n",
    "ax.set_xlim([cx0-(2*pixel_width),cx0+(2*pixel_width)])\n",
    "ax.set_ylim([cy0-(2*pixel_width),cy0+(2*pixel_width)])\n",
    "\n",
    "\n",
    "ax.set_aspect(1)\n",
    "plt.show()"
   ]
  },
  {
   "cell_type": "code",
   "execution_count": 170,
   "metadata": {},
   "outputs": [
    {
     "data": {
      "text/plain": [
       "(array([607, 608, 608], dtype=int64), array([968, 968, 969], dtype=int64))"
      ]
     },
     "execution_count": 170,
     "metadata": {},
     "output_type": "execute_result"
    }
   ],
   "source": [
    "circ1 = np.sqrt((pixelGridXX-(image_size[0]/2* pixel_width))**2 + (pixelGridYY-(image_size[1]/2* pixel_width))**2) <= r\n",
    "circ = np.where(circ1 == True)\n",
    "circ"
   ]
  },
  {
   "cell_type": "code",
   "execution_count": 171,
   "metadata": {},
   "outputs": [],
   "source": [
    "fig, ax = plt.subplots()\n",
    "ax.plot(pixelGridXX,pixelGridYY)\n",
    "ax.plot(pixelGridXX.T,pixelGridYY.T)\n",
    "ax.plot(x0,y0, linewidth=4)\n",
    "ax.plot(pixelGridX[circ[1][:]],pixelGridY[circ[0][:]],'r*')\n",
    "\n",
    "\n",
    "ax.set_xlim([cx0-(2*pixel_width),cx0+(2*pixel_width)])\n",
    "ax.set_ylim([cy0-(2*pixel_width),cy0+(2*pixel_width)])\n",
    "\n",
    "ax.set_aspect(1)\n",
    "plt.show()"
   ]
  },
  {
   "cell_type": "code",
   "execution_count": 172,
   "metadata": {},
   "outputs": [
    {
     "data": {
      "text/plain": [
       "array([[966., 966., 967.],\n",
       "       [967., 967., 968.],\n",
       "       [968., 968., 969.],\n",
       "       [969., 969., 970.],\n",
       "       [970., 970., 971.]])"
      ]
     },
     "execution_count": 172,
     "metadata": {},
     "output_type": "execute_result"
    }
   ],
   "source": [
    "step_dist = 2\n",
    "xx_pixel =  np.linspace(circ[1][:]-step_dist,circ[1][:]+step_dist,(step_dist*2 + 1))\n",
    "yy_pixel =  np.linspace(circ[0][:]-step_dist,circ[0][:]+step_dist,(step_dist*2 + 1))\n",
    "xx_pixel"
   ]
  },
  {
   "cell_type": "code",
   "execution_count": 157,
   "metadata": {},
   "outputs": [
    {
     "data": {
      "text/plain": [
       "3"
      ]
     },
     "execution_count": 157,
     "metadata": {},
     "output_type": "execute_result"
    }
   ],
   "source": [
    "len(circ[0][:])"
   ]
  },
  {
   "cell_type": "code",
   "execution_count": 166,
   "metadata": {},
   "outputs": [],
   "source": [
    "fig,ax = plt.subplots()\n",
    "pixel_orient = np.array([[1,1],[1,-1],[-1,1],[-1,-1]])\n",
    "\n",
    "ax.plot(pixelGridXX,pixelGridYY)\n",
    "ax.plot(pixelGridXX.T,pixelGridYY.T)\n",
    "ax.plot(x0,y0, linewidth=4)\n",
    "ax.plot(pixelGridX[circ[1][:]],pixelGridY[circ[0][:]],'r*')\n",
    "for j in range(len(circ[0][:])):\n",
    "    for i in range(4):\n",
    "        rectangle = plt.Rectangle((pixelGridX[circ[1][j]],pixelGridY[circ[0][j]]), pixel_orient[i,0]*pixel_width,pixel_orient[i,1]*pixel_width , fc='green',ec=\"red\")\n",
    "        plt.gca().add_patch(rectangle)\n",
    "        ax.axis('scaled')\n",
    "\n",
    "ax.set_xlim([cx0-(2*pixel_width),cx0+(2*pixel_width)])\n",
    "ax.set_ylim([cy0-(2*pixel_width),cy0+(2*pixel_width)])\n",
    "\n",
    "ax.set_aspect(1)\n",
    "\n",
    "plt.show()"
   ]
  },
  {
   "cell_type": "code",
   "execution_count": null,
   "metadata": {},
   "outputs": [],
   "source": [
    "gridSize = 2001\n",
    "theta = np.linspace(0, 2*np.pi, gridSize)\n",
    "r  = pixel_width/2\n",
    "x0 = r*np.cos(theta)\n",
    "y0 = r*np.sin(theta)\n",
    "\n",
    "xgrid      = np.linspace(-1,1,gridSize) * pixel_width\n",
    "xx, yy     = np.meshgrid(xgrid,xgrid)  \n",
    "pixelColor = np.zeros(xx.shape)\n",
    "\n",
    "circ1 = np.sqrt((xx-0)**2 + (yy-0)**2) <= r\n",
    "circ = np.where(circ1 == True)\n",
    "\n",
    "fig, ax = plt.subplots()\n",
    "ax.plot(x0,y0)\n",
    "ax.plot(xx,yy)\n",
    "ax.plot(xx.T,yy.T)\n",
    "ax.plot(yy[circ[0][:],0],yy[circ[1][:],0],'r*')\n",
    "\n",
    "ax.set_aspect(1)\n",
    "plt.show()"
   ]
  },
  {
   "cell_type": "code",
   "execution_count": null,
   "metadata": {},
   "outputs": [],
   "source": []
  }
 ],
 "metadata": {
  "interpreter": {
   "hash": "a2351b8e039bbf9c56c302d7c356075afc88dd574b72d7357dd8301589a7e4a3"
  },
  "kernelspec": {
   "display_name": "TensorFlow & OpenCv",
   "language": "python",
   "name": "thesis"
  },
  "language_info": {
   "codemirror_mode": {
    "name": "ipython",
    "version": 3
   },
   "file_extension": ".py",
   "mimetype": "text/x-python",
   "name": "python",
   "nbconvert_exporter": "python",
   "pygments_lexer": "ipython3",
   "version": "3.8.5"
  },
  "orig_nbformat": 4
 },
 "nbformat": 4,
 "nbformat_minor": 2
}
