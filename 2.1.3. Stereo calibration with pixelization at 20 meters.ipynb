{
 "cells": [
  {
   "cell_type": "markdown",
   "metadata": {},
   "source": [
    "## 2.1.3 Stereo Calibration w/pixelization\n",
    "Stereo calibration and triangulation for 20 meters"
   ]
  },
  {
   "cell_type": "markdown",
   "metadata": {},
   "source": [
    "### import  libraries"
   ]
  },
  {
   "cell_type": "code",
   "execution_count": 1,
   "metadata": {},
   "outputs": [],
   "source": [
    "vscode = 1"
   ]
  },
  {
   "cell_type": "code",
   "execution_count": 2,
   "metadata": {},
   "outputs": [],
   "source": [
    "if(vscode == 1):\n",
    "    # for vscode\n",
    "    %matplotlib qt\n",
    "else:\n",
    "    # for jupyter notebook\n",
    "    from mpl_toolkits.mplot3d import axes3d\n",
    "    import matplotlib.pyplot as plt\n",
    "\n",
    "    %matplotlib notebook\n"
   ]
  },
  {
   "cell_type": "code",
   "execution_count": 3,
   "metadata": {},
   "outputs": [],
   "source": [
    "import matplotlib.pyplot as plt\n",
    "import numpy as np\n",
    "import cv2 \n",
    "from typing import Sequence\n",
    "from calib_lib import *\n",
    "DECIMALS = 2  # how many decimal places to use in print\n"
   ]
  },
  {
   "cell_type": "code",
   "execution_count": 4,
   "metadata": {},
   "outputs": [],
   "source": [
    "F = 16                                       # focal length( in mm )\n",
    "image_size = np.array([1936,1216])               # sensor size(in mm)\n",
    "pixel_width = 5.86e-3                       # pixel size in mm\n",
    "PX= image_size[0]/2.0                       # principal point x-coordinate\n",
    "PY= image_size[1]/2.0                       # principal point y-coordinate\n",
    "IMAGE_HEIGTH = image_size[1]\n",
    "IMAGE_WIDTH = image_size[0]\n",
    "THETA_X = 0                                 # roll angle\n",
    "THETA_Y = 0                                 # pitch angle\n",
    "THETA_Z = 0                                 # yaw angle\n",
    "\n",
    "\n",
    "# camera Right\n",
    "THETA_X_R = 0                                 # roll angle\n",
    "THETA_Y_R = 0                                 # pitch angle\n",
    "THETA_Z_R= 0                                 # yaw angle\n",
    "# camera Left\n",
    "THETA_X_L = 0                                 # roll angle\n",
    "THETA_Y_L = 0                                 # pitch angle\n",
    "THETA_Z_L= 0                                 # yaw angle\n",
    "\n",
    "C_L = np.array([0,0,0])                     # camera centre\n",
    "\n",
    "C_R = np.array([500,0,0])\n",
    "\n",
    "chess_dimx,chess_dimy = (13,9)\n",
    "chess_sq_size = 44"
   ]
  },
  {
   "cell_type": "code",
   "execution_count": 5,
   "metadata": {},
   "outputs": [],
   "source": [
    "def repeat_func(xrange,yrange,zrange):\n",
    "\n",
    "    translst= []\n",
    "\n",
    "    for z in zrange:\n",
    "        for x in xrange:\n",
    "            for y in yrange:\n",
    "                translst.append([x,y,z])\n",
    "                \n",
    "    len(translst)\n",
    "    #print(translst)\n",
    "\n",
    "    # chessboard print\n",
    "    chess_pts = []\n",
    "    world_pts = create_chessboard(chess_dimx,chess_dimy,chess_sq_size)\n",
    "    rotangles = [[0,0,0],[np.pi/4,0,np.pi/2],[0,np.pi/4,np.pi/2],[0,np.pi/4,-np.pi/2],[np.pi/4,0,-np.pi/2]]\n",
    "\n",
    "    for i in range(len(translst)):\n",
    "        for j in range(len(rotangles)):    \n",
    "            chess_pts.append(get_chessboard_rot_trans(world_pts,rotangles[j][0],rotangles[j][1],rotangles[j][2],translst[i][0],translst[i][1],translst[i][2]))\n",
    "\n",
    "    chess_pts_arr = np.array(chess_pts)\n",
    "    print(chess_pts_arr.shape)\n",
    "\n",
    "    pattern_size_x,pattern_size_y = (chess_dimx,chess_dimy)\n",
    "\n",
    "    X_pattern = np.linspace(0, pattern_size_x,pattern_size_x + 1)*chess_sq_size\n",
    "    Y_pattern = np.linspace(0, pattern_size_y,pattern_size_y + 1)*chess_sq_size\n",
    "    zdata = np.zeros((pattern_size_x + 1,pattern_size_y + 1))\n",
    "    xdata, ydata = np.meshgrid(X_pattern, Y_pattern)\n",
    "\n",
    "    xdata_ = xdata.flatten()\n",
    "    ydata_ = ydata.flatten()\n",
    "    zdata_ = zdata.flatten()\n",
    "    \n",
    "    # homogeneous coordinates\n",
    "    world_pts =([xdata_,ydata_,zdata_])\n",
    "    world_pts_ = np.array(world_pts).T\n",
    "\n",
    "    world_pts_arr = np.zeros((chess_pts_arr.shape[0],(pattern_size_x+1)*(pattern_size_y+1),3),np.float32)\n",
    "    \n",
    "    for i in range(chess_pts_arr.shape[0]):\n",
    "        world_pts_arr[i,:,:] = world_pts_\n",
    "\n",
    "    world_pts_arr = world_pts_arr.reshape(world_pts_arr.shape[0],1,(pattern_size_x+1)*(pattern_size_y+1),3)\n",
    "    \n",
    "    x_lst_R = []\n",
    "    x_lst_L = []\n",
    "    for i in range(chess_pts_arr.shape[0]):\n",
    "        x_arr_R, X_arr_R, E_R, K_R, P_R = get_image_points(chess_pts_arr[i,:,:],PX,PY,thetax= 0,thetay = 0,thetaz = 0,trans_x= -C_R[0],trans_y= -C_R[1],trans_z= -C_R[2],F = F,mx = (1/pixel_width),my =(1/pixel_width))\n",
    "        x_arr_L, X_arr_L, E_L, K_L, P_L = get_image_points(chess_pts_arr[i,:,:],PX,PY,thetax= 0,thetay = 0,thetaz = 0,trans_x= -C_L[0],trans_y= -C_L[1],trans_z= -C_L[2],F = F,mx = (1/pixel_width),my =(1/pixel_width))\n",
    "        \n",
    "        x_lst_R.append(x_arr_R)\n",
    "        x_lst_L.append(x_arr_L)\n",
    "\n",
    "    x_zhang_R = np.array(x_lst_R,np.float32)\n",
    "    x_zhang_L = np.array(x_lst_L,np.float32)\n",
    "\n",
    "    print(\"World points: \",world_pts_arr.shape)\n",
    "    print(\"Image points: \",x_zhang_L.shape)\n",
    "\n",
    "\n",
    "    return world_pts_arr,x_zhang_R,x_zhang_L,P_R,P_L\n"
   ]
  },
  {
   "cell_type": "code",
   "execution_count": 6,
   "metadata": {},
   "outputs": [],
   "source": [
    "def calib(world_pts_arr,x_zhang_R,x_zhang_L):    \n",
    "    ret_R, mtx_R, dist_R, rvecs_R, tvecs_R = cv2.calibrateCamera(world_pts_arr, x_zhang_R, (image_size[0],image_size[1]), None, None)\n",
    "    ret_L, mtx_L, dist_L, rvecs_L, tvecs_L = cv2.calibrateCamera(world_pts_arr, x_zhang_L, (image_size[0],image_size[1]), None, None)\n",
    "\n",
    "    flags = 0\n",
    "    flags |= cv2.CALIB_FIX_INTRINSIC\n",
    "    # Here we fix the intrinsic camara matrixes so that only Rot, Trns, Emat and Fmat are calculated.\n",
    "    # Hence intrinsic parameters are the same \n",
    "\n",
    "    criteria_stereo= (cv2.TERM_CRITERIA_EPS + cv2.TERM_CRITERIA_MAX_ITER, 30, 0.001)\n",
    "\n",
    "\n",
    "    # This step is performed to transformation between the two cameras and calculate Essential and Fundamenatl matrix\n",
    "    retS, new_mtxL, distL, new_mtxR, distR, Rot, Trns, Emat, Fmat = cv2.stereoCalibrate(world_pts_arr, x_zhang_L, x_zhang_R, mtx_L, dist_L, mtx_R, dist_R, (image_size[0],image_size[1]), criteria_stereo, flags)\n",
    "\n",
    "    return ret_R,mtx_R,ret_L,mtx_L,retS,new_mtxL,new_mtxR,Rot,Trns,Emat,Fmat"
   ]
  },
  {
   "cell_type": "code",
   "execution_count": 7,
   "metadata": {},
   "outputs": [
    {
     "name": "stdout",
     "output_type": "stream",
     "text": [
      "(5, 140, 3)\n",
      "World points:  (5, 1, 140, 3)\n",
      "Image points:  (5, 140, 2)\n",
      "(20, 140, 3)\n",
      "World points:  (20, 1, 140, 3)\n",
      "Image points:  (20, 140, 2)\n",
      "(80, 140, 3)\n",
      "World points:  (80, 1, 140, 3)\n",
      "Image points:  (80, 140, 2)\n",
      "(180, 140, 3)\n",
      "World points:  (180, 1, 140, 3)\n",
      "Image points:  (180, 140, 2)\n",
      "(320, 140, 3)\n",
      "World points:  (320, 1, 140, 3)\n",
      "Image points:  (320, 140, 2)\n",
      "(500, 140, 3)\n",
      "World points:  (500, 1, 140, 3)\n",
      "Image points:  (500, 140, 2)\n"
     ]
    }
   ],
   "source": [
    "ret_R_list = []\n",
    "mtx_R_list = []\n",
    "ret_L_list = []\n",
    "mtx_L_list = []\n",
    "retS_list = []\n",
    "new_mtxL_list = []\n",
    "new_mtxR_list = []\n",
    "Rot_list = []\n",
    "Trns_list = []\n",
    "Emat_list = []\n",
    "Fmat_list = []\n",
    "P_R_org_list = []\n",
    "P_L_org_list = []\n",
    "\n",
    "xrange_0 = np.linspace(-6000,6000,1)\n",
    "yrange_0 = np.linspace(-4000,4000,1)\n",
    "zrange_0 = ([20000])\n",
    "\n",
    "xrange_1 = np.linspace(-6000,6000,2)\n",
    "yrange_1 = np.linspace(-4000,4000,2)\n",
    "zrange_1 = ([20000])\n",
    "\n",
    "xrange_2 = np.linspace(-6000,6000,4)\n",
    "yrange_2 = np.linspace(-4000,4000,4)\n",
    "zrange_2 = ([20000])\n",
    "\n",
    "xrange_3 = np.linspace(-6000,6000,6)\n",
    "yrange_3 = np.linspace(-4000,4000,6)\n",
    "zrange_3 = ([20000])\n",
    "\n",
    "xrange_4 = np.linspace(-6000,6000,8)\n",
    "yrange_4 = np.linspace(-4000,4000,8)\n",
    "zrange_4 = ([20000])\n",
    "\n",
    "xrange_5 = np.linspace(-6000,6000,10)\n",
    "yrange_5 = np.linspace(-4000,4000,10)\n",
    "zrange_5 = ([20000])\n",
    "\n",
    "\n",
    "x_range = ([xrange_0,xrange_1,xrange_2,xrange_3,xrange_4,xrange_5])\n",
    "y_range = ([yrange_0,yrange_1,yrange_2,yrange_3,yrange_4,yrange_5])\n",
    "z_range = ([zrange_0,zrange_1,zrange_2,zrange_3,zrange_4,zrange_5])\n",
    "# x_range = ([xrange_0])\n",
    "# y_range = ([yrange_0])\n",
    "# z_range = ([zrange_0])\n",
    "\n",
    "\n",
    "\n",
    "for i in range(len(z_range)):\n",
    "\n",
    "    world_pts_arr = 0\n",
    "    x_zhang_R = 0\n",
    "    x_zhang_L = 0\n",
    "    \n",
    "    world_pts_arr,x_zhang_R,x_zhang_L, P_R, P_L = repeat_func(x_range[i],y_range[i],z_range[i])\n",
    "\n",
    "    ret_R,mtx_R,ret_L,mtx_L,retS,new_mtxL,new_mtxR,Rot,Trns,Emat,Fmat = calib(world_pts_arr,x_zhang_R,x_zhang_L)\n",
    "\n",
    "    ret_R_list.append([ret_R])\n",
    "    mtx_R_list.append([mtx_R])\n",
    "    ret_L_list.append([ret_L])\n",
    "    mtx_L_list.append([mtx_L])\n",
    "    retS_list.append([retS])\n",
    "    new_mtxL_list.append([new_mtxL])\n",
    "    new_mtxR_list.append([new_mtxR])\n",
    "    Rot_list.append([Rot])\n",
    "    Trns_list.append([Trns])\n",
    "    Emat_list.append([Emat])\n",
    "    Fmat_list.append([Fmat])\n",
    "    P_R_org_list.append(P_R)\n",
    "    P_L_org_list.append(P_L)"
   ]
  },
  {
   "cell_type": "code",
   "execution_count": null,
   "metadata": {},
   "outputs": [
    {
     "data": {
      "text/plain": [
       "[[array([[2.73037611e+03, 0.00000000e+00, 9.67999784e+02],\n",
       "         [0.00000000e+00, 2.73037607e+03, 6.08000191e+02],\n",
       "         [0.00000000e+00, 0.00000000e+00, 1.00000000e+00]])]]"
      ]
     },
     "metadata": {},
     "output_type": "display_data"
    }
   ],
   "source": [
    "mtx_L_list"
   ]
  },
  {
   "cell_type": "code",
   "execution_count": null,
   "metadata": {},
   "outputs": [],
   "source": [
    "P_L_list = []\n",
    "P_R_list = []\n",
    "\n",
    "for i in range(len(ret_R_list)):\n",
    "    R1,R2,P_L_est,P_R_est,Q,roi_left,roi_right = cv2.stereoRectify(new_mtxL_list[i][0], ret_L_list[i][0], new_mtxR_list[i][0], ret_R_list[i][0], (image_size[0],image_size[1]), Rot_list[i][0], Trns_list[i][0],flags = cv2.CALIB_ZERO_DISPARITY)\n",
    "    P_L_list.append(P_L_est)\n",
    "    P_R_list.append(P_R_est)"
   ]
  },
  {
   "cell_type": "code",
   "execution_count": 8,
   "metadata": {},
   "outputs": [
    {
     "name": "stdout",
     "output_type": "stream",
     "text": [
      "Writing 'P_L_org_list,P_R_org_list,retS_list,new_mtxL_list,ret_L_list,new_mtxR_list,ret_R_list,Rot_list,Trns_list' (tuple) to file 'C:\\Users\\PC1\\Documents\\thesis\\thesis_venv\\calibration\\distances\\twentymeters_pixel.txt'.\n"
     ]
    }
   ],
   "source": [
    "%store P_L_org_list,P_R_org_list,retS_list,new_mtxL_list,ret_L_list,new_mtxR_list,ret_R_list,Rot_list,Trns_list >\"C:\\Users\\PC1\\Documents\\thesis\\thesis_venv\\calibration\\distances\\twentymeters_pixel.txt\""
   ]
  },
  {
   "cell_type": "code",
   "execution_count": null,
   "metadata": {},
   "outputs": [],
   "source": []
  }
 ],
 "metadata": {
  "interpreter": {
   "hash": "793a4c02fe67967b0442c822e21ee20c313586875a62d3f082b9ab92af1bb701"
  },
  "kernelspec": {
   "display_name": "Python 3.10.4 64-bit (system)",
   "language": "python",
   "name": "python3"
  },
  "language_info": {
   "codemirror_mode": {
    "name": "ipython",
    "version": 3
   },
   "file_extension": ".py",
   "mimetype": "text/x-python",
   "name": "python",
   "nbconvert_exporter": "python",
   "pygments_lexer": "ipython3",
   "version": "3.10.4"
  },
  "orig_nbformat": 4
 },
 "nbformat": 4,
 "nbformat_minor": 2
}
