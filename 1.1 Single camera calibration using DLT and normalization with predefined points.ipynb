{
 "cells": [
  {
   "cell_type": "markdown",
   "metadata": {},
   "source": [
    "## 1.1 Single camera calibration using DLT and normalization w/ predefined points\n",
    "\n",
    "This script intends to calibrate a camera using DLT and predefined world and camera points.\\\n",
    "For this implementation we will use the DLT transform for the estimation of the camera parameters.\\\n",
    "**Firstly, we will run the normal DLT without normalization and then with normalization. It is expected to achieve better results with normalization.**\n",
    "\n"
   ]
  },
  {
   "cell_type": "markdown",
   "metadata": {},
   "source": [
    "When dealing with an uncalibrated camera, 11 parameters are unknown, meaning we need at least **6 points** and assume the model of the camera is **affine**.\n",
    ">**Problem specification:**\n",
    "- Estimate the 11 elements of P given:\n",
    "    - 3D coordinates $X_{i}$ of I $\\geq$ 6 object points\n",
    "\n",
    "\n",
    "<img src=\"/home/alegria/calibration/images/camera_orientation.png\" width=400 height=400 />\\\n"
   ]
  },
  {
   "cell_type": "markdown",
   "metadata": {},
   "source": [
    "## Import the libraries"
   ]
  },
  {
   "cell_type": "code",
   "execution_count": 58,
   "metadata": {},
   "outputs": [],
   "source": [
    "#%matplotlib qt\n",
    "#%matplotlib notebook\n",
    "from matplotlib import pyplot as plt\n",
    "import numpy as np\n",
    "import scipy as sp"
   ]
  },
  {
   "cell_type": "markdown",
   "metadata": {},
   "source": [
    "## Generate world and image points"
   ]
  },
  {
   "cell_type": "code",
   "execution_count": 59,
   "metadata": {},
   "outputs": [
    {
     "name": "stdout",
     "output_type": "stream",
     "text": [
      "(6, 4)\n"
     ]
    }
   ],
   "source": [
    "xyz = [[-875, 0, 9.755], [442, 0, 9.755], [1921, 0, 9.755], [2951, 0.5, 9.755], [-4132, 0.5, 23.618],\n",
    "[-876, 0, 23.618]]\n",
    "# Known pixel coordinates\n",
    "uv = [[76, 706], [702, 706], [1440, 706], [1867, 706], [264, 523], [625, 523]]\n",
    "\n",
    "xyz = np.array(xyz)\n",
    "uv = np.array(uv)\n",
    "\n",
    "I_pts = uv\n",
    "\n",
    "\n",
    "n = (xyz.shape[0])\n",
    "\n",
    "\n",
    "world_pts_list = []\n",
    "image_pts_list = []\n",
    "\n",
    "world_pts = np.zeros((n,4))\n",
    "image_pts = np.zeros((n,3))\n",
    "\n",
    "print(world_pts.shape)\n",
    "for i in range(n):\n",
    "    world_pts[i,:] = ([xyz[i,0],xyz[i,1],xyz[i,2],1])\n",
    "    image_pts[i,:] = ([uv[i,0],uv[i,1],1])\n",
    "\n"
   ]
  },
  {
   "cell_type": "code",
   "execution_count": 60,
   "metadata": {},
   "outputs": [
    {
     "data": {
      "image/png": "[encoded data removed]",
      "text/plain": [
       "<Figure size 640x480 with 1 Axes>"
      ]
     },
     "metadata": {},
     "output_type": "display_data"
    }
   ],
   "source": [
    "fig = plt.figure()\n",
    "ax = fig.add_subplot()\n",
    "ax.plot(I_pts[:,0],I_pts[:,1], color = 'r',ls = \"None\", marker = \".\")\n",
    "ax.set_title(\"Image points\")\n",
    "ax.set_xlabel(\"X axis\")\n",
    "ax.set_ylabel(\"Y axis\")\n",
    "ax.grid()\n",
    "plt.show()"
   ]
  },
  {
   "cell_type": "markdown",
   "metadata": {},
   "source": [
    "## Direct Linear Transform(DLT)"
   ]
  },
  {
   "cell_type": "code",
   "execution_count": 61,
   "metadata": {},
   "outputs": [],
   "source": [
    "# get the shape of the matrix\n",
    "worldm, worldn = world_pts.shape\n",
    "imagem, imagen = image_pts.shape\n"
   ]
  },
  {
   "cell_type": "code",
   "execution_count": 62,
   "metadata": {},
   "outputs": [
    {
     "name": "stdout",
     "output_type": "stream",
     "text": [
      "(12, 12)\n"
     ]
    }
   ],
   "source": [
    "#3D DLT\n",
    "A = []\n",
    "\n",
    "for i in range(worldm):\n",
    "    A = np.append(A,[world_pts[i,0],world_pts[i,1],world_pts[i,2],world_pts[i,3],0,0,0,0,-image_pts[i,0]*world_pts[i,0],-image_pts[i,0]*world_pts[i,1],-image_pts[i,0]*world_pts[i,2],-image_pts[i,0]])\n",
    "    A = np.append(A,[0,0,0,0,world_pts[i,0],world_pts[i,1],world_pts[i,2],world_pts[i,3],-image_pts[i,1]*world_pts[i,0],-image_pts[i,1]*world_pts[i,1],-image_pts[i,1]*world_pts[i,2],-image_pts[i,1]])\n",
    "\n",
    "# pass the list A as an array\n",
    "A = np.asarray(A).reshape(n*2,12)\n",
    "#print(A)\n",
    "print(A.shape)"
   ]
  },
  {
   "cell_type": "markdown",
   "metadata": {},
   "source": [
    "## SVD(Singular Value Decomposition)\n",
    "Solving a system of linear equations of the form Ax = 0 is equivalent to finding the null space of A. Thus, we can apply the SVD to solve Mp = 0 "
   ]
  },
  {
   "cell_type": "markdown",
   "metadata": {},
   "source": [
    "### Q.M = 0\n",
    "\n",
    "**Minimal solution**\n",
    "- $Q_{(2n×12)}$ should have rank 11 to have a unique (up to a scale) non-zero solution 𝑀\n",
    "- Because each 3D-to-2D point correspondence provides 2 independent equations, then 5+1/2 point correspondences are needed (in practice 6 point correspondences!)\n",
    "\n",
    "**Over-determined solution**\n",
    "- For 𝑛 ≥ 6 points, a solution is the Least Square solution, which minimizes the sum of squared residuals, | 𝑄𝑀 |2, subject to the constraint | 𝑀 |2 = 1.It can be solved through Singular Value Decomposition (SVD). The solution is the eigenvector corresponding to the smallest eigenvalue of the matrix $Q^TQ$(because it is the unit vector 𝑥 that minimizes $\\|{Qx}\\| = x^TQ^TQx$\n"
   ]
  },
  {
   "cell_type": "code",
   "execution_count": 63,
   "metadata": {},
   "outputs": [
    {
     "name": "stdout",
     "output_type": "stream",
     "text": [
      "Camera Matrix:\n",
      " [[-2.80108315e-01  2.49378003e+02 -1.26179092e+02  9.39844658e+02]\n",
      " [ 7.23778565e-03  4.71324605e+01 -7.75597415e+01  3.36192158e+02]\n",
      " [ 1.02518211e-05  6.67598590e-02 -1.63554264e-01  1.00000000e+00]]\n"
     ]
    }
   ],
   "source": [
    "# SVD \n",
    "U, S, Vh = np.linalg.svd(A)\n",
    "\n",
    "L = Vh[-1,:] / Vh[-1,-1]\n",
    "#Camera projection matrix:\n",
    "PEst = L.reshape(3,3+1)\n",
    "print(\"Camera Matrix:\\n\",PEst)"
   ]
  },
  {
   "cell_type": "markdown",
   "metadata": {},
   "source": [
    "### Predicted/Expected value"
   ]
  },
  {
   "cell_type": "code",
   "execution_count": 64,
   "metadata": {},
   "outputs": [],
   "source": [
    "xEst = np.zeros((worldm,3))\n",
    "for j in range(worldm):\n",
    "    xEst[j,:]  = np.dot(PEst,world_pts[j])\n",
    "    xEst[j,:] /= xEst[j,2]\n"
   ]
  },
  {
   "cell_type": "code",
   "execution_count": 65,
   "metadata": {},
   "outputs": [
    {
     "data": {
      "image/png": "[encoded data removed]",
      "text/plain": [
       "<Figure size 640x480 with 1 Axes>"
      ]
     },
     "metadata": {},
     "output_type": "display_data"
    }
   ],
   "source": [
    "fig = plt.figure()\n",
    "ax = fig.add_subplot(111)\n",
    "ax.plot(I_pts[:,0],I_pts[:,1], color = 'r',ls = \"None\", marker = \".\", label = 'Original')\n",
    "ax.set_title(\"Point estimation\")\n",
    "ax.set_xlabel(\"X axis\")\n",
    "ax.set_ylabel(\"Y axis\")\n",
    "ax.grid()\n",
    "ax.plot(xEst[:,0],xEst[:,1], color = 'b',ls = \"None\", marker = \".\", label = 'Estimation')\n",
    "ax.legend()\n",
    "plt.show()"
   ]
  },
  {
   "cell_type": "markdown",
   "metadata": {},
   "source": [
    "## Geometric Error\n",
    "\n",
    "$$E = \\sum{d(x_i, MX_i)}$$\n",
    ">d is the distance metric( euclidean distance)"
   ]
  },
  {
   "cell_type": "code",
   "execution_count": 66,
   "metadata": {},
   "outputs": [
    {
     "name": "stdout",
     "output_type": "stream",
     "text": [
      "Geometric error: 9.02842273191844e-08\n"
     ]
    }
   ],
   "source": [
    "err = np.sqrt(np.mean(np.sum(np.square(I_pts-xEst[:,:2]), 1)))\n",
    "print(\"Geometric error:\",err)\n",
    "\n",
    "\n",
    "#cv2.SOLVEPNP_ITERATIVE()"
   ]
  },
  {
   "cell_type": "markdown",
   "metadata": {},
   "source": [
    "## Normalization\n",
    "In order to improve the estimation, it is essential for DLT to normalize the data sample, as follows:\n",
    "1. The points are tranlated so that their centroid is at the origin\n",
    "2. The points are scaled so that the average distance from the origin is equal to $\\sqrt{2}$\n",
    "3. This transformation is applied to each of the two images independently\n",
    "\n",
    "> Data normalization is an essential step in DLT. It must not be considered optional. - *Harley*\n",
    "\n",
    "**Algorithm:**\n",
    "- Normalization of X\n",
    "- Normalization of x \n",
    "- DLT\n",
    "- Denormalization"
   ]
  },
  {
   "cell_type": "code",
   "execution_count": 67,
   "metadata": {},
   "outputs": [],
   "source": [
    "\n",
    "def normalization(data, dim):\n",
    "    '''\n",
    "    Normalization of coordinates (centroid to the origin and mean distance of sqrt(2 or 3).\n",
    "    Inputs:\n",
    "    data: the data to be normalized (directions at different columns and points at rows)\n",
    "    Outputs:\n",
    "    T : the transformation matrix (translation plus scaling)\n",
    "    '''\n",
    "\n",
    "    N = data.shape[0]\n",
    "    \n",
    "    if dim == 2:                                                     # 2D points\n",
    "        x, y = data[:, 0], data[:, 1]                               # x and y coordinates\n",
    "        x_mean, y_mean = x.mean(), y.mean()                         # mean \n",
    "        x_par = (x-x_mean)**2                                       # x part\n",
    "        y_par = (y-y_mean)**2                                       # y part\n",
    "\n",
    "        d = (1/N)* np.sum(np.sqrt(x_par + y_par))                   # d\n",
    "        s_xy = np.sqrt(2)/d                                         # sqrt(2)/d\n",
    "\n",
    "        T = np.zeros((3,3))                                         # normalization matrix for 2D points\n",
    "        T[0,0] = s_xy\n",
    "        T[0,2] = -x_mean*s_xy\n",
    "        T[1,1] = s_xy\n",
    "        T[1,2] = -y_mean*s_xy\n",
    "        T[-1,-1] = 1\n",
    "\n",
    "    elif(dim== 3):                                                  # 3D points\n",
    "        X, Y, Z = data[:, 0], data[:, 1], data[:,2]                 # x and y coordinates\n",
    "        X_mean, Y_mean,Z_mean = X.mean(), Y.mean(),Z.mean()         # mean \n",
    "        X_par = (X-X_mean)**2                                       # x part\n",
    "        Y_par = (Y-Y_mean)**2                                       # y part\n",
    "        Z_par = (Z-Z_mean)**2                                       # z part\n",
    "\n",
    "        D = (1/N)* np.sum(np.sqrt(X_par + Y_par + Z_par))           # d\n",
    "        s_xyz = np.sqrt(3)/D                                        # sqrt(2)/d\n",
    "\n",
    "        T = np.zeros((4,4))                                         # normalization matrix for 3D points\n",
    "        T[0,0] = s_xyz\n",
    "        T[0,3] = -X_mean*s_xyz\n",
    "        T[1,1] = s_xyz\n",
    "        T[1,3] = -Y_mean*s_xyz\n",
    "        T[2,2] = s_xyz\n",
    "        T[2,3] = -Z_mean*s_xyz\n",
    "        T[-1,-1] = 1\n",
    "    else:\n",
    "        raise ValueError('Dataset must be a collection of 2D or points')\n",
    "\n",
    "    return T\n"
   ]
  },
  {
   "cell_type": "code",
   "execution_count": 68,
   "metadata": {},
   "outputs": [],
   "source": [
    "Txy = normalization(image_pts,2)\n",
    "#print(\"Normalization matrix for 2D:\\n\",T_matrix)\n",
    "Txyz = normalization(world_pts,3)\n",
    "#print(\"Normalization matrix for 3D :\\n\",U_matrix)\n",
    "\n",
    "#normalized imagecoordinates\n",
    "xyn = np.dot(image_pts,Txy.T)\n",
    "#normalized worldcoordinates\n",
    "xyzn = np.dot(world_pts,Txyz.T)\n",
    "\n",
    "# fig = plt.figure()\n",
    "# ax = fig.add_subplot(111)\n",
    "# ax.plot(xyn[:,0],xyn[:,1], color = 'r',ls = \"None\", marker = \".\", label = 'Original')\n",
    "# ax.set_title(\"Point estimation\")\n",
    "# ax.set_xlabel(\"X axis\")\n",
    "# ax.set_ylabel(\"Y axis\")\n",
    "# ax.grid()\n",
    "# ax.legend()\n",
    "# plt.show()"
   ]
  },
  {
   "cell_type": "markdown",
   "metadata": {},
   "source": [
    "For each image A generates a (2,12)"
   ]
  },
  {
   "cell_type": "code",
   "execution_count": 69,
   "metadata": {},
   "outputs": [
    {
     "name": "stdout",
     "output_type": "stream",
     "text": [
      "(12, 12)\n"
     ]
    }
   ],
   "source": [
    "#3D DLT\n",
    "A = []\n",
    "sz = len(xyzn)\n",
    "\n",
    "for i in range(sz):\n",
    "    x, y, z = xyzn[i, 0], xyzn[i, 1], xyzn[i, 2]\n",
    "    u, v = xyn[i, 0], xyn[i, 1]\n",
    "    A.append( [-x, -y, -z, -1, 0, 0, 0, 0, u * x, u * y, u * z, u] )\n",
    "    A.append( [0, 0, 0, 0, -x, -y, -z, -1, v * x, v * y, v * z, v] )\n",
    "\n",
    "# pass the list A as an array\n",
    "A = np.asarray(A).reshape(sz*2,12)\n",
    "#print(A)\n",
    "print(A.shape)\n",
    "\n"
   ]
  },
  {
   "cell_type": "code",
   "execution_count": 70,
   "metadata": {},
   "outputs": [
    {
     "name": "stdout",
     "output_type": "stream",
     "text": [
      "[-1.38463409e-03  9.30906496e-01  4.51333247e-02  1.36164193e-03\n",
      "  3.00026005e-06  1.95376934e-02  1.34011440e-01  4.15771759e-04\n",
      "  1.95103266e-05  1.27051247e-01 -3.11261490e-01 -2.36881555e-03]\n",
      "[[ 5.84525921e-01 -3.92983952e+02 -1.90531190e+01 -5.74819737e-01]\n",
      " [-1.26656550e-03 -8.24787452e+00 -5.65731850e+01 -1.75518841e-01]\n",
      " [-8.23632155e-03 -5.36349259e+01  1.31399631e+02  1.00000000e+00]]\n"
     ]
    }
   ],
   "source": [
    "# SVD \n",
    "U, S, Vh = np.linalg.svd(A)\n",
    "L = Vh[-1,:] / Vh[-1,-1]\n",
    "print(Vh[-1,:])\n",
    "# Camera projection matrix\n",
    "H_norm = L.reshape(3, 3 + 1)\n",
    "print(H_norm)\n"
   ]
  },
  {
   "cell_type": "markdown",
   "metadata": {},
   "source": [
    "## Denormalization"
   ]
  },
  {
   "cell_type": "code",
   "execution_count": 71,
   "metadata": {},
   "outputs": [
    {
     "name": "stdout",
     "output_type": "stream",
     "text": [
      "[[ 2.08864341e-01 -1.85950110e+02  9.40861494e+01 -7.00800455e+02]\n",
      " [-5.39689559e-03 -3.51445841e+01  5.78328574e+01 -2.50683573e+02]\n",
      " [-7.64432802e-06 -4.97798641e-02  1.21955157e-01 -7.45655624e-01]]\n",
      "[[ 1.71263230e+00 -1.52474167e+03  7.71481519e+02 -5.74637822e+03]\n",
      " [-4.42531151e-02 -2.88176286e+02  4.74214122e+02 -2.05553894e+03]\n",
      " [-6.26814662e-05 -4.08181708e-01  1.00000000e+00 -6.11417873e+00]]\n",
      "(3, 4)\n"
     ]
    }
   ],
   "source": [
    "# Denormalize the coordinates\n",
    "H = np.linalg.pinv(Txy).dot((H_norm).dot(Txyz))\n",
    "print(H)\n",
    "H = H / H[-1, -2]\n",
    "print(H)\n",
    "print(H.shape)"
   ]
  },
  {
   "cell_type": "markdown",
   "metadata": {},
   "source": [
    "### Predicted/Expected value"
   ]
  },
  {
   "cell_type": "code",
   "execution_count": 72,
   "metadata": {},
   "outputs": [],
   "source": [
    "\n",
    "pts_norm = np.zeros((worldm,3))\n",
    "for j in range(worldm):\n",
    "    pts_norm[j,:]  = np.dot(H,world_pts[j])\n",
    "    pts_norm[j,:] /= pts_norm[j,2]\n"
   ]
  },
  {
   "cell_type": "code",
   "execution_count": 73,
   "metadata": {},
   "outputs": [
    {
     "data": {
      "image/png": "[encoded data removed]",
      "text/plain": [
       "<Figure size 640x480 with 1 Axes>"
      ]
     },
     "metadata": {},
     "output_type": "display_data"
    }
   ],
   "source": [
    "fig = plt.figure()\n",
    "ax = fig.add_subplot()\n",
    "ax.plot(I_pts[:,0],I_pts[:,1], color = 'r',ls = \"None\", marker = \".\", label = 'Original')\n",
    "ax.set_title(\"Point estimation\")\n",
    "ax.set_xlabel(\"X axis\")\n",
    "ax.set_ylabel(\"Y axis\")\n",
    "ax.grid()\n",
    "ax.plot(pts_norm[:,0],pts_norm[:,1], color = 'b',ls = \"None\", marker = \".\", label = 'Estimation')\n",
    "ax.legend()\n",
    "plt.show()"
   ]
  },
  {
   "cell_type": "markdown",
   "metadata": {},
   "source": [
    "## Geometric Error \n",
    "Geometric error essentially gives an estimate of how far the predictions are from the ground truth. It does so by measuring the distance between the predicted projection of a point and its ground truth projection. When we minimize the geometric error, we’re essentially minimizing the distance between the predictions and the ground truth.\n",
    "$$E = \\sum{d(x_i,x'_i)}$$"
   ]
  },
  {
   "cell_type": "code",
   "execution_count": 74,
   "metadata": {},
   "outputs": [
    {
     "name": "stdout",
     "output_type": "stream",
     "text": [
      "(6, 3)\n",
      "Geometric Error after normalization :  1.9717080985759816e-10\n"
     ]
    }
   ],
   "source": [
    "# Mean distance:\n",
    "err = np.sqrt(np.mean(np.sum(np.square(I_pts-pts_norm[:,:2]), 1)))\n",
    "print(\"Geometric Error after normalization : \",err) "
   ]
  },
  {
   "cell_type": "markdown",
   "metadata": {},
   "source": [
    "We can see in fact that the normalization enhances the performance of the calibration by 100x times."
   ]
  }
 ],
 "metadata": {
  "kernelspec": {
   "display_name": "Python (base)",
   "language": "python",
   "name": "base"
  },
  "language_info": {
   "codemirror_mode": {
    "name": "ipython",
    "version": 3
   },
   "file_extension": ".py",
   "mimetype": "text/x-python",
   "name": "python",
   "nbconvert_exporter": "python",
   "pygments_lexer": "ipython3",
   "version": "3.8.10"
  }
 },
 "nbformat": 4,
 "nbformat_minor": 4
}
