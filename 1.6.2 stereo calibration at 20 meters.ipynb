{
 "cells": [
  {
   "cell_type": "markdown",
   "metadata": {},
   "source": [
    "## 1.6.1 Stereo Calibration \n",
    "Stereo calibration and triangulation for 2 meters"
   ]
  },
  {
   "cell_type": "markdown",
   "metadata": {},
   "source": [
    "### import  libraries"
   ]
  },
  {
   "cell_type": "code",
   "execution_count": 10,
   "metadata": {},
   "outputs": [],
   "source": [
    "vscode = 1"
   ]
  },
  {
   "cell_type": "code",
   "execution_count": 11,
   "metadata": {},
   "outputs": [],
   "source": [
    "if(vscode == 1):\n",
    "    # for vscode\n",
    "    %matplotlib qt\n",
    "else:\n",
    "    # for jupyter notebook\n",
    "    from mpl_toolkits.mplot3d import axes3d\n",
    "    import matplotlib.pyplot as plt\n",
    "\n",
    "    %matplotlib notebook\n"
   ]
  },
  {
   "cell_type": "code",
   "execution_count": 12,
   "metadata": {},
   "outputs": [],
   "source": [
    "import matplotlib.pyplot as plt\n",
    "import numpy as np\n",
    "import cv2 \n",
    "from typing import Sequence\n",
    "from calib_lib import *\n",
    "DECIMALS = 2  # how many decimal places to use in print\n"
   ]
  },
  {
   "cell_type": "code",
   "execution_count": 13,
   "metadata": {},
   "outputs": [],
   "source": [
    "F = 16                                       # focal length( in mm )\n",
    "image_size = np.array([11,7])               # sensor size(in mm)\n",
    "PX= image_size[0]/2.0                       # principal point x-coordinate\n",
    "PY= image_size[1]/2.0                       # principal point y-coordinate\n",
    "IMAGE_HEIGTH = image_size[1]\n",
    "IMAGE_WIDTH = image_size[0]\n",
    "THETA_X = 0                                 # roll angle\n",
    "THETA_Y = 0                                 # pitch angle\n",
    "THETA_Z = 0                         # yaw angle\n",
    "\n",
    "\n",
    "# camera Right\n",
    "THETA_X_R = 0                                 # roll angle\n",
    "THETA_Y_R = 0                                 # pitch angle\n",
    "THETA_Z_R= 0                                 # yaw angle\n",
    "# camera Left\n",
    "THETA_X_L = 0                                 # roll angle\n",
    "THETA_Y_L = 0                                 # pitch angle\n",
    "THETA_Z_L= 0                                 # yaw angle\n",
    "\n",
    "C_L = np.array([0,0,0])                     # camera centre\n",
    "C_R = np.array([500,0,0])\n",
    "\n",
    "chess_dimx,chess_dimy = (13,9)\n",
    "chess_sq_size = 44\n"
   ]
  },
  {
   "cell_type": "code",
   "execution_count": 14,
   "metadata": {},
   "outputs": [],
   "source": [
    "def repeat_func(xrange,yrange,zrange):\n",
    "\n",
    "    translst= []\n",
    "\n",
    "    for z in zrange:\n",
    "        for x in xrange:\n",
    "            for y in yrange:\n",
    "                translst.append([x,y,z])\n",
    "                \n",
    "    len(translst)\n",
    "    #print(translst)\n",
    "\n",
    "    # chessboard print\n",
    "    chess_pts = []\n",
    "    world_pts = create_chessboard(chess_dimx,chess_dimy,chess_sq_size)\n",
    "    rotangles = [[0,0,0],[np.pi/4,0,np.pi/2],[0,np.pi/4,np.pi/2],[0,np.pi/4,-np.pi/2],[np.pi/4,0,-np.pi/2]]\n",
    "\n",
    "    for i in range(len(translst)):\n",
    "        for j in range(len(rotangles)):    \n",
    "            chess_pts.append(get_chessboard_rot_trans(world_pts,rotangles[j][0],rotangles[j][1],rotangles[j][2],translst[i][0],translst[i][1],translst[i][2]))\n",
    "\n",
    "    chess_pts_arr = np.array(chess_pts)\n",
    "    print(chess_pts_arr.shape)\n",
    "\n",
    "    pattern_size_x,pattern_size_y = (chess_dimx,chess_dimy)\n",
    "\n",
    "    X_pattern = np.linspace(0, pattern_size_x,pattern_size_x + 1)*chess_sq_size\n",
    "    Y_pattern = np.linspace(0, pattern_size_y,pattern_size_y + 1)*chess_sq_size\n",
    "    zdata = np.zeros((pattern_size_x + 1,pattern_size_y + 1))\n",
    "    xdata, ydata = np.meshgrid(X_pattern, Y_pattern)\n",
    "\n",
    "    xdata_ = xdata.flatten()\n",
    "    ydata_ = ydata.flatten()\n",
    "    zdata_ = zdata.flatten()\n",
    "    \n",
    "    # homogeneous coordinates\n",
    "    world_pts =([xdata_,ydata_,zdata_])\n",
    "    world_pts_ = np.array(world_pts).T\n",
    "\n",
    "    world_pts_arr = np.zeros((chess_pts_arr.shape[0],(pattern_size_x+1)*(pattern_size_y+1),3),np.float32)\n",
    "    \n",
    "    for i in range(chess_pts_arr.shape[0]):\n",
    "        world_pts_arr[i,:,:] = world_pts_\n",
    "\n",
    "    world_pts_arr = world_pts_arr.reshape(world_pts_arr.shape[0],1,(pattern_size_x+1)*(pattern_size_y+1),3)\n",
    "    \n",
    "    x_lst_R = []\n",
    "    x_lst_L = []\n",
    "    for i in range(chess_pts_arr.shape[0]):\n",
    "        x_arr_R, X_arr_R, E_R, K_R, P_R = get_image_points(chess_pts_arr[i,:,:],PX,PY,thetax= 0,thetay = 0,thetaz = 0,trans_x= -C_R[0],trans_y= -C_R[1],trans_z= -C_R[2],F = F)\n",
    "        x_arr_L, X_arr_L, E_L, K_L, P_L = get_image_points(chess_pts_arr[i,:,:],PX,PY,thetax= 0,thetay = 0,thetaz = 0,trans_x= -C_L[0],trans_y= -C_L[1],trans_z= -C_L[2],F = F)\n",
    "        \n",
    "        x_lst_R.append(x_arr_R)\n",
    "        x_lst_L.append(x_arr_L)\n",
    "\n",
    "    x_zhang_R = np.array(x_lst_R,np.float32)\n",
    "    x_zhang_L = np.array(x_lst_L,np.float32)\n",
    "\n",
    "    print(\"World points: \",world_pts_arr.shape)\n",
    "    print(\"Image points: \",x_zhang_L.shape)\n",
    "\n",
    "\n",
    "    return world_pts_arr,x_zhang_R,x_zhang_L,P_R,P_L\n"
   ]
  },
  {
   "cell_type": "code",
   "execution_count": 15,
   "metadata": {},
   "outputs": [],
   "source": [
    "def calib(world_pts_arr,x_zhang_R,x_zhang_L):    \n",
    "    ret_R, mtx_R, dist_R, rvecs_R, tvecs_R = cv2.calibrateCamera(world_pts_arr, x_zhang_R, (image_size[0],image_size[1]), None, None)\n",
    "    ret_L, mtx_L, dist_L, rvecs_L, tvecs_L = cv2.calibrateCamera(world_pts_arr, x_zhang_L, (image_size[0],image_size[1]), None, None)\n",
    "\n",
    "    stereo_flags = cv2.CALIB_FIX_INTRINSIC\n",
    "\n",
    "    # Here we fix the intrinsic camara matrixes so that only Rot, Trns, Emat and Fmat are calculated.\n",
    "    # Hence intrinsic parameters are the same \n",
    "\n",
    "    criteria_stereo= (cv2.TERM_CRITERIA_EPS + cv2.TERM_CRITERIA_MAX_ITER, 30, 0.001)\n",
    "\n",
    "\n",
    "    # This step is performed to transformation between the two cameras and calculate Essential and Fundamenatl matrix\n",
    "    retS, new_mtxL, distL, new_mtxR, distR, Rot, Trns, Emat, Fmat = cv2.stereoCalibrate(world_pts_arr, x_zhang_L, x_zhang_R, mtx_L, dist_L, mtx_R, dist_R, (image_size[0],image_size[1]), criteria_stereo, stereo_flags)\n",
    "\n",
    "    return ret_R,mtx_R,ret_L,mtx_L,retS,new_mtxL,new_mtxR,Rot,Trns,Emat,Fmat"
   ]
  },
  {
   "cell_type": "code",
   "execution_count": 16,
   "metadata": {},
   "outputs": [
    {
     "name": "stdout",
     "output_type": "stream",
     "text": [
      "(500, 140, 3)\n",
      "World points:  (500, 1, 140, 3)\n",
      "Image points:  (500, 140, 2)\n"
     ]
    }
   ],
   "source": [
    "ret_R_list = []\n",
    "mtx_R_list = []\n",
    "ret_L_list = []\n",
    "mtx_L_list = []\n",
    "retS_list = []\n",
    "new_mtxL_list = []\n",
    "new_mtxR_list = []\n",
    "Rot_list = []\n",
    "Trns_list = []\n",
    "Emat_list = []\n",
    "Fmat_list = []\n",
    "P_R_org_list = []\n",
    "P_L_org_list = []\n",
    "\n",
    "xrange_0 = np.linspace(-6000,6000,1)\n",
    "yrange_0 = np.linspace(-4000,4000,1)\n",
    "zrange_0 = ([20000])\n",
    "\n",
    "xrange_1 = np.linspace(-6000,6000,2)\n",
    "yrange_1 = np.linspace(-4000,4000,2)\n",
    "zrange_1 = ([20000])\n",
    "\n",
    "xrange_2 = np.linspace(-6000,6000,4)\n",
    "yrange_2 = np.linspace(-4000,4000,4)\n",
    "zrange_2 = ([20000])\n",
    "\n",
    "xrange_3 = np.linspace(-6000,6000,6)\n",
    "yrange_3 = np.linspace(-4000,4000,6)\n",
    "zrange_3 = ([20000])\n",
    "\n",
    "xrange_4 = np.linspace(-6000,6000,8)\n",
    "yrange_4 = np.linspace(-4000,4000,8)\n",
    "zrange_4 = ([20000])\n",
    "\n",
    "xrange_5 = np.linspace(-6000,6000,10)\n",
    "yrange_5 = np.linspace(-4000,4000,10)\n",
    "zrange_5 = ([20000])\n",
    "\n",
    "\n",
    "#x_range = ([xrange_0,xrange_1,xrange_2,xrange_3,xrange_4,xrange_5])\n",
    "#y_range = ([yrange_0,yrange_1,yrange_2,yrange_3,yrange_4,yrange_5])\n",
    "#z_range = ([zrange_0,zrange_1,zrange_2,zrange_3,zrange_4,zrange_5])\n",
    "x_range = ([xrange_5])\n",
    "y_range = ([yrange_5])\n",
    "z_range = ([zrange_5])\n",
    "\n",
    "\n",
    "\n",
    "for i in range(len(z_range)):\n",
    "\n",
    "    world_pts_arr = 0\n",
    "    x_zhang_R = 0\n",
    "    x_zhang_L = 0\n",
    "    \n",
    "    world_pts_arr,x_zhang_R,x_zhang_L, P_R, P_L = repeat_func(x_range[i],y_range[i],z_range[i])\n",
    "\n",
    "    ret_R,mtx_R,ret_L,mtx_L,retS,new_mtxL,new_mtxR,Rot,Trns,Emat,Fmat = calib(world_pts_arr,x_zhang_R,x_zhang_L)\n",
    "\n",
    "    ret_R_list.append([ret_R])\n",
    "    mtx_R_list.append([mtx_R])\n",
    "    ret_L_list.append([ret_L])\n",
    "    mtx_L_list.append([mtx_L])\n",
    "    retS_list.append([retS])\n",
    "    new_mtxL_list.append([new_mtxL])\n",
    "    new_mtxR_list.append([new_mtxR])\n",
    "    Rot_list.append([Rot])\n",
    "    Trns_list.append([Trns])\n",
    "    Emat_list.append([Emat])\n",
    "    Fmat_list.append([Fmat])\n",
    "    P_R_org_list.append(P_R)\n",
    "    P_L_org_list.append(P_L)"
   ]
  },
  {
   "cell_type": "code",
   "execution_count": null,
   "metadata": {},
   "outputs": [],
   "source": [
    "P_L_list = []\n",
    "P_R_list = []\n",
    "\n",
    "for i in range(len(ret_R_list)):\n",
    "    R1,R2,P_L_est,P_R_est,Q,roi_left,roi_right = cv2.stereoRectify(new_mtxL_list[i][0], ret_L_list[i][0], new_mtxR_list[i][0], ret_R_list[i][0], (image_size[0],image_size[1]), Rot_list[i][0], Trns_list[i][0],flags = cv2.CALIB_ZERO_DISPARITY)\n",
    "    P_L_list.append(P_L_est)\n",
    "    P_R_list.append(P_R_est)"
   ]
  },
  {
   "cell_type": "code",
   "execution_count": null,
   "metadata": {},
   "outputs": [],
   "source": [
    "XestOpenCV = np.zeros((6,4,1))\n",
    "Xoriginal = np.zeros((6,4,1))\n",
    "\n",
    "X_org_arr = np.zeros((6,4,1))\n",
    "X_est_arr = np.zeros((6,4,1))\n",
    "\n",
    "estError = np.zeros((6,1))\n",
    "\n",
    "x_R = np.array([, 0])\n",
    "x_L = np.array([, 0])\n",
    "\n",
    "\n",
    "for i in range(len(ret_R_list)):\n",
    "\n",
    "    XestOpenCV[i,:,:] = cv2.triangulatePoints(P_L_list[i],P_R_list[i], x_L, x_R)\n",
    "    Xoriginal[i,:,:] =  cv2.triangulatePoints(P_L_org_list[i],P_R_org_list[i], x_L, x_R)\n",
    "\n",
    "    X_est_arr[i,:,:] = XestOpenCV[i,:,:]/XestOpenCV[i,-1,:]\n",
    "    Xoriginal[i,:,:] = Xoriginal[i,:,:]/Xoriginal[i,-1,:]\n",
    "\n",
    "    estError[i,:] = np.sum(np.abs(X_est_arr[i,:,:]-Xoriginal[i,:,:]))\n"
   ]
  },
  {
   "cell_type": "code",
   "execution_count": null,
   "metadata": {},
   "outputs": [
    {
     "data": {
      "text/plain": [
       "array([[[ 3.39998930e+03],\n",
       "        [-5.18706629e+03],\n",
       "        [ 2.37123109e+04],\n",
       "        [ 1.00000000e+00]],\n",
       "\n",
       "       [[ 3.39996603e+03],\n",
       "        [-5.18706849e+03],\n",
       "        [ 2.37123133e+04],\n",
       "        [ 1.00000000e+00]],\n",
       "\n",
       "       [[ 3.39997698e+03],\n",
       "        [-5.18706822e+03],\n",
       "        [ 2.37123089e+04],\n",
       "        [ 1.00000000e+00]],\n",
       "\n",
       "       [[ 3.39998048e+03],\n",
       "        [-5.18706843e+03],\n",
       "        [ 2.37123100e+04],\n",
       "        [ 1.00000000e+00]],\n",
       "\n",
       "       [[ 3.39999194e+03],\n",
       "        [-5.18706821e+03],\n",
       "        [ 2.37123089e+04],\n",
       "        [ 1.00000000e+00]],\n",
       "\n",
       "       [[ 3.39999939e+03],\n",
       "        [-5.18706826e+03],\n",
       "        [ 2.37123113e+04],\n",
       "        [ 1.00000000e+00]]])"
      ]
     },
     "metadata": {},
     "output_type": "display_data"
    }
   ],
   "source": [
    "X_est_arr"
   ]
  },
  {
   "cell_type": "code",
   "execution_count": null,
   "metadata": {},
   "outputs": [
    {
     "data": {
      "text/plain": [
       "array([[0.0127652 ],\n",
       "       [0.03731586],\n",
       "       [0.02488038],\n",
       "       [0.02048436],\n",
       "       [0.00984518],\n",
       "       [0.00185742]])"
      ]
     },
     "metadata": {},
     "output_type": "display_data"
    }
   ],
   "source": [
    "estError"
   ]
  },
  {
   "cell_type": "code",
   "execution_count": null,
   "metadata": {},
   "outputs": [
    {
     "data": {
      "text/plain": [
       "[[9.835100871039172e-08],\n",
       " [1.300283881645069e-07],\n",
       " [1.3163679364871214e-07],\n",
       " [1.3239647009764755e-07],\n",
       " [1.3069609374229215e-07],\n",
       " [1.3169207371775606e-07]]"
      ]
     },
     "metadata": {},
     "output_type": "display_data"
    }
   ],
   "source": [
    "ret_R_list"
   ]
  },
  {
   "cell_type": "code",
   "execution_count": null,
   "metadata": {},
   "outputs": [
    {
     "data": {
      "text/plain": [
       "<matplotlib.legend.Legend at 0x21eb3ba1810>"
      ]
     },
     "metadata": {},
     "output_type": "display_data"
    }
   ],
   "source": [
    "nr_chess = [20,80,180,320,500]\n",
    "\n",
    "fig = plt.figure(figsize = (20,8))\n",
    "ax = fig.add_subplot(121)\n",
    "ax.plot(nr_chess,ret_R_list[1:],'k-*',label = \"2 meters\")\n",
    "\n",
    "ax.set_yscale('log')\n",
    "ax.set_ylabel(\"Reprojection error (in mm)\")\n",
    "ax.set_xlabel(\"number of chessboards\")\n",
    "ax.set_title(\"Stereo camera calibration error\")\n",
    "ax.grid('--')\n",
    "ax.legend()\n",
    "\n",
    "ax1 = fig.add_subplot(122)\n",
    "ax1.set_ylabel(\"Triangulation error (in mm)\")\n",
    "ax1.set_xlabel(\"number of chessboards\")\n",
    "ax1.set_title(\"Stereo camera calibration error\")\n",
    "ax1.plot(nr_chess,estError[1:],'k-*',label = \"2 meters\")\n",
    "ax1.grid('--')\n",
    "ax1.legend()\n"
   ]
  },
  {
   "cell_type": "markdown",
   "metadata": {},
   "source": [
    "### Save the variables"
   ]
  },
  {
   "cell_type": "code",
   "execution_count": 17,
   "metadata": {},
   "outputs": [
    {
     "name": "stdout",
     "output_type": "stream",
     "text": [
      "Writing 'P_L_org_list,P_R_org_list,retS_list,new_mtxL_list,ret_L_list,new_mtxR_list,ret_R_list,Rot_list,Trns_list' (tuple) to file 'C:\\Users\\PC1\\Documents\\thesis\\thesis_venv\\calibration\\distances\\twentymeters.txt'.\n"
     ]
    }
   ],
   "source": [
    "%store P_L_org_list,P_R_org_list,retS_list,new_mtxL_list,ret_L_list,new_mtxR_list,ret_R_list,Rot_list,Trns_list >\"C:\\Users\\PC1\\Documents\\thesis\\thesis_venv\\calibration\\distances\\twentymeters.txt\""
   ]
  },
  {
   "cell_type": "code",
   "execution_count": null,
   "metadata": {},
   "outputs": [],
   "source": []
  }
 ],
 "metadata": {
  "interpreter": {
   "hash": "9a1e11f5a9d6a633cc6edcb944e6a353ce0832dacf7c6ded8f94bd883e52ad00"
  },
  "kernelspec": {
   "display_name": "Python 3.10.4 64-bit (system)",
   "language": "python",
   "name": "python3"
  },
  "language_info": {
   "codemirror_mode": {
    "name": "ipython",
    "version": 3
   },
   "file_extension": ".py",
   "mimetype": "text/x-python",
   "name": "python",
   "nbconvert_exporter": "python",
   "pygments_lexer": "ipython3",
   "version": "3.10.4"
  },
  "orig_nbformat": 4
 },
 "nbformat": 4,
 "nbformat_minor": 2
}
