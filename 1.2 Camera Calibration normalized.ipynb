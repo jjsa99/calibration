{
 "cells": [
  {
   "cell_type": "markdown",
   "metadata": {},
   "source": [
    "# 1. Camera Calibration\n",
    "\n",
    "This script intends to calibrate a camera using an object.\\\n",
    "For this implementation we will use the DLT transform for the estimation of the camera parameters.\n",
    "\n"
   ]
  },
  {
   "cell_type": "markdown",
   "metadata": {},
   "source": [
    "When dealing with an uncalibrated camera, 11 parameters are unknown, meaning we need at least **6 points** and assume the model of the camera is **affine**.\n",
    ">**Problem specification:**\n",
    "- Estimate the 11 elements of P given:\n",
    "    - 3D coordinates $X_{i}$ of I $\\geq$ 6 object points\n",
    "\n",
    "\n",
    "<img src=\"/home/alegria/calibration/images/camera_orientation.png\" width=400 height=400 />\\\n"
   ]
  },
  {
   "cell_type": "markdown",
   "metadata": {},
   "source": [
    "## Import the libraries"
   ]
  },
  {
   "cell_type": "code",
   "execution_count": 57,
   "metadata": {},
   "outputs": [],
   "source": [
    "#%matplotlib qt\n",
    "#%matplotlib notebook\n",
    "import cv2\n",
    "from matplotlib import pyplot as plt\n",
    "import numpy as np\n",
    "import scipy as sp\n",
    "import seaborn as sns\n",
    "\n",
    "from utils import *"
   ]
  },
  {
   "cell_type": "markdown",
   "metadata": {},
   "source": [
    "## Generate world and image points"
   ]
  },
  {
   "cell_type": "code",
   "execution_count": 58,
   "metadata": {},
   "outputs": [],
   "source": [
    "I_pts  = [[140,285],[908,338],[1655,391],[2450,431],[3223,465],[4070,535],[4945,552],[200,1045],[941,1112],[1682,1159],\n",
    "           [2456,1232],[3243,1265],[4064,1326],[4878,1392],[661,2100],[1435,2166],[2222,2233],[3043,2306],[3877,2380],\n",
    "          [4744,2460],[334,2400],[1148,2460],[1995,2547],[2849,2627],[3737,2713],[4658,2794],[834,2807],[1722,2907],[2629,2987]\n",
    "          ,[3570,3080],[4551,3167],[474,3214],[1408,3314],[2389,3401],[3377,3488],[4437,3614]]\n",
    "I_pts = np.asarray(I_pts)\n",
    "\n",
    "### Definging World Points\n",
    "X = [216,180,144,108,72,36,0,216,180,144,108,72,36,0,180,144,108,72,36,0,180,144,108,72,36,0,144,108,72,36,0,144,108,72,36,0]\n",
    "Y = [72,72,72,72,72,72,72,36,36,36,36,36,36,36,0,0,0,0,0,0,0,0,0,0,0,0,0,0,0,0,0,0,0,0,0,0]\n",
    "Z = [0,0,0,0,0,0,0,0,0,0,0,0,0,0,36,36,36,36,36,36,72,72,72,72,72,72,108,108,108,108,108,144,144,144,144,144]\n",
    "\n",
    "world_pts_list = []\n",
    "image_pts_list = []\n",
    "\n",
    "n = (I_pts.shape[0])\n",
    "\n",
    "for i in range(n):\n",
    "    world_pts_list.append([X[i],Y[i],Z[i],1])\n",
    "    image_pts_list.append([I_pts[i,0],I_pts[i,1],1])\n",
    "\n",
    "world_pts = np.array(world_pts_list) \n",
    "image_pts = np.array(image_pts_list)\n"
   ]
  },
  {
   "cell_type": "code",
   "execution_count": 59,
   "metadata": {},
   "outputs": [
    {
     "data": {
      "image/png": "[encoded data removed]",
      "text/plain": [
       "<Figure size 432x288 with 1 Axes>"
      ]
     },
     "metadata": {
      "needs_background": "light"
     },
     "output_type": "display_data"
    }
   ],
   "source": [
    "fig = plt.figure()\n",
    "ax = fig.add_subplot()\n",
    "ax.plot(I_pts[:,0],I_pts[:,1], color = 'r',ls = \"None\", marker = \".\")\n",
    "ax.set_title(\"Image points\")\n",
    "ax.set_xlabel(\"X axis\")\n",
    "ax.set_ylabel(\"Y axis\")\n",
    "ax.grid()\n",
    "plt.show()"
   ]
  },
  {
   "cell_type": "markdown",
   "metadata": {},
   "source": [
    "## Direct Linear Transform(DLT)"
   ]
  },
  {
   "cell_type": "code",
   "execution_count": 60,
   "metadata": {},
   "outputs": [],
   "source": [
    "# get the shape of the matrix\n",
    "worldm, worldn = world_pts.shape\n",
    "imagem, imagen = image_pts.shape\n"
   ]
  },
  {
   "cell_type": "code",
   "execution_count": 61,
   "metadata": {},
   "outputs": [
    {
     "name": "stdout",
     "output_type": "stream",
     "text": [
      "(72, 12)\n"
     ]
    }
   ],
   "source": [
    "#3D DLT\n",
    "A = []\n",
    "\n",
    "for i in range(worldm):\n",
    "    A = np.append(A,[world_pts[i,0],world_pts[i,1],world_pts[i,2],world_pts[i,3],0,0,0,0,-image_pts[i,0]*world_pts[i,0],-image_pts[i,0]*world_pts[i,1],-image_pts[i,0]*world_pts[i,2],-image_pts[i,0]])\n",
    "    A = np.append(A,[0,0,0,0,world_pts[i,0],world_pts[i,1],world_pts[i,2],world_pts[i,3],-image_pts[i,1]*world_pts[i,0],-image_pts[i,1]*world_pts[i,1],-image_pts[i,1]*world_pts[i,2],-image_pts[i,1]])\n",
    "\n",
    "# pass the list A as an array\n",
    "A = np.asarray(A).reshape(n*2,12)\n",
    "#print(A)\n",
    "print(A.shape)"
   ]
  },
  {
   "cell_type": "markdown",
   "metadata": {},
   "source": [
    "## SVD(Singular Value Decomposition)\n",
    "Solving a system of linear equations of the form Ax = 0 is equivalent to finding the null space of A. Thus, we can apply the SVD to solve Mp = 0 "
   ]
  },
  {
   "cell_type": "markdown",
   "metadata": {},
   "source": [
    "### Q.M = 0\n",
    "\n",
    "**Minimal solution**\n",
    "- $Q_{(2n×12)}$ should have rank 11 to have a unique (up to a scale) non-zero solution 𝑀\n",
    "- Because each 3D-to-2D point correspondence provides 2 independent equations, then 5+1/2 point correspondences are needed (in practice 6 point correspondences!)\n",
    "\n",
    "**Over-determined solution**\n",
    "- For 𝑛 ≥ 6 points, a solution is the Least Square solution, which minimizes the sum of squared residuals, | 𝑄𝑀 |2, subject to the constraint | 𝑀 |2 = 1.It can be solved through Singular Value Decomposition (SVD). The solution is the eigenvector corresponding to the smallest eigenvalue of the matrix $Q^TQ$(because it is the unit vector 𝑥 that minimizes $\\|{Qx}\\| = x^TQ^TQx$\n"
   ]
  },
  {
   "cell_type": "code",
   "execution_count": 62,
   "metadata": {},
   "outputs": [
    {
     "name": "stdout",
     "output_type": "stream",
     "text": [
      "Camera Matrix:\n",
      " [[-2.11225340e+01 -1.52511970e+00 -9.72155998e+00  4.82458631e+03]\n",
      " [-1.09832879e+00 -2.24096507e+01  4.43993421e+00  2.15758505e+03]\n",
      " [ 3.60153742e-04 -6.15323260e-04 -1.57382436e-03  1.00000000e+00]]\n"
     ]
    }
   ],
   "source": [
    "# SVD \n",
    "U, S, Vh = np.linalg.svd(A)\n",
    "\n",
    "L = Vh[-1,:] / Vh[-1,-1]\n",
    "#Camera projection matrix:\n",
    "PEst = L.reshape(3,3+1)\n",
    "print(\"Camera Matrix:\\n\",PEst)"
   ]
  },
  {
   "cell_type": "markdown",
   "metadata": {},
   "source": [
    "### Predicted/Expected value"
   ]
  },
  {
   "cell_type": "code",
   "execution_count": 63,
   "metadata": {},
   "outputs": [],
   "source": [
    "xEst = np.zeros((worldm,3))\n",
    "for j in range(worldm):\n",
    "    xEst[j,:]  = np.dot(PEst,world_pts[j])\n",
    "    xEst[j,:] /= xEst[j,2]\n"
   ]
  },
  {
   "cell_type": "code",
   "execution_count": 64,
   "metadata": {},
   "outputs": [
    {
     "data": {
      "image/png": "[encoded data removed]",
      "text/plain": [
       "<Figure size 432x288 with 1 Axes>"
      ]
     },
     "metadata": {
      "needs_background": "light"
     },
     "output_type": "display_data"
    }
   ],
   "source": [
    "fig = plt.figure()\n",
    "ax = fig.add_subplot(111)\n",
    "ax.plot(I_pts[:,0],I_pts[:,1], color = 'r',ls = \"None\", marker = \".\", label = 'Original')\n",
    "ax.set_title(\"Point estimation\")\n",
    "ax.set_xlabel(\"X axis\")\n",
    "ax.set_ylabel(\"Y axis\")\n",
    "ax.grid()\n",
    "ax.plot(xEst[:,0],xEst[:,1], color = 'b',ls = \"None\", marker = \".\", label = 'Estimation')\n",
    "ax.legend()\n",
    "plt.show()"
   ]
  },
  {
   "cell_type": "markdown",
   "metadata": {},
   "source": [
    "## Geometric Error\n",
    "\n",
    "$$E = \\sum{d(x_i, MX_i)}$$\n",
    ">d is the distance metric( euclidean distance)"
   ]
  },
  {
   "cell_type": "code",
   "execution_count": 65,
   "metadata": {},
   "outputs": [
    {
     "name": "stdout",
     "output_type": "stream",
     "text": [
      "Geometric error: 12.60866988230573\n"
     ]
    }
   ],
   "source": [
    "err = np.sqrt(np.mean(np.sum(np.square(I_pts-xEst[:,:2]), 1)))\n",
    "print(\"Geometric error:\",err)\n",
    "\n",
    "\n",
    "#cv2.SOLVEPNP_ITERATIVE()"
   ]
  },
  {
   "cell_type": "markdown",
   "metadata": {},
   "source": [
    "## Normalization\n",
    "In order to improve the estimation, it is essential for DLT to normalize the data sample, as follows:\n",
    "1. The points are tranlated so that their centroid is at the origin\n",
    "2. The points are scaled so that the average distance from the origin is equal to $\\sqrt{2}$\n",
    "3. This transformation is applied to each of the two images independently\n",
    "\n",
    "> Data normalization is an essential step in DLT. It must not be considered optional. - *Harley*\n",
    "\n",
    "**Algorithm:**\n",
    "- Normalization of X\n",
    "- Normalization of x \n",
    "- DLT\n",
    "- Denormalization"
   ]
  },
  {
   "cell_type": "code",
   "execution_count": 66,
   "metadata": {},
   "outputs": [],
   "source": [
    "\n",
    "def normalization(data, dim):\n",
    "    '''\n",
    "    Normalization of coordinates (centroid to the origin and mean distance of sqrt(2 or 3).\n",
    "    Inputs:\n",
    "    data: the data to be normalized (directions at different columns and points at rows)\n",
    "    Outputs:\n",
    "    T : the transformation matrix (translation plus scaling)\n",
    "    '''\n",
    "\n",
    "    N = data.shape[0]\n",
    "    \n",
    "    if dim == 2:                                                     # 2D points\n",
    "        x, y = data[:, 0], data[:, 1]                               # x and y coordinates\n",
    "        x_mean, y_mean = x.mean(), y.mean()                         # mean \n",
    "        x_par = (x-x_mean)**2                                       # x part\n",
    "        y_par = (y-y_mean)**2                                       # y part\n",
    "\n",
    "        d = (1/N)* np.sum(np.sqrt(x_par + y_par))                   # d\n",
    "        s_xy = np.sqrt(2)/d                                         # sqrt(2)/d\n",
    "\n",
    "        T = np.zeros((3,3))                                         # normalization matrix for 2D points\n",
    "        T[0,0] = s_xy\n",
    "        T[0,2] = -x_mean*s_xy\n",
    "        T[1,1] = s_xy\n",
    "        T[1,2] = -y_mean*s_xy\n",
    "        T[-1,-1] = 1\n",
    "\n",
    "    elif(dim== 3):                                                  # 3D points\n",
    "        X, Y, Z = data[:, 0], data[:, 1], data[:,2]                 # x and y coordinates\n",
    "        X_mean, Y_mean,Z_mean = X.mean(), Y.mean(),Z.mean()         # mean \n",
    "        X_par = (X-X_mean)**2                                       # x part\n",
    "        Y_par = (Y-Y_mean)**2                                       # y part\n",
    "        Z_par = (Z-Z_mean)**2                                       # z part\n",
    "\n",
    "        D = (1/N)* np.sum(np.sqrt(X_par + Y_par + Z_par))           # d\n",
    "        s_xyz = np.sqrt(3)/D                                        # sqrt(2)/d\n",
    "\n",
    "        T = np.zeros((4,4))                                         # normalization matrix for 3D points\n",
    "        T[0,0] = s_xyz\n",
    "        T[0,3] = -X_mean*s_xyz\n",
    "        T[1,1] = s_xyz\n",
    "        T[1,3] = -Y_mean*s_xyz\n",
    "        T[2,2] = s_xyz\n",
    "        T[2,3] = -Z_mean*s_xyz\n",
    "        T[-1,-1] = 1\n",
    "    else:\n",
    "        raise ValueError('Dataset must be a collection of 2D or points')\n",
    "\n",
    "    return T\n"
   ]
  },
  {
   "cell_type": "code",
   "execution_count": 67,
   "metadata": {},
   "outputs": [
    {
     "data": {
      "image/png": "[encoded data removed]",
      "text/plain": [
       "<Figure size 432x288 with 1 Axes>"
      ]
     },
     "metadata": {
      "needs_background": "light"
     },
     "output_type": "display_data"
    }
   ],
   "source": [
    "Txy = normalization(image_pts,2)\n",
    "#print(\"Normalization matrix for 2D:\\n\",T_matrix)\n",
    "Txyz = normalization(world_pts,3)\n",
    "#print(\"Normalization matrix for 3D :\\n\",U_matrix)\n",
    "\n",
    "#normalized imagecoordinates\n",
    "xyn = np.dot(image_pts,Txy.T)\n",
    "#normalized worldcoordinates\n",
    "xyzn = np.dot(world_pts,Txyz.T)\n",
    "\n",
    "fig = plt.figure()\n",
    "ax = fig.add_subplot(111)\n",
    "ax.plot(xyn[:,0],xyn[:,1], color = 'r',ls = \"None\", marker = \".\", label = 'Original')\n",
    "ax.set_title(\"Point estimation\")\n",
    "ax.set_xlabel(\"X axis\")\n",
    "ax.set_ylabel(\"Y axis\")\n",
    "ax.grid()\n",
    "ax.legend()\n",
    "plt.show()"
   ]
  },
  {
   "cell_type": "markdown",
   "metadata": {},
   "source": [
    "For each image A generates a (2,12)"
   ]
  },
  {
   "cell_type": "code",
   "execution_count": 68,
   "metadata": {},
   "outputs": [
    {
     "name": "stdout",
     "output_type": "stream",
     "text": [
      "(72, 12)\n"
     ]
    }
   ],
   "source": [
    "#3D DLT\n",
    "A = []\n",
    "sz = len(xyzn)\n",
    "\n",
    "for i in range(sz):\n",
    "    x, y, z = xyzn[i, 0], xyzn[i, 1], xyzn[i, 2]\n",
    "    u, v = xyn[i, 0], xyn[i, 1]\n",
    "    A.append( [x, y, z, 1, 0, 0, 0, 0, -u * x, -u * y, -u * z, -u] )\n",
    "    A.append( [0, 0, 0, 0, x, y, z, 1, -v * x, -v * y, -v * z, -v] )\n",
    "\n",
    "# pass the list A as an array\n",
    "A = np.asarray(A).reshape(sz*2,12)\n",
    "#print(A)\n",
    "print(A.shape)\n",
    "\n"
   ]
  },
  {
   "cell_type": "code",
   "execution_count": 69,
   "metadata": {},
   "outputs": [
    {
     "name": "stdout",
     "output_type": "stream",
     "text": [
      "[[-0.95061407  0.00135785 -0.24783624 -0.02930182]\n",
      " [-0.07876161 -0.91348273  0.32867535 -0.06296793]\n",
      " [ 0.01859844 -0.03148227 -0.08094851  1.        ]]\n"
     ]
    }
   ],
   "source": [
    "# SVD \n",
    "U, S, Vh = np.linalg.svd(A)\n",
    "L = Vh[-1,:] / Vh[-1,-1]\n",
    "# Camera projection matrix\n",
    "H_norm = L.reshape(3, 3 + 1)\n",
    "print(H_norm)"
   ]
  },
  {
   "cell_type": "markdown",
   "metadata": {},
   "source": [
    "## Denormalization"
   ]
  },
  {
   "cell_type": "code",
   "execution_count": 70,
   "metadata": {},
   "outputs": [
    {
     "name": "stdout",
     "output_type": "stream",
     "text": [
      "[[ 1.34382637e+04  9.62521261e+02  6.18120371e+03 -3.06916527e+06]\n",
      " [ 6.97562239e+02  1.42564566e+04 -2.82772741e+03 -1.37249310e+06]\n",
      " [-2.29756469e-01  3.88917258e-01  1.00000000e+00 -6.36095705e+02]]\n",
      "(3, 4)\n"
     ]
    }
   ],
   "source": [
    "# Denormalize the coordinates\n",
    "H = np.dot( np.dot( np.linalg.pinv(Txy), H_norm ), Txyz )\n",
    "H = H / H[-1, -2]\n",
    "print(H)\n",
    "print(H.shape)"
   ]
  },
  {
   "cell_type": "markdown",
   "metadata": {},
   "source": [
    "### Predicted/Expected value"
   ]
  },
  {
   "cell_type": "code",
   "execution_count": 71,
   "metadata": {},
   "outputs": [],
   "source": [
    "\n",
    "pts_norm = np.zeros((worldm,3))\n",
    "for j in range(worldm):\n",
    "    pts_norm[j,:]  = np.dot(H,world_pts[j])\n",
    "    pts_norm[j,:] /= pts_norm[j,2]\n"
   ]
  },
  {
   "cell_type": "code",
   "execution_count": 72,
   "metadata": {},
   "outputs": [
    {
     "data": {
      "image/png": "[encoded data removed]",
      "text/plain": [
       "<Figure size 432x288 with 1 Axes>"
      ]
     },
     "metadata": {
      "needs_background": "light"
     },
     "output_type": "display_data"
    }
   ],
   "source": [
    "fig = plt.figure()\n",
    "ax = fig.add_subplot()\n",
    "ax.plot(I_pts[:,0],I_pts[:,1], color = 'r',ls = \"None\", marker = \".\", label = 'Original')\n",
    "ax.set_title(\"Point estimation\")\n",
    "ax.set_xlabel(\"X axis\")\n",
    "ax.set_ylabel(\"Y axis\")\n",
    "ax.grid()\n",
    "ax.plot(pts_norm[:,0],pts_norm[:,1], color = 'b',ls = \"None\", marker = \".\", label = 'Estimation')\n",
    "ax.legend()\n",
    "plt.show()"
   ]
  },
  {
   "cell_type": "markdown",
   "metadata": {},
   "source": [
    "## Geometric Error \n",
    "Geometric error essentially gives an estimate of how far the predictions are from the ground truth. It does so by measuring the distance between the predicted projection of a point and its ground truth projection. When we minimize the geometric error, we’re essentially minimizing the distance between the predictions and the ground truth.\n",
    "$$E = \\sum{d(x_i,x'_i)}$$"
   ]
  },
  {
   "cell_type": "code",
   "execution_count": 73,
   "metadata": {},
   "outputs": [
    {
     "name": "stdout",
     "output_type": "stream",
     "text": [
      "(36, 3)\n",
      "Geometric Error after normalization :  12.605168608660863\n"
     ]
    }
   ],
   "source": [
    "print(xEst.shape)\n",
    "# Mean distance:\n",
    "err = np.sqrt(np.mean(np.sum(np.square(I_pts-pts_norm[:,:2]), 1)))\n",
    "print(\"Geometric Error after normalization : \",err) "
   ]
  },
  {
   "cell_type": "markdown",
   "metadata": {},
   "source": [
    "## Optimizing geometric_error"
   ]
  },
  {
   "cell_type": "code",
   "execution_count": 88,
   "metadata": {},
   "outputs": [
    {
     "name": "stdout",
     "output_type": "stream",
     "text": [
      "[[216 180 144 108  72  36   0 216 180 144 108  72  36   0 180 144 108  72\n",
      "   36   0 180 144 108  72  36   0 144 108  72  36   0 144 108  72  36   0]\n",
      " [ 72  72  72  72  72  72  72  36  36  36  36  36  36  36   0   0   0   0\n",
      "    0   0   0   0   0   0   0   0   0   0   0   0   0   0   0   0   0   0]\n",
      " [  0   0   0   0   0   0   0   0   0   0   0   0   0   0  36  36  36  36\n",
      "   36  36  72  72  72  72  72  72 108 108 108 108 108 144 144 144 144 144]]\n",
      "[[216 180 144 108  72  36   0 216 180 144 108  72  36   0 180 144 108  72\n",
      "   36   0 180 144 108  72  36   0 144 108  72  36   0 144 108  72  36   0]\n",
      " [ 72  72  72  72  72  72  72  36  36  36  36  36  36  36   0   0   0   0\n",
      "    0   0   0   0   0   0   0   0   0   0   0   0   0   0   0   0   0   0]]\n"
     ]
    }
   ],
   "source": [
    "from scipy.optimize import minimize\n",
    "\n",
    "world_pts_opt = world_pts[:,:3].T\n",
    "image_pts_opt = world_pts[:,:2].T\n",
    "rand_m = np.random.rand(12)\n",
    "print(world_pts_opt)\n",
    "print(image_pts_opt)\n",
    "\n",
    "result = minimize(geometric_error, rand_m, args=(world_pts_opt, image_pts_opt))\n"
   ]
  },
  {
   "cell_type": "code",
   "execution_count": 106,
   "metadata": {},
   "outputs": [
    {
     "data": {
      "text/plain": [
       "array([[ 1.63831174e+08,  1.26706351e+02,  5.07904651e+01,\n",
       "        -3.66287321e+03],\n",
       "       [ 1.51194946e+01,  1.63831277e+08,  1.95844421e+01,\n",
       "        -6.90649522e+03],\n",
       "       [-2.98695838e-01,  1.64582509e+00,  1.00000000e+00,\n",
       "         1.63831146e+08]])"
      ]
     },
     "execution_count": 106,
     "metadata": {},
     "output_type": "execute_result"
    }
   ],
   "source": [
    "M_ = result.x.reshape(3, 4)\n",
    "M = M_/M_[-1,-2]\n",
    "M"
   ]
  },
  {
   "cell_type": "code",
   "execution_count": 107,
   "metadata": {},
   "outputs": [],
   "source": [
    "def compute_world2img_projection(world_points, M, is_homogeneous=False):\n",
    "    '''\n",
    "    Given a set of points in the world and the overall camera matrix,\n",
    "    compute the projection of world points onto the image\n",
    "    \n",
    "    Parameters\n",
    "    -----------\n",
    "    world_points - np.ndarray, shape - (3, n_points)\n",
    "                   points in the world coordinate system\n",
    "                   \n",
    "    M - np.ndarray, shape - (3, 4)\n",
    "        The overall camera matrix which is a composition of the extrinsic and intrinsic matrix\n",
    "        \n",
    "    is_homogeneous - boolean\n",
    "        whether the coordinates are represented in their homogeneous form\n",
    "        if False, an extra dimension will  be added for computation\n",
    "        \n",
    "    Returns\n",
    "    ----------\n",
    "    projections - np.ndarray, shape - (2, n_points)\n",
    "                  projections of the world points onto the image\n",
    "    '''\n",
    "    if not is_homogeneous:\n",
    "        # convert to homogeneous coordinates\n",
    "        points_h = np.vstack((world_points, np.ones(world_points.shape[1])))\n",
    "        \n",
    "    h_points_i = M @ points_h\n",
    "    \n",
    "    h_points_i[0, :] = h_points_i[0, :] / h_points_i[2, :]\n",
    "    h_points_i[1, :] = h_points_i[1, :] / h_points_i[2, :]\n",
    "\n",
    "    points_i = h_points_i[:2, :]    \n",
    "    \n",
    "    return points_i"
   ]
  },
  {
   "cell_type": "code",
   "execution_count": 108,
   "metadata": {},
   "outputs": [
    {
     "data": {
      "text/plain": [
       "array([[ 2.15999999e+02,  1.79999993e+02],\n",
       "       [ 1.43999991e+02,  1.07999995e+02],\n",
       "       [ 7.20000029e+01,  3.60000158e+01],\n",
       "       [ 3.33268751e-05,  2.16000049e+02],\n",
       "       [ 1.80000030e+02,  1.44000016e+02],\n",
       "       [ 1.08000006e+02,  7.20000011e+01],\n",
       "       [ 3.60000009e+01,  5.48464157e-06],\n",
       "       [ 1.80000039e+02,  1.44000019e+02],\n",
       "       [ 1.08000005e+02,  7.19999947e+01],\n",
       "       [ 3.59999894e+01, -1.11969922e-05],\n",
       "       [ 1.80000011e+02,  1.43999999e+02],\n",
       "       [ 1.07999992e+02,  7.19999900e+01],\n",
       "       [ 3.59999926e+01, -3.63772297e-08],\n",
       "       [ 1.43999978e+02,  1.07999980e+02],\n",
       "       [ 7.19999853e+01,  3.59999959e+01],\n",
       "       [ 1.11242328e-05,  1.43999958e+02],\n",
       "       [ 1.07999967e+02,  7.19999807e+01],\n",
       "       [ 3.59999991e+01,  2.22848380e-05],\n",
       "       [ 7.20000117e+01,  7.20000037e+01],\n",
       "       [ 7.19999956e+01,  7.19999876e+01],\n",
       "       [ 7.19999795e+01,  7.19999715e+01],\n",
       "       [ 7.19999634e+01,  3.60000078e+01],\n",
       "       [ 3.60000021e+01,  3.59999964e+01],\n",
       "       [ 3.59999907e+01,  3.59999850e+01],\n",
       "       [ 3.59999793e+01,  3.59999737e+01],\n",
       "       [-2.12410566e-05, -2.45633895e-05],\n",
       "       [-2.78857219e-05, -3.12080539e-05],\n",
       "       [-3.45303854e-05, -3.78527165e-05],\n",
       "       [-1.69375977e-05, -2.02599301e-05],\n",
       "       [-2.35822621e-05, -2.69045936e-05],\n",
       "       [-3.02269248e-05, -3.35492554e-05],\n",
       "       [-1.59564727e-05, -1.92788042e-05],\n",
       "       [-2.26011353e-05, -2.59234660e-05],\n",
       "       [-2.92457962e-05, -1.16530171e-05],\n",
       "       [-1.49753482e-05, -1.82976789e-05],\n",
       "       [-2.16200091e-05, -2.49423389e-05]])"
      ]
     },
     "execution_count": 108,
     "metadata": {},
     "output_type": "execute_result"
    }
   ],
   "source": [
    "predictions = compute_world2img_projection(world_pts_opt, M_, is_homogeneous=False)\n",
    "predictions = predictions.reshape(-1, 2)\n",
    "predictions"
   ]
  },
  {
   "cell_type": "code",
   "execution_count": 117,
   "metadata": {},
   "outputs": [
    {
     "data": {
      "image/png": "[encoded data removed]",
      "text/plain": [
       "<Figure size 864x432 with 1 Axes>"
      ]
     },
     "metadata": {
      "needs_background": "light"
     },
     "output_type": "display_data"
    }
   ],
   "source": [
    "fig = plt.figure(figsize=(12, 6))\n",
    "ax = fig.add_subplot()\n",
    "#ax.plot(I_pts[:,0],I_pts[:,1], color = 'r',ls = \"None\", marker = \".\", label = 'Original')\n",
    "ax.set_title(\"Point estimation\")\n",
    "ax.set_xlabel(\"X axis\")\n",
    "ax.set_ylabel(\"Y axis\")\n",
    "ax.grid()\n",
    "ax.plot(predictions[:,0],predictions[:,1], color = 'b',ls = \"None\", marker = \".\", label = 'Estimation')\n",
    "ax.legend()\n",
    "plt.show()"
   ]
  },
  {
   "cell_type": "code",
   "execution_count": 120,
   "metadata": {},
   "outputs": [],
   "source": [
    "import random\n",
    "\n",
    "## Finding Projection Matrix using DLT\n",
    "def projection_matrix_estimation(img_pts, world_pts):\n",
    "    n = world_pts.shape[0]\n",
    "    A =  np.zeros((2*n,12))\n",
    "    for i in range(n):\n",
    "        A[i*2,0:4] = -1 * world_pts[i,:]\n",
    "        A[i*2,8:12] = img_pts[i,0]*world_pts[i,:]\n",
    "        A[i*2+1,4:8] = -1 * world_pts[i,:]\n",
    "        A[i*2+1,8:12] = img_pts[i,1]*world_pts[i,:]\n",
    "    \n",
    "    U, D, V = np.linalg.svd(A)\n",
    "    P = V[11,:]\n",
    "    P = (np.reshape(P,(3,4)))\n",
    "    ### P is the projection matrix\n",
    "    P = P/P[2,3]\n",
    "    return P\n",
    "\n",
    "\n",
    "### QR Decomposition\n",
    "def DLT_algorithm(P):\n",
    "    temp = np.linalg.inv(P[0:3,0:3])\n",
    "    R,K = np.linalg.qr(temp)\n",
    "    R = np.linalg.inv(R)\n",
    "    K = np.linalg.inv(K)\n",
    "    K = K/K[2,2]\n",
    "    T = -1*np.matmul(temp,P[:,3])\n",
    "    return R,K,T\n",
    "\n",
    "\n",
    "### Reprojection Error for RANSAC\n",
    "def reprojection_error(P,I_pts,W_pts):\n",
    "    param = 10\n",
    "    inliers = 0\n",
    "    n = I_pts.shape[0]\n",
    "    for i in range(n):\n",
    "        projected_points = np.matmul(P,np.transpose(W_pts[i,:]))\n",
    "        projected_points = projected_points/projected_points[2]\n",
    "        error = np.abs(projected_points[0] - I_pts[i,0]) + np.abs(projected_points[1] - I_pts[i,1])\n",
    "        if (error < param):\n",
    "            inliers = inliers + 1\n",
    "    return inliers\n",
    "\n",
    "### RANSAC Algorithm\n",
    "def RANSAC(img_points,world_points):\n",
    "    N = 2000\n",
    "    n = img_points.shape[0]\n",
    "    I_pts = np.zeros((6,3))\n",
    "    W_pts = np.zeros((6,4))\n",
    "    I_rep = np.zeros((n-6,3))\n",
    "    W_rep = np.zeros((n-6,4))\n",
    "    current_best_inliers = 0\n",
    "    best_projection_matrix = []\n",
    "    for i in range(N):\n",
    "        p = 0\n",
    "        q = 0\n",
    "        l  = random.sample(range(n),6)\n",
    "        for j in range(n):\n",
    "            if j in l:\n",
    "                I_pts[q,:] = img_points[j,:]\n",
    "                W_pts[q,:] = world_points[j,:]\n",
    "                q = q + 1\n",
    "            else:\n",
    "                I_rep[p,:] = img_points[j,:]\n",
    "                W_rep[p,:] = world_points[j,:]\n",
    "                p = p + 1\n",
    "        if (((np.sum(W_pts,axis=1))[1] == 0) or ((np.sum(W_pts,axis=1))[2] == 0)):\n",
    "            continue\n",
    "        P = projection_matrix_estimation(I_pts, W_pts)\n",
    "        inl = reprojection_error(P,I_rep,W_rep)\n",
    "        if (inl > current_best_inliers):\n",
    "            best_projection_matrix =  P.copy()\n",
    "            current_best_inliers = inl\n",
    "            # print(current_best_inliers)\n",
    "    return best_projection_matrix"
   ]
  },
  {
   "cell_type": "code",
   "execution_count": 121,
   "metadata": {},
   "outputs": [
    {
     "name": "stdout",
     "output_type": "stream",
     "text": [
      "Projection Matrix after RANSAC is:\n",
      "[[-2.12173065e+01 -7.20006307e-01 -9.50695559e+00  4.82365869e+03]\n",
      " [-1.07534267e+00 -2.23751642e+01  4.54291262e+00  2.15914187e+03]\n",
      " [ 3.82335380e-04 -2.70299051e-04 -1.53764467e-03  1.00000000e+00]]\n",
      "Camera Matirx is :\n",
      "[[-1.42372757e+04  2.08515562e+01  2.59360106e+03]\n",
      " [-0.00000000e+00 -1.42106646e+04 -5.21963493e+02]\n",
      " [ 0.00000000e+00  0.00000000e+00  1.00000000e+00]]\n",
      "Rotation Matrix is :\n",
      "[[-0.97054093 -0.00227216 -0.2409256 ]\n",
      " [-0.03834135 -0.98575645  0.1637503 ]\n",
      " [-0.23786604  0.16816378  0.95662986]]\n",
      "Projection Center is:\n",
      "[-48.74044248 220.5494983  599.45610455]\n"
     ]
    }
   ],
   "source": [
    "### Estimating P Matrix with RANSAC Algorithm\n",
    "P_best = RANSAC(image_pts,world_pts)\n",
    "print('Projection Matrix after RANSAC is:')\n",
    "print(P_best)\n",
    "R_best,K_best,T_best = DLT_algorithm(P_best)\n",
    "print('Camera Matirx is :')\n",
    "print(K_best)\n",
    "print('Rotation Matrix is :')\n",
    "print(R_best)\n",
    "print('Projection Center is:')\n",
    "print(T_best)\n"
   ]
  },
  {
   "cell_type": "code",
   "execution_count": 122,
   "metadata": {},
   "outputs": [],
   "source": [
    "\n",
    "pts = np.zeros((worldm,3))\n",
    "for j in range(worldm):\n",
    "    pts[j,:]  = np.dot(P_best,world_pts[j])\n",
    "    pts[j,:] /= pts[j,2]\n"
   ]
  },
  {
   "cell_type": "code",
   "execution_count": 126,
   "metadata": {},
   "outputs": [
    {
     "name": "stdout",
     "output_type": "stream",
     "text": [
      "[[1.77665280e+02 2.97102078e+02 1.00000000e+00]\n",
      " [9.07890637e+02 3.37890481e+02 1.00000000e+00]\n",
      " [1.65752682e+03 3.79763120e+02 1.00000000e+00]\n",
      " [2.42735823e+03 4.22763809e+02 1.00000000e+00]\n",
      " [3.21821209e+03 4.66938755e+02 1.00000000e+00]]\n",
      "[[ 140  285    1]\n",
      " [ 908  338    1]\n",
      " [1655  391    1]\n",
      " [2450  431    1]\n",
      " [3223  465    1]]\n"
     ]
    }
   ],
   "source": [
    "print(pts[:5])\n",
    "print(image_pts[:5])"
   ]
  },
  {
   "cell_type": "code",
   "execution_count": 128,
   "metadata": {},
   "outputs": [
    {
     "data": {
      "image/png": "[encoded data removed]",
      "text/plain": [
       "<Figure size 864x432 with 1 Axes>"
      ]
     },
     "metadata": {
      "needs_background": "light"
     },
     "output_type": "display_data"
    }
   ],
   "source": [
    "fig = plt.figure(figsize=(12, 6))\n",
    "ax = fig.add_subplot()\n",
    "ax.plot(image_pts[:,0],image_pts[:,1], color = 'r',ls = \"None\", marker = \".\", label = 'Original')\n",
    "ax.set_title(\"Point estimation\")\n",
    "ax.set_xlabel(\"X axis\")\n",
    "ax.set_ylabel(\"Y axis\")\n",
    "ax.grid()\n",
    "ax.plot(pts[:,0],pts[:,1], color = 'b',ls = \"None\", marker = \".\", label = 'Estimation')\n",
    "ax.legend()\n",
    "plt.show()"
   ]
  },
  {
   "cell_type": "code",
   "execution_count": 130,
   "metadata": {},
   "outputs": [
    {
     "name": "stdout",
     "output_type": "stream",
     "text": [
      "(36, 3)\n",
      "Geometric Error after normalization :  24.24807731769186\n"
     ]
    }
   ],
   "source": [
    "print(xEst.shape)\n",
    "# Mean distance:\n",
    "err = np.sqrt(np.mean(np.sum(np.square(I_pts-pts[:,:2]), 1)))\n",
    "print(\"Geometric Error after normalization : \",err) "
   ]
  },
  {
   "cell_type": "code",
   "execution_count": null,
   "metadata": {},
   "outputs": [],
   "source": []
  }
 ],
 "metadata": {
  "kernelspec": {
   "display_name": "Python 3",
   "language": "python",
   "name": "python3"
  },
  "language_info": {
   "codemirror_mode": {
    "name": "ipython",
    "version": 3
   },
   "file_extension": ".py",
   "mimetype": "text/x-python",
   "name": "python",
   "nbconvert_exporter": "python",
   "pygments_lexer": "ipython3",
   "version": "3.9.7"
  }
 },
 "nbformat": 4,
 "nbformat_minor": 4
}
