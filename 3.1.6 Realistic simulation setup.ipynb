{
 "cells": [
  {
   "cell_type": "markdown",
   "metadata": {},
   "source": [
    "## 3.1.5 Realistic simulation setup\n",
    "Script for the case of having a spot centered inbetween 4 pixels and the spot is double the size"
   ]
  },
  {
   "cell_type": "markdown",
   "metadata": {},
   "source": [
    "### Plot spot with pixel diameter\n",
    "- ~~create a mesh with pixel size distance corners~~\n",
    "- ~~create a spot centered in the middle of the plane~~\n",
    "- ~~Pass the spot through the mesh~~ \n",
    "- ~~Each pixel that has the spot goes to a micro mesh~~\n",
    "- ~~Each micropixel that has the spot sum.~~\n",
    "- ~~Consider the case where the spot is inbetween two pixels~~\n",
    "    - ~~Expand the mesh by 1 in each direction~~\n",
    "- ~~Consider the case where the spot is inbetween 4 pixels~~\n",
    "- Consider the case where:\n",
    "    - ~~spot is double the size centered inbetween  4 pixels~~\n",
    "    - spot is centered in the middle of a pixel"
   ]
  },
  {
   "cell_type": "markdown",
   "metadata": {},
   "source": [
    "### import  libraries"
   ]
  },
  {
   "cell_type": "code",
   "execution_count": 1,
   "metadata": {},
   "outputs": [],
   "source": [
    "vscode = 1"
   ]
  },
  {
   "cell_type": "code",
   "execution_count": 2,
   "metadata": {},
   "outputs": [],
   "source": [
    "if(vscode == 0):\n",
    "    # for vscode\n",
    "    # for jupyter notebook\n",
    "    from mpl_toolkits.mplot3d import axes3d\n",
    "    import matplotlib.pyplot as plt\n",
    "\n",
    "    %matplotlib notebook\n",
    "elif(vscode == 1):\n",
    "    %matplotlib qt\n",
    "    "
   ]
  },
  {
   "cell_type": "code",
   "execution_count": 3,
   "metadata": {},
   "outputs": [],
   "source": [
    "import matplotlib.pyplot as plt\n",
    "import numpy as np\n",
    "import cv2 \n",
    "from typing import Sequence\n",
    "from calib_lib import *\n",
    "from matplotlib.collections import PatchCollection      # pathcoletion for multiple patches\n",
    "import matplotlib.cm as cm                              # for colormaps\n",
    "from matplotlib.patches import Rectangle                # for rectangle representation\n",
    "\n",
    "\n",
    "\n",
    "DECIMALS = 2            # how many decimal places to use in print\n"
   ]
  },
  {
   "cell_type": "code",
   "execution_count": 4,
   "metadata": {},
   "outputs": [],
   "source": [
    "F = 16                                       # focal length( in mm )\n",
    "image_size = np.array([1936,1216])               # sensor size(in mm)\n",
    "#image_size = np.array([11.345,7.126])\n",
    "pixel_width = 5.86e-3                       # pixel size in mm\n",
    "PX= image_size[0]/2.0                       # principal point x-coordinate\n",
    "PY= image_size[1]/2.0                       # principal point y-coordinate\n",
    "IMAGE_HEIGTH = image_size[1]\n",
    "IMAGE_WIDTH = image_size[0]\n",
    "THETA_X = 0                                 # roll angle\n",
    "THETA_Y = 0                                 # pitch angle\n",
    "THETA_Z = 0                         # yaw angle\n",
    "\n",
    "\n",
    "# camera Right\n",
    "THETA_X_R = 0                                 # roll angle\n",
    "THETA_Y_R = 0                                 # pitch angle\n",
    "THETA_Z_R= 0                                 # yaw angle\n",
    "# camera Left\n",
    "THETA_X_L = 0                                 # roll angle\n",
    "THETA_Y_L = 0                                 # pitch angle\n",
    "THETA_Z_L= 0                                 # yaw angle\n",
    "\n",
    "C_L = np.array([0,0,0])                     # camera centre\n",
    "C_R = np.array([500,0,0])\n",
    "\n",
    "chess_dimx,chess_dimy = (13,9)\n",
    "chess_sq_size = 44"
   ]
  },
  {
   "cell_type": "markdown",
   "metadata": {},
   "source": [
    "## Spot between 4 pixels without touching the corners\n",
    "- consider the centroid and mark the pixels"
   ]
  },
  {
   "cell_type": "markdown",
   "metadata": {},
   "source": [
    "### Spot "
   ]
  },
  {
   "cell_type": "code",
   "execution_count": 5,
   "metadata": {},
   "outputs": [],
   "source": [
    "# Generate pixel grid\n",
    "pixelGridX  = (np.arange(0,image_size[0])) * pixel_width\n",
    "pixelGridY  = (np.arange(0,image_size[1])) * pixel_width\n",
    "pixelGridXX, pixelGridYY = np.meshgrid(pixelGridX,pixelGridY)"
   ]
  },
  {
   "cell_type": "code",
   "execution_count": 6,
   "metadata": {},
   "outputs": [],
   "source": [
    "def spot_center_coord(cx0,cy0,pixelGridX,pixelGridY):\n",
    "    cx0_max = np.where((cx0 < pixelGridX))\n",
    "    cx0_min = np.where((cx0 > pixelGridX))\n",
    "    #print(cx0_max[0][0])\n",
    "    #print(cx0_min[0][-1])\n",
    "    cy0_max = np.where((cy0 < pixelGridY))\n",
    "    cy0_min = np.where((cy0 > pixelGridY))\n",
    "    #print(cy0_max[0][0])\n",
    "    #print(cy0_min[0][-1])\n",
    "\n",
    "    return cx0_max[0][0],cx0_min[0][-1],cy0_max[0][0],cy0_min[0][-1]"
   ]
  },
  {
   "cell_type": "code",
   "execution_count": 7,
   "metadata": {},
   "outputs": [],
   "source": [
    "#spot centroid coordinates \n",
    "cx0 = 5.675\n",
    "cy0 = 3.5630"
   ]
  },
  {
   "cell_type": "code",
   "execution_count": 88,
   "metadata": {},
   "outputs": [],
   "source": [
    "def pixel_cover_finder(gridSize,cx0max,cy0max,cx0,cy0,r):\n",
    "    # array for percentage storage\n",
    "    pixel_covered_percent = np.zeros((1,))\n",
    "\n",
    "    xgrid = np.linspace(0,1,gridSize)*pixel_width\n",
    "    ygrid = np.linspace(0,1,gridSize)*pixel_width\n",
    "\n",
    "    x_pixel = cx0max+xgrid\n",
    "    y_pixel = cy0max+ygrid\n",
    "\n",
    "    xx_pixel, yy_pixel = np.meshgrid(x_pixel,y_pixel)\n",
    "\n",
    "    circ_total = np.sqrt((xx_pixel-cx0)**2 + (yy_pixel-cy0)**2) <= r\n",
    "    circ = np.where(circ_total == True)\n",
    "\n",
    "    pixel_covered = circ[0].shape\n",
    "    totalpixel_area = gridSize**2\n",
    "    pixel_covered_percent = (pixel_covered[0]/totalpixel_area)*100\n",
    "    print(\"pixel cover percentage: \" + str(pixel_covered_percent) + \" %\")\n",
    "\n",
    "    return pixel_covered_percent"
   ]
  },
  {
   "cell_type": "code",
   "execution_count": 89,
   "metadata": {},
   "outputs": [
    {
     "data": {
      "text/plain": [
       "5.67248"
      ]
     },
     "execution_count": 89,
     "metadata": {},
     "output_type": "execute_result"
    }
   ],
   "source": [
    "# the objective is, knowing the radius, create an area to be inspected. The difficulty stands in having the whole object in the area.\n",
    "cx0max,cx0min,cy0max,cy0min = spot_center_coord(cx0,cy0,pixelGridX,pixelGridY)\n",
    "cx0min*pixel_width"
   ]
  },
  {
   "cell_type": "code",
   "execution_count": 98,
   "metadata": {},
   "outputs": [],
   "source": [
    "gridSize = 1024\n",
    "theta = np.linspace(0, 2*np.pi, gridSize)\n",
    "zoom = 10\n",
    "r = pixel_width*zoom\n",
    "x0 = r*np.cos(theta)+(cx0)\n",
    "y0 = r*np.sin(theta)+(cy0)\n",
    "\n",
    "fig, ax = plt.subplots()\n",
    "ax.plot(pixelGridXX,pixelGridYY)\n",
    "ax.plot(pixelGridXX.T,pixelGridYY.T)\n",
    "ax.plot(x0,y0, linewidth=1)\n",
    "#ax.plot(pixelGridX[circ_corners[1][:]],pixelGridY[circ_corners[0][:]],'r*')\n",
    "ax.plot(cx0,cy0,'k.')\n",
    "ax.set_xlim([cx0-(zoom*pixel_width),cx0+(zoom*pixel_width)])\n",
    "ax.set_ylim([cy0-(zoom*pixel_width),cy0+(zoom*pixel_width)])\n",
    "ax.set_aspect(1)\n",
    "plt.show()"
   ]
  },
  {
   "cell_type": "code",
   "execution_count": 99,
   "metadata": {},
   "outputs": [],
   "source": [
    "cx0max_pxl = []\n",
    "cx0min_pxl = []\n",
    "cy0max_pxl = []\n",
    "cy0min_pxl = []\n",
    "points_max_min = []\n",
    "for i in range(x0.shape[0]):\n",
    "    cx0max,cx0min,cy0max,cy0min = spot_center_coord(x0[i],y0[i],pixelGridX,pixelGridY)\n",
    "\n",
    "    # max and min points in (x,y) coordinates\n",
    "    cx0min_pxl.append(cx0min*pixel_width)\n",
    "    cx0max_pxl.append(cx0max*pixel_width)\n",
    "    cy0min_pxl.append(cy0min*pixel_width)\n",
    "    cy0max_pxl.append(cy0max*pixel_width)\n",
    "\n",
    "    #array max and min points\n",
    "    points_max_min.append(([cx0min_pxl[i],cy0min_pxl[i]]))"
   ]
  },
  {
   "cell_type": "code",
   "execution_count": 100,
   "metadata": {},
   "outputs": [
    {
     "name": "stdout",
     "output_type": "stream",
     "text": [
      "(80, 2)\n"
     ]
    }
   ],
   "source": [
    "# remove duplicates\n",
    "#list for the final values\n",
    "points_deduplt = list()\n",
    "\n",
    "[points_deduplt.append(item) for item in points_max_min if item not in points_deduplt]\n",
    "print(np.shape(points_deduplt))"
   ]
  },
  {
   "cell_type": "code",
   "execution_count": 101,
   "metadata": {},
   "outputs": [],
   "source": [
    "cx0max,cx0min,cy0max,cy0min = spot_center_coord(cx0,cy0,pixelGridX,pixelGridY)\n",
    "\n",
    "# max and min points in (x,y) coordinates\n",
    "cx0min_pxl = cx0min*pixel_width\n",
    "cx0max_pxl = cx0max*pixel_width\n",
    "cy0min_pxl = cy0min*pixel_width\n",
    "cy0max_pxl = cy0max*pixel_width\n",
    "\n",
    "#array max and min points\n",
    "center_max_min = np.array([[cx0min_pxl,cy0min_pxl],\n",
    "                            [cx0min_pxl,cy0max_pxl],\n",
    "                            [cx0max_pxl,cy0min_pxl],\n",
    "                            [cx0max_pxl,cy0max_pxl]])"
   ]
  },
  {
   "cell_type": "code",
   "execution_count": 102,
   "metadata": {},
   "outputs": [],
   "source": [
    "points_max_min = np.array(points_max_min)"
   ]
  },
  {
   "cell_type": "code",
   "execution_count": 103,
   "metadata": {},
   "outputs": [],
   "source": [
    "circ1 = np.sqrt((pixelGridXX-cx0)**2 + (pixelGridYY-cy0)**2) <= r\n",
    "circ_corners = np.where(circ1 == True)"
   ]
  },
  {
   "cell_type": "code",
   "execution_count": 104,
   "metadata": {},
   "outputs": [
    {
     "name": "stdout",
     "output_type": "stream",
     "text": [
      "pixel cover percentage: 41.43962860107422 %\n",
      "pixel cover percentage: 31.584453582763672 %\n",
      "pixel cover percentage: 11.444950103759766 %\n",
      "pixel cover percentage: 99.90062713623047 %\n",
      "pixel cover percentage: 79.97875213623047 %\n",
      "pixel cover percentage: 36.489200592041016 %\n",
      "pixel cover percentage: 0.9052276611328125 %\n",
      "pixel cover percentage: 77.88228988647461 %\n",
      "pixel cover percentage: 12.67547607421875 %\n",
      "pixel cover percentage: 91.06311798095703 %\n",
      "pixel cover percentage: 17.018890380859375 %\n",
      "pixel cover percentage: 88.30299377441406 %\n",
      "pixel cover percentage: 7.6152801513671875 %\n",
      "pixel cover percentage: 63.33026885986328 %\n",
      "pixel cover percentage: 99.27701950073242 %\n",
      "pixel cover percentage: 15.668678283691406 %\n",
      "pixel cover percentage: 53.26986312866211 %\n",
      "pixel cover percentage: 79.91476058959961 %\n",
      "pixel cover percentage: 95.82557678222656 %\n",
      "pixel cover percentage: 0.018787384033203125 %\n",
      "pixel cover percentage: 1.6480445861816406 %\n",
      "pixel cover percentage: 0.1361846923828125 %\n",
      "pixel cover percentage: 97.12867736816406 %\n",
      "pixel cover percentage: 82.77168273925781 %\n",
      "pixel cover percentage: 57.67364501953125 %\n",
      "pixel cover percentage: 21.095752716064453 %\n",
      "pixel cover percentage: 99.97711181640625 %\n",
      "pixel cover percentage: 71.41780853271484 %\n",
      "pixel cover percentage: 12.821197509765625 %\n",
      "pixel cover percentage: 93.62726211547852 %\n",
      "pixel cover percentage: 25.684738159179688 %\n",
      "pixel cover percentage: 96.18148803710938 %\n",
      "pixel cover percentage: 21.552371978759766 %\n",
      "pixel cover percentage: 87.84704208374023 %\n",
      "pixel cover percentage: 4.941272735595703 %\n",
      "pixel cover percentage: 50.46892166137695 %\n",
      "pixel cover percentage: 91.91703796386719 %\n",
      "pixel cover percentage: 2.076435089111328 %\n",
      "pixel cover percentage: 25.333023071289062 %\n",
      "pixel cover percentage: 45.56417465209961 %\n",
      "pixel cover percentage: 55.42268753051758 %\n",
      "pixel cover percentage: 55.21554946899414 %\n",
      "pixel cover percentage: 44.942474365234375 %\n",
      "pixel cover percentage: 24.275875091552734 %\n",
      "pixel cover percentage: 1.6268730163574219 %\n",
      "pixel cover percentage: 90.83099365234375 %\n",
      "pixel cover percentage: 48.40364456176758 %\n",
      "pixel cover percentage: 3.997516632080078 %\n",
      "pixel cover percentage: 86.08627319335938 %\n",
      "pixel cover percentage: 19.218921661376953 %\n",
      "pixel cover percentage: 94.99750137329102 %\n",
      "pixel cover percentage: 22.772216796875 %\n",
      "pixel cover percentage: 91.86544418334961 %\n",
      "pixel cover percentage: 10.487651824951172 %\n",
      "pixel cover percentage: 67.32902526855469 %\n",
      "pixel cover percentage: 99.6795654296875 %\n",
      "pixel cover percentage: 17.293071746826172 %\n",
      "pixel cover percentage: 53.58247756958008 %\n",
      "pixel cover percentage: 78.68051528930664 %\n",
      "pixel cover percentage: 93.15309524536133 %\n",
      "pixel cover percentage: 97.46265411376953 %\n",
      "pixel cover percentage: 91.74613952636719 %\n",
      "pixel cover percentage: 75.82292556762695 %\n",
      "pixel cover percentage: 49.179649353027344 %\n",
      "pixel cover percentage: 12.43886947631836 %\n",
      "pixel cover percentage: 98.406982421875 %\n",
      "pixel cover percentage: 59.23805236816406 %\n",
      "pixel cover percentage: 5.852794647216797 %\n",
      "pixel cover percentage: 85.96744537353516 %\n",
      "pixel cover percentage: 14.679336547851562 %\n",
      "pixel cover percentage: 89.30702209472656 %\n",
      "pixel cover percentage: 10.914134979248047 %\n",
      "pixel cover percentage: 75.54903030395508 %\n",
      "pixel cover percentage: 0.5331039428710938 %\n",
      "pixel cover percentage: 34.42239761352539 %\n",
      "pixel cover percentage: 78.44676971435547 %\n",
      "pixel cover percentage: 99.7732162475586 %\n",
      "pixel cover percentage: 10.511493682861328 %\n",
      "pixel cover percentage: 30.962753295898438 %\n",
      "pixel cover percentage: 41.236019134521484 %\n"
     ]
    }
   ],
   "source": [
    "fig,ax = plt.subplots()\n",
    "#pixel_orient = np.array([[1,1],[1,-1],[-1,1],[-1,-1]])\n",
    "# center of the pixel\n",
    "ax.plot(cx0,cy0,'k.')\n",
    "#axis\n",
    "ax.plot(pixelGridXX,pixelGridYY,'r')\n",
    "ax.plot(pixelGridXX.T,pixelGridYY.T,'b')\n",
    "#inner corners\n",
    "#ax.plot(pixelGridX[circ_corners[1][:]],pixelGridY[circ_corners[0][:]],'r*')\n",
    "#spot\n",
    "ax.plot(x0,y0,'r',linewidth=4)\n",
    "# list for the patches\n",
    "ptchs =[]\n",
    "#pixel cover list\n",
    "pixel_covered_percent = []\n",
    "for j in range(len(points_deduplt)):\n",
    "    pixel_covered_percent.append(pixel_cover_finder(gridSize,points_deduplt[j][0],points_deduplt[j][1],cx0,cy0,r))\n",
    "    ptchs.append(Rectangle((points_deduplt[j][0],points_deduplt[j][1]), pixel_width,pixel_width))\n",
    "\n",
    "\"\"\" for i in range(len(circ_corners[0])):\n",
    "    pixel_covered_percent.append(pixel_cover_finder(gridSize,circ_corners[1][i]*pixel_width,circ_corners[0][i],cx0,cy0,r))\n",
    "    ptchs.append(Rectangle((circ_corners[1][i]*pixel_width,circ_corners[0][i]*pixel_width), pixel_width,pixel_width))\n",
    " \"\"\"\n",
    "p = PatchCollection(ptchs, cmap=cm.jet, alpha=1)\n",
    "pixel_covered_percent_arr = np.array(pixel_covered_percent).flatten()\n",
    "# define the color\n",
    "p.set_array(pixel_covered_percent_arr)\n",
    "# set color max and min\n",
    "p.set_clim([0, 100])\n",
    "ax.add_collection(p)\n",
    "\n",
    "fig.colorbar(p)\n",
    "\n",
    "ax.set_xlim([cx0-((zoom+1)*pixel_width),cx0+((zoom+1)*pixel_width)])\n",
    "ax.set_ylim([cy0-((zoom+1)*pixel_width),cy0+((zoom+1)*pixel_width)])\n",
    "\n",
    "ax.set_aspect(1)\n",
    "\n",
    "plt.show()"
   ]
  },
  {
   "cell_type": "code",
   "execution_count": 86,
   "metadata": {},
   "outputs": [
    {
     "data": {
      "text/plain": [
       "[[5.6783399999999995, 3.56288],\n",
       " [5.67248, 3.56288],\n",
       " [5.67248, 3.56874],\n",
       " [5.66662, 3.56288],\n",
       " [5.66662, 3.55702],\n",
       " [5.67248, 3.55702],\n",
       " [5.6783399999999995, 3.55702]]"
      ]
     },
     "execution_count": 86,
     "metadata": {},
     "output_type": "execute_result"
    }
   ],
   "source": [
    "points_deduplt"
   ]
  },
  {
   "cell_type": "markdown",
   "metadata": {},
   "source": [
    "### Number of pixels inbetween"
   ]
  },
  {
   "cell_type": "code",
   "execution_count": null,
   "metadata": {},
   "outputs": [],
   "source": [
    "nr_pixel_x = ((cx0max*pixel_width)-(cx0min*pixel_width))/pixel_width\n",
    "print(\"number of pixels in the x axis with the spot:\",np.round(nr_pixel_x))\n",
    "nr_pixel_y = ((cy0max*pixel_width)-(cy0min*pixel_width))/pixel_width\n",
    "print(\"number of pixels in the y axis with the spot:\", np.round(nr_pixel_y))"
   ]
  },
  {
   "cell_type": "markdown",
   "metadata": {},
   "source": [
    "## Plot everything"
   ]
  },
  {
   "cell_type": "code",
   "execution_count": null,
   "metadata": {},
   "outputs": [],
   "source": [
    "def pixel_cover_finder(gridSize,cx0max,cy0max,cx0,cy0,r):\n",
    "\n",
    "    # array for percentage storage\n",
    "    pixel_covered_percent = np.zeros((4,))\n",
    "\n",
    "    xgrid = np.linspace(0,1,gridSize)*pixel_width\n",
    "    ygrid = np.linspace(0,1,gridSize)*pixel_width\n",
    "\n",
    "    x_pixel = (cx0max)+(xgrid)\n",
    "    y_pixel = (cy0max)+(ygrid)\n",
    "\n",
    "    xx_pixel, yy_pixel = np.meshgrid(x_pixel,y_pixel)\n",
    "\n",
    "    circ_total = np.sqrt((xx_pixel-cx0)**2 + (yy_pixel-cy0)**2) <= r\n",
    "    circ = np.where(circ_total == True)\n",
    "\n",
    "    pixel_covered = circ[0].shape\n",
    "    totalpixel_area = gridSize**2\n",
    "    pixel_covered_percent = (pixel_covered[0]/totalpixel_area)*100\n",
    "    #print(\"pixel cover percentage: \" + str(pixel_covered_percent[i]) + \" %\")\n",
    "\n",
    "    return pixel_covered_percent\n",
    "\n",
    "    "
   ]
  },
  {
   "cell_type": "code",
   "execution_count": null,
   "metadata": {},
   "outputs": [],
   "source": [
    "fig,ax = plt.subplots()\n",
    "pixel_orient = np.array([[1,1],[1,-1],[-1,1],[-1,-1]])\n",
    "# center of the pixel\n",
    "ax.plot(cx0,cy0,'k.')\n",
    "#axis\n",
    "ax.plot(pixelGridXX,pixelGridYY,'r')\n",
    "ax.plot(pixelGridXX.T,pixelGridYY.T,'b')\n",
    "#spot\n",
    "ax.plot(x0,y0, linewidth=1)\n",
    "# list for the patches\n",
    "ptchs =[]\n",
    "#pixel cover list\n",
    "pixel_covered_percent = []\n",
    "for j in range(len(points_max_min)):\n",
    "    pixel_covered_percent.append(pixel_cover_finder(gridSize,points_max_min[j,0],points_max_min[j,1],cx0,cy0,r))\n",
    "    for i in range(4):\n",
    "        ptchs.append(Rectangle((points_max_min[j,0],points_max_min[j,1]), pixel_orient[i,0]*pixel_width,pixel_orient[i,1]*pixel_width))\n",
    "\n",
    "\n",
    "for j in range(len(circ_corners[1][:])):\n",
    "    pixel_covered_percent.append(pixel_cover_finder(gridSize,pixelGridX[circ_corners[1][j]],pixelGridY[circ_corners[0][j]],cx0,cy0,r))\n",
    "    for i in range(4):\n",
    "        ptchs.append(Rectangle((pixelGridX[circ_corners[1][j]],pixelGridY[circ_corners[0][j]]), pixel_orient[i,0]*pixel_width,pixel_orient[i,1]*pixel_width))\n",
    "\n",
    "p = PatchCollection(ptchs, cmap=cm.jet, alpha=1)\n",
    "pixel_covered_percent_arr = np.array(pixel_covered_percent).flatten()\n",
    "# define the color\n",
    "p.set_array(pixel_covered_percent_arr)\n",
    "# set color max and min\n",
    "p.set_clim([0, 100])\n",
    "ax.add_collection(p)\n",
    "\n",
    "fig.colorbar(p)\n",
    "\n",
    "ax.set_xlim([cx0-(zoom*pixel_width),cx0+(zoom*pixel_width)])\n",
    "ax.set_ylim([cy0-(zoom*pixel_width),cy0+(zoom*pixel_width)])\n",
    "\n",
    "ax.set_aspect(1)\n",
    "\n",
    "plt.show()"
   ]
  }
 ],
 "metadata": {
  "interpreter": {
   "hash": "a2351b8e039bbf9c56c302d7c356075afc88dd574b72d7357dd8301589a7e4a3"
  },
  "kernelspec": {
   "display_name": "Python 3.8.5 64-bit",
   "language": "python",
   "name": "python3"
  },
  "language_info": {
   "codemirror_mode": {
    "name": "ipython",
    "version": 3
   },
   "file_extension": ".py",
   "mimetype": "text/x-python",
   "name": "python",
   "nbconvert_exporter": "python",
   "pygments_lexer": "ipython3",
   "version": "3.8.5"
  },
  "orig_nbformat": 4
 },
 "nbformat": 4,
 "nbformat_minor": 2
}
