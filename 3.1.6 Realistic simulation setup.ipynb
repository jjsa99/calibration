{
 "cells": [
  {
   "cell_type": "markdown",
   "metadata": {},
   "source": [
    "## 3.1.6 Realistic simulation setup\n",
    "In this script it is solved the problem of the outter circle pixels not being taken into consideration. The problem occurs when the circle passes into another pixel but doesn't touch any corners. The previous method didn't account that problem. The results has a discretization missing some minor parts of the circle."
   ]
  },
  {
   "cell_type": "markdown",
   "metadata": {},
   "source": [
    "### Plot spot with pixel diameter\n",
    "- ~~create a mesh with pixel size distance corners~~\n",
    "- ~~create a spot centered in the middle of the plane~~\n",
    "- ~~Pass the spot through the mesh~~ \n",
    "- ~~Each pixel that has the spot goes to a micro mesh~~\n",
    "- ~~Each micropixel that has the spot sum.~~\n",
    "- ~~Consider the case where the spot is inbetween two pixels~~\n",
    "    - ~~Expand the mesh by 1 in each direction~~\n",
    "- ~~Consider the case where the spot is inbetween 4 pixels~~\n",
    "- Consider the case where:\n",
    "    - ~~spot is double the size centered inbetween  4 pixels~~\n",
    "    ~~- spot is centered in the middle of a pixel~~\n",
    "- Approach where the inner and outter circle parts are taken into consideration"
   ]
  },
  {
   "cell_type": "markdown",
   "metadata": {},
   "source": [
    "### import  libraries"
   ]
  },
  {
   "cell_type": "code",
   "execution_count": 202,
   "metadata": {},
   "outputs": [],
   "source": [
    "vscode = 1"
   ]
  },
  {
   "cell_type": "code",
   "execution_count": 203,
   "metadata": {},
   "outputs": [],
   "source": [
    "if(vscode == 0):\n",
    "    # for vscode\n",
    "    # for jupyter notebook\n",
    "    from mpl_toolkits.mplot3d import axes3d\n",
    "    import matplotlib.pyplot as plt\n",
    "\n",
    "    %matplotlib notebook\n",
    "elif(vscode == 1):\n",
    "    %matplotlib qt\n",
    "    "
   ]
  },
  {
   "cell_type": "code",
   "execution_count": 3,
   "metadata": {},
   "outputs": [],
   "source": [
    "import matplotlib.pyplot as plt\n",
    "import numpy as np\n",
    "import cv2 \n",
    "from typing import Sequence\n",
    "from calib_lib import *\n",
    "from matplotlib.collections import PatchCollection      # pathcoletion for multiple patches\n",
    "import matplotlib.cm as cm                              # for colormaps\n",
    "from matplotlib.patches import Rectangle                # for rectangle representation\n",
    "\n",
    "\n",
    "\n",
    "DECIMALS = 2            # how many decimal places to use in print\n"
   ]
  },
  {
   "cell_type": "code",
   "execution_count": 4,
   "metadata": {},
   "outputs": [],
   "source": [
    "F = 16                                       # focal length( in mm )\n",
    "image_size = np.array([1936,1216])               # sensor size(in mm)\n",
    "#image_size = np.array([11.345,7.126])\n",
    "pixel_width = 5.86e-3                       # pixel size in mm\n",
    "PX= image_size[0]/2.0                       # principal point x-coordinate\n",
    "PY= image_size[1]/2.0                       # principal point y-coordinate\n",
    "IMAGE_HEIGTH = image_size[1]\n",
    "IMAGE_WIDTH = image_size[0]\n",
    "THETA_X = 0                                 # roll angle\n",
    "THETA_Y = 0                                 # pitch angle\n",
    "THETA_Z = 0                                 # yaw angle\n",
    "\n",
    "# camera Right\n",
    "THETA_X_R = 0                                 # roll angle\n",
    "THETA_Y_R = 0                                 # pitch angle\n",
    "THETA_Z_R= 0                                 # yaw angle\n",
    "# camera Left\n",
    "THETA_X_L = 0                                 # roll angle\n",
    "THETA_Y_L = 0                                 # pitch angle\n",
    "THETA_Z_L= 0                                 # yaw angle\n",
    "\n",
    "C_L = np.array([0,0,0])                     # camera centre\n",
    "C_R = np.array([500,0,0])\n",
    "\n",
    "chess_dimx,chess_dimy = (13,9)\n",
    "chess_sq_size = 44"
   ]
  },
  {
   "cell_type": "markdown",
   "metadata": {},
   "source": [
    "### Spot "
   ]
  },
  {
   "cell_type": "code",
   "execution_count": 204,
   "metadata": {},
   "outputs": [],
   "source": [
    "#spot centroid coordinates \n",
    "cx0 = 5.675\n",
    "cy0 = 3.5630"
   ]
  },
  {
   "cell_type": "code",
   "execution_count": 205,
   "metadata": {},
   "outputs": [],
   "source": [
    "# Generate pixel grid\n",
    "pixelGridX  = (np.arange(0,image_size[0])) * pixel_width\n",
    "pixelGridY  = (np.arange(0,image_size[1])) * pixel_width\n",
    "pixelGridXX, pixelGridYY = np.meshgrid(pixelGridX,pixelGridY)"
   ]
  },
  {
   "cell_type": "code",
   "execution_count": 206,
   "metadata": {},
   "outputs": [],
   "source": [
    "def spot_center_coord(cx0,cy0,pixelGridX,pixelGridY):\n",
    "    cx0_max = np.where((cx0 < pixelGridX))\n",
    "    cx0_min = np.where((cx0 > pixelGridX))\n",
    "    #print(cx0_max[0][0])\n",
    "    #print(cx0_min[0][-1])\n",
    "    cy0_max = np.where((cy0 < pixelGridY))\n",
    "    cy0_min = np.where((cy0 > pixelGridY))\n",
    "    #print(cy0_max[0][0])\n",
    "    #print(cy0_min[0][-1])\n",
    "\n",
    "    return cx0_max[0][0],cx0_min[0][-1],cy0_max[0][0],cy0_min[0][-1]"
   ]
  },
  {
   "cell_type": "code",
   "execution_count": 207,
   "metadata": {},
   "outputs": [],
   "source": [
    "def pixel_cover_finder(gridSize,cx0max,cy0max,cx0,cy0,r):\n",
    "    # array for percentage storage\n",
    "    pixel_covered_percent = np.zeros((1,))\n",
    "\n",
    "    xgrid = np.linspace(0,1,gridSize)*pixel_width\n",
    "    ygrid = np.linspace(0,1,gridSize)*pixel_width\n",
    "\n",
    "    x_pixel = cx0max+xgrid\n",
    "    y_pixel = cy0max+ygrid\n",
    "\n",
    "    xx_pixel, yy_pixel = np.meshgrid(x_pixel,y_pixel)\n",
    "\n",
    "    circ_total = np.sqrt((xx_pixel-cx0)**2 + (yy_pixel-cy0)**2) <= r\n",
    "    circ = np.where(circ_total == True)\n",
    "\n",
    "    pixel_covered = circ[0].shape\n",
    "    totalpixel_area = gridSize**2\n",
    "    pixel_covered_percent = (pixel_covered[0]/totalpixel_area)*100\n",
    "    #print(\"pixel cover percentage: \" + str(pixel_covered_percent) + \" %\")\n",
    "\n",
    "    return pixel_covered_percent"
   ]
  },
  {
   "cell_type": "code",
   "execution_count": 208,
   "metadata": {},
   "outputs": [],
   "source": [
    "# the objective is, knowing the radius, create an area to be inspected. The difficulty stands in having the whole object in the area.\n",
    "cx0max,cx0min,cy0max,cy0min = spot_center_coord(cx0,cy0,pixelGridX,pixelGridY)"
   ]
  },
  {
   "cell_type": "code",
   "execution_count": 210,
   "metadata": {},
   "outputs": [],
   "source": [
    "gridSize = 1024\n",
    "theta = np.linspace(0, 2*np.pi, gridSize)\n",
    "zoom = 1/3\n",
    "r = pixel_width*zoom\n",
    "x0 = r*np.cos(theta)+(cx0)\n",
    "y0 = r*np.sin(theta)+(cy0)\n",
    "\n",
    "fig, ax = plt.subplots()\n",
    "ax.plot(pixelGridXX,pixelGridYY)\n",
    "ax.plot(pixelGridXX.T,pixelGridYY.T)\n",
    "ax.plot(x0,y0, linewidth=1)\n",
    "#ax.plot(pixelGridX[circ_corners[1][:]],pixelGridY[circ_corners[0][:]],'r*')\n",
    "ax.plot(cx0,cy0,'k.')\n",
    "ax.set_xlim([cx0-(zoom*pixel_width),cx0+(zoom*pixel_width)])\n",
    "ax.set_ylim([cy0-(zoom*pixel_width),cy0+(zoom*pixel_width)])\n",
    "ax.set_aspect(1)\n",
    "plt.show()"
   ]
  },
  {
   "cell_type": "code",
   "execution_count": 212,
   "metadata": {},
   "outputs": [],
   "source": [
    "cx0max_pxl = []\n",
    "cx0min_pxl = []\n",
    "cy0max_pxl = []\n",
    "cy0min_pxl = []\n",
    "points_max_min = []\n",
    "for i in range(x0.shape[0]):\n",
    "    cx0max,cx0min,cy0max,cy0min = spot_center_coord(x0[i],y0[i],pixelGridX,pixelGridY)\n",
    "\n",
    "    # max and min points in (x,y) coordinates\n",
    "    cx0min_pxl.append(cx0min*pixel_width)\n",
    "    cx0max_pxl.append(cx0max*pixel_width)\n",
    "    cy0min_pxl.append(cy0min*pixel_width)\n",
    "    cy0max_pxl.append(cy0max*pixel_width)\n",
    "\n",
    "    #array max and min points\n",
    "    points_max_min.append(([cx0min_pxl[i],cy0min_pxl[i]]))"
   ]
  },
  {
   "cell_type": "markdown",
   "metadata": {},
   "source": [
    "### Remove outter circle duplicates"
   ]
  },
  {
   "cell_type": "code",
   "execution_count": 213,
   "metadata": {},
   "outputs": [
    {
     "name": "stdout",
     "output_type": "stream",
     "text": [
      "(2, 2)\n"
     ]
    }
   ],
   "source": [
    "#list for the final values\n",
    "points_deduplt = list()\n",
    "\n",
    "[points_deduplt.append(item) for item in points_max_min if item not in points_deduplt]\n",
    "print(np.shape(points_deduplt))"
   ]
  },
  {
   "cell_type": "markdown",
   "metadata": {},
   "source": [
    "## Inner circle corners"
   ]
  },
  {
   "cell_type": "code",
   "execution_count": 214,
   "metadata": {},
   "outputs": [
    {
     "data": {
      "text/plain": [
       "(0,)"
      ]
     },
     "execution_count": 214,
     "metadata": {},
     "output_type": "execute_result"
    }
   ],
   "source": [
    "circ1 = np.sqrt((pixelGridXX-cx0)**2 + (pixelGridYY-cy0)**2) <= r\n",
    "circ_corners = np.where(circ1 == True)\n",
    "circ_corners = np.array(circ_corners)\n",
    "# transpose and obtain the values in mm\n",
    "circ_corners_arr = (circ_corners*pixel_width).T\n",
    "# swap the coordinates(for better readability)\n",
    "circ_corners_arr = np.array([circ_corners_arr[:,1],circ_corners_arr[:,0]]).T\n",
    "# revert to list\n",
    "circ_corners_list = circ_corners_arr.tolist()\n",
    "np.shape(circ_corners_list)"
   ]
  },
  {
   "cell_type": "markdown",
   "metadata": {},
   "source": [
    "### Remove outter and inner circle duplicates"
   ]
  },
  {
   "cell_type": "code",
   "execution_count": 215,
   "metadata": {},
   "outputs": [
    {
     "name": "stdout",
     "output_type": "stream",
     "text": [
      "(2, 2)\n"
     ]
    }
   ],
   "source": [
    "# join both lists\n",
    "circle_list = points_deduplt + circ_corners_list\n",
    "#list for the final values\n",
    "circle_list_deduplt = list()\n",
    "\n",
    "[circle_list_deduplt.append(item) for item in circle_list if item not in circle_list_deduplt]\n",
    "print(np.shape(circle_list_deduplt)) "
   ]
  },
  {
   "cell_type": "markdown",
   "metadata": {},
   "source": [
    "## Plot the results"
   ]
  },
  {
   "cell_type": "code",
   "execution_count": 201,
   "metadata": {},
   "outputs": [],
   "source": [
    "fig,ax = plt.subplots()\n",
    "\n",
    "# center of the pixel\n",
    "ax.plot(cx0,cy0,'k.')\n",
    "#axis\n",
    "ax.plot(pixelGridXX,pixelGridYY,'r')\n",
    "ax.plot(pixelGridXX.T,pixelGridYY.T,'b')\n",
    "#inner corners\n",
    "ax.plot(circ_corners_arr[:,0],circ_corners_arr[:,1],'r*')\n",
    "#spot\n",
    "ax.plot(x0,y0,'r',linewidth=4)\n",
    "# list for the patches\n",
    "ptchs =[]\n",
    "#pixel cover list\n",
    "pixel_covered_percent = []\n",
    "for j in range(len(circle_list_deduplt)):\n",
    "    pixel_covered_percent.append(pixel_cover_finder(gridSize,circle_list_deduplt[j][0],circle_list_deduplt[j][1],cx0,cy0,r))\n",
    "    ptchs.append(Rectangle((circle_list_deduplt[j][0],circle_list_deduplt[j][1]), pixel_width,pixel_width))\n",
    "\n",
    "p = PatchCollection(ptchs, cmap=cm.jet, alpha=1)\n",
    "pixel_covered_percent_arr = np.array(pixel_covered_percent).flatten()\n",
    "# define the color\n",
    "p.set_array(pixel_covered_percent_arr)\n",
    "# set color max and min\n",
    "p.set_clim([0, 100])\n",
    "ax.add_collection(p)\n",
    "\n",
    "fig.colorbar(p)\n",
    "\n",
    "ax.set_xlim([cx0-((zoom+1)*pixel_width),cx0+((zoom+1)*pixel_width)])\n",
    "ax.set_ylim([cy0-((zoom+1)*pixel_width),cy0+((zoom+1)*pixel_width)])\n",
    "\n",
    "ax.set_aspect(1)\n",
    "\n",
    "plt.show()"
   ]
  },
  {
   "cell_type": "code",
   "execution_count": null,
   "metadata": {},
   "outputs": [],
   "source": []
  }
 ],
 "metadata": {
  "interpreter": {
   "hash": "a2351b8e039bbf9c56c302d7c356075afc88dd574b72d7357dd8301589a7e4a3"
  },
  "kernelspec": {
   "display_name": "Python 3.8.5 64-bit",
   "language": "python",
   "name": "python3"
  },
  "language_info": {
   "codemirror_mode": {
    "name": "ipython",
    "version": 3
   },
   "file_extension": ".py",
   "mimetype": "text/x-python",
   "name": "python",
   "nbconvert_exporter": "python",
   "pygments_lexer": "ipython3",
   "version": "3.8.5"
  },
  "orig_nbformat": 4
 },
 "nbformat": 4,
 "nbformat_minor": 2
}
