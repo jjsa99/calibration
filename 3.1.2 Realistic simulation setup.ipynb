{
 "cells": [
  {
   "cell_type": "markdown",
   "metadata": {},
   "source": [
    "## 3.1.2. Realistic simulation setup\n",
    "Script for the case of having a spot inbetween two pixels"
   ]
  },
  {
   "cell_type": "markdown",
   "metadata": {},
   "source": [
    "### Plot spot with pixel diameter\n",
    "- ~~create a mesh with pixel size distance corners~~\n",
    "- ~~create a spot centered in the middle of the plane~~\n",
    "- ~~Pass the spot through the mesh~~ \n",
    "- ~~Each pixel that has the spot goes to a micro mesh~~\n",
    "- ~~Each micropixel that has the spot sum.~~\n",
    "- ~~Consider the case where a spot is inbetween two pixels~~\n",
    "    - Expand the mesh by 1 in each direction"
   ]
  },
  {
   "cell_type": "markdown",
   "metadata": {},
   "source": [
    "### import  libraries"
   ]
  },
  {
   "cell_type": "code",
   "execution_count": 23,
   "metadata": {},
   "outputs": [],
   "source": [
    "vscode = 1"
   ]
  },
  {
   "cell_type": "code",
   "execution_count": 24,
   "metadata": {},
   "outputs": [],
   "source": [
    "if(vscode == 0):\n",
    "    # for vscode\n",
    "    # for jupyter notebook\n",
    "    from mpl_toolkits.mplot3d import axes3d\n",
    "    import matplotlib.pyplot as plt\n",
    "\n",
    "    %matplotlib notebook\n",
    "elif(vscode == 1):\n",
    "    %matplotlib qt\n",
    "    "
   ]
  },
  {
   "cell_type": "code",
   "execution_count": 25,
   "metadata": {},
   "outputs": [],
   "source": [
    "import matplotlib.pyplot as plt\n",
    "import numpy as np\n",
    "import cv2 \n",
    "from typing import Sequence\n",
    "from calib_lib import *\n",
    "from matplotlib.collections import PatchCollection      # pathcoletion for multiple patches\n",
    "import matplotlib.cm as cm                              # for colormaps\n",
    "from matplotlib.patches import Rectangle                # for rectangle representation\n",
    "\n",
    "\n",
    "\n",
    "DECIMALS = 2            # how many decimal places to use in print\n"
   ]
  },
  {
   "cell_type": "code",
   "execution_count": 26,
   "metadata": {},
   "outputs": [],
   "source": [
    "F = 16                                       # focal length( in mm )\n",
    "image_size = np.array([1936,1216])               # sensor size(in mm)\n",
    "#image_size = np.array([11.345,7.126])\n",
    "pixel_width = 5.86e-3                       # pixel size in mm\n",
    "PX= image_size[0]/2.0                       # principal point x-coordinate\n",
    "PY= image_size[1]/2.0                       # principal point y-coordinate\n",
    "IMAGE_HEIGTH = image_size[1]\n",
    "IMAGE_WIDTH = image_size[0]\n",
    "THETA_X = 0                                 # roll angle\n",
    "THETA_Y = 0                                 # pitch angle\n",
    "THETA_Z = 0                         # yaw angle\n",
    "\n",
    "\n",
    "# camera Right\n",
    "THETA_X_R = 0                                 # roll angle\n",
    "THETA_Y_R = 0                                 # pitch angle\n",
    "THETA_Z_R= 0                                 # yaw angle\n",
    "# camera Left\n",
    "THETA_X_L = 0                                 # roll angle\n",
    "THETA_Y_L = 0                                 # pitch angle\n",
    "THETA_Z_L= 0                                 # yaw angle\n",
    "\n",
    "C_L = np.array([0,0,0])                     # camera centre\n",
    "C_R = np.array([500,0,0])\n",
    "\n",
    "chess_dimx,chess_dimy = (13,9)\n",
    "chess_sq_size = 44"
   ]
  },
  {
   "cell_type": "markdown",
   "metadata": {},
   "source": [
    "## Spot between to pixels without touching the corners\n",
    "- consider the centroid and mark the pixels"
   ]
  },
  {
   "cell_type": "markdown",
   "metadata": {},
   "source": [
    "### Spot "
   ]
  },
  {
   "cell_type": "code",
   "execution_count": 27,
   "metadata": {},
   "outputs": [],
   "source": [
    "# Generate pixel grid\n",
    "pixelGridX  = (np.arange(0,image_size[0])) * pixel_width\n",
    "pixelGridY  = (np.arange(0,image_size[1])) * pixel_width\n",
    "pixelGridXX, pixelGridYY = np.meshgrid(pixelGridX,pixelGridY)"
   ]
  },
  {
   "cell_type": "code",
   "execution_count": 28,
   "metadata": {},
   "outputs": [],
   "source": [
    "def spot_center_coord(cx0,cy0,pixelGridX,pixelGridY):\n",
    "    cx0_max = np.where((cx0 < pixelGridX))\n",
    "    cx0_min = np.where((cx0 > pixelGridX))\n",
    "    #print(cx0_max[0][0])\n",
    "    #print(cx0_min[0][-1])\n",
    "    cy0_max = np.where((cy0 < pixelGridY))\n",
    "    cy0_min = np.where((cy0 > pixelGridY))\n",
    "    #print(cy0_max[0][0])\n",
    "    #print(cy0_min[0][-1])\n",
    "\n",
    "    return cx0_max[0][0],cx0_min[0][-1],cy0_max[0][0],cy0_min[0][-1]"
   ]
  },
  {
   "cell_type": "code",
   "execution_count": 29,
   "metadata": {},
   "outputs": [],
   "source": [
    "#spot centroid coordinates \n",
    "cx0 = 5.67248\n",
    "cy0 = 3.565"
   ]
  },
  {
   "cell_type": "code",
   "execution_count": 30,
   "metadata": {},
   "outputs": [],
   "source": [
    "gridSize = 1024\n",
    "theta = np.linspace(0, 2*np.pi, gridSize)\n",
    "r = pixel_width/4\n",
    "x0 = r*np.cos(theta)+(cx0)\n",
    "y0 = r*np.sin(theta)+(cy0)\n",
    "\n",
    "circ1 = np.sqrt((pixelGridXX-cx0)**2 + (pixelGridYY-cy0)**2) <= r\n",
    "circ = np.where(circ1 == True)\n",
    "\n",
    "fig, ax = plt.subplots()\n",
    "ax.plot(pixelGridXX,pixelGridYY)\n",
    "ax.plot(pixelGridXX.T,pixelGridYY.T)\n",
    "ax.plot(x0,y0, linewidth=4)\n",
    "ax.plot(pixelGridX[circ[1][:]],pixelGridY[circ[0][:]],'r*')\n",
    "ax.plot(cx0,cy0,'k.')\n",
    "\n",
    "ax.set_xlim([cx0-(2*pixel_width),cx0+(2*pixel_width)])\n",
    "ax.set_ylim([cy0-(2*pixel_width),cy0+(2*pixel_width)])\n",
    "\n",
    "cx0max,cx0min,cy0max,cy0min = spot_center_coord(cx0,cy0,pixelGridX,pixelGridY)\n",
    "\n",
    "# max and min points in (x,y) coordinates\n",
    "cx0min_pxl = cx0min*pixel_width\n",
    "cx0max_pxl = cx0max*pixel_width\n",
    "cy0min_pxl = cy0min*pixel_width\n",
    "cy0max_pxl = cy0max*pixel_width\n",
    "\n",
    "#array max and min points\n",
    "points_max_min = np.array([[cx0min_pxl,cy0min_pxl],\n",
    "                            [cx0min_pxl,cy0max_pxl],\n",
    "                            [cx0max_pxl,cy0min_pxl],\n",
    "                            [cx0max_pxl,cy0max_pxl]])\n",
    "\n",
    "# plot the max and min points\n",
    "ax.plot(cx0min_pxl,cy0min_pxl,'b*')\n",
    "ax.plot(cx0min_pxl,cy0max_pxl,'b*')\n",
    "ax.plot(cx0max_pxl,cy0min_pxl,'b*')\n",
    "ax.plot(cx0max_pxl,cy0max_pxl,'b*')\n",
    "\n",
    "ax.set_aspect(1)\n",
    "plt.show()"
   ]
  },
  {
   "cell_type": "code",
   "execution_count": 31,
   "metadata": {},
   "outputs": [
    {
     "data": {
      "text/plain": [
       "3.56288"
      ]
     },
     "execution_count": 31,
     "metadata": {},
     "output_type": "execute_result"
    }
   ],
   "source": [
    "cy0min_pxl"
   ]
  },
  {
   "cell_type": "markdown",
   "metadata": {},
   "source": [
    "### Number of pixels inbetween"
   ]
  },
  {
   "cell_type": "code",
   "execution_count": 32,
   "metadata": {},
   "outputs": [
    {
     "name": "stdout",
     "output_type": "stream",
     "text": [
      "number of pixels in the x axis with the spot: 2.0\n",
      "number of pixels in the y axis with the spot: 1.0\n"
     ]
    }
   ],
   "source": [
    "nr_pixel_x = ((cx0max*pixel_width)-(cx0min*pixel_width))/pixel_width\n",
    "print(\"number of pixels in the x axis with the spot:\",np.round(nr_pixel_x))\n",
    "nr_pixel_y = ((cy0max*pixel_width)-(cy0min*pixel_width))/pixel_width\n",
    "print(\"number of pixels in the y axis with the spot:\", np.round(nr_pixel_y))"
   ]
  },
  {
   "cell_type": "markdown",
   "metadata": {},
   "source": [
    "## Left pixel"
   ]
  },
  {
   "cell_type": "code",
   "execution_count": 33,
   "metadata": {},
   "outputs": [],
   "source": [
    "xgrid_l = np.linspace(0,1,gridSize)*pixel_width\n",
    "ygrid_l = np.linspace(0,1,gridSize)*pixel_width\n",
    "\n",
    "x_pixel_l = xgrid_l+(cx0min*pixel_width)\n",
    "y_pixel_l = ygrid_l+(cy0min*pixel_width)\n",
    "\n",
    "xx_pixel_l, yy_pixel_l = np.meshgrid(x_pixel_l,y_pixel_l)\n"
   ]
  },
  {
   "cell_type": "code",
   "execution_count": 34,
   "metadata": {},
   "outputs": [
    {
     "data": {
      "text/plain": [
       "\"\\nfig, ax = plt.subplots()\\n\\nax.plot(cx0,cy0,'b*')\\n#ax.plot(xx_one_pixel,yy_one_pixel)\\n#ax.plot(xx_one_pixel.T,yy_one_pixel.T)\\nax.plot(x_pixel_l[circl[1][:]],y_pixel_l[circl[0][:]],'r*')\\n\\nplt.show()\\n\""
      ]
     },
     "execution_count": 34,
     "metadata": {},
     "output_type": "execute_result"
    }
   ],
   "source": [
    "circl_total = np.sqrt((xx_pixel_l-cx0)**2 + (yy_pixel_l-cy0)**2) <= r\n",
    "circl = np.where(circl_total == True)\n",
    "\n",
    "\"\"\"\n",
    "fig, ax = plt.subplots()\n",
    "\n",
    "ax.plot(cx0,cy0,'b*')\n",
    "#ax.plot(xx_one_pixel,yy_one_pixel)\n",
    "#ax.plot(xx_one_pixel.T,yy_one_pixel.T)\n",
    "ax.plot(x_pixel_l[circl[1][:]],y_pixel_l[circl[0][:]],'r*')\n",
    "\n",
    "plt.show()\n",
    "\"\"\""
   ]
  },
  {
   "cell_type": "markdown",
   "metadata": {},
   "source": [
    "### Covered area\n",
    "- Create array to store pixel percentage values,for the left and right pixels"
   ]
  },
  {
   "cell_type": "code",
   "execution_count": 35,
   "metadata": {},
   "outputs": [
    {
     "name": "stdout",
     "output_type": "stream",
     "text": [
      "pixel cover percentage: 9.821605682373047 %\n"
     ]
    }
   ],
   "source": [
    "# array for percentage storage\n",
    "pixel_covered_percent = np.zeros((2,))\n",
    "\n",
    "pixel_covered_left = circl[0].shape\n",
    "totalpixel_area = gridSize**2\n",
    "pixel_covered_percent[0] = (pixel_covered_left[0]/totalpixel_area)*100\n",
    "print(\"pixel cover percentage: \" + str(pixel_covered_percent[0]) + \" %\")"
   ]
  },
  {
   "cell_type": "markdown",
   "metadata": {},
   "source": [
    "## Right pixel"
   ]
  },
  {
   "cell_type": "code",
   "execution_count": 36,
   "metadata": {},
   "outputs": [],
   "source": [
    "xgrid_r = np.linspace(0,1,gridSize)*pixel_width\n",
    "ygrid_r = np.linspace(0,1,gridSize)*pixel_width\n",
    "\n",
    "x_pixel_r = xgrid_r+(cx0max*pixel_width) - ((nr_pixel_x/2)*(pixel_width))\n",
    "y_pixel_r = ygrid_r+(cy0max*pixel_width) - ((nr_pixel_x/2)*(pixel_width))\n",
    "\n",
    "xx_pixel_r, yy_pixel_r = np.meshgrid(x_pixel_r,y_pixel_r)\n",
    "\n",
    "circr_total = np.sqrt((xx_pixel_r-cx0)**2 + (yy_pixel_r-cy0)**2) <= r\n",
    "circr = np.where(circr_total == True)\n"
   ]
  },
  {
   "cell_type": "code",
   "execution_count": 37,
   "metadata": {},
   "outputs": [
    {
     "data": {
      "text/plain": [
       "\"\\nfig, ax = plt.subplots()\\n\\nax.plot(cx0,cy0,'b*')\\n#ax.plot(xx_one_pixel,yy_one_pixel)\\n#ax.plot(xx_one_pixel.T,yy_one_pixel.T)\\nax.plot(x_pixel_r[circr[1][:]],y_pixel_r[circr[0][:]],'r*')\\n\\nplt.show()\\n\""
      ]
     },
     "execution_count": 37,
     "metadata": {},
     "output_type": "execute_result"
    }
   ],
   "source": [
    "\"\"\"\n",
    "fig, ax = plt.subplots()\n",
    "\n",
    "ax.plot(cx0,cy0,'b*')\n",
    "#ax.plot(xx_one_pixel,yy_one_pixel)\n",
    "#ax.plot(xx_one_pixel.T,yy_one_pixel.T)\n",
    "ax.plot(x_pixel_r[circr[1][:]],y_pixel_r[circr[0][:]],'r*')\n",
    "\n",
    "plt.show()\n",
    "\"\"\"\n"
   ]
  },
  {
   "cell_type": "markdown",
   "metadata": {},
   "source": [
    "### Covered area"
   ]
  },
  {
   "cell_type": "code",
   "execution_count": 38,
   "metadata": {},
   "outputs": [
    {
     "name": "stdout",
     "output_type": "stream",
     "text": [
      "pixel cover percentage: 9.821605682373047 %\n"
     ]
    }
   ],
   "source": [
    "pixel_covered_right = circl[0].shape\n",
    "totalpixel_area = gridSize**2\n",
    "pixel_covered_percent[1] = (pixel_covered_right[0]/totalpixel_area)*100\n",
    "print(\"pixel cover percentage: \" + str(pixel_covered_percent[1]) + \" %\")"
   ]
  },
  {
   "cell_type": "markdown",
   "metadata": {},
   "source": [
    "## Plot everything"
   ]
  },
  {
   "cell_type": "code",
   "execution_count": 39,
   "metadata": {},
   "outputs": [],
   "source": [
    "xgrid = np.linspace(0,1,gridSize) * pixel_width\n",
    "xx, yy = np.meshgrid(xgrid+(cx0min*pixel_width),xgrid+(cy0min*pixel_width))\n",
    "\n",
    "fig, ax = plt.subplots()\n",
    "ax.plot(pixelGridXX,pixelGridYY)\n",
    "ax.plot(pixelGridXX.T,pixelGridYY.T)\n",
    "#ax.plot(xx,yy)\n",
    "#ax.plot(xx.T,yy.T)\n",
    "ax.plot(x0,y0, linewidth=4)\n",
    "#ax.plot(pixelGridX[circ[1][:]],pixelGridY[circ[0][:]],'r*')\n",
    "#ax.plot(pixelGridX[circl[1][:]],pixelGridY[circl[0][:]],'r*')\n",
    "\n",
    "# left pixel \n",
    "ax.plot(x_pixel_l[circl[1][:]],y_pixel_l[circl[0][:]],'r*')\n",
    "# right pixel\n",
    "ax.plot(x_pixel_r[circr[1][:]],y_pixel_r[circr[0][:]],'b*')\n",
    "\n",
    "# center of the pixel\n",
    "ax.plot(cx0,cy0,'k.')\n",
    "\n",
    "ax.set_xlim([cx0-(2*pixel_width),cx0+(2*pixel_width)])\n",
    "ax.set_ylim([cy0-(2*pixel_width),cy0+(2*pixel_width)])\n",
    "\n",
    "cx0max,cx0min,cy0max,cy0min = spot_center_coord(cx0,cy0,pixelGridX,pixelGridY)\n",
    "\n",
    "ax.plot(cx0min*pixel_width,cy0min*pixel_width,'b*')\n",
    "ax.plot(cx0min*pixel_width,cy0max*pixel_width,'b*')\n",
    "ax.plot(cx0max*pixel_width,cy0min*pixel_width,'b*')\n",
    "ax.plot(cx0max*pixel_width,cy0max*pixel_width,'b*')\n",
    "\n",
    "ax.set_aspect(1)\n",
    "plt.show()"
   ]
  },
  {
   "cell_type": "markdown",
   "metadata": {},
   "source": [
    "### Plot the pixel\n",
    "- create the retangle that represents the spot"
   ]
  },
  {
   "cell_type": "code",
   "execution_count": 40,
   "metadata": {},
   "outputs": [],
   "source": [
    "fig= plt.figure()\n",
    "ax1= fig.add_subplot()\n",
    "#axis\n",
    "ax1.plot(pixelGridXX,pixelGridYY,'r')\n",
    "ax1.plot(pixelGridXX.T,pixelGridYY.T,'b')\n",
    "#spot\n",
    "ax1.plot(x0,y0, linewidth=1)\n",
    "# list with the origin values of the pixel rectangles\n",
    "pixel_origin = ([[x_pixel_l[0],y_pixel_l[0]]\n",
    "                ,[x_pixel_r[0],y_pixel_r[0]]])\n",
    "# list for the patches\n",
    "ptchs =[]\n",
    "# the value 2 is hardwired, only because there is only two pixels, for now\n",
    "for i in range(2):\n",
    "        ptchs.append(Rectangle((pixel_origin[i][0],pixel_origin[i][1]),pixel_width,pixel_width))\n",
    "\n",
    "p = PatchCollection(ptchs, cmap=cm.jet, alpha=0.5)\n",
    "# define the color\n",
    "p.set_array(pixel_covered_percent)\n",
    "# set color max and min\n",
    "p.set_clim([0, 100])\n",
    "ax1.add_collection(p)\n",
    "\n",
    "fig.colorbar(p)\n",
    "\n",
    "ax1.set_xlim([cx0-(2*pixel_width),cx0+(2*pixel_width)])\n",
    "ax1.set_ylim([cy0-(2*pixel_width),cy0+(2*pixel_width)])\n",
    "ax1.set_aspect(1)\n",
    "\n",
    "plt.show()"
   ]
  },
  {
   "cell_type": "code",
   "execution_count": 41,
   "metadata": {},
   "outputs": [
    {
     "data": {
      "text/plain": [
       "array([5.67248   , 5.67248573, 5.67249146, ..., 5.67832854, 5.67833427,\n",
       "       5.67834   ])"
      ]
     },
     "execution_count": 41,
     "metadata": {},
     "output_type": "execute_result"
    }
   ],
   "source": [
    "x_pixel = xgrid_r+(cx0max*pixel_width) - ((nr_pixel_x/2)*(pixel_width))\n",
    "x_pixel \n"
   ]
  },
  {
   "cell_type": "code",
   "execution_count": 42,
   "metadata": {},
   "outputs": [
    {
     "name": "stdout",
     "output_type": "stream",
     "text": [
      "[5.67834    5.67833427 5.67832854 ... 5.67249146 5.67248573 5.67248   ]\n",
      "[3.56874    3.56874573 3.56875146 ... 3.57458854 3.57459427 3.5746    ]\n"
     ]
    }
   ],
   "source": [
    "cx0maxx = points_max_min[3,0]\n",
    "cy0maxx = points_max_min[3,1]\n",
    "\n",
    "xgrid = np.linspace(0,1,gridSize)*pixel_width\n",
    "ygrid = np.linspace(0,1,gridSize)*pixel_width\n",
    "\n",
    "x_pixel = (cx0maxx)-xgrid\n",
    "y_pixel = ygrid+(cy0maxx)\n",
    "\n",
    "xx_pixel, yy_pixel = np.meshgrid(x_pixel,y_pixel)\n",
    "print(x_pixel)\n",
    "print(y_pixel)\n",
    "\n"
   ]
  },
  {
   "cell_type": "code",
   "execution_count": 43,
   "metadata": {},
   "outputs": [],
   "source": [
    "def pixel_cover_finder(gridSize,cx0max,cy0max,cx0,cy0,r):\n",
    "    # in order to 360 arount the point\n",
    "    pixel_orient = np.array([[1,1],[1,-1],[-1,1],[-1,-1]])\n",
    "\n",
    "    # array for percentage storage\n",
    "    pixel_covered_percent = np.zeros((4,))\n",
    "\n",
    "    xgrid = np.linspace(0,1,gridSize)*pixel_width\n",
    "    ygrid = np.linspace(0,1,gridSize)*pixel_width\n",
    "    for i in range(4):\n",
    "        x_pixel = (cx0max)+(xgrid*pixel_orient[i,0])\n",
    "        y_pixel = (cy0max)+(ygrid*pixel_orient[i,1])\n",
    "\n",
    "        xx_pixel, yy_pixel = np.meshgrid(x_pixel,y_pixel)\n",
    "\n",
    "        circ_total = np.sqrt((xx_pixel-cx0)**2 + (yy_pixel-cy0)**2) <= r\n",
    "        circ = np.where(circ_total == True)\n",
    "\n",
    "        pixel_covered = circ[0].shape\n",
    "        totalpixel_area = gridSize**2\n",
    "        pixel_covered_percent[i] = (pixel_covered[0]/totalpixel_area)*100\n",
    "        #print(\"pixel cover percentage: \" + str(pixel_covered_percent[i]) + \" %\")\n",
    "\n",
    "    return pixel_covered_percent\n",
    "\n",
    "    "
   ]
  },
  {
   "cell_type": "code",
   "execution_count": 44,
   "metadata": {},
   "outputs": [],
   "source": [
    "fig,ax = plt.subplots()\n",
    "pixel_orient = np.array([[1,1],[1,-1],[-1,1],[-1,-1]])\n",
    "# center of the pixel\n",
    "ax.plot(cx0,cy0,'k.')\n",
    "#axis\n",
    "ax.plot(pixelGridXX,pixelGridYY,'r')\n",
    "ax.plot(pixelGridXX.T,pixelGridYY.T,'b')\n",
    "#spot\n",
    "ax.plot(x0,y0, linewidth=1)\n",
    "# list for the patches\n",
    "ptchs =[]\n",
    "#pixel cover list\n",
    "pixel_covered_percent = []\n",
    "for j in range(len(points_max_min)):\n",
    "    pixel_covered_percent.append(pixel_cover_finder(gridSize,points_max_min[j,0],points_max_min[j,1],cx0,cy0,r))\n",
    "    for i in range(4):\n",
    "        ptchs.append(Rectangle((points_max_min[j,0],points_max_min[j,1]), pixel_orient[i,0]*pixel_width,pixel_orient[i,1]*pixel_width))\n",
    "\n",
    "p = PatchCollection(ptchs, cmap=cm.jet, alpha=1)\n",
    "pixel_covered_percent_arr = np.array(pixel_covered_percent).flatten()\n",
    "# define the color\n",
    "p.set_array(pixel_covered_percent_arr)\n",
    "# set color max and min\n",
    "p.set_clim([0, 100])\n",
    "ax.add_collection(p)\n",
    "\n",
    "fig.colorbar(p)\n",
    "\n",
    "ax.set_xlim([cx0-(3*pixel_width),cx0+(3*pixel_width)])\n",
    "ax.set_ylim([cy0-(3*pixel_width),cy0+(3*pixel_width)])\n",
    "\n",
    "ax.set_aspect(1)\n",
    "\n",
    "plt.show()"
   ]
  }
 ],
 "metadata": {
  "interpreter": {
   "hash": "a2351b8e039bbf9c56c302d7c356075afc88dd574b72d7357dd8301589a7e4a3"
  },
  "kernelspec": {
   "display_name": "TensorFlow & OpenCv",
   "language": "python",
   "name": "thesis"
  },
  "language_info": {
   "codemirror_mode": {
    "name": "ipython",
    "version": 3
   },
   "file_extension": ".py",
   "mimetype": "text/x-python",
   "name": "python",
   "nbconvert_exporter": "python",
   "pygments_lexer": "ipython3",
   "version": "3.8.5"
  },
  "orig_nbformat": 4
 },
 "nbformat": 4,
 "nbformat_minor": 2
}
