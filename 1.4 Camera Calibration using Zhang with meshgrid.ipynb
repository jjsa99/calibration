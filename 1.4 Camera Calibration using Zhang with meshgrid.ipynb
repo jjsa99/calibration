{
 "cells": [
  {
   "cell_type": "markdown",
   "metadata": {},
   "source": [
    "# 1. Camera Calibration"
   ]
  },
  {
   "cell_type": "markdown",
   "metadata": {},
   "source": [
    "This script intends to calibrate a camera using an object.\n",
    "For this implementation we will use the Zhang's calibration method."
   ]
  },
  {
   "cell_type": "markdown",
   "metadata": {},
   "source": [
    "**Import the libraries**"
   ]
  },
  {
   "cell_type": "code",
   "execution_count": 130,
   "metadata": {},
   "outputs": [],
   "source": [
    "%matplotlib qt\n",
    "from matplotlib import pyplot as plt\n",
    "import numpy as np\n",
    "from camera_models import *  # our package\n",
    "import cv2\n",
    "DECIMALS = 2  # how many decimal places to use in print\n",
    "\n",
    "\n"
   ]
  },
  {
   "cell_type": "markdown",
   "metadata": {},
   "source": [
    "## Zhang's Method\n",
    "Comparing to the DLT method, the Zhang method only calculate the intrinsic parameters. We instead only need to find 5 parameters."
   ]
  },
  {
   "cell_type": "markdown",
   "metadata": {},
   "source": [
    "### Implementation:"
   ]
  },
  {
   "cell_type": "markdown",
   "metadata": {},
   "source": [
    "## 1. Import the 2D and 3D coordinates\n",
    "This is example is not completely right since we need more than 3 diferent views to estimate H using Zhang's method."
   ]
  },
  {
   "cell_type": "code",
   "execution_count": 131,
   "metadata": {},
   "outputs": [],
   "source": [
    "\n",
    "#worldcoo = np.array([ (0,0,0), (0,28,0), (56,0,0), (56,28,0), (56,84,0), (84,84,0), (112,56,0),\n",
    "#             (112,84,0), (84,56,0), (84,112,0), (0,28,28), (0,28,56), (0,56,28), (0,56,56), \n",
    "#             (0,56,84), (0,56,112), (0,112,0), (0,112,28), (0,112,56), (0,112,84), (0,112,112) \n",
    "#           ])\n",
    "\n",
    "#imagecoo = np.array([ (1549, 1599), (1547, 1763), (1797, 1625), (1793, 1807), (1785, 2156), (1918, 2196),\n",
    "#            (2069, 2051), (2061, 2233), (1928, 2015), (1915, 2366), (1413, 1781), (1280, 1807),\n",
    "#             (1415, 1958), (1283, 1981), (1139, 2013), (990, 2041), (1541, 2251), (1420, 2287),\n",
    "#             (1292, 2320), (1149, 2356), (1005, 2401)\n",
    "#           ])\n",
    "#print(\"World coordinate have : \"+str(worldcoo.shape)+ \" dimensions\\n\")\n",
    "#print(\"Image coordinate have : \"+str(imagecoo.shape)+ \" dimensions\\n\")"
   ]
  },
  {
   "cell_type": "markdown",
   "metadata": {},
   "source": [
    "We need to **remove the Z coordinate** from the World coordinate since we are using the chessboard calibration"
   ]
  },
  {
   "cell_type": "code",
   "execution_count": 187,
   "metadata": {},
   "outputs": [],
   "source": [
    "def to_inhomogeneus(X: np.ndarray) -> np.ndarray:\n",
    "    if X.ndim > 1:\n",
    "        raise ValueError(\"x must be one-dimensional.\")\n",
    "\n",
    "    return (X / X[-1])[:-1]\n",
    "\n",
    "\n",
    "def to_homogeneus(X: np.ndarray) -> np.ndarray:\n",
    "    if X.ndim > 1:\n",
    "        raise ValueError(\"X must be one-dimensional.\")\n",
    "\n",
    "    return np.hstack([X, 1])\n",
    "\n",
    "\n",
    "def to_homogeneus_arr(X: np.ndarray) -> np.ndarray:\n",
    "    one_matrix = np.ones((X.shape[0],1))\n",
    "\n",
    "    out_value = np.concatenate((X, one_matrix), axis=1)\n",
    "\n",
    "    return out_value\n",
    "    \n",
    "def _get_roll_matrix(theta_x: float = 0.0) -> np.ndarray:\n",
    "    Rx = np.array(\n",
    "        [\n",
    "            [1.0, 0.0, 0.0],\n",
    "            [0.0, np.cos(theta_x), -np.sin(theta_x)],\n",
    "            [0.0, np.sin(theta_x), np.cos(theta_x)],\n",
    "        ]\n",
    "    )\n",
    "    return Rx\n",
    "\n",
    "\n",
    "def _get_pitch_matrix(theta_y: float = 0.0) -> np.ndarray:\n",
    "    Ry = np.array(\n",
    "        [\n",
    "            [np.cos(theta_y), 0.0, np.sin(theta_y)],\n",
    "            [0.0, 1.0, 0.0],\n",
    "            [-np.sin(theta_y), 0.0, np.cos(theta_y)],\n",
    "        ]\n",
    "    )\n",
    "    return Ry\n",
    "\n",
    "\n",
    "def _get_yaw_matrix(theta_z: float = 0.0) -> np.ndarray:\n",
    "    Rz = np.array(\n",
    "        [\n",
    "            [np.cos(theta_z), -np.sin(theta_z), 0.0],\n",
    "            [np.sin(theta_z), np.cos(theta_z), 0.0],\n",
    "            [0.0, 0.0, 1.0],\n",
    "        ]\n",
    "    )\n",
    "    return Rz\n",
    "\n",
    "\n",
    "#my and mx correspond to the pixel density in the x and y direction\n",
    "def get_calibration_matrix(\n",
    "    f: float,\n",
    "    px: float = 0.0,\n",
    "    py: float = 0.0,\n",
    "    mx: float = 1.0,\n",
    "    my: float = 1.0,\n",
    ") -> np.ndarray:\n",
    "    K = np.diag([mx, my, 1]) @ np.array([[f, 0.0, px], [0.0, f, py], [0.0, 0.0, 1.0]])\n",
    "    return K\n",
    "\n",
    "def get_rotation_matrix(\n",
    "    theta_x: float = 0.0, theta_y: float = 0.0, theta_z: float = 0.0\n",
    ") -> np.ndarray:\n",
    "    # Roll\n",
    "    Rx = _get_roll_matrix(theta_x)\n",
    "    # Pitch\n",
    "    Ry = _get_pitch_matrix(theta_y)\n",
    "    # Yaw\n",
    "    Rz = _get_yaw_matrix(theta_z)\n",
    "    return Rz @ Ry @ Rx\n",
    "\n",
    "def get_translation_matrix(Tx: float,Ty: float,Tz: float):\n",
    "    return np.array([[Tx],[Ty],[Tz]])\n",
    "\n",
    "def get_extrinsic_matrix(rot: np.array((3,3)), trans:np.array((3,1))):\n",
    "    E = np.concatenate((rot,trans), axis = 1)\n",
    "    return E\n",
    "\n",
    "def get_projection_matrix(\n",
    "    f: float,\n",
    "    px: float = 0.0,\n",
    "    py: float = 0.0,\n",
    "    tx : float = 0.0,\n",
    "    ty : float = 0.0,\n",
    "    tz : float = 0.0,\n",
    "    theta_x: float = 0.0,\n",
    "    theta_y: float = 0.0,\n",
    "    theta_z: float = 0.0,\n",
    "    mx: float = 1.0,\n",
    "    my: float = 1.0,\n",
    ") -> np.ndarray:\n",
    "    K = get_calibration_matrix(f=f, px=px, py=py, mx=mx, my=my)\n",
    "    #print(\"Calibration matrix: \\n\",K)\n",
    "    R = get_rotation_matrix(theta_x=theta_x, theta_y=theta_y, theta_z=theta_z)\n",
    "    #print(\"Rotation matrix: \\n\",R)\n",
    "    T = get_translation_matrix(tx,ty,tz)\n",
    "    #print(\"Translation matrix: \\n\",T)\n",
    "    E = get_extrinsic_matrix(rot = R,trans = T)\n",
    "    P = K @ E\n",
    "    \n",
    "    return P,E\n",
    "\n",
    "def get_plucker_matrix(A: np.ndarray, B: np.ndarray) -> np.ndarray:\n",
    "    A = to_homogeneus(A)\n",
    "    B = to_homogeneus(B)\n",
    "    L = A.reshape(-1, 1) * B.reshape(1, -1) - B.reshape(-1, 1) * A.reshape(1, -1)\n",
    "    return L\n",
    "\n",
    "def create_chessboard(patternsize_x,patternsize_y):\n",
    "    \"\"\"\n",
    "    Creates chessboard with pattern dimensions\n",
    "    patternsize_x[in] - size x of the chessboard\n",
    "    patternsize_y[in] - size y of the chessboard\n",
    "    world_pts_arr[out] - meshgrid points\n",
    "    \"\"\"\n",
    "    pattern_size_x,pattern_size_y = (patternsize_x,patternsize_y)\n",
    "\n",
    "    X = np.linspace(-pattern_size_x/2, pattern_size_x/2,pattern_size_x + 1)\n",
    "    Y = np.linspace(-pattern_size_y/2, pattern_size_y/2,pattern_size_y + 1)\n",
    "\n",
    "    zdata = np.zeros((patternsize_x + 1,patternsize_y + 1))\n",
    "    xdata, ydata = np.meshgrid(X, Y)\n",
    "\n",
    "    xdata_ = xdata.flatten()\n",
    "    ydata_ = ydata.flatten()\n",
    "    zdata_ = zdata.flatten()\n",
    "    onedata = np.ones((zdata_.shape[0])).flatten()\n",
    "    # homogeneous coordinates\n",
    "    world_pts =([xdata_,ydata_,zdata_,onedata])\n",
    "    world_pts_arr = np.array(world_pts).T\n",
    "\n",
    "    return world_pts_arr\n",
    "\n",
    "def get_chessboard_rot_trans(world_pts_arr,rx, ry, rz, tx,ty,tz):\n",
    "    \"\"\"\n",
    "    rotates and translates the chessboard\n",
    "    world_pts_arr[in] - chessboard points in homogenous coordinates[4,1]\n",
    "    rx[in] - rotation on the x axis\n",
    "    ry[in] - rotation on the y axis\n",
    "    rz[in] - rotation on the z axis\n",
    "    tx[in] - translation on the x axis\n",
    "    ty[in] - translation on the y axis\n",
    "    tz[in] - translation on the z axis\n",
    "    world_trans_arr[out] - output chessboard rotation and translation \n",
    "    \"\"\" \n",
    "    \n",
    "    Rx =get_rotation_matrix(rx,ry,rz)\n",
    "    Trans = np.array([[tx],[ty],[tz]])\n",
    "    E = np.concatenate((Rx,Trans),axis=1)\n",
    "\n",
    "    world_trans_arr = np.dot(world_pts_arr,E.T)\n",
    "\n",
    "    return world_trans_arr\n",
    "\n",
    "def get_image_points(F,chess_pts,px,py,trans_x = 0,trans_y = 0,trans_z = 0,theta_x=  0,theta_y= np.pi ,theta_z= np.pi):\n",
    "\n",
    "    K = get_calibration_matrix(F, px=px, py=py)                                                                                                     # calibration matrix\n",
    "    P,E = get_projection_matrix(F, px=px, py=py,tx = trans_x,ty = trans_y, tz = trans_z,theta_x = theta_x,theta_y = theta_y,theta_z=theta_z)        # projection matrix\n",
    "\n",
    "    print(\"\\nCalibration matrix (K):\\n\", K)\n",
    "    print(\"\\nProjection matrix (P):\\n\", P)\n",
    "    print(\"\\nExtrinsic matrix (E):\\n\", E)\n",
    "\n",
    "    if( len(chess_pts.shape) == 3):\n",
    "        x_arr = np.zeros((chess_pts.shape[0],chess_pts.shape[1],2))\n",
    "        # goes through the different planes\n",
    "        for i in range(chess_pts.shape[0]):                                                                                                              # chooses a plane\n",
    "            for j in range(chess_pts.shape[1]):\n",
    "                Xh = to_homogeneus(chess_pts[i,j,:])\n",
    "                xh = P @ Xh\n",
    "                x_arr[i,j,:] = to_inhomogeneus(xh)\n",
    "    else:\n",
    "        x_arr = np.zeros((chess_pts.shape[0],2))\n",
    "        # goes through the different planes\n",
    "        for i in range(chess_pts.shape[0]):                                                                                                              # chooses a plane\n",
    "            Xh = to_homogeneus(chess_pts[i,:])\n",
    "            xh = P @ Xh\n",
    "            x_arr[i,:] = to_inhomogeneus(xh)\n",
    "            \n",
    "\n",
    "    return x_arr, chess_pts"
   ]
  },
  {
   "cell_type": "markdown",
   "metadata": {},
   "source": [
    "### Chessboard representation in space\n",
    "Using meshgrid, we obtain a (6,8) ideal chessboard with 25mm"
   ]
  },
  {
   "cell_type": "code",
   "execution_count": 188,
   "metadata": {},
   "outputs": [],
   "source": [
    "F = 0.16                                       # focal length( in mm )\n",
    "sensor_size = np.array([11,7])              # sensor size(mm)\n",
    "PX= sensor_size[0]/2.0                      # principal point x-coordinate\n",
    "PY= sensor_size[1]/2.0                      # principal point y-coordinate\n",
    "IMAGE_HEIGTH = sensor_size[1]\n",
    "IMAGE_WIDTH = sensor_size[0]\n",
    "THETA_X = np.pi / 2                         # roll angle\n",
    "THETA_Z = np.pi                             # yaw angle\n",
    "\n",
    "C = np.array([6, -5, 2])                    # camera centre\n"
   ]
  },
  {
   "cell_type": "code",
   "execution_count": 167,
   "metadata": {},
   "outputs": [
    {
     "name": "stdout",
     "output_type": "stream",
     "text": [
      "Extrinsic\n",
      ": [[ 1.00000000e+00 -1.22464680e-16 -1.22464680e-16  4.00000000e+00]\n",
      " [-1.22464680e-16 -1.00000000e+00  1.49975978e-32  4.00000000e+00]\n",
      " [-1.22464680e-16  0.00000000e+00 -1.00000000e+00  4.00000000e+00]]\n"
     ]
    }
   ],
   "source": [
    "pattern_size_x,pattern_size_y = (6,8)\n",
    "\n",
    "X = np.linspace(0, pattern_size_x,pattern_size_x + 1)\n",
    "Y = np.linspace(0, pattern_size_y,pattern_size_y + 1)\n",
    "\n",
    "zdata = np.zeros((9,7))\n",
    "xdata, ydata = np.meshgrid(X, Y)\n",
    "\n",
    "\n",
    "fig = plt.figure(figsize = (11,7))\n",
    "ax = plt.axes(projection='3d')\n",
    "\n",
    "\n",
    "P,E = get_projection_matrix(F, px=PX, py=PY,tx = 4,ty = 4, tz = 4,theta_x=  0,theta_y= np.pi ,theta_z= np.pi)      # projection matrix\n",
    "\n",
    "print(\"Extrinsic\\n:\",E)\n",
    "ax.scatter3D(xdata, ydata, zdata, c=zdata, cmap='prism')\n",
    "ax.set_title(\"Chessboard 3D representation\")\n",
    "ax.plot_surface(xdata, ydata, zdata, alpha=0.5)  # the horizontal plane\n",
    "ax.set_xlabel(\"X axis\")\n",
    "ax.set_ylabel(\"Y axis\")\n",
    "ax.set_zlabel(\"Z axis\")\n",
    "plt.show()"
   ]
  },
  {
   "cell_type": "code",
   "execution_count": 168,
   "metadata": {},
   "outputs": [
    {
     "name": "stderr",
     "output_type": "stream",
     "text": [
      "No artists with labels found to put in legend.  Note that artists whose label start with an underscore are ignored when legend() is called with no argument.\n"
     ]
    }
   ],
   "source": [
    "world_pts = create_chessboard(4,4)\n",
    "\n",
    "chess_points = get_chessboard_rot_trans(world_pts,0,np.pi/2,np.pi/2,0,0,2)\n",
    "fig = plt.figure(figsize=(10, 10))\n",
    "ax = fig.add_subplot(111, projection='3d')\n",
    "\n",
    "for i in range(len(chess_points)):\n",
    "    #ax.quiver(0,0,0,world_trans_arr[:,0],world_trans_arr[:,1],world_trans_arr[:,2], color='C1', arrow_length_ratio=0.1, label=r'$\\vec{u}$')\n",
    "    ax.scatter3D(chess_points[:,0],chess_points[:,1],chess_points[:,2], cmap='prism')\n",
    "\n",
    "plt.legend()\n",
    "ax.set_xlabel(r'$x$', fontsize='large')\n",
    "ax.set_ylabel(r'$y$', fontsize='large')\n",
    "ax.set_zlabel(r'$z$', fontsize='large')\n",
    "ax.quiver(-3, 0, 0, 8, 0, 0, color='k', arrow_length_ratio=0.05) # x-axis\n",
    "ax.quiver(0, -3, 0, 0, 8, 0, color='k', arrow_length_ratio=0.05) # y-axis\n",
    "ax.quiver(0, 0, -3, 0, 0, 8, color='k', arrow_length_ratio=0.05) # z-axis\n",
    "\n",
    "plt.show()\n"
   ]
  },
  {
   "cell_type": "markdown",
   "metadata": {},
   "source": [
    "- Need to define the intrinsic matrix for the camera\n",
    "- Get multiple extrinsic matrixes for diferent views of the chessboard"
   ]
  },
  {
   "cell_type": "code",
   "execution_count": 195,
   "metadata": {},
   "outputs": [
    {
     "name": "stdout",
     "output_type": "stream",
     "text": [
      "Intrisic Matrix:\n",
      " [[0.16 0.   5.5 ]\n",
      " [0.   0.16 3.5 ]\n",
      " [0.   0.   1.  ]]\n",
      "Extrinsic Matrix:\n",
      " [[ 6.12323400e-17 -6.12323400e-17  1.00000000e+00  2.00000000e+00]\n",
      " [ 1.00000000e+00  3.74939946e-33 -6.12323400e-17  2.00000000e+00]\n",
      " [ 0.00000000e+00  1.00000000e+00  6.12323400e-17  2.00000000e+00]]\n",
      "Projection Matrix:\n",
      " [[9.79717439e-18 5.50000000e+00 1.60000000e-01 1.13200000e+01]\n",
      " [1.60000000e-01 3.50000000e+00 2.04516015e-16 7.32000000e+00]\n",
      " [0.00000000e+00 1.00000000e+00 6.12323400e-17 2.00000000e+00]]\n",
      "\n",
      "Calibration matrix (K):\n",
      " [[0.16 0.   5.5 ]\n",
      " [0.   0.16 3.5 ]\n",
      " [0.   0.   1.  ]]\n",
      "\n",
      "Projection matrix (P):\n",
      " [[9.79717439e-18 5.50000000e+00 1.60000000e-01 2.23200000e+01]\n",
      " [1.60000000e-01 3.50000000e+00 2.04516015e-16 1.46400000e+01]\n",
      " [0.00000000e+00 1.00000000e+00 6.12323400e-17 4.00000000e+00]]\n",
      "\n",
      "Extrinsic matrix (E):\n",
      " [[ 6.12323400e-17 -6.12323400e-17  1.00000000e+00  2.00000000e+00]\n",
      " [ 1.00000000e+00  3.74939946e-33 -6.12323400e-17  4.00000000e+00]\n",
      " [ 0.00000000e+00  1.00000000e+00  6.12323400e-17  4.00000000e+00]]\n"
     ]
    }
   ],
   "source": [
    "# intrinsic matrix \n",
    "K = get_calibration_matrix(F, px=PX, py=PY)     # calibration matrix\n",
    "print(\"Intrisic Matrix:\\n\",K)\n",
    "\n",
    "P,E = get_projection_matrix(F, px=PX, py=PY,tx = 2,ty = 2, tz = 2,theta_x=  np.pi/2,theta_y= 0.0 ,theta_z= np.pi/2)      # projection matrix\n",
    "\n",
    "print(\"Extrinsic Matrix:\\n\",E)\n",
    "print(\"Projection Matrix:\\n\",P)\n",
    "world_origin = np.zeros(3)  # world location(0,0,0)\n",
    "dx, dy, dz = E[:,:3].T      # rotation   \n",
    "dxo, dyo, dzo = np.eye(3)   # creates a 1's diagonal( Origin)\n",
    "\n",
    "#world frame\n",
    "world_frame = ReferenceFrame(\n",
    "    origin=world_origin, \n",
    "    dx=dxo, \n",
    "    dy=dyo,\n",
    "    dz=dzo,\n",
    "    name=\"World\",\n",
    ")\n",
    "\n",
    "#camera frame -> \n",
    "camera_frame = ReferenceFrame(\n",
    "    origin=E[:,3].T,\n",
    "    dx=dx, \n",
    "    dy=dy,\n",
    "    dz=dz,\n",
    "    name=\"Camera\",\n",
    ")\n",
    "Z = PrincipalAxis(\n",
    "    camera_center=camera_frame.origin,\n",
    "    camera_dz=camera_frame.dz,\n",
    "    f=F,\n",
    ")\n",
    "image_frame = ReferenceFrame(\n",
    "    origin=Z.p - camera_frame.dx * PX - camera_frame.dy * PY, \n",
    "    dx=dx, \n",
    "    dy=dy,\n",
    "    dz=dz,\n",
    "    name=\"Image\",\n",
    ")\n",
    "\n",
    "image_plane = ImagePlane(\n",
    "    origin=image_frame.origin, \n",
    "    dx=image_frame.dx, \n",
    "    dy=image_frame.dy, \n",
    "    heigth=IMAGE_HEIGTH,\n",
    "    width=IMAGE_WIDTH,\n",
    ")\n",
    "\n",
    "draw3d_arrow(world_origin, E[:,3].T, color=\"tab:red\", name=\"t\")        # draw arrow to connect \n",
    "# chessboard print\n",
    "world_pts = create_chessboard(4,4)\n",
    "chess_points = get_chessboard_rot_trans(world_pts,np.pi/2,0,np.pi/3,4,3,2)\n",
    "\n",
    "x_pt, X_pt = get_image_points(F,chess_points,px = PX, py = PY,trans_x = 2,trans_y = 4, trans_z = 4,theta_x= np.pi/2,theta_y= 0.0 ,theta_z= np.pi/2)\n",
    "\n",
    "\n",
    "\n",
    "# plot\n",
    "fig = plt.figure()\n",
    "ax = fig.add_subplot(121,projection = '3d')\n",
    "world_frame.draw3d()\n",
    "camera_frame.draw3d()\n",
    "image_frame.draw3d()\n",
    "Z.draw3d()\n",
    "image_plane.draw3d()\n",
    "\n",
    "\n",
    "ax.scatter3D(chess_points[:,0],chess_points[:,1],chess_points[:,2],color = 'r')\n",
    "ax.set_xlabel('X', fontsize='large')\n",
    "ax.set_ylabel('Y', fontsize='large')\n",
    "ax.set_zlabel('Z', fontsize='large')\n",
    "ax1 = fig.add_subplot(122)\n",
    "ax1.scatter(x_pt[:,0],x_pt[:,1])\n",
    "\n",
    "plt.tight_layout()\n",
    "plt.show()\n",
    "\n",
    "plt.show()\n"
   ]
  },
  {
   "cell_type": "code",
   "execution_count": 144,
   "metadata": {},
   "outputs": [
    {
     "data": {
      "text/plain": [
       "(60, 25, 3)"
      ]
     },
     "execution_count": 144,
     "metadata": {},
     "output_type": "execute_result"
    }
   ],
   "source": [
    "# chessboard print\n",
    "chess_pts = []\n",
    "world_pts = create_chessboard(4,4)\n",
    "rotangles = [[np.pi/2,0,np.pi/2],[-np.pi/3,0,np.pi/2],[np.pi/3,0,np.pi/2],[np.pi/2,0,np.pi/3],[np.pi/2,0,-np.pi/3]]\n",
    "transangles =  [[10,2,2],[11,2,2],[12,2,2],[13,2,2],[14,2,2],[15,2,2],[10,3,2],[11,3,2],[12,3,2],[13,3,2],[14,3,2],[15,3,2]]\n",
    "\n",
    "for i in range(len(transangles)):\n",
    "    for j in range(len(rotangles)):    \n",
    "        chess_pts.append(get_chessboard_rot_trans(world_pts,rotangles[j][0],rotangles[j][1],rotangles[j][2],transangles[i][0],transangles[i][1],transangles[i][2]))\n",
    "\n",
    "chess_pts_arr = np.array(chess_pts)\n",
    "chess_pts_arr.shape"
   ]
  },
  {
   "cell_type": "code",
   "execution_count": 162,
   "metadata": {},
   "outputs": [
    {
     "name": "stdout",
     "output_type": "stream",
     "text": [
      "\n",
      "Calibration matrix (K):\n",
      " [[3. 0. 5.]\n",
      " [0. 3. 6.]\n",
      " [0. 0. 1.]]\n",
      "\n",
      "Projection matrix (P):\n",
      " [[1.8369702e-16 5.0000000e+00 3.0000000e+00 2.6000000e+01]\n",
      " [3.0000000e+00 6.0000000e+00 1.8369702e-16 3.6000000e+01]\n",
      " [0.0000000e+00 1.0000000e+00 6.1232340e-17 4.0000000e+00]]\n",
      "\n",
      "Extrinsic matrix (E):\n",
      " [[ 6.12323400e-17 -6.12323400e-17  1.00000000e+00  2.00000000e+00]\n",
      " [ 1.00000000e+00  3.74939946e-33 -6.12323400e-17  4.00000000e+00]\n",
      " [ 0.00000000e+00  1.00000000e+00  6.12323400e-17  4.00000000e+00]]\n",
      "\n",
      "Calibration matrix (K):\n",
      " [[3. 0. 5.]\n",
      " [0. 3. 6.]\n",
      " [0. 0. 1.]]\n"
     ]
    }
   ],
   "source": [
    "\n",
    "\n",
    "x_arr, world_pts_arr = get_image_points(chess_pts_arr[:1,:,:],px = PX, py = PY,trans_x = 2,trans_y = 4, trans_z = 4,theta_x= np.pi/2,theta_y= 0.0 ,theta_z= np.pi/2)\n",
    "K = get_calibration_matrix(3, px=PX, py=PY)                                                                                                     # calibration matrix\n",
    "print(\"\\nCalibration matrix (K):\\n\", K)\n",
    "fig = plt.figure(figsize=(11,7))\n",
    "ax = fig.add_subplot(projection = '3d')\n",
    "ax.scatter(x_arr[0,:,0],x_arr[0,:,1])\n",
    "plt.show()\n"
   ]
  },
  {
   "cell_type": "code",
   "execution_count": 159,
   "metadata": {},
   "outputs": [
    {
     "data": {
      "text/plain": [
       "array([[10.,  0.,  0.],\n",
       "       [10.,  1.,  0.],\n",
       "       [10.,  2.,  0.],\n",
       "       [10.,  3.,  0.],\n",
       "       [10.,  4.,  0.],\n",
       "       [10.,  0.,  0.],\n",
       "       [10.,  1.,  0.],\n",
       "       [10.,  2.,  0.],\n",
       "       [10.,  3.,  0.],\n",
       "       [10.,  4.,  0.],\n",
       "       [10.,  0.,  0.],\n",
       "       [10.,  1.,  0.],\n",
       "       [10.,  2.,  0.],\n",
       "       [10.,  3.,  0.],\n",
       "       [10.,  4.,  0.],\n",
       "       [10.,  0.,  0.],\n",
       "       [10.,  1.,  0.],\n",
       "       [10.,  2.,  0.],\n",
       "       [10.,  3.,  0.],\n",
       "       [10.,  4.,  0.],\n",
       "       [10.,  0.,  0.],\n",
       "       [10.,  1.,  0.],\n",
       "       [10.,  2.,  0.],\n",
       "       [10.,  3.,  0.],\n",
       "       [10.,  4.,  0.]], dtype=float32)"
      ]
     },
     "execution_count": 159,
     "metadata": {},
     "output_type": "execute_result"
    }
   ],
   "source": [
    "world_pts_arr[0,:]"
   ]
  },
  {
   "cell_type": "code",
   "execution_count": 149,
   "metadata": {},
   "outputs": [
    {
     "name": "stdout",
     "output_type": "stream",
     "text": [
      "[[[10.  0.  0.]\n",
      "  [10.  1.  0.]\n",
      "  [10.  2.  0.]\n",
      "  [10.  3.  0.]\n",
      "  [10.  4.  0.]\n",
      "  [10.  0.  0.]\n",
      "  [10.  1.  0.]\n",
      "  [10.  2.  0.]\n",
      "  [10.  3.  0.]\n",
      "  [10.  4.  0.]\n",
      "  [10.  0.  0.]\n",
      "  [10.  1.  0.]\n",
      "  [10.  2.  0.]\n",
      "  [10.  3.  0.]\n",
      "  [10.  4.  0.]\n",
      "  [10.  0.  0.]\n",
      "  [10.  1.  0.]\n",
      "  [10.  2.  0.]\n",
      "  [10.  3.  0.]\n",
      "  [10.  4.  0.]\n",
      "  [10.  0.  0.]\n",
      "  [10.  1.  0.]\n",
      "  [10.  2.  0.]\n",
      "  [10.  3.  0.]\n",
      "  [10.  4.  0.]]]\n"
     ]
    },
    {
     "data": {
      "text/plain": [
       "array([[[ 6.5     , 16.5     ],\n",
       "        [ 6.2     , 14.4     ],\n",
       "        [ 6.      , 13.      ],\n",
       "        [ 5.857143, 12.      ],\n",
       "        [ 5.75    , 11.25    ],\n",
       "        [ 7.25    , 16.5     ],\n",
       "        [ 6.8     , 14.4     ],\n",
       "        [ 6.5     , 13.      ],\n",
       "        [ 6.285714, 12.      ],\n",
       "        [ 6.125   , 11.25    ],\n",
       "        [ 8.      , 16.5     ],\n",
       "        [ 7.4     , 14.4     ],\n",
       "        [ 7.      , 13.      ],\n",
       "        [ 6.714286, 12.      ],\n",
       "        [ 6.5     , 11.25    ],\n",
       "        [ 8.75    , 16.5     ],\n",
       "        [ 8.      , 14.4     ],\n",
       "        [ 7.5     , 13.      ],\n",
       "        [ 7.142857, 12.      ],\n",
       "        [ 6.875   , 11.25    ],\n",
       "        [ 9.5     , 16.5     ],\n",
       "        [ 8.6     , 14.4     ],\n",
       "        [ 8.      , 13.      ],\n",
       "        [ 7.571429, 12.      ],\n",
       "        [ 7.25    , 11.25    ]]], dtype=float32)"
      ]
     },
     "execution_count": 149,
     "metadata": {},
     "output_type": "execute_result"
    }
   ],
   "source": [
    "nzeros=  np.zeros((world_pts_arr.shape[0],world_pts_arr.shape[1],1))\n",
    "world_pts_arr[:,:,2:] = nzeros\n",
    "print(world_pts_arr)\n",
    "world_pts_arr = np.float32(world_pts_arr)\n",
    "x_arr = np.float32(x_arr)\n",
    "x_arr"
   ]
  },
  {
   "cell_type": "code",
   "execution_count": 157,
   "metadata": {},
   "outputs": [
    {
     "ename": "error",
     "evalue": "OpenCV(4.5.5) /io/opencv/modules/calib3d/src/calibration.cpp:1213: error: (-215:Assertion failed) fabs(sc) > DBL_EPSILON in function 'cvFindExtrinsicCameraParams2'\n",
     "output_type": "error",
     "traceback": [
      "\u001b[0;31m---------------------------------------------------------------------------\u001b[0m",
      "\u001b[0;31merror\u001b[0m                                     Traceback (most recent call last)",
      "\u001b[1;32m/home/alegria/calibration/1.4 Camera Calibration using Zhang with meshgrid.ipynb Cell 20'\u001b[0m in \u001b[0;36m<module>\u001b[0;34m\u001b[0m\n\u001b[0;32m----> <a href='vscode-notebook-cell:/home/alegria/calibration/1.4%20Camera%20Calibration%20using%20Zhang%20with%20meshgrid.ipynb#ch0000095?line=0'>1</a>\u001b[0m ret, mtx, dist, rvecs, tvecs \u001b[39m=\u001b[39m cv2\u001b[39m.\u001b[39;49mcalibrateCamera(objpoints, imgpoints,(\u001b[39m10\u001b[39;49m,\u001b[39m12\u001b[39;49m), \u001b[39mNone\u001b[39;49;00m, \u001b[39mNone\u001b[39;49;00m)\n",
      "\u001b[0;31merror\u001b[0m: OpenCV(4.5.5) /io/opencv/modules/calib3d/src/calibration.cpp:1213: error: (-215:Assertion failed) fabs(sc) > DBL_EPSILON in function 'cvFindExtrinsicCameraParams2'\n"
     ]
    }
   ],
   "source": [
    "ret, mtx, dist, rvecs, tvecs = cv2.calibrateCamera(objpoints, imgpoints,(10,12), None, None)"
   ]
  },
  {
   "cell_type": "code",
   "execution_count": 158,
   "metadata": {},
   "outputs": [
    {
     "data": {
      "text/plain": [
       "[array([[[10.,  0.,  0.],\n",
       "         [10.,  1.,  0.],\n",
       "         [10.,  2.,  0.],\n",
       "         [10.,  3.,  0.],\n",
       "         [10.,  4.,  0.],\n",
       "         [10.,  0.,  0.],\n",
       "         [10.,  1.,  0.],\n",
       "         [10.,  2.,  0.],\n",
       "         [10.,  3.,  0.],\n",
       "         [10.,  4.,  0.],\n",
       "         [10.,  0.,  0.],\n",
       "         [10.,  1.,  0.],\n",
       "         [10.,  2.,  0.],\n",
       "         [10.,  3.,  0.],\n",
       "         [10.,  4.,  0.],\n",
       "         [10.,  0.,  0.],\n",
       "         [10.,  1.,  0.],\n",
       "         [10.,  2.,  0.],\n",
       "         [10.,  3.,  0.],\n",
       "         [10.,  4.,  0.],\n",
       "         [10.,  0.,  0.],\n",
       "         [10.,  1.,  0.],\n",
       "         [10.,  2.,  0.],\n",
       "         [10.,  3.,  0.],\n",
       "         [10.,  4.,  0.]]], dtype=float32)]"
      ]
     },
     "execution_count": 158,
     "metadata": {},
     "output_type": "execute_result"
    }
   ],
   "source": [
    "world_pts_arr[0,:,:]\n",
    "objpoints=[]\n",
    "objpoints.append(world_pts_arr)\n",
    "\n",
    "imgpoints = []\n",
    "imgpoints.append(x_arr)\n",
    "objpoints"
   ]
  },
  {
   "cell_type": "markdown",
   "metadata": {},
   "source": [
    "## 2. Normalize matrix\n",
    "Normalization of input data. To improve numerical stability of the calculations, it is recommended to normalize both 2D point sets X and x before performing the homography estimation. Burger[pag.14]"
   ]
  },
  {
   "cell_type": "code",
   "execution_count": null,
   "metadata": {},
   "outputs": [],
   "source": [
    "# Normalizing a given 2D point set is accomplished by shifting and scaling all points such that the centroid od the \n",
    "# transformed set is aligned with the origin and its diameter has a predefined size.\n",
    "# There are various methods in the literature to calculate the normalization. In this case, the method used is \n",
    "# applied scaling non-unformly in x- and y- direction such that the variances along both axis get normalized. Burger[appendix B, pag 46]\n",
    "def matrix_normalization(data):\n",
    "    \"\"\"\n",
    "       Args:\n",
    "          data: Nx2 stack of data points\n",
    "        Returns:\n",
    "          The normalization matrix\n",
    "    \"\"\"\n",
    "    if data.ndim != 2 or data.shape[-1] != 2:\n",
    "        raise ValueError('Dataset must be a collection of 2D points')\n",
    "\n",
    "    x, y = data[:, 0], data[:, 1]\n",
    "\n",
    "    N = data.shape[0]\n",
    "\n",
    "    x_mean, y_mean = x.mean(), y.mean()\n",
    "    x_var, y_var = x.var(), y.var()\n",
    "    \n",
    "    # Form rescaling matrix so that data points will lie\n",
    "    # sqrt(2) from the origin on average.\n",
    "    s_x, s_y = np.sqrt(2. / x_var), np.sqrt(2. / y_var)\n",
    "    \n",
    "    norm_matrix = np.array([[s_x,  0., -s_x * x_mean],\n",
    "                            [ 0., s_y, -s_y * y_mean],\n",
    "                            [ 0.,  0.,            1.]])\n",
    "\n",
    "    return norm_matrix\n"
   ]
  },
  {
   "cell_type": "markdown",
   "metadata": {},
   "source": [
    "## 3. Homography estimation with the DLT"
   ]
  },
  {
   "cell_type": "markdown",
   "metadata": {},
   "source": [
    "### 3.1 Solving homogeneous systems of linear equations: **SVD**\n",
    "**goal : find the homography matrix (H)** \n",
    "- Normalization matrix\n",
    "- Apply the matrix to the coordinates\n",
    "- Homogenous coordinates transformation\n",
    "- Having a system M*h = , we apply SVD(M). \n",
    "- Denormalize the matrix"
   ]
  },
  {
   "cell_type": "code",
   "execution_count": null,
   "metadata": {},
   "outputs": [],
   "source": [
    "def homography_matrix(imagecoo,worldcoo):\n",
    "    # get the shape of the matrix\n",
    "    worldm, worldn = worldcoo.shape\n",
    "    imagem, imagen = imagecoo.shape\n",
    "\n",
    "    homo_world = np.append(worldcoo,np.ones((worldm,1)),axis = 1)\n",
    "    homo_image = np.append(imagecoo,np.ones((imagem,1)),axis = 1)\n",
    "\n",
    "\n",
    "    # world coordinate normalization\n",
    "    X_matrix_norm = matrix_normalization(worldcoo)\n",
    "    # image coordinate normalization\n",
    "    x_matrix_norm = matrix_normalization(imagecoo)\n",
    "    \n",
    "    # Normalize the coordinates\n",
    "    world_norm = np.dot(homo_world,X_matrix_norm.T)\n",
    "    image_norm = np.dot(homo_image,x_matrix_norm.T)\n",
    "\n",
    "    #2D DLT\n",
    "    X, Y, x, y = world_norm[:,0],world_norm[:,1], image_norm[:,0], image_norm[:,1]\n",
    "\n",
    "    A = np.zeros((worldm * 2, 9))\n",
    "\n",
    "    M_x = np.zeros((worldm, 9))\n",
    "    M_x[:, 0] = -X\n",
    "    M_x[:, 1] = -Y\n",
    "    M_x[:, 2] = -1.\n",
    "    M_x[:, 6] =  x * X\n",
    "    M_x[:, 7] =  x * Y\n",
    "    M_x[:, 8] =  x\n",
    "\n",
    "    M_y = np.zeros((worldm, 9))\n",
    "    M_y[:, 3] = -X\n",
    "    M_y[:, 4] = -Y\n",
    "    M_y[:, 5] = -1.\n",
    "    M_y[:, 6] =  y * X\n",
    "    M_y[:, 7] =  y * Y\n",
    "    M_y[:, 8] =  y\n",
    "\n",
    "    # Note that all x-constraints precede all y-constraints for convenience of \n",
    "    # representation.\n",
    "    A[:worldm] = M_x\n",
    "    A[worldm:] = M_y\n",
    "\n",
    "    U, S, V = np.linalg.svd(A)\n",
    "    # get the min Singular value\n",
    "    idx = np.argmin(S)\n",
    "    H = V[idx].reshape(3,3)\n",
    "    \n",
    "    # Denormalize the coordinates\n",
    "    H = np.dot(np.dot(np.linalg.inv(x_matrix_norm), H), X_matrix_norm)\n",
    "    #print(\"Homography Matrix: \\n\"+str(H))\n",
    "    return H\n",
    "\n",
    "\n"
   ]
  },
  {
   "cell_type": "markdown",
   "metadata": {},
   "source": [
    "## Obtain the Corner information of images"
   ]
  },
  {
   "cell_type": "markdown",
   "metadata": {},
   "source": [
    "### Finding the corner of the checkerboard\n",
    "+ With 9 images, each one with 48 image points\n",
    "+ The checkerboard has 25mm between corners"
   ]
  },
  {
   "cell_type": "code",
   "execution_count": null,
   "metadata": {},
   "outputs": [],
   "source": [
    "# number of images\n",
    "n_imgs = 9\n",
    "# pattern size\n",
    "patternsize= (6,8)\n",
    "#distance between squares(in mm)\n",
    "dist = 25\n",
    "\n",
    "# specified number of iterations are completed.\n",
    "criteria = (cv2.TERM_CRITERIA_EPS +\n",
    "            cv2.TERM_CRITERIA_MAX_ITER, 30, 0.001)\n",
    "\n",
    "# Vector for 3D points\n",
    "threedpoints = []\n",
    " \n",
    "# Vector for 2D points\n",
    "twodpoints = []\n",
    "\n",
    "#3D points real world coordinates( static -> chessboard)\n",
    "# create a matrix of zeros for 48 points , each with 3 coordinates\n",
    "world_coo = np.zeros((1, patternsize[0]* patternsize[1],3), np.float32)\n",
    "world_coo[:, :, :2] = np.mgrid[0:patternsize[0], 0:patternsize[1]].T.reshape(-1, 2)\n",
    "# Transform coordinates in mm\n",
    "world_coo = world_coo*dist\n",
    "\n",
    "#prev_img_shape = None\n",
    "\n",
    "for i in range(n_imgs):\n",
    "    \n",
    "    name = (\"images/Chessboard_real_\"+ str(i+1)+\".jpeg\")\n",
    "    #Import the image\n",
    "    img = cv2.imread(name)\n",
    "    # convert it to gray scale\n",
    "    gray = cv2.cvtColor(img,cv2.COLOR_BGR2GRAY)\n",
    "    \n",
    "    retval, corners= cv2.findChessboardCorners(gray,patternsize,cv2.CALIB_CB_ADAPTIVE_THRESH + cv2.CALIB_CB_FAST_CHECK +cv2.CALIB_CB_NORMALIZE_IMAGE)\n",
    "    \n",
    "    if(retval == True):\n",
    "        threedpoints.append(world_coo)\n",
    "\n",
    "        # Refining pixel coordinates or given 2d points.\n",
    "        corners2 = cv2.cornerSubPix(gray, corners, (11, 11), (-1, -1), criteria).reshape(48,2)\n",
    "\n",
    "        twodpoints.append(corners2)\n",
    "        # Draw and display the corners\n",
    "        image = cv2.drawChessboardCorners(img,patternsize,corners2,retval)\n",
    "        plt.imshow(image)\n",
    "        #plt.show()\n",
    "\n",
    "# image coordinates and world coordinates for the diferent images( the world coordinates are always the same)\n",
    "imagecoo = np.asarray(twodpoints)\n",
    "worldcoo = np.asarray(threedpoints) \n"
   ]
  },
  {
   "cell_type": "code",
   "execution_count": null,
   "metadata": {},
   "outputs": [],
   "source": [
    "# empty list to store the homographies\n",
    "H = np.zeros((n_imgs,3,3))\n",
    "\n",
    "for i in range(n_imgs):\n",
    "    im = imagecoo[i][:][:].reshape(48,2)\n",
    "    wo = worldcoo[0][:].reshape(48,3)\n",
    "    # remove the Z coordinate\n",
    "    wo = wo[:,:2]\n",
    "    H[i,:] = homography_matrix(im,wo)\n",
    "    \n"
   ]
  },
  {
   "cell_type": "markdown",
   "metadata": {},
   "source": [
    "## 4. Determining the intrinsic camera parameters\n",
    "Use the computed homographies to calculate the intrisic matrix \\\n",
    "Since H has **8DoF, it's needed >= 4 points to estimate the homography**"
   ]
  },
  {
   "cell_type": "markdown",
   "metadata": {},
   "source": [
    "### 4.1 Generate $V_{pq}$"
   ]
  },
  {
   "cell_type": "code",
   "execution_count": null,
   "metadata": {},
   "outputs": [],
   "source": [
    "def generate_v(H_stack, i, j):\n",
    "    \"\"\"Generate intrinsic orthogonality constraints. See Zhang pg. 6 for\n",
    "       details.\n",
    "    \"\"\" \n",
    "    M = H_stack.shape[0]\n",
    "\n",
    "    v_ij = np.zeros((M, 6))\n",
    "    v_ij[:, 0] = H_stack[:, 0, i] * H_stack[:, 0, j]\n",
    "    v_ij[:, 1] = H_stack[:, 0, i] * H_stack[:, 1, j] + H_stack[:, 1, i] * H_stack[:, 0, j]\n",
    "    v_ij[:, 2] = H_stack[:, 1, i] * H_stack[:, 1, j]\n",
    "    v_ij[:, 3] = H_stack[:, 2, i] * H_stack[:, 0, j] + H_stack[:, 0, i] * H_stack[:, 2, j]\n",
    "    v_ij[:, 4] = H_stack[:, 2, i] * H_stack[:, 1, j] + H_stack[:, 1, i] * H_stack[:, 2, j]\n",
    "    v_ij[:, 5] = H_stack[:, 2, i] * H_stack[:, 2, j]\n",
    "\n",
    "    return v_ij\n"
   ]
  },
  {
   "cell_type": "markdown",
   "metadata": {},
   "source": [
    "### 4.2 Compute the intrisic Matrix.\n",
    "We need >= 3 homographies for a full 5-parameter intrinsic matrix.\n"
   ]
  },
  {
   "cell_type": "code",
   "execution_count": null,
   "metadata": {},
   "outputs": [],
   "source": [
    "def intrisicmatrix(H):\n",
    "    M = len(H)\n",
    "\n",
    "    V01 = generate_v(H,0,1)\n",
    "    V00 = generate_v(H,0,0)\n",
    "    V11 = generate_v(H,1,1)\n",
    "\n",
    "    # vq(H) is a 6 dimensional row vector obtained from the estimated Homography H\n",
    "    V = np.zeros((2*M,6))\n",
    "\n",
    "    V[:M] = V01\n",
    "    V[M:] = V00-V11\n",
    "\n",
    "    # Use SVD to solve the homogeneous system Vb = 0( In this case we have a overdetermined system)\n",
    "    U, S, Vh = np.linalg.svd(V)\n",
    "    idx = np.argmin(S)\n",
    "    b = Vh[idx]\n",
    "\n",
    "\n",
    "    # camera intrinsics( Zhang creates a new matrix which is symmetric and composed of only 6 distinct quantities)\n",
    "    B0, B1, B2, B3, B4, B5 = b\n",
    "\n",
    "    # B = A^(-T)*A^(-1)\n",
    "    B = np.array([[B0,B1,B3],\n",
    "                  [B1,B2,B4],\n",
    "                  [B3,B4,B5]]);\n",
    "\n",
    "    w = (B0*B2*B5) - ((B1**2)*(B5))-((B0)*(B4**2))+(2*B1*B3*B4)-((B2)*(B3**2))\n",
    "    d = B0*B2 - B1**2\n",
    "\n",
    "    v0 = (B[0,1] * B[0,2] - B[0,0] * B[1,2]) / (B[0,0] * B[1,1] - B[0,1] * B[0,1])\n",
    "    lambda_ = B[2,2] - (B[0,2] * B[0,2] + v0 * (B[0,1] * B[0,2] - B[0,0] * B[1,2])) / B[0,0]\n",
    "    alpha = np.sqrt(lambda_ / B[0,0])\n",
    "    beta = np.sqrt(lambda_ * B[0,0] / (B[0,0] * B[1,1] - B[0,1] * B[0,1]))\n",
    "    gamma = -B[0,1] * alpha * alpha * beta / lambda_\n",
    "    u0 = gamma * v0 / beta - B[0,2] * alpha * alpha / lambda_\n",
    "\n",
    "\n",
    "    # Reconstitute intrinsic matrix\n",
    "    K = np.array([[alpha, gamma, u0],\n",
    "                  [   0,  beta, v0],\n",
    "                  [   0,    0, 1]])\n",
    "    return K"
   ]
  },
  {
   "cell_type": "code",
   "execution_count": null,
   "metadata": {},
   "outputs": [],
   "source": [
    "K = intrisicmatrix(H)\n",
    "print(K)"
   ]
  },
  {
   "cell_type": "markdown",
   "metadata": {},
   "source": [
    "## 5. Recover the extrinsic parameters\n",
    "After retrieving the intrinsic matrix, we use both the intrinsic and extrinsic matrix to calculate the corresponding extrinsic matrix( Burger, pag 19)"
   ]
  },
  {
   "cell_type": "code",
   "execution_count": null,
   "metadata": {},
   "outputs": [],
   "source": [
    "def extract_extrinsics(H,K):\n",
    "    # obtain the column vectores from the homography matrix\n",
    "    h0,h1,h2 = H[:,0],H[:,1],H[:,2]\n",
    "    \n",
    "    K_inv = np.linalg.inv(K)\n",
    "    \n",
    "    #norm the term\n",
    "    lambda_ = 1. / np.linalg.norm(np.dot(K_inv, h0))\n",
    "    \n",
    "    r0 = (lambda_ * np.dot(K_inv,h0))\n",
    "    r1 = (lambda_ * np.dot(K_inv,h1))\n",
    "    t =  (lambda_ * np.dot(K_inv,h2)).reshape(3,1)\n",
    "\n",
    "    # since R must be orthogonal\n",
    "    r2 = np.cross(r0,r1)\n",
    "    \n",
    "    # rotation matrix reconstrution\n",
    "    R = np.vstack((r0, r1, r2)).T\n",
    "    \n",
    "    # reorthogonalize the rotation matrix( Zhang, pag 18, Append C)\n",
    "    #(The sense of \"best\" rotation matrix R is in the sense of the smallest Frobenius norm of the difference R-Q)\n",
    "    U,S,Vt = np.linalg.svd(R)\n",
    "    R_ortho = np.dot(U,Vt)\n",
    "    extrinsics = np.hstack((R_ortho, t))\n",
    "    \n",
    "    return extrinsics"
   ]
  },
  {
   "cell_type": "markdown",
   "metadata": {},
   "source": [
    "### 5.2 Compute the extrinsics based on the intrisincs already calculated"
   ]
  },
  {
   "cell_type": "code",
   "execution_count": null,
   "metadata": {},
   "outputs": [],
   "source": [
    "# transform coordinates to euclidean\n",
    "def to_euclidean(homogeneous_coordinate):\n",
    "    euclidean = homogeneous_coordinate[:,:]/(homogeneous_coordinate[:,-1][:,np.newaxis])\n",
    "\n",
    "    return euclidean[:,:-1]"
   ]
  },
  {
   "cell_type": "code",
   "execution_count": null,
   "metadata": {},
   "outputs": [],
   "source": [
    "# transform coordinates to homogenous\n",
    "def to_homogeneous(euclideancoo):\n",
    "\n",
    "    if euclideancoo.ndim != 2 or euclideancoo.shape[-1] != 2:\n",
    "        raise ValueError('Stacked vectors must be 2D inhomogeneous')\n",
    "    \n",
    "    M,N = euclidean.shape\n",
    "    homogeneous = np.hstack((euclideancoo),np.ones((M,1)))\n",
    "    \n",
    "    return homogeneous\n",
    "    "
   ]
  },
  {
   "cell_type": "code",
   "execution_count": null,
   "metadata": {},
   "outputs": [],
   "source": [
    "extrinsic_matrices = []\n",
    "\n",
    "for h, Homograph in enumerate(H):\n",
    "    E = extract_extrinsics(Homograph,K)\n",
    "    extrinsic_matrices.append(E)\n",
    "    \n",
    "    # Projection matrix\n",
    "    P = np.dot(K,E)\n",
    "    # homogeneous world coordinates\n",
    "    homo_world = np.append(worldcoo[0][:].reshape(48,3),np.ones((48,1)),axis = 1) \n",
    "\n",
    "    predicted = np.dot(homo_world,P.T)\n",
    "    \n",
    "    #print(to_euclidean(predicted))\n",
    "    #print(imagecoo)\n",
    "    \n",
    "    "
   ]
  }
 ],
 "metadata": {
  "interpreter": {
   "hash": "60b5aa1117f644a56cfefa69a0b1d50bf1f82c4bfed82b1b696b6ab3098426bd"
  },
  "kernelspec": {
   "display_name": "Python 3.9.7 ('venv')",
   "language": "python",
   "name": "python3"
  },
  "language_info": {
   "codemirror_mode": {
    "name": "ipython",
    "version": 3
   },
   "file_extension": ".py",
   "mimetype": "text/x-python",
   "name": "python",
   "nbconvert_exporter": "python",
   "pygments_lexer": "ipython3",
   "version": "3.9.7"
  },
  "orig_nbformat": 4
 },
 "nbformat": 4,
 "nbformat_minor": 2
}
