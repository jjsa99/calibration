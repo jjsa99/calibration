{
 "cells": [
  {
   "cell_type": "markdown",
   "metadata": {},
   "source": [
    "# 1. Camera Calibration"
   ]
  },
  {
   "cell_type": "markdown",
   "metadata": {},
   "source": [
    "This script intends to calibrate a camera using an object.\\\n",
    "For this implementation we will use the openCV method for calibration(https://docs.opencv.org/4.x/dc/dbb/tutorial_py_calibration.html)"
   ]
  },
  {
   "cell_type": "markdown",
   "metadata": {},
   "source": [
    "**Import the libraries**"
   ]
  },
  {
   "cell_type": "code",
   "execution_count": 1,
   "metadata": {},
   "outputs": [
    {
     "name": "stdout",
     "output_type": "stream",
     "text": [
      "3.9.7\n"
     ]
    }
   ],
   "source": [
    "from platform import python_version\n",
    "\n",
    "print(python_version())"
   ]
  },
  {
   "cell_type": "code",
   "execution_count": 1,
   "metadata": {},
   "outputs": [],
   "source": [
    "from matplotlib import pyplot as plt\n",
    "import numpy as np\n",
    "import scipy as sp\n",
    "import cv2\n",
    "\n",
    "#for LM method\n",
    "from scipy.optimize import curve_fit\n",
    "#matplotlib widget"
   ]
  },
  {
   "cell_type": "markdown",
   "metadata": {},
   "source": [
    "## Zhang's Method\n",
    "Comparing to the DLT method, the Zhang method only calculate the intrinsic parameters. We instead only need to find 5 parameters."
   ]
  },
  {
   "cell_type": "markdown",
   "metadata": {},
   "source": [
    "## 2. Calibration"
   ]
  },
  {
   "cell_type": "markdown",
   "metadata": {},
   "source": [
    "### 2.1 Finding the corner of the checkerboard\n",
    "+ With 9 images, each one with 48 image points\n",
    "+ The checkerboard has 25mm between corners"
   ]
  },
  {
   "cell_type": "code",
   "execution_count": 68,
   "metadata": {},
   "outputs": [
    {
     "name": "stdout",
     "output_type": "stream",
     "text": [
      "(9, 48, 2)\n",
      "(9, 1, 48, 3)\n"
     ]
    }
   ],
   "source": [
    "# number of images\n",
    "n_imgs = 9\n",
    "# pattern size\n",
    "patternsize= (6,8)\n",
    "#distance between squares(in mm)\n",
    "dist = 25\n",
    "\n",
    "# specified number of iterations are completed.\n",
    "criteria = (cv2.TERM_CRITERIA_EPS +\n",
    "            cv2.TERM_CRITERIA_MAX_ITER, 30, 0.001)\n",
    "\n",
    "# Vector for 3D points\n",
    "threedpoints = []\n",
    " \n",
    "# Vector for 2D points\n",
    "twodpoints = []\n",
    "\n",
    "#3D points real world coordinates( static -> chessboard)\n",
    "# create a matrix of zeros for 48 points , each with 3 coordinates\n",
    "world_coo = np.zeros((1, patternsize[0]* patternsize[1],3), np.float32)\n",
    "world_coo[:, :, :2] = np.mgrid[0:patternsize[0], 0:patternsize[1]].T.reshape(-1, 2)\n",
    "# Transform coordinates in mm\n",
    "world_coo = world_coo*dist\n",
    "\n",
    "#prev_img_shape = None\n",
    "\n",
    "for i in range(n_imgs):\n",
    "    \n",
    "    name = (\"Chessboard_real_\"+ str(i+1)+\".jpeg\")\n",
    "    #Import the image\n",
    "    img = cv2.imread(name)\n",
    "    # convert it to gray scale\n",
    "    gray = cv2.cvtColor(img,cv2.COLOR_BGR2GRAY)\n",
    "    \n",
    "    retval, corners= cv2.findChessboardCorners(gray,patternsize,cv2.CALIB_CB_ADAPTIVE_THRESH + cv2.CALIB_CB_FAST_CHECK +cv2.CALIB_CB_NORMALIZE_IMAGE)\n",
    "    \n",
    "    if(retval == True):\n",
    "        threedpoints.append(world_coo)\n",
    "\n",
    "        # Refining pixel coordinates or given 2d points.\n",
    "        corners2 = cv2.cornerSubPix(gray, corners, (11, 11), (-1, -1), criteria).reshape(48,2)\n",
    "\n",
    "        twodpoints.append(corners2)\n",
    "        # Draw and display the corners\n",
    "        #image = cv2.drawChessboardCorners(img,patternsize,corners2,retval)\n",
    "        #plt.imshow(image)\n",
    "        #plt.show()\n",
    "\n",
    "# image coordinates and world coordinates for the diferent images( the world coordinates are always the same)\n",
    "imagecoo = np.asarray(twodpoints)\n",
    "worldcoo = np.asarray(threedpoints) \n",
    "print(imagecoo.shape)\n",
    "print(worldcoo.shape)"
   ]
  },
  {
   "cell_type": "markdown",
   "metadata": {},
   "source": [
    "## Find the homographies"
   ]
  },
  {
   "cell_type": "code",
   "execution_count": 69,
   "metadata": {
    "tags": []
   },
   "outputs": [],
   "source": [
    "# empty list to store the homographies\n",
    "H = np.zeros((n_imgs,3,3))\n",
    "# world coordinates\n",
    "wo = worldcoo[0][:].reshape(48,3)\n",
    "# remove the Z coordinate\n",
    "wo = wo[:,:2]\n",
    "\n",
    "for i in range(n_imgs):\n",
    "    im = imagecoo[i][:][:].reshape(48,2)\n",
    "    H[i,:],status = cv2.findHomography(wo,im)\n",
    "\n",
    "#print(H)"
   ]
  },
  {
   "cell_type": "code",
   "execution_count": 70,
   "metadata": {},
   "outputs": [],
   "source": [
    "ret, mtx, dist, rvecs, tvecs = cv2.calibrateCamera(worldcoo, imagecoo, gray.shape[::-1], None, None)"
   ]
  },
  {
   "cell_type": "code",
   "execution_count": 71,
   "metadata": {},
   "outputs": [
    {
     "name": "stdout",
     "output_type": "stream",
     "text": [
      "Intrisic Camera Matrix:\n",
      "[[775.59511691   0.         511.14797521]\n",
      " [  0.         777.42938784 376.87549919]\n",
      " [  0.           0.           1.        ]]\n",
      "Error\n",
      "0.3380317960730104\n"
     ]
    }
   ],
   "source": [
    "print(\"Intrisic Camera Matrix:\\n\" + str(mtx))\n",
    "#print(\"Lens distortion coefficients:\\n\" + str(dist))\n",
    "#print(\"Rotation vetors\\n\" + str(rvecs))\n",
    "#print(\"Translation vetors\\n\" + str(tvecs))\n",
    "print(\"Error\\n\" + str(ret))\n",
    "\n",
    "\n",
    "for i in range(len(worldcoo)):\n",
    "    imgpoints2, _ = cv2.projectPoints(worldcoo[i], rvecs[i], tvecs[i], mtx, dist)\n",
    "    imgpoints2 = imgpoints2.reshape(-1,2)\n",
    "    #print(imgpoints2)\n",
    "    #print(imagecoo)"
   ]
  },
  {
   "cell_type": "code",
   "execution_count": 72,
   "metadata": {},
   "outputs": [],
   "source": [
    "def f_refine(xdata, *params):\n",
    "    \"\"\"Value function for Levenberg-Marquardt refinement.\n",
    "    \"\"\"\n",
    "    h11, h12, h13, h21, h22, h23, h31, h32, h33 = params\n",
    "\n",
    "    N = xdata.shape[0] // 2\n",
    "\n",
    "    X = xdata[:N]\n",
    "    Y = xdata[N:]\n",
    "\n",
    "    x = (h11 * X + h12 * Y + h13) / (h31 * X + h32 * Y + h33)\n",
    "    y = (h21 * X + h22 * Y + h23) / (h31 * X + h32 * Y + h33)\n",
    "\n",
    "    result = np.zeros_like(xdata)\n",
    "    result[:N] = x\n",
    "    result[N:] = y\n",
    "\n",
    "    return result"
   ]
  },
  {
   "cell_type": "code",
   "execution_count": 73,
   "metadata": {},
   "outputs": [],
   "source": [
    "def jac_refine(xdata, *params):\n",
    "    \"\"\"Jacobian function for Levenberg-Marquardt refinement.\n",
    "    \"\"\"\n",
    "    h11, h12, h13, h21, h22, h23, h31, h32, h33 = params\n",
    "\n",
    "    N = xdata.shape[0] // 2\n",
    "\n",
    "    X = xdata[:N]\n",
    "    Y = xdata[N:]\n",
    "\n",
    "    J = np.zeros((N * 2, 9))\n",
    "    J_x = J[:N]\n",
    "    J_y = J[N:]\n",
    "\n",
    "    s_x = h11 * X + h12 * Y + h13\n",
    "    s_y = h21 * X + h22 * Y + h23\n",
    "    w   = h31 * X + h32 * Y + h33\n",
    "    w_sq = w**2\n",
    "\n",
    "    J_x[:, 0] = X / w\n",
    "    J_x[:, 1] = Y / w\n",
    "    J_x[:, 2] = 1. / w\n",
    "    J_x[:, 6] = (-s_x * X) / w_sq\n",
    "    J_x[:, 7] = (-s_x * Y) / w_sq\n",
    "    J_x[:, 8] = -s_x / w_sq\n",
    "\n",
    "    J_y[:, 3] = X / w\n",
    "    J_y[:, 4] = Y / w\n",
    "    J_y[:, 5] = 1. / w\n",
    "    J_y[:, 6] = (-s_y * X) / w_sq\n",
    "    J_y[:, 7] = (-s_y * Y) / w_sq\n",
    "    J_y[:, 8] = -s_y / w_sq\n",
    "\n",
    "    J[:N] = J_x\n",
    "    J[N:] = J_y\n",
    "\n",
    "    return J\n"
   ]
  },
  {
   "cell_type": "code",
   "execution_count": 74,
   "metadata": {},
   "outputs": [],
   "source": [
    "def refine_homography(H,worldcoo,imagecoo):\n",
    "    \"\"\"\n",
    "    Performs nonlinear LS to refine linear homography estimates.\n",
    "    \n",
    "    Args:\n",
    "        H : 3x3 homography matrix\n",
    "        worldcoo : Nx2 world coordinates\n",
    "        imagecoo : Nx2 image coordinates\n",
    "    Returns:\n",
    "        Refined 3x3 homography\n",
    "    \"\"\"\n",
    "    X,Y,x,y = worldcoo[:,0],worldcoo[:,1],imagecoo[:,0],imagecoo[:,1]\n",
    "    \n",
    "    N = X.shape[0]\n",
    "    \n",
    "    h0 = H.ravel()\n",
    "\n",
    "    xdata = np.zeros(N * 2)\n",
    "    xdata[:N] = X\n",
    "    xdata[N:] = Y\n",
    "\n",
    "    ydata = np.zeros(N * 2)\n",
    "    ydata[:N] = x\n",
    "    ydata[N:] = y\n",
    "\n",
    "    # Use Levenberg-Marquardt to refine the linear homography estimate\n",
    "    popt, pcov = curve_fit(f_refine, xdata, ydata, p0=h0, jac=jac_refine)\n",
    "    h_refined = popt\n",
    "\n",
    "    # Normalize and reconstitute homography\n",
    "    h_refined /= h_refined[-1]\n",
    "    H_refined = h_refined.reshape((3,3))\n",
    "\n",
    "    return H_refined"
   ]
  },
  {
   "cell_type": "code",
   "execution_count": 75,
   "metadata": {},
   "outputs": [],
   "source": [
    "# empty list to store the homographies\n",
    "H_refined = np.zeros((n_imgs,3,3))\n",
    "\n",
    "wo = worldcoo[0][:].reshape(48,3)\n",
    "# remove the Z coordinate\n",
    "wo = wo[:,:2]\n",
    "for i in range(n_imgs):\n",
    "    im = imagecoo[i][:][:].reshape(48,2)\n",
    "    H_refined[i,:] = refine_homography(H[i,:,:],im,wo)"
   ]
  },
  {
   "cell_type": "code",
   "execution_count": null,
   "metadata": {},
   "outputs": [],
   "source": []
  },
  {
   "cell_type": "markdown",
   "metadata": {},
   "source": [
    "## 3. Undistort"
   ]
  },
  {
   "cell_type": "code",
   "execution_count": 76,
   "metadata": {},
   "outputs": [
    {
     "name": "stdout",
     "output_type": "stream",
     "text": [
      "[[774.20666504   0.         514.27131214]\n",
      " [  0.         774.89599609 376.7769072 ]\n",
      " [  0.           0.           1.        ]]\n"
     ]
    },
    {
     "data": {
      "text/plain": [
       "<matplotlib.image.AxesImage at 0x2017d1d0580>"
      ]
     },
     "execution_count": 76,
     "metadata": {},
     "output_type": "execute_result"
    }
   ],
   "source": [
    "img = cv2.imread('Chessboard_real_1.jpeg')\n",
    "h,  w = img.shape[:2]\n",
    "newcameramtx, roi = cv2.getOptimalNewCameraMatrix(mtx, dist, (w,h), 1, (w,h))\n",
    "\n",
    "print(newcameramtx)\n",
    "# undistort\n",
    "dst = cv2.undistort(img, mtx, dist, None, newcameramtx)\n",
    "# crop the image\n",
    "x, y, w, h = roi\n",
    "dst = dst[y:y+h, x:x+w]\n",
    "plt.imshow(dst)\n"
   ]
  },
  {
   "cell_type": "markdown",
   "metadata": {},
   "source": [
    "## 4. Re-projection Error\n",
    "Could not implement OpenCV's Reprojection error. Followed https://stackoverflow.com/questions/23781089/opencv-calibratecamera-2-reprojection-error-and-custom-computed-one-not-agree"
   ]
  },
  {
   "cell_type": "code",
   "execution_count": 77,
   "metadata": {},
   "outputs": [
    {
     "name": "stdout",
     "output_type": "stream",
     "text": [
      "Mean reprojection error:  2.341943771057953\n"
     ]
    }
   ],
   "source": [
    "tot_error = 0\n",
    "total_points = 0\n",
    "\n",
    "for i in range(len(worldcoo)):\n",
    "    imgpoints2, _ = cv2.projectPoints(worldcoo[i], rvecs[i], tvecs[i], mtx, dist)\n",
    "    imgpoints2 = imgpoints2.reshape(-1,2)\n",
    "    tot_error += np.sum(np.abs(imagecoo[i]-imgpoints2)**2)\n",
    "    total_points += len(worldcoo[i])\n",
    "    \n",
    "mean_error=np.sqrt(tot_error/total_points)\n",
    "print(\"Mean reprojection error: \", mean_error)"
   ]
  },
  {
   "cell_type": "code",
   "execution_count": 89,
   "metadata": {},
   "outputs": [
    {
     "name": "stdout",
     "output_type": "stream",
     "text": [
      "0.044911518692970276\n",
      "0.07489248116811116\n",
      "0.07614749173323314\n",
      "0.12693896889686584\n",
      "0.10608560840288798\n",
      "0.1266677975654602\n",
      "0.11840959390004475\n",
      "0.1020109752813975\n",
      "0.2523169318834941\n",
      "1.028381367524465\n",
      "total error: 0.11426459639160723\n"
     ]
    }
   ],
   "source": [
    "mean_error = 0\n",
    "for i in range(len(worldcoo)):\n",
    "    imgpoints2, _ = cv2.projectPoints(worldcoo[i], rvecs[i], tvecs[i], mtx, dist)\n",
    "    #error = cv2.norm(imagecoo[i], imgpoints2, cv2.NORM_L2)/len(imgpoints2)\n",
    "    imgpoints2 = imgpoints2.reshape(-1,2)\n",
    "    # error mean for each point in the  each image\n",
    "    error = np.sum(np.abs(imagecoo[i]-imgpoints2)**2)/len(imgpoints2)\n",
    "    # sum of each coordinate error\n",
    "    mean_error += error\n",
    "    print(error)\n",
    "print(mean_error)\n",
    "print( \"total error: {}\".format(mean_error/len(worldcoo)) )\n"
   ]
  },
  {
   "cell_type": "code",
   "execution_count": 79,
   "metadata": {},
   "outputs": [
    {
     "name": "stdout",
     "output_type": "stream",
     "text": [
      "total error: 0.016103073659946412\n"
     ]
    }
   ],
   "source": [
    "mean_error = 0\n",
    "for i in range(len(worldcoo)):\n",
    "    imgpoints2, _ = cv2.projectPoints(worldcoo[i], rvecs[i], tvecs[i], mtx, dist)\n",
    "    imgpoints2 = imgpoints2.reshape(-1,2)\n",
    "    error = np.sum(np.abs(imagecoo[i]-imgpoints2)**2)/len(imgpoints2)\n",
    "    mean_error += error*error\n",
    "print( \"total error: {}\".format(mean_error/(len(worldcoo)*len(worldcoo[0]))) )\n"
   ]
  },
  {
   "cell_type": "code",
   "execution_count": 88,
   "metadata": {},
   "outputs": [
    {
     "name": "stdout",
     "output_type": "stream",
     "text": [
      "0.2523169318834941\n"
     ]
    }
   ],
   "source": [
    "#print(imagecoo[len(worldcoo)-1])\n",
    "#print(imgpoints2)\n",
    "x = np.sum(np.abs(imagecoo[len(worldcoo)-1] -imgpoints2)**2)/len(imgpoints2)\n",
    "print(x)"
   ]
  },
  {
   "cell_type": "code",
   "execution_count": null,
   "metadata": {},
   "outputs": [],
   "source": []
  }
 ],
 "metadata": {
  "kernelspec": {
   "display_name": "Python [conda env:miniconda3-thesis]",
   "language": "python",
   "name": "conda-env-miniconda3-thesis-py"
  },
  "language_info": {
   "codemirror_mode": {
    "name": "ipython",
    "version": 3
   },
   "file_extension": ".py",
   "mimetype": "text/x-python",
   "name": "python",
   "nbconvert_exporter": "python",
   "pygments_lexer": "ipython3",
   "version": "3.8.5"
  }
 },
 "nbformat": 4,
 "nbformat_minor": 4
}
